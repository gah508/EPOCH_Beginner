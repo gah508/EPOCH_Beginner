{
  "nbformat": 4,
  "nbformat_minor": 0,
  "metadata": {
    "colab": {
      "provenance": [],
      "authorship_tag": "ABX9TyOp2r9lbefODiF6MnaBg1P6",
      "include_colab_link": true
    },
    "kernelspec": {
      "name": "python3",
      "display_name": "Python 3"
    },
    "language_info": {
      "name": "python"
    }
  },
  "cells": [
    {
      "cell_type": "markdown",
      "metadata": {
        "id": "view-in-github",
        "colab_type": "text"
      },
      "source": [
        "<a href=\"https://colab.research.google.com/github/gah508/EPOCH_Beginner/blob/main/Pandas1/jiyun_practice1.ipynb\" target=\"_parent\"><img src=\"https://colab.research.google.com/assets/colab-badge.svg\" alt=\"Open In Colab\"/></a>"
      ]
    },
    {
      "cell_type": "markdown",
      "source": [
        "## Chapter 03. 판다스 시리즈"
      ],
      "metadata": {
        "id": "q3SIgaGlnSTa"
      }
    },
    {
      "cell_type": "markdown",
      "source": [
        "### 3.1 시리즈 소개"
      ],
      "metadata": {
        "id": "k3YpED_rx-Ix"
      }
    },
    {
      "cell_type": "code",
      "execution_count": null,
      "metadata": {
        "colab": {
          "base_uri": "https://localhost:8080/"
        },
        "id": "3CXU3HqegMWJ",
        "outputId": "ff7a9f27-6340-47f1-9a1a-fd410aab3382"
      },
      "outputs": [
        {
          "output_type": "stream",
          "name": "stdout",
          "text": [
            "Requirement already satisfied: pandas in /usr/local/lib/python3.10/dist-packages (2.1.4)\n",
            "Requirement already satisfied: numpy<2,>=1.22.4 in /usr/local/lib/python3.10/dist-packages (from pandas) (1.26.4)\n",
            "Requirement already satisfied: python-dateutil>=2.8.2 in /usr/local/lib/python3.10/dist-packages (from pandas) (2.8.2)\n",
            "Requirement already satisfied: pytz>=2020.1 in /usr/local/lib/python3.10/dist-packages (from pandas) (2024.1)\n",
            "Requirement already satisfied: tzdata>=2022.1 in /usr/local/lib/python3.10/dist-packages (from pandas) (2024.1)\n",
            "Requirement already satisfied: six>=1.5 in /usr/local/lib/python3.10/dist-packages (from python-dateutil>=2.8.2->pandas) (1.16.0)\n"
          ]
        }
      ],
      "source": [
        "# 설치\n",
        "pip install pandas"
      ]
    },
    {
      "cell_type": "markdown",
      "source": [
        "### 3.2 시리즈 생성"
      ],
      "metadata": {
        "id": "94Ii9CHbncbz"
      }
    },
    {
      "cell_type": "code",
      "source": [
        "# 시리즈 생성\n",
        "from pandas import Series\n",
        "\n",
        "data = [10, 20, 30]\n",
        "s = Series(data) # 시리즈 객체 생성. 이 때 data라는 변수가 바인딩하는 파이썬 리스트가 초기화자의 인자로 전달\n",
        "print(s)"
      ],
      "metadata": {
        "colab": {
          "base_uri": "https://localhost:8080/"
        },
        "id": "0dH26d0sh8j3",
        "outputId": "685f6a5a-a3c7-45a6-bd0f-ad81bd7a141e"
      },
      "execution_count": null,
      "outputs": [
        {
          "output_type": "stream",
          "name": "stdout",
          "text": [
            "0    10\n",
            "1    20\n",
            "2    30\n",
            "dtype: int64\n"
          ]
        }
      ]
    },
    {
      "cell_type": "code",
      "source": [
        "# 넘파이를 사용한 시리즈 생성\n",
        "from pandas import Series\n",
        "import numpy as np\n",
        "\n",
        "data = np.arange(5)\n",
        "s = Series(data) # 시리즈를 생성할 대 ndarray 객체를 넘겨줌\n",
        "print(s)"
      ],
      "metadata": {
        "colab": {
          "base_uri": "https://localhost:8080/"
        },
        "id": "4oMdDPqajQuH",
        "outputId": "dc357eeb-70d5-4c83-93a8-0fcc7ea3c264"
      },
      "execution_count": null,
      "outputs": [
        {
          "output_type": "stream",
          "name": "stdout",
          "text": [
            "0    0\n",
            "1    1\n",
            "2    2\n",
            "3    3\n",
            "4    4\n",
            "dtype: int64\n"
          ]
        }
      ]
    },
    {
      "cell_type": "code",
      "source": [
        "# 문자열 데이터의 시리즈\n",
        "data = [\"시가\", \"고가\"]\n",
        "s = Series(data)\n",
        "print(s)\n",
        "\n",
        "# 인덱스에는 자동으로 생성된 RangeIndex가 들어있음\n",
        "# 데이터 타입은 object(판다스의 문자열은 object로 표기된다)"
      ],
      "metadata": {
        "colab": {
          "base_uri": "https://localhost:8080/"
        },
        "id": "7gVSdlaVktaW",
        "outputId": "3d694e0c-387e-4b4d-85e5-4c4b0b5097b5"
      },
      "execution_count": null,
      "outputs": [
        {
          "output_type": "stream",
          "name": "stdout",
          "text": [
            "0    시가\n",
            "1    고가\n",
            "dtype: object\n"
          ]
        }
      ]
    },
    {
      "cell_type": "code",
      "source": [
        "# 문자열 + 정수형 타입을 하나의 시리즈로\n",
        "s = Series(['samsung', 81000])\n",
        "print(s)\n",
        "# 전체 데이터가 object 타입이 됨\n",
        "# object 타입 시리즈는 브로드캐스팅 기능을 활용한 수치 연산이 불가능하므로\n",
        "\n",
        "# 시리즈에는 같은 데이터 타입을 저장하는 것이 좋다"
      ],
      "metadata": {
        "colab": {
          "base_uri": "https://localhost:8080/"
        },
        "id": "al8oOnLNk-Q5",
        "outputId": "19720a10-d3cc-493c-da13-0ba0e01feb84"
      },
      "execution_count": null,
      "outputs": [
        {
          "output_type": "stream",
          "name": "stdout",
          "text": [
            "0    samsung\n",
            "1      81000\n",
            "dtype: object\n"
          ]
        }
      ]
    },
    {
      "cell_type": "markdown",
      "source": [
        "### 3.3 시리즈 인덱스"
      ],
      "metadata": {
        "id": "lBUrjBaAnlPj"
      }
    },
    {
      "cell_type": "code",
      "source": [
        "# 파이썬의 딕셔너리처럼 시리즈도 각 데이터에 인덱스를 설정할 수 있음\n",
        "# 인덱스 미설정 시 0부터 시작하는 숫자 값을 RangeIndex 타입으로 생성\n",
        "\n",
        "# 시리즈 생성 및 인덱스\n",
        "from pandas import Series\n",
        "\n",
        "data = [1000, 2000, 3000]\n",
        "s = Series(data)\n",
        "print(s.index) # index 변수: 구간 정보를 저장하는 자료구조 RangeIndex 객체, 0부터 2까지 1씩 증가하는 숫자\n",
        "print(s.index.to_list()) # to_liest 메서드 호출 시 파이썬 리스트로 값을 변환"
      ],
      "metadata": {
        "colab": {
          "base_uri": "https://localhost:8080/"
        },
        "id": "0FNYRfoonBAe",
        "outputId": "a90da28d-afbe-4b39-fa7e-ba0a54d1b047"
      },
      "execution_count": null,
      "outputs": [
        {
          "output_type": "stream",
          "name": "stdout",
          "text": [
            "RangeIndex(start=0, stop=3, step=1)\n",
            "[0, 1, 2]\n"
          ]
        }
      ]
    },
    {
      "cell_type": "code",
      "source": [
        "# 인덱스 수정\n",
        "# 시리즈 객체 생성 후 변수에 리스트 혹은 ndarray로 데이터를 전달하면 자동 맵핑된 RangeIndex는 제거되고\n",
        "# 인덱스를 수정할 수 있음; 데이터와 같은 개수의 인덱스\n",
        "data = [1000, 2000, 3000]\n",
        "s = Series(data)\n",
        "s.index = [\"메로나\", \"구구콘\", \"하겐다즈\"]\n",
        "print(s)"
      ],
      "metadata": {
        "colab": {
          "base_uri": "https://localhost:8080/"
        },
        "id": "9CFPWrf-ovLv",
        "outputId": "2065f75a-d060-43bb-bfaf-0bba30473b5a"
      },
      "execution_count": null,
      "outputs": [
        {
          "output_type": "stream",
          "name": "stdout",
          "text": [
            "메로나     1000\n",
            "구구콘     2000\n",
            "하겐다즈    3000\n",
            "dtype: int64\n"
          ]
        }
      ]
    },
    {
      "cell_type": "code",
      "source": [
        "# 시리즈 생성 시 인덱스 지정\n",
        "\n",
        "data = [1000, 2000, 3000]\n",
        "index = [\"메로나\", \"구구콘\", \"하겐다즈\"]\n",
        "\n",
        "s = Series(data, index) # 시리즈를 생성할 때 데이터와 인덱스를 차례로 전달\n",
        "print(s)"
      ],
      "metadata": {
        "colab": {
          "base_uri": "https://localhost:8080/"
        },
        "id": "tyWasRwlpTVc",
        "outputId": "ffd9ce34-3e08-48d6-eea7-a806a176292b"
      },
      "execution_count": null,
      "outputs": [
        {
          "output_type": "stream",
          "name": "stdout",
          "text": [
            "메로나     1000\n",
            "구구콘     2000\n",
            "하겐다즈    3000\n",
            "dtype: int64\n"
          ]
        }
      ]
    },
    {
      "cell_type": "code",
      "source": [
        "# 시리즈는 클래스로 구현돼으며 다음과 같이 초기화자가 정의\n",
        "\n",
        "Class Series:\n",
        "  def __init__(self, data=None, index=None, ... ):\n",
        "pass\n",
        "\n",
        "# 첫 번째 파라미터: data, 두 번째 파라미터: index\n",
        "# 파라미터 = None으로 해당값이 입력되지 않을 수도 있음을 알려줌"
      ],
      "metadata": {
        "colab": {
          "base_uri": "https://localhost:8080/",
          "height": 112
        },
        "id": "8MFG2gS_pvwJ",
        "outputId": "5f221db7-b8c1-476f-c138-31bcea276e81"
      },
      "execution_count": null,
      "outputs": [
        {
          "output_type": "error",
          "ename": "SyntaxError",
          "evalue": "invalid syntax (<ipython-input-34-65c735ba5f70>, line 3)",
          "traceback": [
            "\u001b[0;36m  File \u001b[0;32m\"<ipython-input-34-65c735ba5f70>\"\u001b[0;36m, line \u001b[0;32m3\u001b[0m\n\u001b[0;31m    Class Series:\u001b[0m\n\u001b[0m          ^\u001b[0m\n\u001b[0;31mSyntaxError\u001b[0m\u001b[0;31m:\u001b[0m invalid syntax\n"
          ]
        }
      ]
    },
    {
      "cell_type": "code",
      "source": [
        "# keyword argument 파라미터의 이름을 직접 지정\n",
        "\n",
        "data = [1000, 2000, 3000]\n",
        "index = [\"메로나\", \"구구콘\", \"하겐다즈\"]\n",
        "\n",
        "s = Series(data=data, index=index)\n",
        "# 'ata=data': 등호 왼쪽 Series 클래스에서 정의된 변수 이름; 등호 오른쪽 입력할 데이터가 저장된 변수 이름\n",
        "\n",
        "# 바인딩된 변수의 이름 변경\n",
        "v = [1000, 2000, 3000]\n",
        "k = [\"메로나\", \"구구콘\", \"하겐다즈\"]\n",
        "\n",
        "s = Series(data=v, index=k)\n",
        "\n",
        "# keyword argument를 사용하면 파라미터의 순서를 변경해도 됨\n",
        "s = Series(data, index) # data는 keyword argument를 사용하지 않아 반드시 첫 번째 위치에 data 파라미터가 위치\n",
        "s = Series(data, index=index) # data는 keyword argument를 사용하지 않아 반드시 첫 번째 위치에 data 파라미터가 위치\n",
        "s = Series(data=data, index=index)\n",
        "s = Series(index=index, data=data)"
      ],
      "metadata": {
        "id": "yCP3hxOAqzdJ"
      },
      "execution_count": null,
      "outputs": []
    },
    {
      "cell_type": "code",
      "source": [
        "# reindex 메서드: 새로운 값으로 인덱스를 변경\n",
        "\n",
        "data = [1000, 2000, 3000]\n",
        "index = [\"메로나\", \"구구콘\", \"하겐다즈\"]\n",
        "s = Series(data=data, index=index)\n",
        "s2 = s.reindex([\"메로나\", \"비비빅\", \"구구콘\"])\n",
        "print(s2)\n",
        "\n",
        "# 기존에 있던 인덱스(메로나, 구구콘)는 기존 값을 그대로 사용, 새로운 인덱스(비비빅)는 NaN 값을 채움"
      ],
      "metadata": {
        "colab": {
          "base_uri": "https://localhost:8080/"
        },
        "id": "Qiay1ui2sUH9",
        "outputId": "6cf1c79d-746b-4f98-debc-d30ca6cb0399"
      },
      "execution_count": null,
      "outputs": [
        {
          "output_type": "stream",
          "name": "stdout",
          "text": [
            "메로나    1000.0\n",
            "비비빅       NaN\n",
            "구구콘    2000.0\n",
            "dtype: float64\n"
          ]
        }
      ]
    },
    {
      "cell_type": "code",
      "source": [
        "# fillna 메서드: NaN(결측값)을 0으로 채움\n",
        "\n",
        "print(s2.fillna(0)) # s2가 변경되지 않음\n",
        "\n",
        "s2 = s.reindex([\"메로나\", \"비비빅\", \"구구콘\"], fill_value = 0) # reindex 메서드 사용 시 한 번에 처리할 수 있음"
      ],
      "metadata": {
        "colab": {
          "base_uri": "https://localhost:8080/"
        },
        "id": "odvpdSiStBuV",
        "outputId": "ec0e57ca-942c-4280-af65-14ed68e7b423"
      },
      "execution_count": null,
      "outputs": [
        {
          "output_type": "stream",
          "name": "stdout",
          "text": [
            "메로나    1000.0\n",
            "비비빅       0.0\n",
            "구구콘    2000.0\n",
            "dtype: float64\n"
          ]
        }
      ]
    },
    {
      "cell_type": "code",
      "source": [
        "## 실전 데이터 연습(p.67)\n",
        "\n",
        "price = [42500,42550,41800,42550,42650]\n",
        "date = [\"2019-05-31\",\"2019-05-30\",\"2019-05-29\",\"2019-05-28\",\"2019-05-27\"]\n",
        "s = Series(price, date)\n",
        "print(s)\n",
        "\n",
        "# 딕셔너리를 사용한 시리즈 생성\n",
        "# 딕셔너리의 key가 시리즈의 index로; value가 시리즈의 데이터로 구성\n",
        "data = {\n",
        "    \"2019-05-31\": 42500,\n",
        "    \"2019-05-30\": 42550,\n",
        "    \"2019-05-29\": 41800,\n",
        "    \"2019-05-28\": 42550,\n",
        "    \"2019-05-27\": 42650\n",
        "}\n",
        "s = Series(data)"
      ],
      "metadata": {
        "colab": {
          "base_uri": "https://localhost:8080/"
        },
        "id": "lhlkcUMxtn3J",
        "outputId": "9276e0a5-5236-400b-f60c-8d0dec05cc56"
      },
      "execution_count": null,
      "outputs": [
        {
          "output_type": "stream",
          "name": "stdout",
          "text": [
            "2019-05-31    42500\n",
            "2019-05-30    42550\n",
            "2019-05-29    41800\n",
            "2019-05-28    42550\n",
            "2019-05-27    42650\n",
            "dtype: int64\n"
          ]
        }
      ]
    },
    {
      "cell_type": "code",
      "source": [
        "# 인덱스와 값을 분리해서 출력\n",
        "\n",
        "print(s.index)\n",
        "print(s.index.dtype)\n",
        "\n",
        "print(s.values)"
      ],
      "metadata": {
        "colab": {
          "base_uri": "https://localhost:8080/"
        },
        "id": "dFG5AYOau23O",
        "outputId": "de831519-7d71-441f-96b1-6c59422561b5"
      },
      "execution_count": null,
      "outputs": [
        {
          "output_type": "stream",
          "name": "stdout",
          "text": [
            "Index(['2019-05-31', '2019-05-30', '2019-05-29', '2019-05-28', '2019-05-27'], dtype='object')\n",
            "object\n",
            "[42500 42550 41800 42550 42650]\n"
          ]
        }
      ]
    },
    {
      "cell_type": "markdown",
      "source": [
        "### 3.4 시리즈 인덱싱"
      ],
      "metadata": {
        "id": "1mWM64dExa3U"
      }
    },
    {
      "cell_type": "code",
      "source": [
        "# 인덱싱: 자료구조에서 하나의 값에 접근하는 것\n",
        "\n",
        "# 시리즈 객체는 행번호가 자동부여\n",
        "# 행번호(iloc 연산)와 인덱스(loc 연산) 두 가지 방법으로 인덱싱 가능\n",
        "\n",
        "# 1. 행 번호 인덱싱: 양수 음수 모두 가능\n",
        "\n",
        "data = [1000, 2000, 3000]\n",
        "s = Series(data=data)\n",
        "\n",
        "print(s.iloc[0])\n",
        "print(s.iloc[1])\n",
        "print(s.iloc[2])\n",
        "print(s.iloc[-1])\n",
        "\n",
        "\n",
        "# 2. 문자열 인덱스 인덱싱\n",
        "\n",
        "data = [1000, 2000, 3000]\n",
        "index = [\"메로나\", \"구구콘\", \"하겐다즈\"]\n",
        "s = Series(data=data, index=index)\n",
        "\n",
        "print(s.iloc[0])\n",
        "print(s.loc[\"메로나\"]) # loc연산은 인덱스 !"
      ],
      "metadata": {
        "id": "JGhWOlvixZ2S",
        "colab": {
          "base_uri": "https://localhost:8080/"
        },
        "outputId": "cc296bd4-c58e-49e1-e9bb-d1ad41f17e38"
      },
      "execution_count": null,
      "outputs": [
        {
          "output_type": "stream",
          "name": "stdout",
          "text": [
            "1000\n",
            "2000\n",
            "3000\n",
            "3000\n",
            "1000\n",
            "1000\n"
          ]
        }
      ]
    },
    {
      "cell_type": "code",
      "source": [
        "# 인덱싱 기호 '[]'\n",
        "data = [1000, 2000, 3000]\n",
        "index = [\"메로나\", \"구구콘\", \"하겐다즈\"]\n",
        "s = Series(data=data, index=index)\n",
        "\n",
        "print(s[\"메로나\"])\n",
        "print(s[0])\n",
        "\n",
        "s1 = Series([10,20,30])\n",
        "s2 = Series([10,20,30], index = [1,2,3])\n",
        "\n",
        "print(s1[0]) # RangeIndex 타입 인덱스 자동 부여 인덱스 0을 통해 10 출력\n",
        "# print(s2[0]) 인덱스 1, 2, 3에 각각 맵핑되었으며, 인덱스 0이 없어 에러 발생\n",
        "\n",
        "\n",
        "# []인덱싱은 맵핑된 데이터 타입에 따라 loc 혹은 iloc로 해석\n",
        "s3 = Series([10,20,30], index=['a','b','c'])\n",
        "print(s3[0])\n",
        "\n",
        "# 인덱스 인덱싱: 숫자를 사용한 인덱싱만 지원\n",
        "print(s3.index[0])\n",
        "print(s3.index[-1])"
      ],
      "metadata": {
        "colab": {
          "base_uri": "https://localhost:8080/"
        },
        "id": "fGIDe8sw1Emq",
        "outputId": "07443c52-123b-47e6-8aa7-257e32123c4d"
      },
      "execution_count": null,
      "outputs": [
        {
          "output_type": "stream",
          "name": "stdout",
          "text": [
            "1000\n",
            "1000\n",
            "10\n",
            "10\n",
            "a\n",
            "c\n"
          ]
        },
        {
          "output_type": "stream",
          "name": "stderr",
          "text": [
            "<ipython-input-55-10bb441430de>:7: FutureWarning: Series.__getitem__ treating keys as positions is deprecated. In a future version, integer keys will always be treated as labels (consistent with DataFrame behavior). To access a value by position, use `ser.iloc[pos]`\n",
            "  print(s[0])\n",
            "<ipython-input-55-10bb441430de>:18: FutureWarning: Series.__getitem__ treating keys as positions is deprecated. In a future version, integer keys will always be treated as labels (consistent with DataFrame behavior). To access a value by position, use `ser.iloc[pos]`\n",
            "  print(s3[0])\n"
          ]
        }
      ]
    },
    {
      "cell_type": "markdown",
      "source": [
        "### 3.5 시리즈 슬라이싱"
      ],
      "metadata": {
        "id": "TlVwHhB44PDU"
      }
    },
    {
      "cell_type": "code",
      "source": [
        "# 시리즈 슬라이싱은 iloc, loc연산 또는 '[]' 기호 사용\n",
        "from pandas import Series\n",
        "\n",
        "data = [1000, 2000, 3000]\n",
        "index = [\"메로나\", \"구구콘\", \"하겐다즈\"]\n",
        "s = Series(data=data, index=index)\n",
        "\n",
        "# 행 번호 0부터 2까지의 데이터 슬라이싱\n",
        "print(s.iloc[0:2])\n",
        "\n",
        "# loc 연산은 끝 인덱스도 포함하여 출력\n",
        "print(s.loc[\"메로나\":\"구구콘\"])"
      ],
      "metadata": {
        "colab": {
          "base_uri": "https://localhost:8080/"
        },
        "id": "PsrJq2Xa4NcL",
        "outputId": "37ded28a-9fba-4bf8-c7fa-f5e202523c63"
      },
      "execution_count": null,
      "outputs": [
        {
          "output_type": "stream",
          "name": "stdout",
          "text": [
            "메로나    1000\n",
            "구구콘    2000\n",
            "dtype: int64\n",
            "메로나    1000\n",
            "구구콘    2000\n",
            "dtype: int64\n"
          ]
        }
      ]
    },
    {
      "cell_type": "code",
      "source": [
        "# 불연속 데이터 슬라이싱\n",
        "\n",
        "# iloc 사용\n",
        "data = [1000, 2000, 3000]\n",
        "index = [\"메로나\", \"구구콘\", \"하겐다즈\"]\n",
        "s = Series(data=data, index=index)\n",
        "\n",
        "indice = [0,2]\n",
        "print(s.iloc[indice])\n",
        "print(s.iloc[ [0,2] ])\n",
        "\n",
        "# loc 사용\n",
        "indice2 = [\"메로나\", \"하겐다즈\"]\n",
        "print(s.loc[indice2])\n",
        "print(s.loc[ [\"메로나\", \"하겐다즈\"] ])"
      ],
      "metadata": {
        "colab": {
          "base_uri": "https://localhost:8080/"
        },
        "id": "TeC0K4Yq6CpV",
        "outputId": "5d8ebd3e-2378-45aa-d099-3ac0b236889e"
      },
      "execution_count": null,
      "outputs": [
        {
          "output_type": "stream",
          "name": "stdout",
          "text": [
            "메로나     1000\n",
            "하겐다즈    3000\n",
            "dtype: int64\n",
            "메로나     1000\n",
            "하겐다즈    3000\n",
            "dtype: int64\n",
            "메로나     1000\n",
            "하겐다즈    3000\n",
            "dtype: int64\n",
            "메로나     1000\n",
            "하겐다즈    3000\n",
            "dtype: int64\n"
          ]
        }
      ]
    },
    {
      "cell_type": "markdown",
      "source": [
        "### 3.6 시리즈 수정/추가/삭제"
      ],
      "metadata": {
        "id": "Wg_mHRI47Xaa"
      }
    },
    {
      "cell_type": "code",
      "source": [
        "from pandas import Series\n",
        "\n",
        "data = [1000, 2000, 3000]\n",
        "index = [\"메로나\", \"구구콘\", \"하겐다즈\"]\n",
        "s = Series(data=data, index=index)\n",
        "\n",
        "s.loc[\"메로나\"] = 500 # 기존에 있는 인덱스, 값 수정\n",
        "s.iloc[0] = 500\n",
        "s[\"메로나\"] = 500\n",
        "\n",
        "print(s)\n",
        "\n",
        "s.loc[\"비비빅\"] = 500 # 기존에 없는 인덱스, 값 추가\n",
        "print(s)\n",
        "\n",
        "print(s.drop(\"메로나\")) # 값 삭제\n",
        "# print(s.drop(0)) #error # drop 메서드에서는 행 번호가 아닌 인덱스를 사용해야 한다\n",
        "\n",
        "# drop 시리즈의 원본을 제거하지 않고 새로운 시리즈 객체를 반환함\n",
        "# 다음과 같이 drop 메서드를 호출한 결과를 다시 변수에 바인딩하도록 코드를 작성\n",
        "s = s.drop(\"메로나\")\n",
        "print(s)"
      ],
      "metadata": {
        "colab": {
          "base_uri": "https://localhost:8080/"
        },
        "id": "KfimiU6p7Wpx",
        "outputId": "f365d0ae-595a-45d4-bf58-62c763ab110d"
      },
      "execution_count": null,
      "outputs": [
        {
          "output_type": "stream",
          "name": "stdout",
          "text": [
            "메로나      500\n",
            "구구콘     2000\n",
            "하겐다즈    3000\n",
            "dtype: int64\n",
            "메로나      500\n",
            "구구콘     2000\n",
            "하겐다즈    3000\n",
            "비비빅      500\n",
            "dtype: int64\n",
            "구구콘     2000\n",
            "하겐다즈    3000\n",
            "비비빅      500\n",
            "dtype: int64\n",
            "구구콘     2000\n",
            "하겐다즈    3000\n",
            "비비빅      500\n",
            "dtype: int64\n"
          ]
        }
      ]
    },
    {
      "cell_type": "markdown",
      "source": [
        "### 3.7 시리즈 연산"
      ],
      "metadata": {
        "id": "bKe3eTNUAJl0"
      }
    },
    {
      "cell_type": "code",
      "source": [
        "# 시리즈는 넘파이와 동일하게 브로드캐스팅이 적용되며, 같은 인덱스를 갖는 데이터끼리 연산을 수행\n",
        "from pandas import Series\n",
        "\n",
        "철수 = Series([10,20,30], index=[\"NAVER\", \"SKT\", \"KT\"])\n",
        "영희 = Series([10,20,30], index=[\"SKT\", \"KT\", \"NAVER\"])\n",
        "가족 = 철수 + 영희\n",
        "print(가족) # 데이터의 위치와 상관없이 같은 인덱스를 갖는 종목끼리 덧셈을 수행\n",
        "\n",
        "print(철수*10) # 브로드캐스팅이 적용됨"
      ],
      "metadata": {
        "colab": {
          "base_uri": "https://localhost:8080/"
        },
        "id": "ZDJ5FcW4AIeX",
        "outputId": "d4d06667-d123-4bd6-87b4-bb1647c1d4e7"
      },
      "execution_count": null,
      "outputs": [
        {
          "output_type": "stream",
          "name": "stdout",
          "text": [
            "KT       50\n",
            "NAVER    40\n",
            "SKT      30\n",
            "dtype: int64\n",
            "NAVER    100\n",
            "SKT      200\n",
            "KT       300\n",
            "dtype: int64\n"
          ]
        }
      ]
    },
    {
      "cell_type": "code",
      "source": [
        "# 변동폭: 고가와 저가의 차분값 계산\n",
        "high = Series([42800,42700,42050,42950,43000])\n",
        "low = Series([42150, 42150, 41300, 42150, 42350])\n",
        "\n",
        "diff = high - low\n",
        "print(diff)\n",
        "\n",
        "print(diff.max()) # 최댓값"
      ],
      "metadata": {
        "colab": {
          "base_uri": "https://localhost:8080/"
        },
        "id": "qIqUe2eJCBr6",
        "outputId": "8fd06a0d-4a2a-4794-b51a-0d8200bac368"
      },
      "execution_count": null,
      "outputs": [
        {
          "output_type": "stream",
          "name": "stdout",
          "text": [
            "0    650\n",
            "1    550\n",
            "2    750\n",
            "3    800\n",
            "4    650\n",
            "dtype: int64\n",
            "800\n"
          ]
        }
      ]
    },
    {
      "cell_type": "code",
      "source": [
        "# 날짜를 인덱스로 갖는 시리즈에서 변동폭이 가장 큰 날짜 찾기\n",
        "date = [\"6/1\", \"6/2\", \"6/3\", \"6/4\", \"6/5\"]\n",
        "high = Series([42800,42700,42050,42950,43000], index = date)\n",
        "low = Series([42150, 42150, 41300, 42150, 42350], index = date)\n",
        "\n",
        "diff = high - low\n",
        "print(diff)\n",
        "\n",
        "# 반복문을 사용한 최댓값 찾기\n",
        "max_idx = 0\n",
        "max_val = 0\n",
        "\n",
        "for i in range(len(diff)):\n",
        "  if diff[i] > max_val:\n",
        "    max_val = diff[i]\n",
        "    max_idx = i\n",
        "\n",
        "print(max_idx)\n",
        "print(diff.index[max_idx])\n",
        "\n",
        "# idxmax: 최댓값일 때의 인덱스 반환; idxmin: 최솟값일 때의 인덱스 반환\n",
        "# 반복문을 사용할 필요가 없다\n",
        "print(diff.idxmax())\n",
        "print(diff.idxmin())"
      ],
      "metadata": {
        "colab": {
          "base_uri": "https://localhost:8080/"
        },
        "id": "t9bSqYJKCiOR",
        "outputId": "5c3dbe49-0bc7-4df8-e02e-1818d19b521f"
      },
      "execution_count": null,
      "outputs": [
        {
          "output_type": "stream",
          "name": "stdout",
          "text": [
            "6/1    650\n",
            "6/2    550\n",
            "6/3    750\n",
            "6/4    800\n",
            "6/5    650\n",
            "dtype: int64\n",
            "3\n",
            "6/4\n",
            "6/4\n",
            "6/2\n"
          ]
        },
        {
          "output_type": "stream",
          "name": "stderr",
          "text": [
            "<ipython-input-78-1d1c7a8a8f52>:14: FutureWarning: Series.__getitem__ treating keys as positions is deprecated. In a future version, integer keys will always be treated as labels (consistent with DataFrame behavior). To access a value by position, use `ser.iloc[pos]`\n",
            "  if diff[i] > max_val:\n",
            "<ipython-input-78-1d1c7a8a8f52>:15: FutureWarning: Series.__getitem__ treating keys as positions is deprecated. In a future version, integer keys will always be treated as labels (consistent with DataFrame behavior). To access a value by position, use `ser.iloc[pos]`\n",
            "  max_val = diff[i]\n"
          ]
        }
      ]
    },
    {
      "cell_type": "code",
      "source": [
        "# 매일 저가에 사서 고가에 팔았을 경우 수익률\n",
        "data = [\"6/1\", \"6/2\", \"6/3\", \"6/4\", \"6/5\"]\n",
        "high = Series([42800,42700,42050,42950,4300], index=date)\n",
        "low = Series([42150, 42150, 41300, 42150, 42350], index=date)\n",
        "\n",
        "profit = high/low\n",
        "print(profit)\n",
        "\n",
        "# 누적수익률: 모든 수익률을 누적해 곱함\n",
        "print(profit.cumprod())\n",
        "\n",
        "print(profit.cumprod().iloc[-1]) # 마지막 값"
      ],
      "metadata": {
        "colab": {
          "base_uri": "https://localhost:8080/"
        },
        "id": "VrPN0-VxGxFG",
        "outputId": "52d0e06e-847e-4d58-9e0a-2635b421f974"
      },
      "execution_count": null,
      "outputs": [
        {
          "output_type": "stream",
          "name": "stdout",
          "text": [
            "6/1    1.015421\n",
            "6/2    1.013049\n",
            "6/3    1.018160\n",
            "6/4    1.018980\n",
            "6/5    0.101535\n",
            "dtype: float64\n",
            "6/1    1.015421\n",
            "6/2    1.028671\n",
            "6/3    1.047351\n",
            "6/4    1.067230\n",
            "6/5    0.108361\n",
            "dtype: float64\n",
            "0.10836101509172456\n"
          ]
        }
      ]
    },
    {
      "cell_type": "code",
      "source": [
        "data = {\n",
        "    \"삼성전자\": \"전기,전자\",\n",
        "    \"LG전자\": \"전기,전자\",\n",
        "    \"현대차\": \"운수장비\",\n",
        "    \"NAVER\": \"서비스업\",\n",
        "    \"카카오\": \"서비스업\"\n",
        "}\n",
        "s = Series(data)\n",
        "\n",
        "# 5개의 종목에서 중복을 제거하고 업종 리스트를 출력\n",
        "print(s.unique()) # 시리즈의 values 중 유일한 값들을 ndarray로 반환\n",
        "\n",
        "# 시리즈 안에 업종의 출현 빈도 계산\n",
        "print(s.value_counts())"
      ],
      "metadata": {
        "colab": {
          "base_uri": "https://localhost:8080/"
        },
        "id": "8XbSv3wCH-C5",
        "outputId": "64dbfeaf-752d-4712-d86e-53afe0586a8a"
      },
      "execution_count": null,
      "outputs": [
        {
          "output_type": "stream",
          "name": "stdout",
          "text": [
            "['전기,전자' '운수장비' '서비스업']\n",
            "전기,전자    2\n",
            "서비스업     2\n",
            "운수장비     1\n",
            "Name: count, dtype: int64\n"
          ]
        }
      ]
    },
    {
      "cell_type": "markdown",
      "source": [
        "### 3.8 시리즈와 Map"
      ],
      "metadata": {
        "id": "Wzg5hRdGI-8n"
      }
    },
    {
      "cell_type": "code",
      "source": [
        "# Map 동작 원리\n",
        "def remove_comma(x) :\n",
        "  print(x, 'in function')\n",
        "  return x\n",
        "\n",
        "s = Series([\"1,234\", \"5,678\", \"9,876\"])\n",
        "result = s.map(remove_comma)\n",
        "print(result)"
      ],
      "metadata": {
        "colab": {
          "base_uri": "https://localhost:8080/"
        },
        "id": "1pfviCvoI-Lj",
        "outputId": "5ad94701-4d94-4806-8392-f79f3eb26bbc"
      },
      "execution_count": null,
      "outputs": [
        {
          "output_type": "stream",
          "name": "stdout",
          "text": [
            "1,234 in function\n",
            "5,678 in function\n",
            "9,876 in function\n",
            "0    1,234\n",
            "1    5,678\n",
            "2    9,876\n",
            "dtype: object\n"
          ]
        }
      ]
    },
    {
      "cell_type": "code",
      "source": [
        "from pandas import Series\n",
        "\n",
        "def remove_comma(x) :\n",
        "  return int(x.replace(\",\", \"\")) # replace 메서드 사용\n",
        "\n",
        "s = Series([\"1,234\", \"5,678\", \"9,876\"])\n",
        "result = s.map(remove_comma)\n",
        "print(result)"
      ],
      "metadata": {
        "colab": {
          "base_uri": "https://localhost:8080/"
        },
        "id": "6FQYIx9uLJuz",
        "outputId": "2ec3c232-016b-4adf-d6f5-729ffd1d2527"
      },
      "execution_count": null,
      "outputs": [
        {
          "output_type": "stream",
          "name": "stdout",
          "text": [
            "0    1234\n",
            "1    5678\n",
            "2    9876\n",
            "dtype: int64\n"
          ]
        }
      ]
    },
    {
      "cell_type": "code",
      "source": [
        "def is_greater_than_5000(x) :\n",
        "  if x > 5000:\n",
        "    return \"크다\"\n",
        "  else:\n",
        "    return \"작다\"\n",
        "\n",
        "s = Series([1234,5678,9876])\n",
        "s = s.map(is_greater_than_5000)\n",
        "print(s)"
      ],
      "metadata": {
        "colab": {
          "base_uri": "https://localhost:8080/"
        },
        "id": "1bWzD7CRLsqy",
        "outputId": "4eb70c06-ab6c-4fd1-94c3-ae07eef24e07"
      },
      "execution_count": null,
      "outputs": [
        {
          "output_type": "stream",
          "name": "stdout",
          "text": [
            "0    작다\n",
            "1    크다\n",
            "2    크다\n",
            "dtype: object\n"
          ]
        }
      ]
    },
    {
      "cell_type": "markdown",
      "source": [
        "### 3.9 시리즈 필터링"
      ],
      "metadata": {
        "id": "gSZi1xm8MZl4"
      }
    },
    {
      "cell_type": "code",
      "source": [
        "# 시리즈 객체 비교 연산\n",
        "from pandas import Series\n",
        "\n",
        "data = [42500, 42550, 41800, 42550, 42650]\n",
        "index = [\"2019-05-31\", \"2019-05-30\", \"2019-05-29\", \"2019-05-28\", \"2019-05-27\"]\n",
        "s = Series(data=data, index=index)\n",
        "cond = s > 42000\n",
        "print(cond)\n",
        "\n",
        "# cond라는 변수에 저장된 True, False를 사용해 색인하는 것을 '불리언 인덱싱(색인)' 이라 함\n",
        "\n",
        "print(s[cond]) # True인 경우만 반환"
      ],
      "metadata": {
        "colab": {
          "base_uri": "https://localhost:8080/"
        },
        "id": "g-PDFVjXMYPz",
        "outputId": "d97b2c61-0291-4a0e-967b-ff79fe8e8094"
      },
      "execution_count": null,
      "outputs": [
        {
          "output_type": "stream",
          "name": "stdout",
          "text": [
            "2019-05-31     True\n",
            "2019-05-30     True\n",
            "2019-05-29    False\n",
            "2019-05-28     True\n",
            "2019-05-27     True\n",
            "dtype: bool\n",
            "2019-05-31    42500\n",
            "2019-05-30    42550\n",
            "2019-05-28    42550\n",
            "2019-05-27    42650\n",
            "dtype: int64\n"
          ]
        }
      ]
    },
    {
      "cell_type": "code",
      "source": [
        "close = [42500, 42550, 41800, 42550, 42650]\n",
        "open = [42600, 42200,41850, 42550, 42500]\n",
        "index = [\"2019-05-31\", \"2019-05-30\", \"2019-05-29\", \"2019-05-28\", \"2019-05-27\"]\n",
        "\n",
        "open = Series(data=open, index=index)\n",
        "close = Series(data=close, index=index)\n",
        "\n",
        "cond = close > open # 종가가 시가보다 큰지\n",
        "print(cond)\n",
        "\n",
        "print(close[cond]) # 종가가 시가보다 높았던 상승 마감한 날의 종가 출력\n",
        "print(close[close > open]) # 변수를 사용하지 않고 표현\n",
        "\n",
        "# 상승 마감한 날짜만 출력\n",
        "print(close.index[close > open])\n",
        "print(close[close > open].index)"
      ],
      "metadata": {
        "colab": {
          "base_uri": "https://localhost:8080/"
        },
        "id": "F4U0Qw__N1XD",
        "outputId": "0dd842f2-da85-4da5-eff7-494ce874990d"
      },
      "execution_count": null,
      "outputs": [
        {
          "output_type": "stream",
          "name": "stdout",
          "text": [
            "2019-05-31    False\n",
            "2019-05-30     True\n",
            "2019-05-29    False\n",
            "2019-05-28    False\n",
            "2019-05-27     True\n",
            "dtype: bool\n",
            "2019-05-30    42550\n",
            "2019-05-27    42650\n",
            "dtype: int64\n",
            "2019-05-30    42550\n",
            "2019-05-27    42650\n",
            "dtype: int64\n",
            "Index(['2019-05-30', '2019-05-27'], dtype='object')\n",
            "Index(['2019-05-30', '2019-05-27'], dtype='object')\n"
          ]
        }
      ]
    },
    {
      "cell_type": "code",
      "source": [
        "close = [42500, 42550, 41800, 42550, 42650]\n",
        "open = [42600, 42200,41850, 42550, 42500]\n",
        "index = [\"2019-05-31\", \"2019-05-30\", \"2019-05-29\", \"2019-05-28\", \"2019-05-27\"]\n",
        "\n",
        "open = Series(data=open, index=index)\n",
        "close = Series(data=close, index=index)\n",
        "diff = close - open\n",
        "print(diff[close > open]) # close와 open의 인덱스가 같아 조건 비교 및 필터링 가능"
      ],
      "metadata": {
        "colab": {
          "base_uri": "https://localhost:8080/"
        },
        "id": "RpcgjxaHPK1J",
        "outputId": "9ae40800-77a6-4769-eedb-ebd15f53c874"
      },
      "execution_count": null,
      "outputs": [
        {
          "output_type": "stream",
          "name": "stdout",
          "text": [
            "2019-05-30    350\n",
            "2019-05-27    150\n",
            "dtype: int64\n"
          ]
        }
      ]
    },
    {
      "cell_type": "markdown",
      "source": [
        "### 3.10 정렬 및 순위"
      ],
      "metadata": {
        "id": "Mu7qcVowRkXH"
      }
    },
    {
      "cell_type": "code",
      "source": [
        "from pandas import Series\n",
        "\n",
        "data = [3.1, 2.0, 10.1, 5.1]\n",
        "index = [\"000010\", \"000020\", \"000030\", \"000040\"]\n",
        "s = Series(data=data, index=index)\n",
        "\n",
        "print(s)\n",
        "\n",
        "# 정렬 (오름차순)\n",
        "s1 = s.sort_values()\n",
        "print(s1)\n",
        "\n",
        "# 정렬 (내림차순)\n",
        "s2 = s.sort_values(ascending=False)\n",
        "print(s2)"
      ],
      "metadata": {
        "colab": {
          "base_uri": "https://localhost:8080/"
        },
        "id": "yZKotNp2Rjgf",
        "outputId": "52781a3b-2dc1-47ac-c220-d4a433b9a31f"
      },
      "execution_count": null,
      "outputs": [
        {
          "output_type": "stream",
          "name": "stdout",
          "text": [
            "000010     3.1\n",
            "000020     2.0\n",
            "000030    10.1\n",
            "000040     5.1\n",
            "dtype: float64\n",
            "000020     2.0\n",
            "000010     3.1\n",
            "000040     5.1\n",
            "000030    10.1\n",
            "dtype: float64\n",
            "000030    10.1\n",
            "000040     5.1\n",
            "000010     3.1\n",
            "000020     2.0\n",
            "dtype: float64\n"
          ]
        }
      ]
    },
    {
      "cell_type": "code",
      "source": [
        "data = [3.1, 2.0, 10.1, 3.1]\n",
        "index = [\"000010\", \"000020\", \"000030\", \"000040\"]\n",
        "s = Series(data=data, index=index)\n",
        "print(s.rank())\n",
        "# 동일한 값을 갖는 데이터의 순위를 표현하기 위해 rank 값이 float64로 표현\n",
        "\n",
        "# 값이 큰 데이터를 1등\n",
        "print(s.rank(ascending = False))"
      ],
      "metadata": {
        "colab": {
          "base_uri": "https://localhost:8080/"
        },
        "id": "By-hlkePSYkL",
        "outputId": "51408b62-29e7-48aa-d5ce-72ee44026173"
      },
      "execution_count": null,
      "outputs": [
        {
          "output_type": "stream",
          "name": "stdout",
          "text": [
            "000010    2.5\n",
            "000020    1.0\n",
            "000030    4.0\n",
            "000040    2.5\n",
            "dtype: float64\n",
            "000010    2.5\n",
            "000020    4.0\n",
            "000030    1.0\n",
            "000040    2.5\n",
            "dtype: float64\n"
          ]
        }
      ]
    }
  ]
}