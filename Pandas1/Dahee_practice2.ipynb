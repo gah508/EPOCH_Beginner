{
 "cells": [
  {
   "cell_type": "code",
   "execution_count": 1,
   "id": "45c6a689-7d19-4d02-9726-43f6cb4e02f8",
   "metadata": {},
   "outputs": [],
   "source": [
    "#판다스 시리즈: 1차원 데이터를 표현하는 자료구조\n",
    "#데이터프레임: 2차원 데이터를 위한 자료구조\n",
    "#2차원 데이터: 행과 열로 구성된 데이터"
   ]
  },
  {
   "cell_type": "code",
   "execution_count": 6,
   "id": "ef758b26-6326-458d-9ef4-175b7304db30",
   "metadata": {},
   "outputs": [
    {
     "name": "stdout",
     "output_type": "stream",
     "text": [
      "     종목코드    종목명   현재가\n",
      "0  037730     3R  1510\n",
      "1  036360  3S0FT  1790\n",
      "2  005760   ACTS  1185\n"
     ]
    }
   ],
   "source": [
    "#딕셔너리로 데이터프레임을 생성\n",
    "from pandas import DataFrame\n",
    "\n",
    "data = {\n",
    "    '종목코드':['037730', '036360', '005760'],\n",
    "    '종목명':['3R', '3S0FT', 'ACTS'],\n",
    "    '현재가': [1510, 1790, 1185]\n",
    "}\n",
    "\n",
    "df = DataFrame(data)\n",
    "print(df)"
   ]
  },
  {
   "cell_type": "code",
   "execution_count": 8,
   "id": "bc34d3f4-a7e1-41b3-987b-6d203d01d5d1",
   "metadata": {},
   "outputs": [
    {
     "data": {
      "text/html": [
       "<div>\n",
       "<style scoped>\n",
       "    .dataframe tbody tr th:only-of-type {\n",
       "        vertical-align: middle;\n",
       "    }\n",
       "\n",
       "    .dataframe tbody tr th {\n",
       "        vertical-align: top;\n",
       "    }\n",
       "\n",
       "    .dataframe thead th {\n",
       "        text-align: right;\n",
       "    }\n",
       "</style>\n",
       "<table border=\"1\" class=\"dataframe\">\n",
       "  <thead>\n",
       "    <tr style=\"text-align: right;\">\n",
       "      <th></th>\n",
       "      <th>종목코드</th>\n",
       "      <th>종목명</th>\n",
       "      <th>현재가</th>\n",
       "    </tr>\n",
       "  </thead>\n",
       "  <tbody>\n",
       "    <tr>\n",
       "      <th>0</th>\n",
       "      <td>037730</td>\n",
       "      <td>3R</td>\n",
       "      <td>1510</td>\n",
       "    </tr>\n",
       "    <tr>\n",
       "      <th>1</th>\n",
       "      <td>036360</td>\n",
       "      <td>3SOFT</td>\n",
       "      <td>1790</td>\n",
       "    </tr>\n",
       "    <tr>\n",
       "      <th>2</th>\n",
       "      <td>005670</td>\n",
       "      <td>ACTS</td>\n",
       "      <td>1185</td>\n",
       "    </tr>\n",
       "  </tbody>\n",
       "</table>\n",
       "</div>"
      ],
      "text/plain": [
       "     종목코드    종목명   현재가\n",
       "0  037730     3R  1510\n",
       "1  036360  3SOFT  1790\n",
       "2  005670   ACTS  1185"
      ]
     },
     "execution_count": 8,
     "metadata": {},
     "output_type": "execute_result"
    }
   ],
   "source": [
    "#리스트로 데이터프레임을 생성\n",
    "from pandas import DataFrame\n",
    "\n",
    "data = [\n",
    "    [\"037730\", \"3R\", 1510],\n",
    "    [\"036360\", \"3SOFT\", 1790],\n",
    "    [\"005670\", \"ACTS\", 1185]\n",
    "] #질문1: []는 인덱스 기호, {}은 ? 쓰는 차이\n",
    "\n",
    "columns = [\"종목코드\", \"종목명\", \"현재가\"] #각 칼럼의 레이블을 리스트로 저장\n",
    "\n",
    "df = DataFrame(data=data, columns=columns) #데이터프레임 생성자의 columns 파라미터로 넘겨줌\n",
    "df"
   ]
  },
  {
   "cell_type": "code",
   "execution_count": 9,
   "id": "85a9897a-bd11-45bd-b2f1-f96273837bb5",
   "metadata": {},
   "outputs": [
    {
     "name": "stdout",
     "output_type": "stream",
     "text": [
      "     종목코드    종목명   현재가\n",
      "0  037730     3R  1510\n",
      "1  036360  3SOFT  1790\n",
      "2  005670   ACTS  1185\n"
     ]
    }
   ],
   "source": [
    "#리스트와 딕셔너리로 데이터프레임을 생성\n",
    "from pandas import DataFrame\n",
    "\n",
    "data = [\n",
    "    {\"종목코드\":\"037730\", \"종목명\":\"3R\", \"현재가\":1510},\n",
    "    {\"종목코드\":\"036360\", \"종목명\":\"3SOFT\", \"현재가\":1790},\n",
    "    {\"종목코드\":\"005670\", \"종목명\":\"ACTS\", \"현재가\":1185}\n",
    "]\n",
    "\n",
    "df = DataFrame(data)\n",
    "print(df)"
   ]
  },
  {
   "cell_type": "code",
   "execution_count": 13,
   "id": "196ff788-b9ec-4eea-9a34-5bd8d13ff084",
   "metadata": {},
   "outputs": [
    {
     "data": {
      "text/html": [
       "<div>\n",
       "<style scoped>\n",
       "    .dataframe tbody tr th:only-of-type {\n",
       "        vertical-align: middle;\n",
       "    }\n",
       "\n",
       "    .dataframe tbody tr th {\n",
       "        vertical-align: top;\n",
       "    }\n",
       "\n",
       "    .dataframe thead th {\n",
       "        text-align: right;\n",
       "    }\n",
       "</style>\n",
       "<table border=\"1\" class=\"dataframe\">\n",
       "  <thead>\n",
       "    <tr style=\"text-align: right;\">\n",
       "      <th></th>\n",
       "      <th>종목코드</th>\n",
       "      <th>종목명</th>\n",
       "      <th>현재가</th>\n",
       "      <th>등락률</th>\n",
       "    </tr>\n",
       "  </thead>\n",
       "  <tbody>\n",
       "    <tr>\n",
       "      <th>0</th>\n",
       "      <td>037730</td>\n",
       "      <td>3R</td>\n",
       "      <td>1510</td>\n",
       "      <td>7.36</td>\n",
       "    </tr>\n",
       "    <tr>\n",
       "      <th>1</th>\n",
       "      <td>036360</td>\n",
       "      <td>3SOFT</td>\n",
       "      <td>1790</td>\n",
       "      <td>1.65</td>\n",
       "    </tr>\n",
       "    <tr>\n",
       "      <th>2</th>\n",
       "      <td>005670</td>\n",
       "      <td>ACTS</td>\n",
       "      <td>1185</td>\n",
       "      <td>1.28</td>\n",
       "    </tr>\n",
       "  </tbody>\n",
       "</table>\n",
       "</div>"
      ],
      "text/plain": [
       "     종목코드    종목명   현재가   등락률\n",
       "0  037730     3R  1510  7.36\n",
       "1  036360  3SOFT  1790  1.65\n",
       "2  005670   ACTS  1185  1.28"
      ]
     },
     "execution_count": 13,
     "metadata": {},
     "output_type": "execute_result"
    }
   ],
   "source": [
    "#데이터프레임의 인덱스\n",
    "from pandas import DataFrame\n",
    "\n",
    "data = [\n",
    "    [\"037730\", \"3R\", 1510, 7.36],\n",
    "    [\"036360\", \"3SOFT\", 1790, 1.65],\n",
    "    [\"005670\", \"ACTS\", 1185, 1.28]\n",
    "]\n",
    "\n",
    "columns = [\"종목코드\", \"종목명\", \"현재가\", \"등락률\"]\n",
    "df = DataFrame(data=data, columns=columns)\n",
    "df"
   ]
  },
  {
   "cell_type": "code",
   "execution_count": 11,
   "id": "2af63bd7-d35e-4c65-a598-9ea38f4f7133",
   "metadata": {},
   "outputs": [
    {
     "data": {
      "text/html": [
       "<div>\n",
       "<style scoped>\n",
       "    .dataframe tbody tr th:only-of-type {\n",
       "        vertical-align: middle;\n",
       "    }\n",
       "\n",
       "    .dataframe tbody tr th {\n",
       "        vertical-align: top;\n",
       "    }\n",
       "\n",
       "    .dataframe thead th {\n",
       "        text-align: right;\n",
       "    }\n",
       "</style>\n",
       "<table border=\"1\" class=\"dataframe\">\n",
       "  <thead>\n",
       "    <tr style=\"text-align: right;\">\n",
       "      <th></th>\n",
       "      <th>종목명</th>\n",
       "      <th>현재가</th>\n",
       "      <th>등락률</th>\n",
       "    </tr>\n",
       "    <tr>\n",
       "      <th>종목코드</th>\n",
       "      <th></th>\n",
       "      <th></th>\n",
       "      <th></th>\n",
       "    </tr>\n",
       "  </thead>\n",
       "  <tbody>\n",
       "    <tr>\n",
       "      <th>037730</th>\n",
       "      <td>3R</td>\n",
       "      <td>1510</td>\n",
       "      <td>7.36</td>\n",
       "    </tr>\n",
       "    <tr>\n",
       "      <th>036360</th>\n",
       "      <td>3SOFT</td>\n",
       "      <td>1790</td>\n",
       "      <td>1.65</td>\n",
       "    </tr>\n",
       "    <tr>\n",
       "      <th>005670</th>\n",
       "      <td>ACTS</td>\n",
       "      <td>1185</td>\n",
       "      <td>1.28</td>\n",
       "    </tr>\n",
       "  </tbody>\n",
       "</table>\n",
       "</div>"
      ],
      "text/plain": [
       "          종목명   현재가   등락률\n",
       "종목코드                     \n",
       "037730     3R  1510  7.36\n",
       "036360  3SOFT  1790  1.65\n",
       "005670   ACTS  1185  1.28"
      ]
     },
     "execution_count": 11,
     "metadata": {},
     "output_type": "execute_result"
    }
   ],
   "source": [
    "from pandas import DataFrame\n",
    "\n",
    "data = [\n",
    "    [\"037730\", \"3R\", 1510, 7.36],\n",
    "    [\"036360\", \"3SOFT\", 1790, 1.65],\n",
    "    [\"005670\", \"ACTS\", 1185, 1.28]\n",
    "]\n",
    "\n",
    "columns = [\"종목코드\", \"종목명\", \"현재가\", \"등락률\"]\n",
    "df = DataFrame(data=data, columns=columns)\n",
    "df = df.set_index(\"종목코드\") #set_index 메서드: 새로운 인덱스 설정\n",
    "df"
   ]
  },
  {
   "cell_type": "code",
   "execution_count": 14,
   "id": "60a72c0b-ec2e-4150-a496-47a0ae7d5171",
   "metadata": {},
   "outputs": [],
   "source": [
    "#원본 데이터프레임에 수정 사항을 직접 반영\n",
    "df.set_index(\"종목코드\", inplace=True)"
   ]
  },
  {
   "cell_type": "code",
   "execution_count": 15,
   "id": "689de9fb-d6f0-4782-8b67-0fefe26c7127",
   "metadata": {},
   "outputs": [
    {
     "data": {
      "text/html": [
       "<div>\n",
       "<style scoped>\n",
       "    .dataframe tbody tr th:only-of-type {\n",
       "        vertical-align: middle;\n",
       "    }\n",
       "\n",
       "    .dataframe tbody tr th {\n",
       "        vertical-align: top;\n",
       "    }\n",
       "\n",
       "    .dataframe thead th {\n",
       "        text-align: right;\n",
       "    }\n",
       "</style>\n",
       "<table border=\"1\" class=\"dataframe\">\n",
       "  <thead>\n",
       "    <tr style=\"text-align: right;\">\n",
       "      <th></th>\n",
       "      <th>종목명</th>\n",
       "      <th>현재가</th>\n",
       "      <th>등락률</th>\n",
       "    </tr>\n",
       "    <tr>\n",
       "      <th>종목코드</th>\n",
       "      <th></th>\n",
       "      <th></th>\n",
       "      <th></th>\n",
       "    </tr>\n",
       "  </thead>\n",
       "  <tbody>\n",
       "    <tr>\n",
       "      <th>037730</th>\n",
       "      <td>3R</td>\n",
       "      <td>1510</td>\n",
       "      <td>7.36</td>\n",
       "    </tr>\n",
       "    <tr>\n",
       "      <th>036360</th>\n",
       "      <td>3SOFT</td>\n",
       "      <td>1790</td>\n",
       "      <td>1.65</td>\n",
       "    </tr>\n",
       "    <tr>\n",
       "      <th>005760</th>\n",
       "      <td>ACTS</td>\n",
       "      <td>1185</td>\n",
       "      <td>1.28</td>\n",
       "    </tr>\n",
       "  </tbody>\n",
       "</table>\n",
       "</div>"
      ],
      "text/plain": [
       "          종목명   현재가   등락률\n",
       "종목코드                     \n",
       "037730     3R  1510  7.36\n",
       "036360  3SOFT  1790  1.65\n",
       "005760   ACTS  1185  1.28"
      ]
     },
     "execution_count": 15,
     "metadata": {},
     "output_type": "execute_result"
    }
   ],
   "source": [
    "#인덱스를 데이터와 별도로 지정\n",
    "from pandas import DataFrame\n",
    "\n",
    "data = [\n",
    "    [\"3R\", 1510, 7.36],\n",
    "    [\"3SOFT\", 1790, 1.65],\n",
    "    [\"ACTS\", 1185, 1.28]\n",
    "]\n",
    "\n",
    "index = [\"037730\", \"036360\", \"005760\"]\n",
    "columns = [\"종목명\", \"현재가\", \"등락률\"]\n",
    "\n",
    "df = DataFrame(data=data, index=index, columns=columns)\n",
    "df.index.name = \"종목코드\" #인덱스에 이름 속성 설정\n",
    "df"
   ]
  },
  {
   "cell_type": "code",
   "execution_count": 16,
   "id": "1cec25ea-2ecb-470a-84e4-6a6ae31778db",
   "metadata": {},
   "outputs": [
    {
     "name": "stdout",
     "output_type": "stream",
     "text": [
      "037730    1510\n",
      "036360    1790\n",
      "005760    1185\n",
      "Name: 현재가, dtype: int64\n"
     ]
    }
   ],
   "source": [
    "#컬럼 인덱싱\n",
    "#인덱스 기호인 []는 데이터프레임에서 컬럼 단위의 인덱싱으로 동작\n",
    "from pandas import DataFrame\n",
    "\n",
    "data = [\n",
    "    [\"3R\", 1510, 7.36],\n",
    "    [\"3SOFT\", 1790, 1.65],\n",
    "    [\"ACTS\", 1185, 1.28]\n",
    "]\n",
    "\n",
    "index = [\"037730\", \"036360\", \"005760\"]\n",
    "columns = [\"종목명\", \"현재가\", \"등락률\"]\n",
    "df = DataFrame(data=data, index=index, columns=columns)\n",
    "print(df['현재가']) \n",
    "#현재가 컬럼을 인덱싱 -> 현재가 해당 데이터가 시리즈로 선택\n",
    "#시리즈의 index 속성으로 종목코드, 시리즈의 values 속성으로 현재가 데이터가 들어있음"
   ]
  },
  {
   "cell_type": "code",
   "execution_count": 17,
   "id": "6b55af38-3085-4847-987a-47545a70ef98",
   "metadata": {},
   "outputs": [
    {
     "name": "stdout",
     "output_type": "stream",
     "text": [
      "037730    1510\n",
      "036360    1790\n",
      "005760    1185\n",
      "Name: 현재가, dtype: int64\n"
     ]
    }
   ],
   "source": [
    "print(df.현재가)"
   ]
  },
  {
   "cell_type": "code",
   "execution_count": 18,
   "id": "46fedad4-ef90-4c6c-b9f9-28e00263da86",
   "metadata": {},
   "outputs": [
    {
     "data": {
      "text/html": [
       "<div>\n",
       "<style scoped>\n",
       "    .dataframe tbody tr th:only-of-type {\n",
       "        vertical-align: middle;\n",
       "    }\n",
       "\n",
       "    .dataframe tbody tr th {\n",
       "        vertical-align: top;\n",
       "    }\n",
       "\n",
       "    .dataframe thead th {\n",
       "        text-align: right;\n",
       "    }\n",
       "</style>\n",
       "<table border=\"1\" class=\"dataframe\">\n",
       "  <thead>\n",
       "    <tr style=\"text-align: right;\">\n",
       "      <th></th>\n",
       "      <th>현재가</th>\n",
       "      <th>등락률</th>\n",
       "    </tr>\n",
       "  </thead>\n",
       "  <tbody>\n",
       "    <tr>\n",
       "      <th>037730</th>\n",
       "      <td>1510</td>\n",
       "      <td>7.36</td>\n",
       "    </tr>\n",
       "    <tr>\n",
       "      <th>036360</th>\n",
       "      <td>1790</td>\n",
       "      <td>1.65</td>\n",
       "    </tr>\n",
       "    <tr>\n",
       "      <th>005760</th>\n",
       "      <td>1185</td>\n",
       "      <td>1.28</td>\n",
       "    </tr>\n",
       "  </tbody>\n",
       "</table>\n",
       "</div>"
      ],
      "text/plain": [
       "         현재가   등락률\n",
       "037730  1510  7.36\n",
       "036360  1790  1.65\n",
       "005760  1185  1.28"
      ]
     },
     "execution_count": 18,
     "metadata": {},
     "output_type": "execute_result"
    }
   ],
   "source": [
    "#여러 개의 컬럼을 한 번에 슬라이싱\n",
    "리스트 = [\"현재가\", \"등락률\"]\n",
    "df[리스트]"
   ]
  },
  {
   "cell_type": "code",
   "execution_count": 21,
   "id": "9c80d985-7be8-4c43-ad98-0e4ece7c1552",
   "metadata": {},
   "outputs": [
    {
     "name": "stdout",
     "output_type": "stream",
     "text": [
      "         현재가   등락률\n",
      "037730  1510  7.36\n",
      "036360  1790  1.65\n",
      "005760  1185  1.28\n"
     ]
    },
    {
     "data": {
      "text/html": [
       "<div>\n",
       "<style scoped>\n",
       "    .dataframe tbody tr th:only-of-type {\n",
       "        vertical-align: middle;\n",
       "    }\n",
       "\n",
       "    .dataframe tbody tr th {\n",
       "        vertical-align: top;\n",
       "    }\n",
       "\n",
       "    .dataframe thead th {\n",
       "        text-align: right;\n",
       "    }\n",
       "</style>\n",
       "<table border=\"1\" class=\"dataframe\">\n",
       "  <thead>\n",
       "    <tr style=\"text-align: right;\">\n",
       "      <th></th>\n",
       "      <th>현재가</th>\n",
       "    </tr>\n",
       "  </thead>\n",
       "  <tbody>\n",
       "    <tr>\n",
       "      <th>037730</th>\n",
       "      <td>1510</td>\n",
       "    </tr>\n",
       "    <tr>\n",
       "      <th>036360</th>\n",
       "      <td>1790</td>\n",
       "    </tr>\n",
       "    <tr>\n",
       "      <th>005760</th>\n",
       "      <td>1185</td>\n",
       "    </tr>\n",
       "  </tbody>\n",
       "</table>\n",
       "</div>"
      ],
      "text/plain": [
       "         현재가\n",
       "037730  1510\n",
       "036360  1790\n",
       "005760  1185"
      ]
     },
     "execution_count": 21,
     "metadata": {},
     "output_type": "execute_result"
    }
   ],
   "source": [
    "print(df[[\"현재가\", \"등락률\"]])\n",
    "df[[\"현재가\"]]"
   ]
  },
  {
   "cell_type": "code",
   "execution_count": 24,
   "id": "781570c6-ecbf-4d8a-8610-3f9779a9ade3",
   "metadata": {},
   "outputs": [
    {
     "data": {
      "text/plain": [
       "037730    1510\n",
       "036360    1790\n",
       "005760    1185\n",
       "Name: 현재가, dtype: int64"
      ]
     },
     "execution_count": 24,
     "metadata": {},
     "output_type": "execute_result"
    }
   ],
   "source": [
    "df[\"현재가\"] #한 개의 열만 인덱싱 -> 시리즈 객체"
   ]
  },
  {
   "cell_type": "code",
   "execution_count": 25,
   "id": "3ff48738-719a-4298-9615-1ef7e5b4fe39",
   "metadata": {},
   "outputs": [
    {
     "data": {
      "text/html": [
       "<div>\n",
       "<style scoped>\n",
       "    .dataframe tbody tr th:only-of-type {\n",
       "        vertical-align: middle;\n",
       "    }\n",
       "\n",
       "    .dataframe tbody tr th {\n",
       "        vertical-align: top;\n",
       "    }\n",
       "\n",
       "    .dataframe thead th {\n",
       "        text-align: right;\n",
       "    }\n",
       "</style>\n",
       "<table border=\"1\" class=\"dataframe\">\n",
       "  <thead>\n",
       "    <tr style=\"text-align: right;\">\n",
       "      <th></th>\n",
       "      <th>현재가</th>\n",
       "    </tr>\n",
       "  </thead>\n",
       "  <tbody>\n",
       "    <tr>\n",
       "      <th>037730</th>\n",
       "      <td>1510</td>\n",
       "    </tr>\n",
       "    <tr>\n",
       "      <th>036360</th>\n",
       "      <td>1790</td>\n",
       "    </tr>\n",
       "    <tr>\n",
       "      <th>005760</th>\n",
       "      <td>1185</td>\n",
       "    </tr>\n",
       "  </tbody>\n",
       "</table>\n",
       "</div>"
      ],
      "text/plain": [
       "         현재가\n",
       "037730  1510\n",
       "036360  1790\n",
       "005760  1185"
      ]
     },
     "execution_count": 25,
     "metadata": {},
     "output_type": "execute_result"
    }
   ],
   "source": [
    "df[[\"현재가\"]] #리스트로 슬라이싱 -> 데이터프레임\n",
    "#데이터프레임에만 지원하는 메서드 사용 시 유용"
   ]
  },
  {
   "cell_type": "code",
   "execution_count": 27,
   "id": "bac23cdc-32c9-4110-ab31-e50c500b929f",
   "metadata": {},
   "outputs": [
    {
     "name": "stdout",
     "output_type": "stream",
     "text": [
      "종목명      3R\n",
      "현재가    1510\n",
      "등락률    7.36\n",
      "Name: 037730, dtype: object\n"
     ]
    }
   ],
   "source": [
    "#로우 인덱싱 #loc: 인덱스 인덱싱, iloc: 행 번호 인덱싱\n",
    "from pandas import DataFrame\n",
    "\n",
    "data = [\n",
    "    [\"3R\", 1510, 7.36],\n",
    "    [\"3SOFT\", 1790, 1.65],\n",
    "    [\"ACTS\", 1185, 1.28]\n",
    "]\n",
    "\n",
    "index = [\"037730\", \"036360\", \"005760\"]\n",
    "columns = [\"종목명\", \"현재가\", \"등락률\"]\n",
    "df = DataFrame(data=data, index=index, columns=columns)\n",
    "print(df.loc[\"037730\"])"
   ]
  },
  {
   "cell_type": "code",
   "execution_count": 28,
   "id": "c5229a88-d61a-441e-a5e7-f0f08ef0a444",
   "metadata": {},
   "outputs": [
    {
     "name": "stdout",
     "output_type": "stream",
     "text": [
      "종목명      3R\n",
      "현재가    1510\n",
      "등락률    7.36\n",
      "Name: 037730, dtype: object\n",
      "종목명    ACTS\n",
      "현재가    1185\n",
      "등락률    1.28\n",
      "Name: 005760, dtype: object\n"
     ]
    }
   ],
   "source": [
    "print(df.iloc[0])\n",
    "print(df.iloc[-1])"
   ]
  },
  {
   "cell_type": "code",
   "execution_count": 31,
   "id": "5a93fea6-105f-49e5-a900-85b14625671d",
   "metadata": {},
   "outputs": [
    {
     "name": "stdout",
     "output_type": "stream",
     "text": [
      "          종목명   현재가   등락률\n",
      "037730     3R  1510  7.36\n",
      "036360  3SOFT  1790  1.65\n",
      "          종목명   현재가   등락률\n",
      "037730     3R  1510  7.36\n",
      "036360  3SOFT  1790  1.65\n"
     ]
    }
   ],
   "source": [
    "#불연속적인 여러 값을 슬라이싱\n",
    "#iloc: 행 번호를 리스트로 전달\n",
    "#loc: 인덱스를 리스트로 전달\n",
    "print(df.loc[[\"037730\", \"036360\"]]) #리스트로 슬라이싱 할 때는 [[ ]]\n",
    "print(df.iloc[[0,1]])"
   ]
  },
  {
   "cell_type": "code",
   "execution_count": 32,
   "id": "b1c19505-f31e-4528-afc4-a132cfc5507b",
   "metadata": {},
   "outputs": [
    {
     "name": "stdout",
     "output_type": "stream",
     "text": [
      "종목명      3R\n",
      "현재가    1510\n",
      "등락률    7.36\n",
      "Name: 037730, dtype: object\n",
      "종목명      3R\n",
      "현재가    1510\n",
      "등락률    7.36\n",
      "Name: 037730, dtype: object\n"
     ]
    }
   ],
   "source": [
    "#특정 값 가져오기\n",
    "from pandas import DataFrame\n",
    "\n",
    "data = [\n",
    "    [\"3R\", 1510, 7.36],\n",
    "    [\"3SOFT\", 1790, 1.65],\n",
    "    [\"ACTS\", 1185, 1.28]\n",
    "]\n",
    "\n",
    "index = [\"037730\", \"036360\", \"005760\"]\n",
    "columns = [\"종목명\", \"현재가\", \"등락률\"]\n",
    "df = DataFrame(data=data, index=index, columns=columns)\n",
    "\n",
    "print(df.iloc[0])\n",
    "print(df.loc['037730'])"
   ]
  },
  {
   "cell_type": "code",
   "execution_count": 34,
   "id": "57b8376e-df19-427d-bc06-ab7aaee89256",
   "metadata": {},
   "outputs": [
    {
     "name": "stdout",
     "output_type": "stream",
     "text": [
      "1510\n",
      "1510\n",
      "1510\n"
     ]
    }
   ],
   "source": [
    "#행 번호로 행 선택 후 시리즈 인덱싱\n",
    "print(df.iloc[0].iloc[1])\n",
    "print(df.iloc[0].loc[\"현재가\"])\n",
    "print(df.iloc[0][\"현재가\"])"
   ]
  },
  {
   "cell_type": "code",
   "execution_count": 35,
   "id": "d4417c6e-c736-4181-a753-43a1c02c3a4b",
   "metadata": {},
   "outputs": [
    {
     "name": "stdout",
     "output_type": "stream",
     "text": [
      "1510\n",
      "1510\n",
      "1510\n"
     ]
    }
   ],
   "source": [
    "#인덱스로 행 선택 후 시리즈 인덱싱\n",
    "print(df.loc[\"037730\"].iloc[1])\n",
    "print(df.loc[\"037730\"].loc[\"현재가\"])\n",
    "print(df.loc[\"037730\"][\"현재가\"])"
   ]
  },
  {
   "cell_type": "code",
   "execution_count": 36,
   "id": "aab58ade-7c37-4161-b430-9a0300621e64",
   "metadata": {},
   "outputs": [
    {
     "name": "stdout",
     "output_type": "stream",
     "text": [
      "1510\n",
      "1510\n"
     ]
    }
   ],
   "source": [
    "print(df.loc[\"037730\", \"현재가\"])\n",
    "print(df.iloc[0, 1])"
   ]
  },
  {
   "cell_type": "code",
   "execution_count": 37,
   "id": "e65c1725-be64-43d1-9ad7-d352320c2b4f",
   "metadata": {},
   "outputs": [
    {
     "name": "stdout",
     "output_type": "stream",
     "text": [
      "1510\n",
      "1510\n",
      "1510\n"
     ]
    }
   ],
   "source": [
    "#컬럼이라는 시리즈 객체에 접근 후 다시 시리즈 인덱싱(참고)\n",
    "print(df['현재가'].iloc[0])\n",
    "print(df['현재가'].loc[\"037730\"])\n",
    "print(df['현재가'][\"037730\"])"
   ]
  },
  {
   "cell_type": "code",
   "execution_count": 38,
   "id": "d91f8f62-f347-4faf-aa05-40fca7f0fbec",
   "metadata": {},
   "outputs": [
    {
     "name": "stdout",
     "output_type": "stream",
     "text": [
      "          종목명   현재가   등락률\n",
      "037730     3R  1510  7.36\n",
      "036360  3SOFT  1790  1.65\n",
      "          종목명   현재가   등락률\n",
      "037730     3R  1510  7.36\n",
      "036360  3SOFT  1790  1.65\n"
     ]
    }
   ],
   "source": [
    "#특정 범위 가져오기\n",
    "from pandas import DataFrame\n",
    "\n",
    "data = [\n",
    "    [\"3R\", 1510, 7.36],\n",
    "    [\"3SOFT\", 1790, 1.65],\n",
    "    [\"ACTS\", 1185, 1.28]\n",
    "]\n",
    "\n",
    "index = [\"037730\", \"036360\", \"005760\"]\n",
    "columns = [\"종목명\", \"현재가\", \"등락률\"]\n",
    "df = DataFrame(data=data, index=index, columns=columns)\n",
    "\n",
    "print(df.loc[[\"037730\", \"036360\"]])\n",
    "print(df.iloc[[0,1]])"
   ]
  },
  {
   "cell_type": "code",
   "execution_count": 40,
   "id": "b64462a9-8edb-4888-a004-981bcb4c1a79",
   "metadata": {},
   "outputs": [
    {
     "name": "stdout",
     "output_type": "stream",
     "text": [
      "          종목명   현재가\n",
      "037730     3R  1510\n",
      "036360  3SOFT  1790\n"
     ]
    }
   ],
   "source": [
    "df = df.loc[[\"037730\", \"036360\"]]\n",
    "df = df[[\"종목명\",\"현재가\"]]\n",
    "print(df)\n",
    "#두 번의 슬라이싱으로 대용량 데이터 처리 시 실행 성능 저하 문제 발생"
   ]
  },
  {
   "cell_type": "code",
   "execution_count": 42,
   "id": "bd7afa6a-798d-4dab-9a64-ce8b254318f9",
   "metadata": {},
   "outputs": [
    {
     "name": "stdout",
     "output_type": "stream",
     "text": [
      "          종목명   현재가\n",
      "037730     3R  1510\n",
      "036360  3SOFT  1790\n",
      "          종목명   현재가\n",
      "037730     3R  1510\n",
      "036360  3SOFT  1790\n"
     ]
    }
   ],
   "source": [
    "#df.loc[[행],[열]] 또는 df.iloc[[행번호],[열번호]]\n",
    "print(df.loc[[\"037730\", \"036360\"],[\"종목명\",\"현재가\"]])\n",
    "print(df.iloc[[0, 1],[0, 1]])"
   ]
  },
  {
   "cell_type": "code",
   "execution_count": 43,
   "id": "949f2292-0a15-4d7b-9257-4ed736eff554",
   "metadata": {},
   "outputs": [
    {
     "name": "stdout",
     "output_type": "stream",
     "text": [
      "          종목명   현재가   등락률\n",
      "037730     3R  1510  7.36\n",
      "036360  3SOFT  1790  1.65\n"
     ]
    }
   ],
   "source": [
    "#데이터프레임 필터링\n",
    "#특정 조건을 만족할 때의 값 선택 - 불리언 인덱싱 응용\n",
    "from pandas import DataFrame\n",
    "\n",
    "data = [\n",
    "    [\"3R\", 1510, 7.36],\n",
    "    [\"3SOFT\", 1790, 1.65],\n",
    "    [\"ACTS\", 1185, 1.28]\n",
    "]\n",
    "\n",
    "index = [\"037730\", \"036360\", \"005760\"]\n",
    "columns = [\"종목명\", \"현재가\", \"등락률\"]\n",
    "df = DataFrame(data=data, index=index, columns=columns)\n",
    "cond = df['현재가'] >= 1400 \n",
    "#cond: T or F가 시리즈로 저장되어 있음 -> 이를 사용해 색인하는 걸 '불리언 인덱싱'\n",
    "print(df.loc[cond]) #데이터프레임의 슬라이싱의 결과는 데이터프레임"
   ]
  },
  {
   "cell_type": "code",
   "execution_count": 44,
   "id": "747c8130-f84d-4849-a062-81ccaaf76f6c",
   "metadata": {},
   "outputs": [
    {
     "name": "stdout",
     "output_type": "stream",
     "text": [
      "037730    1510\n",
      "036360    1790\n",
      "Name: 현재가, dtype: int64\n",
      "037730    1510\n",
      "036360    1790\n",
      "Name: 현재가, dtype: int64\n"
     ]
    }
   ],
   "source": [
    "#반환된 데이터프레임에서 하나의 컬럼만을 가져오기\n",
    "cond = df['현재가'] >= 1400 \n",
    "print(df.loc[cond][\"현재가\"])\n",
    "print(df.loc[cond, \"현재가\"])"
   ]
  },
  {
   "cell_type": "code",
   "execution_count": 45,
   "id": "277477f7-a1b9-44e0-b54c-665373665acc",
   "metadata": {},
   "outputs": [
    {
     "data": {
      "text/html": [
       "<div>\n",
       "<style scoped>\n",
       "    .dataframe tbody tr th:only-of-type {\n",
       "        vertical-align: middle;\n",
       "    }\n",
       "\n",
       "    .dataframe tbody tr th {\n",
       "        vertical-align: top;\n",
       "    }\n",
       "\n",
       "    .dataframe thead th {\n",
       "        text-align: right;\n",
       "    }\n",
       "</style>\n",
       "<table border=\"1\" class=\"dataframe\">\n",
       "  <thead>\n",
       "    <tr style=\"text-align: right;\">\n",
       "      <th></th>\n",
       "      <th>종목명</th>\n",
       "      <th>현재가</th>\n",
       "      <th>등락률</th>\n",
       "    </tr>\n",
       "  </thead>\n",
       "  <tbody>\n",
       "    <tr>\n",
       "      <th>037730</th>\n",
       "      <td>3R</td>\n",
       "      <td>1510</td>\n",
       "      <td>7.36</td>\n",
       "    </tr>\n",
       "  </tbody>\n",
       "</table>\n",
       "</div>"
      ],
      "text/plain": [
       "       종목명   현재가   등락률\n",
       "037730  3R  1510  7.36"
      ]
     },
     "execution_count": 45,
     "metadata": {},
     "output_type": "execute_result"
    }
   ],
   "source": [
    "#복잡한 조건 기술 시 논리 연산자인 &(and),|(or),~(not) 연산자 사용\n",
    "cond = (df['현재가'] >= 1400) & (df['현재가'] < 1700) #반드시 괄호로 조건 구분\n",
    "df.loc[cond]"
   ]
  },
  {
   "cell_type": "code",
   "execution_count": 46,
   "id": "9ff951dd-2576-4100-b206-15da3f6d8804",
   "metadata": {},
   "outputs": [
    {
     "name": "stdout",
     "output_type": "stream",
     "text": [
      "          종목명   현재가   등락률\n",
      "036360  3SOFT  1790  1.65\n",
      "005760   ACTS  1185  1.28\n"
     ]
    }
   ],
   "source": [
    "#Not 연산자: 참<->거짓 조건을 서로 변경\n",
    "cond = (df['현재가'] >= 1400) & (df['현재가'] < 1700)\n",
    "print(df.loc[~cond])"
   ]
  },
  {
   "cell_type": "code",
   "execution_count": null,
   "id": "19b23a60-056b-4451-ab4e-e82aab06f06e",
   "metadata": {},
   "outputs": [],
   "source": []
  }
 ],
 "metadata": {
  "kernelspec": {
   "display_name": "Python 3 (ipykernel)",
   "language": "python",
   "name": "python3"
  },
  "language_info": {
   "codemirror_mode": {
    "name": "ipython",
    "version": 3
   },
   "file_extension": ".py",
   "mimetype": "text/x-python",
   "name": "python",
   "nbconvert_exporter": "python",
   "pygments_lexer": "ipython3",
   "version": "3.12.4"
  }
 },
 "nbformat": 4,
 "nbformat_minor": 5
}
