{
  "nbformat": 4,
  "nbformat_minor": 0,
  "metadata": {
    "colab": {
      "provenance": [],
      "authorship_tag": "ABX9TyO1PxRMxB8qatYuvNbuQa0v",
      "include_colab_link": true
    },
    "kernelspec": {
      "name": "python3",
      "display_name": "Python 3"
    },
    "language_info": {
      "name": "python"
    }
  },
  "cells": [
    {
      "cell_type": "markdown",
      "metadata": {
        "id": "view-in-github",
        "colab_type": "text"
      },
      "source": [
        "<a href=\"https://colab.research.google.com/github/gah508/EPOCH_Beginner/blob/main/Pandas1/jiyun_practice2.ipynb\" target=\"_parent\"><img src=\"https://colab.research.google.com/assets/colab-badge.svg\" alt=\"Open In Colab\"/></a>"
      ]
    },
    {
      "cell_type": "markdown",
      "source": [
        "## Chapter 04. 판다스 데이터프레임 Part1\n"
      ],
      "metadata": {
        "id": "2gZgcg5fIn4w"
      }
    },
    {
      "cell_type": "code",
      "source": [
        "# 설치\n",
        "pip install pandas"
      ],
      "metadata": {
        "colab": {
          "base_uri": "https://localhost:8080/",
          "height": 112
        },
        "id": "jRHqyEHGtvjN",
        "outputId": "b7f1923d-6353-4fd2-a2d0-3f36722011ad"
      },
      "execution_count": null,
      "outputs": [
        {
          "output_type": "error",
          "ename": "SyntaxError",
          "evalue": "invalid syntax (<ipython-input-2-9a38944a6143>, line 2)",
          "traceback": [
            "\u001b[0;36m  File \u001b[0;32m\"<ipython-input-2-9a38944a6143>\"\u001b[0;36m, line \u001b[0;32m2\u001b[0m\n\u001b[0;31m    pip install pandas\u001b[0m\n\u001b[0m        ^\u001b[0m\n\u001b[0;31mSyntaxError\u001b[0m\u001b[0;31m:\u001b[0m invalid syntax\n"
          ]
        }
      ]
    },
    {
      "cell_type": "markdown",
      "source": [
        "### 4.1 데이터프레임 소개 및 생성"
      ],
      "metadata": {
        "id": "pR3Q8B0gI2rJ"
      }
    },
    {
      "cell_type": "code",
      "execution_count": null,
      "metadata": {
        "colab": {
          "base_uri": "https://localhost:8080/"
        },
        "id": "gu6HIG7jIilI",
        "outputId": "2811d1d7-0c1f-4c49-a07e-ac2f8410743f"
      },
      "outputs": [
        {
          "output_type": "stream",
          "name": "stdout",
          "text": [
            "     종목코드    종목명   현재가\n",
            "0  037730     3R  1510\n",
            "1  036360  3SOFT  1790\n",
            "2  005760   ACTS  1185\n",
            "     종목코드    종목명   현재가\n",
            "0  037730     3R  1510\n",
            "1  036360  3SOFT  1790\n",
            "2  005760   ACTS  1185\n",
            "     종목코드    종목명   현재가\n",
            "0  037730     3R  1510\n",
            "1  036360  3SOFT  1790\n",
            "2  005760   ACTS  1185\n"
          ]
        }
      ],
      "source": [
        "# 1. 딕셔너리로 데이터프레임을 생성\n",
        "\n",
        "from pandas import DataFrame\n",
        "\n",
        "data = {\n",
        "    '종목코드': ['037730', '036360', '005760'],\n",
        "    '종목명': ['3R', '3SOFT', 'ACTS'],\n",
        "    '현재가': [1510, 1790, 1185]\n",
        "}\n",
        "\n",
        "df = DataFrame(data) # DataFrame 클래스의 객체 생성(생성자 호출)\n",
        "print(df)\n",
        "\n",
        "# 2. 리스트로 데이터프레임을 생성\n",
        "\n",
        "data = [\n",
        "    [\"037730\", \"3R\", 1510],\n",
        "    [\"036360\", \"3SOFT\", 1790],\n",
        "    [\"005760\", \"ACTS\", 1185]\n",
        "]\n",
        "\n",
        "columns = [\"종목코드\", \"종목명\", \"현재가\"]\n",
        "\n",
        "df = DataFrame(data=data, columns=columns)\n",
        "print(df)\n",
        "\n",
        "# 3. 리스트와 딕셔너리로 데이터프레임을 생성\n",
        "\n",
        "data = [\n",
        "    {\"종목코드\": \"037730\", \"종목명\": \"3R\", \"현재가\": 1510},\n",
        "    {\"종목코드\": \"036360\", \"종목명\": \"3SOFT\", \"현재가\": 1790},\n",
        "    {\"종목코드\": \"005760\", \"종목명\": \"ACTS\", \"현재가\": 1185}]\n",
        "\n",
        "df = DataFrame(data)\n",
        "print(df)"
      ]
    },
    {
      "cell_type": "markdown",
      "source": [
        "### 4.2 데이터프레임의 인덱스"
      ],
      "metadata": {
        "id": "jzL0SAxSMA_Z"
      }
    },
    {
      "cell_type": "code",
      "source": [
        "from pandas import DataFrame\n",
        "\n",
        "data = [\n",
        "    [\"037730\", \"3R\", 1510, 7.36],\n",
        "    [\"036360\", \"3SOFR\", 1790, 1.65],\n",
        "    [\"005670\", \"ACTS\", 1185, 1.28]\n",
        "]\n",
        "\n",
        "columns = [\"종목코드\", \"종목명\", \"현재가\", \"등락률\"]\n",
        "df = DataFrame(data=data, columns=columns)\n",
        "print(df)\n",
        "\n",
        "# 자동 생성된 0,1,2 인덱스 대신 종목코드 컬럼을 인덱스로 변경\n",
        "data = [\n",
        "    [\"037730\", \"3R\", 1510, 7.36],\n",
        "    [\"036360\", \"3SOFR\", 1790, 1.65],\n",
        "    [\"005670\", \"ACTS\", 1185, 1.28]\n",
        "]\n",
        "#  set_index 사용\n",
        "columns = [\"종목코드\", \"종목명\", \"현재가\", \"등락률\"]\n",
        "df = DataFrame(data=data, columns=columns)\n",
        "df = df.set_index(\"종목코드\") # 원본 데이터 변경이 아닌 새로운 인덱스가 설정된 새로운 df 리턴\n",
        "print(df)\n",
        "\n",
        "# df.set_index(\"종목코드\", inplace=True) # 원본 데이터 변경"
      ],
      "metadata": {
        "colab": {
          "base_uri": "https://localhost:8080/"
        },
        "id": "jIX_g1dlMAY3",
        "outputId": "c8888d27-92e7-4a2e-db13-67acecae7894"
      },
      "execution_count": null,
      "outputs": [
        {
          "output_type": "stream",
          "name": "stdout",
          "text": [
            "     종목코드    종목명   현재가   등락률\n",
            "0  037730     3R  1510  7.36\n",
            "1  036360  3SOFR  1790  1.65\n",
            "2  005670   ACTS  1185  1.28\n",
            "          종목명   현재가   등락률\n",
            "종목코드                     \n",
            "037730     3R  1510  7.36\n",
            "036360  3SOFR  1790  1.65\n",
            "005670   ACTS  1185  1.28\n"
          ]
        }
      ]
    },
    {
      "cell_type": "code",
      "source": [
        "# 인덱스, 데이터, 컬럼을 별도의 리스트로 구성; 생성자 호출 시 index 전달\n",
        "from pandas import DataFrame\n",
        "\n",
        "data = [\n",
        "    [\"3R\", 1510, 7.36],\n",
        "    [\"3SOFT\", 1790, 1.65],\n",
        "    [\"ACTS\", 1185, 1.28]\n",
        "]\n",
        "\n",
        "index = [\"037730\", \"036360\", \"005670\"]\n",
        "columns = [\"종목명\", \"현재가\", \"등락률\"]\n",
        "\n",
        "df = DataFrame(data=data, index=index, columns=columns)\n",
        "df.index.name = \"종목코드\"\n",
        "print(df)"
      ],
      "metadata": {
        "colab": {
          "base_uri": "https://localhost:8080/"
        },
        "id": "BqDsN1jcNt2j",
        "outputId": "ae3bc7a5-eb18-4235-cffc-da6da326eb75"
      },
      "execution_count": null,
      "outputs": [
        {
          "output_type": "stream",
          "name": "stdout",
          "text": [
            "          종목명   현재가   등락률\n",
            "종목코드                     \n",
            "037730     3R  1510  7.36\n",
            "036360  3SOFT  1790  1.65\n",
            "005670   ACTS  1185  1.28\n"
          ]
        }
      ]
    },
    {
      "cell_type": "markdown",
      "source": [
        "### 4.3 컬럼 인덱싱"
      ],
      "metadata": {
        "id": "x3dDDUGOOb9s"
      }
    },
    {
      "cell_type": "code",
      "source": [
        "from pandas import DataFrame\n",
        "\n",
        "data = [\n",
        "    [\"3R\", 1510, 7.36],\n",
        "    [\"3SOFT\", 1790, 1.65],\n",
        "    [\"ACTS\", 1185, 1.28]\n",
        "]\n",
        "\n",
        "index = [\"037730\", \"036360\", \"005670\"] # 종목코드 index\n",
        "columns = [\"종목명\", \"현재가\", \"등락률\"]\n",
        "df = DataFrame(data=data, index=index, columns=columns)\n",
        "print(df['현재가'])\n",
        "\n",
        "print(df.현재가)\n",
        "\n",
        "# 여러 개의 컬럼을 한 번에 슬라이싱\n",
        "리스트 = [\"현재가\",\"등락률\"]\n",
        "df[리스트]\n",
        "\n",
        "print(df[ [\"현재가\", \"등락률\"]])\n",
        "\n",
        "df[\"현재가\"]\n",
        "df[[\"현재가\"]]"
      ],
      "metadata": {
        "id": "foybZG6rObO1",
        "colab": {
          "base_uri": "https://localhost:8080/",
          "height": 367
        },
        "outputId": "81a7ba75-8ce3-45e5-9590-c15bff3801fb"
      },
      "execution_count": null,
      "outputs": [
        {
          "output_type": "stream",
          "name": "stdout",
          "text": [
            "037730    1510\n",
            "036360    1790\n",
            "005670    1185\n",
            "Name: 현재가, dtype: int64\n",
            "037730    1510\n",
            "036360    1790\n",
            "005670    1185\n",
            "Name: 현재가, dtype: int64\n",
            "         현재가   등락률\n",
            "037730  1510  7.36\n",
            "036360  1790  1.65\n",
            "005670  1185  1.28\n"
          ]
        },
        {
          "output_type": "execute_result",
          "data": {
            "text/plain": [
              "         현재가\n",
              "037730  1510\n",
              "036360  1790\n",
              "005670  1185"
            ],
            "text/html": [
              "\n",
              "  <div id=\"df-ec607534-6ac7-49d5-89da-5cbdde5ac162\" class=\"colab-df-container\">\n",
              "    <div>\n",
              "<style scoped>\n",
              "    .dataframe tbody tr th:only-of-type {\n",
              "        vertical-align: middle;\n",
              "    }\n",
              "\n",
              "    .dataframe tbody tr th {\n",
              "        vertical-align: top;\n",
              "    }\n",
              "\n",
              "    .dataframe thead th {\n",
              "        text-align: right;\n",
              "    }\n",
              "</style>\n",
              "<table border=\"1\" class=\"dataframe\">\n",
              "  <thead>\n",
              "    <tr style=\"text-align: right;\">\n",
              "      <th></th>\n",
              "      <th>현재가</th>\n",
              "    </tr>\n",
              "  </thead>\n",
              "  <tbody>\n",
              "    <tr>\n",
              "      <th>037730</th>\n",
              "      <td>1510</td>\n",
              "    </tr>\n",
              "    <tr>\n",
              "      <th>036360</th>\n",
              "      <td>1790</td>\n",
              "    </tr>\n",
              "    <tr>\n",
              "      <th>005670</th>\n",
              "      <td>1185</td>\n",
              "    </tr>\n",
              "  </tbody>\n",
              "</table>\n",
              "</div>\n",
              "    <div class=\"colab-df-buttons\">\n",
              "\n",
              "  <div class=\"colab-df-container\">\n",
              "    <button class=\"colab-df-convert\" onclick=\"convertToInteractive('df-ec607534-6ac7-49d5-89da-5cbdde5ac162')\"\n",
              "            title=\"Convert this dataframe to an interactive table.\"\n",
              "            style=\"display:none;\">\n",
              "\n",
              "  <svg xmlns=\"http://www.w3.org/2000/svg\" height=\"24px\" viewBox=\"0 -960 960 960\">\n",
              "    <path d=\"M120-120v-720h720v720H120Zm60-500h600v-160H180v160Zm220 220h160v-160H400v160Zm0 220h160v-160H400v160ZM180-400h160v-160H180v160Zm440 0h160v-160H620v160ZM180-180h160v-160H180v160Zm440 0h160v-160H620v160Z\"/>\n",
              "  </svg>\n",
              "    </button>\n",
              "\n",
              "  <style>\n",
              "    .colab-df-container {\n",
              "      display:flex;\n",
              "      gap: 12px;\n",
              "    }\n",
              "\n",
              "    .colab-df-convert {\n",
              "      background-color: #E8F0FE;\n",
              "      border: none;\n",
              "      border-radius: 50%;\n",
              "      cursor: pointer;\n",
              "      display: none;\n",
              "      fill: #1967D2;\n",
              "      height: 32px;\n",
              "      padding: 0 0 0 0;\n",
              "      width: 32px;\n",
              "    }\n",
              "\n",
              "    .colab-df-convert:hover {\n",
              "      background-color: #E2EBFA;\n",
              "      box-shadow: 0px 1px 2px rgba(60, 64, 67, 0.3), 0px 1px 3px 1px rgba(60, 64, 67, 0.15);\n",
              "      fill: #174EA6;\n",
              "    }\n",
              "\n",
              "    .colab-df-buttons div {\n",
              "      margin-bottom: 4px;\n",
              "    }\n",
              "\n",
              "    [theme=dark] .colab-df-convert {\n",
              "      background-color: #3B4455;\n",
              "      fill: #D2E3FC;\n",
              "    }\n",
              "\n",
              "    [theme=dark] .colab-df-convert:hover {\n",
              "      background-color: #434B5C;\n",
              "      box-shadow: 0px 1px 3px 1px rgba(0, 0, 0, 0.15);\n",
              "      filter: drop-shadow(0px 1px 2px rgba(0, 0, 0, 0.3));\n",
              "      fill: #FFFFFF;\n",
              "    }\n",
              "  </style>\n",
              "\n",
              "    <script>\n",
              "      const buttonEl =\n",
              "        document.querySelector('#df-ec607534-6ac7-49d5-89da-5cbdde5ac162 button.colab-df-convert');\n",
              "      buttonEl.style.display =\n",
              "        google.colab.kernel.accessAllowed ? 'block' : 'none';\n",
              "\n",
              "      async function convertToInteractive(key) {\n",
              "        const element = document.querySelector('#df-ec607534-6ac7-49d5-89da-5cbdde5ac162');\n",
              "        const dataTable =\n",
              "          await google.colab.kernel.invokeFunction('convertToInteractive',\n",
              "                                                    [key], {});\n",
              "        if (!dataTable) return;\n",
              "\n",
              "        const docLinkHtml = 'Like what you see? Visit the ' +\n",
              "          '<a target=\"_blank\" href=https://colab.research.google.com/notebooks/data_table.ipynb>data table notebook</a>'\n",
              "          + ' to learn more about interactive tables.';\n",
              "        element.innerHTML = '';\n",
              "        dataTable['output_type'] = 'display_data';\n",
              "        await google.colab.output.renderOutput(dataTable, element);\n",
              "        const docLink = document.createElement('div');\n",
              "        docLink.innerHTML = docLinkHtml;\n",
              "        element.appendChild(docLink);\n",
              "      }\n",
              "    </script>\n",
              "  </div>\n",
              "\n",
              "\n",
              "<div id=\"df-d1b787c2-98db-469e-ab28-9382aa587e23\">\n",
              "  <button class=\"colab-df-quickchart\" onclick=\"quickchart('df-d1b787c2-98db-469e-ab28-9382aa587e23')\"\n",
              "            title=\"Suggest charts\"\n",
              "            style=\"display:none;\">\n",
              "\n",
              "<svg xmlns=\"http://www.w3.org/2000/svg\" height=\"24px\"viewBox=\"0 0 24 24\"\n",
              "     width=\"24px\">\n",
              "    <g>\n",
              "        <path d=\"M19 3H5c-1.1 0-2 .9-2 2v14c0 1.1.9 2 2 2h14c1.1 0 2-.9 2-2V5c0-1.1-.9-2-2-2zM9 17H7v-7h2v7zm4 0h-2V7h2v10zm4 0h-2v-4h2v4z\"/>\n",
              "    </g>\n",
              "</svg>\n",
              "  </button>\n",
              "\n",
              "<style>\n",
              "  .colab-df-quickchart {\n",
              "      --bg-color: #E8F0FE;\n",
              "      --fill-color: #1967D2;\n",
              "      --hover-bg-color: #E2EBFA;\n",
              "      --hover-fill-color: #174EA6;\n",
              "      --disabled-fill-color: #AAA;\n",
              "      --disabled-bg-color: #DDD;\n",
              "  }\n",
              "\n",
              "  [theme=dark] .colab-df-quickchart {\n",
              "      --bg-color: #3B4455;\n",
              "      --fill-color: #D2E3FC;\n",
              "      --hover-bg-color: #434B5C;\n",
              "      --hover-fill-color: #FFFFFF;\n",
              "      --disabled-bg-color: #3B4455;\n",
              "      --disabled-fill-color: #666;\n",
              "  }\n",
              "\n",
              "  .colab-df-quickchart {\n",
              "    background-color: var(--bg-color);\n",
              "    border: none;\n",
              "    border-radius: 50%;\n",
              "    cursor: pointer;\n",
              "    display: none;\n",
              "    fill: var(--fill-color);\n",
              "    height: 32px;\n",
              "    padding: 0;\n",
              "    width: 32px;\n",
              "  }\n",
              "\n",
              "  .colab-df-quickchart:hover {\n",
              "    background-color: var(--hover-bg-color);\n",
              "    box-shadow: 0 1px 2px rgba(60, 64, 67, 0.3), 0 1px 3px 1px rgba(60, 64, 67, 0.15);\n",
              "    fill: var(--button-hover-fill-color);\n",
              "  }\n",
              "\n",
              "  .colab-df-quickchart-complete:disabled,\n",
              "  .colab-df-quickchart-complete:disabled:hover {\n",
              "    background-color: var(--disabled-bg-color);\n",
              "    fill: var(--disabled-fill-color);\n",
              "    box-shadow: none;\n",
              "  }\n",
              "\n",
              "  .colab-df-spinner {\n",
              "    border: 2px solid var(--fill-color);\n",
              "    border-color: transparent;\n",
              "    border-bottom-color: var(--fill-color);\n",
              "    animation:\n",
              "      spin 1s steps(1) infinite;\n",
              "  }\n",
              "\n",
              "  @keyframes spin {\n",
              "    0% {\n",
              "      border-color: transparent;\n",
              "      border-bottom-color: var(--fill-color);\n",
              "      border-left-color: var(--fill-color);\n",
              "    }\n",
              "    20% {\n",
              "      border-color: transparent;\n",
              "      border-left-color: var(--fill-color);\n",
              "      border-top-color: var(--fill-color);\n",
              "    }\n",
              "    30% {\n",
              "      border-color: transparent;\n",
              "      border-left-color: var(--fill-color);\n",
              "      border-top-color: var(--fill-color);\n",
              "      border-right-color: var(--fill-color);\n",
              "    }\n",
              "    40% {\n",
              "      border-color: transparent;\n",
              "      border-right-color: var(--fill-color);\n",
              "      border-top-color: var(--fill-color);\n",
              "    }\n",
              "    60% {\n",
              "      border-color: transparent;\n",
              "      border-right-color: var(--fill-color);\n",
              "    }\n",
              "    80% {\n",
              "      border-color: transparent;\n",
              "      border-right-color: var(--fill-color);\n",
              "      border-bottom-color: var(--fill-color);\n",
              "    }\n",
              "    90% {\n",
              "      border-color: transparent;\n",
              "      border-bottom-color: var(--fill-color);\n",
              "    }\n",
              "  }\n",
              "</style>\n",
              "\n",
              "  <script>\n",
              "    async function quickchart(key) {\n",
              "      const quickchartButtonEl =\n",
              "        document.querySelector('#' + key + ' button');\n",
              "      quickchartButtonEl.disabled = true;  // To prevent multiple clicks.\n",
              "      quickchartButtonEl.classList.add('colab-df-spinner');\n",
              "      try {\n",
              "        const charts = await google.colab.kernel.invokeFunction(\n",
              "            'suggestCharts', [key], {});\n",
              "      } catch (error) {\n",
              "        console.error('Error during call to suggestCharts:', error);\n",
              "      }\n",
              "      quickchartButtonEl.classList.remove('colab-df-spinner');\n",
              "      quickchartButtonEl.classList.add('colab-df-quickchart-complete');\n",
              "    }\n",
              "    (() => {\n",
              "      let quickchartButtonEl =\n",
              "        document.querySelector('#df-d1b787c2-98db-469e-ab28-9382aa587e23 button');\n",
              "      quickchartButtonEl.style.display =\n",
              "        google.colab.kernel.accessAllowed ? 'block' : 'none';\n",
              "    })();\n",
              "  </script>\n",
              "</div>\n",
              "\n",
              "    </div>\n",
              "  </div>\n"
            ],
            "application/vnd.google.colaboratory.intrinsic+json": {
              "type": "dataframe",
              "summary": "{\n  \"name\": \"df[[\\\"\\ud604\\uc7ac\\uac00\\\"]]\",\n  \"rows\": 3,\n  \"fields\": [\n    {\n      \"column\": \"\\ud604\\uc7ac\\uac00\",\n      \"properties\": {\n        \"dtype\": \"number\",\n        \"std\": 302,\n        \"min\": 1185,\n        \"max\": 1790,\n        \"num_unique_values\": 3,\n        \"samples\": [\n          1510,\n          1790,\n          1185\n        ],\n        \"semantic_type\": \"\",\n        \"description\": \"\"\n      }\n    }\n  ]\n}"
            }
          },
          "metadata": {},
          "execution_count": 23
        }
      ]
    },
    {
      "cell_type": "markdown",
      "source": [
        "### 4.4 로우 인덱싱\n",
        "\n",
        "**loc**: 인덱스를 기준으로 로우 데이터 추출\n",
        "\n",
        "**iloc**: 행 번호를 기준으로 로우 데이터 추출"
      ],
      "metadata": {
        "id": "s_x4Cn_kwK-7"
      }
    },
    {
      "cell_type": "code",
      "source": [
        "from pandas import DataFrame\n",
        "\n",
        "data = [\n",
        "    [\"3R\", 1510, 7.36],\n",
        "    [\"3SOFT\", 1790, 1.65],\n",
        "    [\"ACTS\", 1185, 1.28]\n",
        "]\n",
        "\n",
        "index = [\"037730\", \"036360\", \"005670\"]\n",
        "columns = [\"종목명\", \"현재가\", \"등락률\"]\n",
        "df = DataFrame(data=data, index=index, columns=columns)\n",
        "# 문자열 인덱스 \"037730\"에 대응하는 로우 데이터 인덱싱\n",
        "print(df.loc[\"037730\"])"
      ],
      "metadata": {
        "colab": {
          "base_uri": "https://localhost:8080/"
        },
        "id": "KiDcge_Euka5",
        "outputId": "d346bd60-1ee8-42cc-fad9-dcfb1d509816"
      },
      "execution_count": null,
      "outputs": [
        {
          "output_type": "stream",
          "name": "stdout",
          "text": [
            "종목명      3R\n",
            "현재가    1510\n",
            "등락률    7.36\n",
            "Name: 037730, dtype: object\n"
          ]
        }
      ]
    },
    {
      "cell_type": "code",
      "source": [
        "print(df.iloc[0]) # 첫 번째 행\n",
        "print(df.iloc[-1]) # 마지막 행"
      ],
      "metadata": {
        "colab": {
          "base_uri": "https://localhost:8080/"
        },
        "id": "EwOXTwDrxPuG",
        "outputId": "801c7181-49ca-432d-fcca-92ff3683a030"
      },
      "execution_count": null,
      "outputs": [
        {
          "output_type": "stream",
          "name": "stdout",
          "text": [
            "종목명      3R\n",
            "현재가    1510\n",
            "등락률    7.36\n",
            "Name: 037730, dtype: object\n",
            "종목명    ACTS\n",
            "현재가    1185\n",
            "등락률    1.28\n",
            "Name: 005670, dtype: object\n"
          ]
        }
      ]
    },
    {
      "cell_type": "code",
      "source": [
        "# 불연속적인 여러 행을 슬라이싱\n",
        "print(df.loc[ [\"037730\", \"036360\"]]) # 인덱스 리스트 전달\n",
        "print(df.iloc[ [0,1]]) # 행 번호 리스트 전달"
      ],
      "metadata": {
        "colab": {
          "base_uri": "https://localhost:8080/"
        },
        "id": "JEIgkrZmxphv",
        "outputId": "8fbd975a-db8b-4f19-bc4d-468d5616c277"
      },
      "execution_count": null,
      "outputs": [
        {
          "output_type": "stream",
          "name": "stdout",
          "text": [
            "          종목명   현재가   등락률\n",
            "037730     3R  1510  7.36\n",
            "036360  3SOFT  1790  1.65\n",
            "          종목명   현재가   등락률\n",
            "037730     3R  1510  7.36\n",
            "036360  3SOFT  1790  1.65\n"
          ]
        }
      ]
    },
    {
      "cell_type": "markdown",
      "source": [
        "### 4.5 특정 값 가져오기"
      ],
      "metadata": {
        "id": "pO5cM9tIx7F5"
      }
    },
    {
      "cell_type": "code",
      "source": [
        "from pandas import DataFrame\n",
        "\n",
        "data = [\n",
        "    [\"3R\", 1510, 7.36],\n",
        "    [\"3SOFT\", 1790, 1.65],\n",
        "    [\"ACTS\", 1185, 1.28]\n",
        "] # 특정 값 1510을 가져오고 싶다\n",
        "\n",
        "\n",
        "index = [\"037730\", \"036360\", \"005670\"]\n",
        "columns = [\"종목명\", \"현재가\", \"등락률\"]\n",
        "df = DataFrame(data=data, index=index, columns=columns)\n",
        "\n",
        "# df의 로우에서 우선 찾고\n",
        "print(df.iloc[0])\n",
        "# 또는 print(df.loc[\"037730\"])"
      ],
      "metadata": {
        "colab": {
          "base_uri": "https://localhost:8080/"
        },
        "id": "ps7fl40px6qT",
        "outputId": "916f85fc-a738-4522-a2be-214a51fc357a"
      },
      "execution_count": null,
      "outputs": [
        {
          "output_type": "stream",
          "name": "stdout",
          "text": [
            "종목명      3R\n",
            "현재가    1510\n",
            "등락률    7.36\n",
            "Name: 037730, dtype: object\n"
          ]
        }
      ]
    },
    {
      "cell_type": "code",
      "source": [
        "# 행 번호로 행 선택 후 시리즈 인덱싱\n",
        "print(df.iloc[0].iloc[1]) # 시리즈 행 번호\n",
        "print(df.iloc[0].loc[\"현재가\"]) # 시리즈 인덱스\n",
        "print(df.iloc[0][\"현재가\"]) # 시리즈 인덱스\n",
        "\n",
        "\n",
        "# 인덱스로 행 선택 후 시리즈 인덱싱\n",
        "print(df.loc[\"037730\"].iloc[1]) # 시리즈 행 번호\n",
        "print(df.loc[\"037730\"].loc[\"현재가\"]) # 시리즈 인덱스\n",
        "print(df.loc[\"037730\"][\"현재가\"]) # 시리즈 인덱스"
      ],
      "metadata": {
        "colab": {
          "base_uri": "https://localhost:8080/"
        },
        "id": "aJh5eXmJzS_X",
        "outputId": "89cc73b9-5a4e-49c6-a203-eb677a7823b7"
      },
      "execution_count": null,
      "outputs": [
        {
          "output_type": "stream",
          "name": "stdout",
          "text": [
            "1510\n",
            "1510\n",
            "1510\n",
            "1510\n",
            "1510\n",
            "1510\n"
          ]
        }
      ]
    },
    {
      "cell_type": "code",
      "source": [
        "# loc 속성에 로우 인덱스와 컬럼명을 순서대로 입력하면 특정 로우와 컬럼에 위치하는 값 반환\n",
        "print(df.loc[\"037730\", \"현재가\"])\n",
        "print(df.iloc[0, 1])"
      ],
      "metadata": {
        "colab": {
          "base_uri": "https://localhost:8080/"
        },
        "id": "Zm2WAS6xz1OW",
        "outputId": "e29a0a2d-5df4-44fe-ac72-478f54b1455c"
      },
      "execution_count": null,
      "outputs": [
        {
          "output_type": "stream",
          "name": "stdout",
          "text": [
            "1510\n",
            "1510\n"
          ]
        }
      ]
    },
    {
      "cell_type": "code",
      "source": [
        "# df의 컬럼을 먼저 인덱싱 후 로우를 선택\n",
        "\n",
        "print(df[\"현재가\"].iloc[0])\n",
        "print(df[\"현재가\"].loc[\"037730\"])\n",
        "print(df[\"현재가\"][\"037730\"])"
      ],
      "metadata": {
        "colab": {
          "base_uri": "https://localhost:8080/"
        },
        "id": "96PAWxp00Vgw",
        "outputId": "642c2cf8-8ee8-42dd-ec05-c6dc586fe962"
      },
      "execution_count": null,
      "outputs": [
        {
          "output_type": "stream",
          "name": "stdout",
          "text": [
            "1510\n",
            "1510\n",
            "1510\n"
          ]
        }
      ]
    },
    {
      "cell_type": "markdown",
      "source": [
        "### 4.6 특정 범위 가져오기"
      ],
      "metadata": {
        "id": "7kb98okK0rFC"
      }
    },
    {
      "cell_type": "code",
      "source": [
        "from pandas import DataFrame\n",
        "\n",
        "data = [\n",
        "    [\"3R\", 1510, 7.36],\n",
        "    [\"3SOFT\", 1790, 1.65],\n",
        "    [\"ACTS\", 1185, 1.28]\n",
        "]\n",
        "\n",
        "index = [\"037730\", \"036360\", \"005670\"]\n",
        "columns = [\"종목명\", \"현재가\", \"등락률\"]\n",
        "df = DataFrame(data=data, index=index, columns=columns)\n",
        "\n",
        "# 첫 번째, 두 번째 행 출력\n",
        "print(df.loc[[\"037730\", \"036360\"]])\n",
        "print(df.iloc[[0,1]])\n",
        "\n",
        "# 두 개의 컬럼 슬라이싱\n",
        "df = df.loc[[\"037730\", \"036360\"]] # 두 개의 행 선택 후 변수 업데이트\n",
        "df = df[ [\"종목명\", \"현재가\"] ] # 두 개의 컬럼 슬라이싱\n",
        "print(df)"
      ],
      "metadata": {
        "colab": {
          "base_uri": "https://localhost:8080/"
        },
        "id": "ufKoQ1ME0ph4",
        "outputId": "f97604ab-a55c-43c7-dcd5-479b0e4c33fa"
      },
      "execution_count": null,
      "outputs": [
        {
          "output_type": "stream",
          "name": "stdout",
          "text": [
            "          종목명   현재가   등락률\n",
            "037730     3R  1510  7.36\n",
            "036360  3SOFT  1790  1.65\n",
            "          종목명   현재가   등락률\n",
            "037730     3R  1510  7.36\n",
            "036360  3SOFT  1790  1.65\n",
            "          종목명   현재가\n",
            "037730     3R  1510\n",
            "036360  3SOFT  1790\n"
          ]
        }
      ]
    },
    {
      "cell_type": "code",
      "source": [
        "# 한 번에 슬라이싱 처리\n",
        "print(df.loc[[\"037730\", \"036360\"], [\"종목명\", \"현재가\"]] )\n",
        "print(df.iloc[[0,1], [0,1]])"
      ],
      "metadata": {
        "colab": {
          "base_uri": "https://localhost:8080/"
        },
        "id": "h6nG-J3n11E3",
        "outputId": "62d9293d-2c52-4746-a6d0-050e9ee80870"
      },
      "execution_count": null,
      "outputs": [
        {
          "output_type": "stream",
          "name": "stdout",
          "text": [
            "          종목명   현재가\n",
            "037730     3R  1510\n",
            "036360  3SOFT  1790\n",
            "          종목명   현재가\n",
            "037730     3R  1510\n",
            "036360  3SOFT  1790\n"
          ]
        }
      ]
    },
    {
      "cell_type": "markdown",
      "source": [
        "### 4.7 데이터프레임 필터링"
      ],
      "metadata": {
        "id": "0CB_RRKY2Q_m"
      }
    },
    {
      "cell_type": "code",
      "source": [
        "from pandas import DataFrame\n",
        "\n",
        "data = [\n",
        "    [\"3R\", 1510, 7.36],\n",
        "    [\"3SOFT\", 1790, 1.65],\n",
        "    [\"ACTS\", 1185, 1.28]\n",
        "]\n",
        "\n",
        "index = [\"037730\", \"036360\", \"005670\"]\n",
        "columns = [\"종목명\", \"현재가\", \"등락률\"]\n",
        "df = DataFrame(data=data, index=index, columns=columns)\n",
        "\n",
        "# 불리언 인덱싱\n",
        "cond = df[\"현재가\"] >= 1400\n",
        "print(df.loc[cond]) # Ture인 행들을 슬라이싱"
      ],
      "metadata": {
        "colab": {
          "base_uri": "https://localhost:8080/"
        },
        "id": "3LSPqpIW2VGO",
        "outputId": "0395f769-127e-4212-a3ec-2ef631aa36f3"
      },
      "execution_count": null,
      "outputs": [
        {
          "output_type": "stream",
          "name": "stdout",
          "text": [
            "          종목명   현재가   등락률\n",
            "037730     3R  1510  7.36\n",
            "036360  3SOFT  1790  1.65\n"
          ]
        }
      ]
    },
    {
      "cell_type": "code",
      "source": [
        "# 데이터 프레임에서 하나의 컬럼만을 가져오고 싶다면\n",
        "cond = df[\"현재가\"] >= 1400\n",
        "print(df.loc[cond][\"현재가\"])\n",
        "print(df.loc[cond, \"현재가\"])"
      ],
      "metadata": {
        "colab": {
          "base_uri": "https://localhost:8080/"
        },
        "id": "y1S6fxep3tp_",
        "outputId": "f6143680-d362-40c7-b853-a6364cfe56cc"
      },
      "execution_count": null,
      "outputs": [
        {
          "output_type": "stream",
          "name": "stdout",
          "text": [
            "037730    1510\n",
            "036360    1790\n",
            "Name: 현재가, dtype: int64\n",
            "037730    1510\n",
            "036360    1790\n",
            "Name: 현재가, dtype: int64\n"
          ]
        }
      ]
    },
    {
      "cell_type": "code",
      "source": [
        "# 복잡한 조건 기술 시 논리 연산자 &(and), |(or), ~(not) 연산자 사용\n",
        "\n",
        "# & 연산자\n",
        "cond = (df[\"현재가\"] >= 1400) & (df[\"현재가\"] < 1700) # & 연산자 사용 시 반드시 괄호로 조건을 구분\n",
        "print(df.loc[cond])\n",
        "\n",
        "# 연산자 우선순위가 &가 높아서 괄호를 쓰지 않으면 다음과 같이 해석되어 에러 발생\n",
        "# cond = df[\"현재가\"] >= (1400 & df[\"현재가\"]) < 1700\n",
        "\n",
        "\n",
        "# Not 연산자\n",
        "cond = (df[\"현재가\"] >= 1400) & (df[\"현재가\"] < 1700)\n",
        "# 현재가가 1400 미만이거나 1700 이상인 종목 출력\n",
        "print(df.loc[~cond])"
      ],
      "metadata": {
        "colab": {
          "base_uri": "https://localhost:8080/"
        },
        "id": "AIOpqsAb4JJ2",
        "outputId": "789f983a-ae15-49a5-f1ed-84f2c84705b5"
      },
      "execution_count": null,
      "outputs": [
        {
          "output_type": "stream",
          "name": "stdout",
          "text": [
            "       종목명   현재가   등락률\n",
            "037730  3R  1510  7.36\n",
            "          종목명   현재가   등락률\n",
            "036360  3SOFT  1790  1.65\n",
            "005670   ACTS  1185  1.28\n"
          ]
        }
      ]
    }
  ]
}