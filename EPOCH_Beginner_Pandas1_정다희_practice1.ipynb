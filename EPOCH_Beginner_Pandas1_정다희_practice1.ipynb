{
 "cells": [
  {
   "cell_type": "code",
   "execution_count": null,
   "id": "4e3ba092-9865-44b7-8712-25ae8c9ce236",
   "metadata": {},
   "outputs": [],
   "source": [
    "#파이썬 자료구조에는 리스트, 듀플, 딕셔너리가 있음\n",
    "#딕셔너리는 key(레이블):value(데이터) 쌍을 가짐\n",
    "#딕셔너리는 순서가 없는 자료구조로, 숫자인덱싱 X, key를 사용한 인덱싱만 지원\n",
    "\n",
    "#시리즈: 1차원 데이터를 관리하는 자료 구조"
   ]
  },
  {
   "cell_type": "code",
   "execution_count": 1,
   "id": "e144cb49-3b69-4d3b-86ed-2f564156a195",
   "metadata": {},
   "outputs": [
    {
     "name": "stdout",
     "output_type": "stream",
     "text": [
      "Requirement already satisfied: pandas in c:\\programdata\\anaconda3\\lib\\site-packages (2.2.2)\n",
      "Requirement already satisfied: numpy>=1.26.0 in c:\\programdata\\anaconda3\\lib\\site-packages (from pandas) (1.26.4)\n",
      "Requirement already satisfied: python-dateutil>=2.8.2 in c:\\programdata\\anaconda3\\lib\\site-packages (from pandas) (2.9.0.post0)\n",
      "Requirement already satisfied: pytz>=2020.1 in c:\\programdata\\anaconda3\\lib\\site-packages (from pandas) (2024.1)\n",
      "Requirement already satisfied: tzdata>=2022.7 in c:\\programdata\\anaconda3\\lib\\site-packages (from pandas) (2023.3)\n",
      "Requirement already satisfied: six>=1.5 in c:\\programdata\\anaconda3\\lib\\site-packages (from python-dateutil>=2.8.2->pandas) (1.16.0)\n"
     ]
    }
   ],
   "source": [
    "#시리즈 소개\n",
    "!pip install pandas"
   ]
  },
  {
   "cell_type": "code",
   "execution_count": 2,
   "id": "a63d229b-3aac-478b-8e83-39330ad25012",
   "metadata": {},
   "outputs": [
    {
     "name": "stdout",
     "output_type": "stream",
     "text": [
      "0    10\n",
      "1    20\n",
      "2    30\n",
      "dtype: int64\n"
     ]
    }
   ],
   "source": [
    "#시리즈 생성_ver.1\n",
    "from pandas import Series\n",
    "\n",
    "data = [10, 20, 30]\n",
    "s = Series(data) #시리즈 객체 생성\n",
    "print(s)\n",
    "#dtype: int64 -> 데이터타입: 64비트 정수가 시리즈에 저장"
   ]
  },
  {
   "cell_type": "code",
   "execution_count": 3,
   "id": "f0fa0b6c-5cce-416a-b539-5f7032643d99",
   "metadata": {},
   "outputs": [
    {
     "name": "stdout",
     "output_type": "stream",
     "text": [
      "0    0\n",
      "1    1\n",
      "2    2\n",
      "3    3\n",
      "4    4\n",
      "dtype: int32\n"
     ]
    }
   ],
   "source": [
    "#시리즈 생성_ver.2(넘파이 사용)\n",
    "from pandas import Series\n",
    "\n",
    "data = np.arange(5)\n",
    "s = Series(data)\n",
    "print(s)"
   ]
  },
  {
   "cell_type": "code",
   "execution_count": 5,
   "id": "fe2028c8-314c-4d42-b725-2e237c2cd3c4",
   "metadata": {},
   "outputs": [
    {
     "name": "stdout",
     "output_type": "stream",
     "text": [
      "0    시가\n",
      "1    고가\n",
      "dtype: object\n"
     ]
    }
   ],
   "source": [
    "data = [\"시가\", \"고가\"]\n",
    "s = Series(data)\n",
    "print(s)\n",
    "#판다스에서 문자열은 object로 표기\n",
    "#파이썬 문자열과 정수형 타입을 하나의 시리즈로 -> 전체 데이터가 object 타입으로 관리\n",
    "#-> object 타입의 시리즈는 브로드캐스팅 기능을 활용한 수치 연산 불가\n",
    "#-> 효용성을 위해 시리즈에는 같은 데이터 타입을 저장할 것"
   ]
  },
  {
   "cell_type": "code",
   "execution_count": 7,
   "id": "7e53477c-5e02-445a-9463-1c2281d22dac",
   "metadata": {},
   "outputs": [
    {
     "name": "stdout",
     "output_type": "stream",
     "text": [
      "RangeIndex(start=0, stop=3, step=1)\n",
      "[0, 1, 2]\n"
     ]
    }
   ],
   "source": [
    "#시리즈 인덱스\n",
    "from pandas import Series\n",
    "\n",
    "data = [1000, 2000, 3000]\n",
    "s = Series(data)\n",
    "print(s.index)\n",
    "#index라는 변수에는 구간 정보를 저장하는 자료구조로 RangeIndex 객체가 들어가 있음\n",
    "#0부터 2까지 1씩 증가하는 숫자가 들어있음\n",
    "print(s.index.to_list())\n",
    "#index에 to_list 메서드를 호출하면, 파이썬리스트로 값을 변환"
   ]
  },
  {
   "cell_type": "code",
   "execution_count": 8,
   "id": "3669bf1f-f8c5-454e-96a3-dfa2687aaaf8",
   "metadata": {},
   "outputs": [
    {
     "name": "stdout",
     "output_type": "stream",
     "text": [
      "메로나     1000\n",
      "구구콘     2000\n",
      "하겐다즈    3000\n",
      "dtype: int64\n"
     ]
    }
   ],
   "source": [
    "data = [1000, 2000, 3000]\n",
    "s = Series(data)\n",
    "s.index = [\"메로나\", \"구구콘\", \"하겐다즈\"]\n",
    "print(s)"
   ]
  },
  {
   "cell_type": "code",
   "execution_count": 9,
   "id": "1a5122a3-b025-4e08-be88-89e91c185d4a",
   "metadata": {},
   "outputs": [
    {
     "name": "stdout",
     "output_type": "stream",
     "text": [
      "메로나     1000\n",
      "구구콘     2000\n",
      "하겐다즈    3000\n",
      "dtype: int64\n"
     ]
    }
   ],
   "source": [
    "data = [1000, 2000, 3000]\n",
    "index = [\"메로나\", \"구구콘\", \"하겐다즈\"]\n",
    "\n",
    "s = Series(data, index)\n",
    "#시리즈 생성 시 데이터와 인덱스를 차례로 전달\n",
    "print(s)"
   ]
  },
  {
   "cell_type": "code",
   "execution_count": 10,
   "id": "6fe7480f-ec7a-4a47-b020-0ccaa8d2d3e7",
   "metadata": {},
   "outputs": [],
   "source": [
    "data = [1000, 2000, 3000]\n",
    "index = [\"메로나\", \"구구콘\", \"하겐다즈\"]\n",
    "\n",
    "s = Series(data=data, index=index)\n",
    "#keyword argument: 시리즈 객체를 생성할 때 파라미터의 이름을 직접 지정\n",
    "#시리즈 클래스에 정의된 변수 이름 = 입력할 데이터가 저장된 변수 이름\n",
    "#-> data 파라미터에 가격이 정의된 라인 1의 리스트를, index 파라미터에 라인 2의 리스트를 대입하라는 뜻"
   ]
  },
  {
   "cell_type": "code",
   "execution_count": 11,
   "id": "316d1b3f-6a71-4690-b58f-8f478e075958",
   "metadata": {},
   "outputs": [],
   "source": [
    "v = [1000, 2000, 3000]\n",
    "k = [\"메로나\", \"구구콘\", \"하겐다즈\"]\n",
    "s = Series(data=v, index=k)"
   ]
  },
  {
   "cell_type": "code",
   "execution_count": 13,
   "id": "e8e9b57c-4d55-44d9-ad99-35d85ba62bee",
   "metadata": {},
   "outputs": [
    {
     "name": "stdout",
     "output_type": "stream",
     "text": [
      "메로나    1000.0\n",
      "비비빅       NaN\n",
      "구구콘    2000.0\n",
      "dtype: float64\n"
     ]
    }
   ],
   "source": [
    "data = [1000, 2000, 3000]\n",
    "index = ['메로나', '구구콘', '하겐다즈'] #질문1: 여긴 왜 작은따옴표?\n",
    "s = Series(data=data, index=index)\n",
    "s2 = s.reindex([\"메로나\", \"비비빅\", \"구구콘\"])\n",
    "#reindex 메서드: 인자로 전달한 새로운 값으로 인덱스를 변경\n",
    "print(s2)\n",
    "# 기존에 있던 인덱스는 기존 값을 사용, 새로운 인덱스에는 NaN(결측값)"
   ]
  },
  {
   "cell_type": "code",
   "execution_count": 14,
   "id": "e164d178-235b-4490-aac2-51ecf36cd4b7",
   "metadata": {},
   "outputs": [
    {
     "name": "stdout",
     "output_type": "stream",
     "text": [
      "메로나    1000.0\n",
      "비비빅       0.0\n",
      "구구콘    2000.0\n",
      "dtype: float64\n"
     ]
    }
   ],
   "source": [
    "print(s2.fillna(0))\n",
    "#fillna: NaN을 0으로 변경"
   ]
  },
  {
   "cell_type": "code",
   "execution_count": 15,
   "id": "c9423ce3-d0ac-4b8b-95e3-321580670b10",
   "metadata": {},
   "outputs": [],
   "source": [
    "s2 = s.reindex([\"메로나\", \"비비빅\", \"구구콘\"], fill_value=0)\n",
    "#reindex 메서드 사용 시 fill_value 파라미터 사용해서 한 번에 처리 가능"
   ]
  },
  {
   "cell_type": "code",
   "execution_count": 19,
   "id": "fd691165-3d64-46de-a3ef-968474df540e",
   "metadata": {},
   "outputs": [
    {
     "name": "stdout",
     "output_type": "stream",
     "text": [
      "2019-05-31    42500\n",
      "2019-05-30    42550\n",
      "2019-05-29    41800\n",
      "2019-05-28    42550\n",
      "2019-05-27    42650\n",
      "dtype: int64\n"
     ]
    }
   ],
   "source": [
    "price = [42500, 42550, 41800, 42550, 42650]\n",
    "data = [\"2019-05-31\", \"2019-05-30\", \"2019-05-29\", \"2019-05-28\", \"2019-05-27\"]\n",
    "s = Series(price, data)\n",
    "print(s)"
   ]
  },
  {
   "cell_type": "code",
   "execution_count": 20,
   "id": "ba36fcbc-0e08-40b4-9cec-433848572474",
   "metadata": {},
   "outputs": [],
   "source": [
    "#딕셔너리 사용(key가 인덱스, value가 데이터) (key :value)\n",
    "data = {\n",
    "    \"2019-05-31\" : 42500,\n",
    "    \"2019-05-30\" : 42550,\n",
    "    \"2019-05-29\" : 41800, \n",
    "    \"2019-05-28\" : 42550, \n",
    "    \"2019-05-27\" : 42650\n",
    "}\n",
    "s = Series(data)"
   ]
  },
  {
   "cell_type": "code",
   "execution_count": 22,
   "id": "a66de34b-396d-4dc0-b49f-b2f7b2b99605",
   "metadata": {},
   "outputs": [
    {
     "name": "stdout",
     "output_type": "stream",
     "text": [
      "Index(['2019-05-31', '2019-05-30', '2019-05-29', '2019-05-28', '2019-05-27'], dtype='object')\n",
      "object\n"
     ]
    }
   ],
   "source": [
    "#시리즈 객체는 index와 values라는 속성을 통해 인덱스와 값 분리 가능\n",
    "print(s.index)\n",
    "print(s.index.dtype)"
   ]
  },
  {
   "cell_type": "code",
   "execution_count": 23,
   "id": "4a4f18f7-9e96-4534-8aad-44d99cf97193",
   "metadata": {},
   "outputs": [
    {
     "name": "stdout",
     "output_type": "stream",
     "text": [
      "[42500 42550 41800 42550 42650]\n"
     ]
    }
   ],
   "source": [
    "print(s.values)\n",
    "#데이터 사이에 콤마가 없음 -> ndarray"
   ]
  },
  {
   "cell_type": "code",
   "execution_count": 24,
   "id": "9fe75916-a795-4075-bfd8-440267776b91",
   "metadata": {},
   "outputs": [
    {
     "name": "stdout",
     "output_type": "stream",
     "text": [
      "1000\n",
      "2000\n",
      "3000\n",
      "3000\n"
     ]
    }
   ],
   "source": [
    "#시리즈 인덱싱: 행 번호와 인덱스를 사용해서 자료구조 속 하나의 값에 접근\n",
    "#인덱스 이외에서 행 번호가 자동으로 부여됨\n",
    "#iloc 연산: 행 번호 사용 인덱싱, loc 연산: 인덱스 사용 인덱싱\n",
    "\n",
    "#iloc 연산\n",
    "from pandas import Series #시리즈 생성\n",
    "\n",
    "data = [1000, 2000, 3000]\n",
    "s = Series(data=data) #keyword argument: 파라미터 직접 지정\n",
    "\n",
    "print(s.iloc[0]) #0은 첫 시작 위치를 뜻함\n",
    "print(s.iloc[1])\n",
    "print(s.iloc[2])\n",
    "print(s.iloc[-1]) #-1은 가장 마지막 위치"
   ]
  },
  {
   "cell_type": "code",
   "execution_count": 26,
   "id": "f9d7f2d0-97b9-4091-b12e-b877a61e4831",
   "metadata": {},
   "outputs": [
    {
     "name": "stdout",
     "output_type": "stream",
     "text": [
      "1000\n",
      "2000\n",
      "3000\n"
     ]
    },
    {
     "ename": "KeyError",
     "evalue": "-1",
     "output_type": "error",
     "traceback": [
      "\u001b[1;31m---------------------------------------------------------------------------\u001b[0m",
      "\u001b[1;31mValueError\u001b[0m                                Traceback (most recent call last)",
      "File \u001b[1;32mC:\\ProgramData\\anaconda3\\Lib\\site-packages\\pandas\\core\\indexes\\range.py:413\u001b[0m, in \u001b[0;36mRangeIndex.get_loc\u001b[1;34m(self, key)\u001b[0m\n\u001b[0;32m    412\u001b[0m \u001b[38;5;28;01mtry\u001b[39;00m:\n\u001b[1;32m--> 413\u001b[0m     \u001b[38;5;28;01mreturn\u001b[39;00m \u001b[38;5;28mself\u001b[39m\u001b[38;5;241m.\u001b[39m_range\u001b[38;5;241m.\u001b[39mindex(new_key)\n\u001b[0;32m    414\u001b[0m \u001b[38;5;28;01mexcept\u001b[39;00m \u001b[38;5;167;01mValueError\u001b[39;00m \u001b[38;5;28;01mas\u001b[39;00m err:\n",
      "\u001b[1;31mValueError\u001b[0m: -1 is not in range",
      "\nThe above exception was the direct cause of the following exception:\n",
      "\u001b[1;31mKeyError\u001b[0m                                  Traceback (most recent call last)",
      "Cell \u001b[1;32mIn[26], line 10\u001b[0m\n\u001b[0;32m      8\u001b[0m \u001b[38;5;28mprint\u001b[39m(s\u001b[38;5;241m.\u001b[39mloc[\u001b[38;5;241m1\u001b[39m])\n\u001b[0;32m      9\u001b[0m \u001b[38;5;28mprint\u001b[39m(s\u001b[38;5;241m.\u001b[39mloc[\u001b[38;5;241m2\u001b[39m])\n\u001b[1;32m---> 10\u001b[0m \u001b[38;5;28mprint\u001b[39m(s\u001b[38;5;241m.\u001b[39mloc[\u001b[38;5;241m-\u001b[39m\u001b[38;5;241m1\u001b[39m])\n",
      "File \u001b[1;32mC:\\ProgramData\\anaconda3\\Lib\\site-packages\\pandas\\core\\indexing.py:1191\u001b[0m, in \u001b[0;36m_LocationIndexer.__getitem__\u001b[1;34m(self, key)\u001b[0m\n\u001b[0;32m   1189\u001b[0m maybe_callable \u001b[38;5;241m=\u001b[39m com\u001b[38;5;241m.\u001b[39mapply_if_callable(key, \u001b[38;5;28mself\u001b[39m\u001b[38;5;241m.\u001b[39mobj)\n\u001b[0;32m   1190\u001b[0m maybe_callable \u001b[38;5;241m=\u001b[39m \u001b[38;5;28mself\u001b[39m\u001b[38;5;241m.\u001b[39m_check_deprecated_callable_usage(key, maybe_callable)\n\u001b[1;32m-> 1191\u001b[0m \u001b[38;5;28;01mreturn\u001b[39;00m \u001b[38;5;28mself\u001b[39m\u001b[38;5;241m.\u001b[39m_getitem_axis(maybe_callable, axis\u001b[38;5;241m=\u001b[39maxis)\n",
      "File \u001b[1;32mC:\\ProgramData\\anaconda3\\Lib\\site-packages\\pandas\\core\\indexing.py:1431\u001b[0m, in \u001b[0;36m_LocIndexer._getitem_axis\u001b[1;34m(self, key, axis)\u001b[0m\n\u001b[0;32m   1429\u001b[0m \u001b[38;5;66;03m# fall thru to straight lookup\u001b[39;00m\n\u001b[0;32m   1430\u001b[0m \u001b[38;5;28mself\u001b[39m\u001b[38;5;241m.\u001b[39m_validate_key(key, axis)\n\u001b[1;32m-> 1431\u001b[0m \u001b[38;5;28;01mreturn\u001b[39;00m \u001b[38;5;28mself\u001b[39m\u001b[38;5;241m.\u001b[39m_get_label(key, axis\u001b[38;5;241m=\u001b[39maxis)\n",
      "File \u001b[1;32mC:\\ProgramData\\anaconda3\\Lib\\site-packages\\pandas\\core\\indexing.py:1381\u001b[0m, in \u001b[0;36m_LocIndexer._get_label\u001b[1;34m(self, label, axis)\u001b[0m\n\u001b[0;32m   1379\u001b[0m \u001b[38;5;28;01mdef\u001b[39;00m \u001b[38;5;21m_get_label\u001b[39m(\u001b[38;5;28mself\u001b[39m, label, axis: AxisInt):\n\u001b[0;32m   1380\u001b[0m     \u001b[38;5;66;03m# GH#5567 this will fail if the label is not present in the axis.\u001b[39;00m\n\u001b[1;32m-> 1381\u001b[0m     \u001b[38;5;28;01mreturn\u001b[39;00m \u001b[38;5;28mself\u001b[39m\u001b[38;5;241m.\u001b[39mobj\u001b[38;5;241m.\u001b[39mxs(label, axis\u001b[38;5;241m=\u001b[39maxis)\n",
      "File \u001b[1;32mC:\\ProgramData\\anaconda3\\Lib\\site-packages\\pandas\\core\\generic.py:4301\u001b[0m, in \u001b[0;36mNDFrame.xs\u001b[1;34m(self, key, axis, level, drop_level)\u001b[0m\n\u001b[0;32m   4299\u001b[0m             new_index \u001b[38;5;241m=\u001b[39m index[loc]\n\u001b[0;32m   4300\u001b[0m \u001b[38;5;28;01melse\u001b[39;00m:\n\u001b[1;32m-> 4301\u001b[0m     loc \u001b[38;5;241m=\u001b[39m index\u001b[38;5;241m.\u001b[39mget_loc(key)\n\u001b[0;32m   4303\u001b[0m     \u001b[38;5;28;01mif\u001b[39;00m \u001b[38;5;28misinstance\u001b[39m(loc, np\u001b[38;5;241m.\u001b[39mndarray):\n\u001b[0;32m   4304\u001b[0m         \u001b[38;5;28;01mif\u001b[39;00m loc\u001b[38;5;241m.\u001b[39mdtype \u001b[38;5;241m==\u001b[39m np\u001b[38;5;241m.\u001b[39mbool_:\n",
      "File \u001b[1;32mC:\\ProgramData\\anaconda3\\Lib\\site-packages\\pandas\\core\\indexes\\range.py:415\u001b[0m, in \u001b[0;36mRangeIndex.get_loc\u001b[1;34m(self, key)\u001b[0m\n\u001b[0;32m    413\u001b[0m         \u001b[38;5;28;01mreturn\u001b[39;00m \u001b[38;5;28mself\u001b[39m\u001b[38;5;241m.\u001b[39m_range\u001b[38;5;241m.\u001b[39mindex(new_key)\n\u001b[0;32m    414\u001b[0m     \u001b[38;5;28;01mexcept\u001b[39;00m \u001b[38;5;167;01mValueError\u001b[39;00m \u001b[38;5;28;01mas\u001b[39;00m err:\n\u001b[1;32m--> 415\u001b[0m         \u001b[38;5;28;01mraise\u001b[39;00m \u001b[38;5;167;01mKeyError\u001b[39;00m(key) \u001b[38;5;28;01mfrom\u001b[39;00m \u001b[38;5;21;01merr\u001b[39;00m\n\u001b[0;32m    416\u001b[0m \u001b[38;5;28;01mif\u001b[39;00m \u001b[38;5;28misinstance\u001b[39m(key, Hashable):\n\u001b[0;32m    417\u001b[0m     \u001b[38;5;28;01mraise\u001b[39;00m \u001b[38;5;167;01mKeyError\u001b[39;00m(key)\n",
      "\u001b[1;31mKeyError\u001b[0m: -1"
     ]
    }
   ],
   "source": [
    "#loc 연산\n",
    "from pandas import Series #시리즈 생성\n",
    "\n",
    "data = [1000, 2000, 3000]\n",
    "s = Series(data=data) #keyword argument: 파라미터 직접 지정\n",
    "\n",
    "print(s.loc[0])\n",
    "print(s.loc[1])\n",
    "print(s.loc[2])\n",
    "print(s.loc[-1]) #질문2: 왜 여기서만 에러가 나지?"
   ]
  },
  {
   "cell_type": "code",
   "execution_count": 28,
   "id": "1102adbb-79b6-4466-9702-9595d90fb321",
   "metadata": {},
   "outputs": [
    {
     "name": "stdout",
     "output_type": "stream",
     "text": [
      "1000\n",
      "1000\n"
     ]
    }
   ],
   "source": [
    "data = [1000, 2000, 3000]\n",
    "index = [\"메로나\", \"구구콘\", \"하겐다즈\"]\n",
    "s = Series(data=data, index=index)\n",
    "\n",
    "print(s.iloc[0])\n",
    "print(s.loc['메로나'])"
   ]
  },
  {
   "cell_type": "code",
   "execution_count": 29,
   "id": "749386fa-c624-4bb3-beac-88e00c4bbd5d",
   "metadata": {},
   "outputs": [
    {
     "name": "stdout",
     "output_type": "stream",
     "text": [
      "1000\n",
      "1000\n"
     ]
    }
   ],
   "source": [
    "data = [1000, 2000, 3000]\n",
    "index = [\"메로나\", \"구구콘\", \"하겐다즈\"]\n",
    "s = Series(data=data, index=index)\n",
    "\n",
    "#인덱싱 기호 '[]'만을 사용해서 인덱싱 가능. 시리즈가 알맞은 데이터 찾아서 반환\n",
    "print(s[0])\n",
    "print(s['메로나'])"
   ]
  },
  {
   "cell_type": "code",
   "execution_count": 30,
   "id": "078c9cf7-8aa3-4ef6-a562-bec9a14dee0b",
   "metadata": {},
   "outputs": [
    {
     "ename": "TypeError",
     "evalue": "list indices must be integers or slices, not tuple",
     "output_type": "error",
     "traceback": [
      "\u001b[1;31m---------------------------------------------------------------------------\u001b[0m",
      "\u001b[1;31mTypeError\u001b[0m                                 Traceback (most recent call last)",
      "Cell \u001b[1;32mIn[30], line 3\u001b[0m\n\u001b[0;32m      1\u001b[0m \u001b[38;5;66;03m#[]기호는 내부적으로 loc메서드 호출하니까 조심해서 사용\u001b[39;00m\n\u001b[0;32m      2\u001b[0m s1 \u001b[38;5;241m=\u001b[39m Series([\u001b[38;5;241m10\u001b[39m, \u001b[38;5;241m20\u001b[39m, \u001b[38;5;241m30\u001b[39m])\n\u001b[1;32m----> 3\u001b[0m s2 \u001b[38;5;241m=\u001b[39m Series([\u001b[38;5;241m10\u001b[39m, \u001b[38;5;241m20\u001b[39m, \u001b[38;5;241m30\u001b[39m], index[\u001b[38;5;241m1\u001b[39m, \u001b[38;5;241m2\u001b[39m, \u001b[38;5;241m3\u001b[39m])\n\u001b[0;32m      4\u001b[0m \u001b[38;5;28mprint\u001b[39m(s1[\u001b[38;5;241m0\u001b[39m]) \n\u001b[0;32m      5\u001b[0m \u001b[38;5;28mprint\u001b[39m(s2[\u001b[38;5;241m0\u001b[39m])\n",
      "\u001b[1;31mTypeError\u001b[0m: list indices must be integers or slices, not tuple"
     ]
    }
   ],
   "source": [
    "#기본적으로 []기호는 내부적으로 loc메서드 호출하니까 조심해서 사용\n",
    "s1 = Series([10, 20, 30])\n",
    "s2 = Series([10, 20, 30], index[1, 2, 3])\n",
    "print(s1[0]) \n",
    "print(s2[0]) #인덱스가 각각 맵핑되어있는데, 인덱스 0은 없어 에러 발생"
   ]
  },
  {
   "cell_type": "code",
   "execution_count": 31,
   "id": "cf66ec77-9bd0-442f-91de-3e267383a950",
   "metadata": {},
   "outputs": [
    {
     "name": "stdout",
     "output_type": "stream",
     "text": [
      "10\n"
     ]
    }
   ],
   "source": [
    "#인덱스의 타입이 정수가 아닌 경우에 정수와 함께 [] 인덱싱 사용하면 iloc연산처럼 동작\n",
    "s3 = Series([10, 20, 30], index=['a', 'b', 'c'])\n",
    "print(s3[0])"
   ]
  },
  {
   "cell_type": "code",
   "execution_count": 32,
   "id": "344ca1f4-84de-416e-9bd7-4a391b25e652",
   "metadata": {},
   "outputs": [
    {
     "name": "stdout",
     "output_type": "stream",
     "text": [
      "a\n",
      "c\n"
     ]
    }
   ],
   "source": [
    "#시리즈의 인덱스에서도 [] 인덱싱 사용 가능\n",
    "print(s3.index[0])\n",
    "print(s3.index[-1])"
   ]
  },
  {
   "cell_type": "code",
   "execution_count": 33,
   "id": "63fce64c-4ea7-4838-b8b0-9a441f8d132f",
   "metadata": {},
   "outputs": [
    {
     "name": "stdout",
     "output_type": "stream",
     "text": [
      "메로나    1000\n",
      "구구콘    2000\n",
      "dtype: int64\n"
     ]
    }
   ],
   "source": [
    "#시리즈 슬라이싱: 연속적인 범위의 값을 가져옴(iloc,loc,[] 사용)\n",
    "from pandas import Series\n",
    "\n",
    "data = [1000, 2000, 3000]\n",
    "index = [\"메로나\", \"구구콘\", \"하겐다즈\"]\n",
    "s = Series(data=data, index=index)\n",
    "print(s.iloc[0:2]) #질문3: 왜 2값이 안 나오지?"
   ]
  },
  {
   "cell_type": "code",
   "execution_count": 34,
   "id": "c1377485-7564-42bc-a42a-fd6068689374",
   "metadata": {},
   "outputs": [
    {
     "name": "stdout",
     "output_type": "stream",
     "text": [
      "메로나    1000\n",
      "구구콘    2000\n",
      "dtype: int64\n"
     ]
    }
   ],
   "source": [
    "data = [1000, 2000, 3000]\n",
    "index = [\"메로나\", \"구구콘\", \"하겐다즈\"]\n",
    "s = Series(data=data, index=index)\n",
    "\n",
    "print(s.loc['메로나':'구구콘'])"
   ]
  },
  {
   "cell_type": "code",
   "execution_count": 35,
   "id": "f67be398-f113-4fc7-965a-3e4513dd603b",
   "metadata": {},
   "outputs": [
    {
     "name": "stdout",
     "output_type": "stream",
     "text": [
      "메로나     1000\n",
      "하겐다즈    3000\n",
      "dtype: int64\n",
      "메로나     1000\n",
      "하겐다즈    3000\n",
      "dtype: int64\n"
     ]
    }
   ],
   "source": [
    "data = [1000, 2000, 3000]\n",
    "index = [\"메로나\", \"구구콘\", \"하겐다즈\"]\n",
    "s = Series(data=data, index=index)\n",
    "\n",
    "indice = [0, 2]\n",
    "print(s.iloc[ indice ])\n",
    "print(s.iloc[ [0,2] ]) #바깥쪽 대괄호는 인덱싱 기호, 안쪽 대괄호는 리스트 기호"
   ]
  },
  {
   "cell_type": "code",
   "execution_count": 36,
   "id": "a618c75e-be85-4063-a2fc-cc668da6cff9",
   "metadata": {},
   "outputs": [
    {
     "name": "stdout",
     "output_type": "stream",
     "text": [
      "메로나     1000\n",
      "하겐다즈    3000\n",
      "dtype: int64\n",
      "메로나     1000\n",
      "하겐다즈    3000\n",
      "dtype: int64\n"
     ]
    }
   ],
   "source": [
    "data = [1000, 2000, 3000]\n",
    "index = [\"메로나\", \"구구콘\", \"하겐다즈\"]\n",
    "s = Series(data=data, index=index)\n",
    "\n",
    "indice = [\"메로나\", \"하겐다즈\"]\n",
    "print(s.loc[indice])\n",
    "print(s.loc[[\"메로나\", \"하겐다즈\"]])"
   ]
  },
  {
   "cell_type": "code",
   "execution_count": 37,
   "id": "e5ae4f20-11e8-4e82-b9d1-54e715f5496e",
   "metadata": {},
   "outputs": [
    {
     "name": "stdout",
     "output_type": "stream",
     "text": [
      "메로나      500\n",
      "구구콘     2000\n",
      "하겐다즈    3000\n",
      "dtype: int64\n"
     ]
    }
   ],
   "source": [
    "#시리즈 수정/추가/삭제\n",
    "from pandas import Series\n",
    "\n",
    "data = [1000, 2000, 3000]\n",
    "index = [\"메로나\", \"구구콘\", \"하겐다즈\"]\n",
    "s = Series(data=data, index=index)\n",
    "\n",
    "s.loc['메로나'] = 500 #값 수정\n",
    "#s.iloc[0] = 500\n",
    "#s['메로나'] = 500\n",
    "print(s)"
   ]
  },
  {
   "cell_type": "code",
   "execution_count": 38,
   "id": "67b0efd8-2a6d-47d3-a9c9-8550ae053c39",
   "metadata": {},
   "outputs": [
    {
     "name": "stdout",
     "output_type": "stream",
     "text": [
      "메로나      500\n",
      "구구콘     2000\n",
      "하겐다즈    3000\n",
      "비비빅      500\n",
      "dtype: int64\n"
     ]
    }
   ],
   "source": [
    "s.loc['비비빅'] =500 #값 추가\n",
    "print(s)"
   ]
  },
  {
   "cell_type": "code",
   "execution_count": 39,
   "id": "b0a68430-ce5d-4f64-9f29-d95cbdfd7279",
   "metadata": {},
   "outputs": [
    {
     "name": "stdout",
     "output_type": "stream",
     "text": [
      "구구콘     2000\n",
      "하겐다즈    3000\n",
      "비비빅      500\n",
      "dtype: int64\n"
     ]
    },
    {
     "ename": "KeyError",
     "evalue": "'[0] not found in axis'",
     "output_type": "error",
     "traceback": [
      "\u001b[1;31m---------------------------------------------------------------------------\u001b[0m",
      "\u001b[1;31mKeyError\u001b[0m                                  Traceback (most recent call last)",
      "Cell \u001b[1;32mIn[39], line 2\u001b[0m\n\u001b[0;32m      1\u001b[0m \u001b[38;5;28mprint\u001b[39m(s\u001b[38;5;241m.\u001b[39mdrop(\u001b[38;5;124m'\u001b[39m\u001b[38;5;124m메로나\u001b[39m\u001b[38;5;124m'\u001b[39m)) \u001b[38;5;66;03m#값 삭제: drop 메서드 사용\u001b[39;00m\n\u001b[1;32m----> 2\u001b[0m \u001b[38;5;28mprint\u001b[39m(s\u001b[38;5;241m.\u001b[39mdrop(\u001b[38;5;241m0\u001b[39m))\n",
      "File \u001b[1;32mC:\\ProgramData\\anaconda3\\Lib\\site-packages\\pandas\\core\\series.py:5356\u001b[0m, in \u001b[0;36mSeries.drop\u001b[1;34m(self, labels, axis, index, columns, level, inplace, errors)\u001b[0m\n\u001b[0;32m   5259\u001b[0m \u001b[38;5;28;01mdef\u001b[39;00m \u001b[38;5;21mdrop\u001b[39m(\n\u001b[0;32m   5260\u001b[0m     \u001b[38;5;28mself\u001b[39m,\n\u001b[0;32m   5261\u001b[0m     labels: IndexLabel \u001b[38;5;241m|\u001b[39m \u001b[38;5;28;01mNone\u001b[39;00m \u001b[38;5;241m=\u001b[39m \u001b[38;5;28;01mNone\u001b[39;00m,\n\u001b[1;32m   (...)\u001b[0m\n\u001b[0;32m   5268\u001b[0m     errors: IgnoreRaise \u001b[38;5;241m=\u001b[39m \u001b[38;5;124m\"\u001b[39m\u001b[38;5;124mraise\u001b[39m\u001b[38;5;124m\"\u001b[39m,\n\u001b[0;32m   5269\u001b[0m ) \u001b[38;5;241m-\u001b[39m\u001b[38;5;241m>\u001b[39m Series \u001b[38;5;241m|\u001b[39m \u001b[38;5;28;01mNone\u001b[39;00m:\n\u001b[0;32m   5270\u001b[0m \u001b[38;5;250m    \u001b[39m\u001b[38;5;124;03m\"\"\"\u001b[39;00m\n\u001b[0;32m   5271\u001b[0m \u001b[38;5;124;03m    Return Series with specified index labels removed.\u001b[39;00m\n\u001b[0;32m   5272\u001b[0m \n\u001b[1;32m   (...)\u001b[0m\n\u001b[0;32m   5354\u001b[0m \u001b[38;5;124;03m    dtype: float64\u001b[39;00m\n\u001b[0;32m   5355\u001b[0m \u001b[38;5;124;03m    \"\"\"\u001b[39;00m\n\u001b[1;32m-> 5356\u001b[0m     \u001b[38;5;28;01mreturn\u001b[39;00m \u001b[38;5;28msuper\u001b[39m()\u001b[38;5;241m.\u001b[39mdrop(\n\u001b[0;32m   5357\u001b[0m         labels\u001b[38;5;241m=\u001b[39mlabels,\n\u001b[0;32m   5358\u001b[0m         axis\u001b[38;5;241m=\u001b[39maxis,\n\u001b[0;32m   5359\u001b[0m         index\u001b[38;5;241m=\u001b[39mindex,\n\u001b[0;32m   5360\u001b[0m         columns\u001b[38;5;241m=\u001b[39mcolumns,\n\u001b[0;32m   5361\u001b[0m         level\u001b[38;5;241m=\u001b[39mlevel,\n\u001b[0;32m   5362\u001b[0m         inplace\u001b[38;5;241m=\u001b[39minplace,\n\u001b[0;32m   5363\u001b[0m         errors\u001b[38;5;241m=\u001b[39merrors,\n\u001b[0;32m   5364\u001b[0m     )\n",
      "File \u001b[1;32mC:\\ProgramData\\anaconda3\\Lib\\site-packages\\pandas\\core\\generic.py:4788\u001b[0m, in \u001b[0;36mNDFrame.drop\u001b[1;34m(self, labels, axis, index, columns, level, inplace, errors)\u001b[0m\n\u001b[0;32m   4786\u001b[0m \u001b[38;5;28;01mfor\u001b[39;00m axis, labels \u001b[38;5;129;01min\u001b[39;00m axes\u001b[38;5;241m.\u001b[39mitems():\n\u001b[0;32m   4787\u001b[0m     \u001b[38;5;28;01mif\u001b[39;00m labels \u001b[38;5;129;01mis\u001b[39;00m \u001b[38;5;129;01mnot\u001b[39;00m \u001b[38;5;28;01mNone\u001b[39;00m:\n\u001b[1;32m-> 4788\u001b[0m         obj \u001b[38;5;241m=\u001b[39m obj\u001b[38;5;241m.\u001b[39m_drop_axis(labels, axis, level\u001b[38;5;241m=\u001b[39mlevel, errors\u001b[38;5;241m=\u001b[39merrors)\n\u001b[0;32m   4790\u001b[0m \u001b[38;5;28;01mif\u001b[39;00m inplace:\n\u001b[0;32m   4791\u001b[0m     \u001b[38;5;28mself\u001b[39m\u001b[38;5;241m.\u001b[39m_update_inplace(obj)\n",
      "File \u001b[1;32mC:\\ProgramData\\anaconda3\\Lib\\site-packages\\pandas\\core\\generic.py:4830\u001b[0m, in \u001b[0;36mNDFrame._drop_axis\u001b[1;34m(self, labels, axis, level, errors, only_slice)\u001b[0m\n\u001b[0;32m   4828\u001b[0m         new_axis \u001b[38;5;241m=\u001b[39m axis\u001b[38;5;241m.\u001b[39mdrop(labels, level\u001b[38;5;241m=\u001b[39mlevel, errors\u001b[38;5;241m=\u001b[39merrors)\n\u001b[0;32m   4829\u001b[0m     \u001b[38;5;28;01melse\u001b[39;00m:\n\u001b[1;32m-> 4830\u001b[0m         new_axis \u001b[38;5;241m=\u001b[39m axis\u001b[38;5;241m.\u001b[39mdrop(labels, errors\u001b[38;5;241m=\u001b[39merrors)\n\u001b[0;32m   4831\u001b[0m     indexer \u001b[38;5;241m=\u001b[39m axis\u001b[38;5;241m.\u001b[39mget_indexer(new_axis)\n\u001b[0;32m   4833\u001b[0m \u001b[38;5;66;03m# Case for non-unique axis\u001b[39;00m\n\u001b[0;32m   4834\u001b[0m \u001b[38;5;28;01melse\u001b[39;00m:\n",
      "File \u001b[1;32mC:\\ProgramData\\anaconda3\\Lib\\site-packages\\pandas\\core\\indexes\\base.py:7070\u001b[0m, in \u001b[0;36mIndex.drop\u001b[1;34m(self, labels, errors)\u001b[0m\n\u001b[0;32m   7068\u001b[0m \u001b[38;5;28;01mif\u001b[39;00m mask\u001b[38;5;241m.\u001b[39many():\n\u001b[0;32m   7069\u001b[0m     \u001b[38;5;28;01mif\u001b[39;00m errors \u001b[38;5;241m!=\u001b[39m \u001b[38;5;124m\"\u001b[39m\u001b[38;5;124mignore\u001b[39m\u001b[38;5;124m\"\u001b[39m:\n\u001b[1;32m-> 7070\u001b[0m         \u001b[38;5;28;01mraise\u001b[39;00m \u001b[38;5;167;01mKeyError\u001b[39;00m(\u001b[38;5;124mf\u001b[39m\u001b[38;5;124m\"\u001b[39m\u001b[38;5;132;01m{\u001b[39;00mlabels[mask]\u001b[38;5;241m.\u001b[39mtolist()\u001b[38;5;132;01m}\u001b[39;00m\u001b[38;5;124m not found in axis\u001b[39m\u001b[38;5;124m\"\u001b[39m)\n\u001b[0;32m   7071\u001b[0m     indexer \u001b[38;5;241m=\u001b[39m indexer[\u001b[38;5;241m~\u001b[39mmask]\n\u001b[0;32m   7072\u001b[0m \u001b[38;5;28;01mreturn\u001b[39;00m \u001b[38;5;28mself\u001b[39m\u001b[38;5;241m.\u001b[39mdelete(indexer)\n",
      "\u001b[1;31mKeyError\u001b[0m: '[0] not found in axis'"
     ]
    }
   ],
   "source": [
    "print(s.drop('메로나')) #값 삭제: drop 메서드 사용\n",
    "print(s.drop(0)) #drop 메서드는 꼭 시리즈의 인덱스만 사용!"
   ]
  },
  {
   "cell_type": "code",
   "execution_count": 40,
   "id": "43cd7281-49f7-4bce-90b7-7a11701fdab7",
   "metadata": {},
   "outputs": [
    {
     "name": "stdout",
     "output_type": "stream",
     "text": [
      "구구콘     2000\n",
      "하겐다즈    3000\n",
      "비비빅      500\n",
      "dtype: int64\n"
     ]
    }
   ],
   "source": [
    "#안전하게 삭제하기: drop 메서드 호출 후 변수에 바인딩하도록 코드 작성하기\n",
    "s = s.drop('메로나')\n",
    "print(s)\n",
    "#이 방법으로 코드 작성하기!!"
   ]
  },
  {
   "cell_type": "code",
   "execution_count": 41,
   "id": "7f27ccde-f439-4942-aa9b-348b7dafa181",
   "metadata": {},
   "outputs": [
    {
     "name": "stdout",
     "output_type": "stream",
     "text": [
      "KT       60.0\n",
      "NAVER     NaN\n",
      "Naver     NaN\n",
      "SKT      30.0\n",
      "dtype: float64\n"
     ]
    }
   ],
   "source": [
    "#시리즈 연산: 브로드캐스팅 적용. 같은 인덱스를갖는 데이터끼리 연산\n",
    "from pandas import Series\n",
    "\n",
    "철수 = Series([10, 20, 30], index=['Naver', 'SKT', 'KT'])\n",
    "영희 = Series([10, 30, 20], index=['SKT', 'KT', 'NAVER'])\n",
    "가족 = 철수 + 영희\n",
    "print(가족)"
   ]
  },
  {
   "cell_type": "code",
   "execution_count": 42,
   "id": "e225e7e5-0b3a-4e06-bbd8-0256ef7a5041",
   "metadata": {},
   "outputs": [
    {
     "name": "stdout",
     "output_type": "stream",
     "text": [
      "Naver    100\n",
      "SKT      200\n",
      "KT       300\n",
      "dtype: int64\n"
     ]
    }
   ],
   "source": [
    "print(철수 * 10)"
   ]
  },
  {
   "cell_type": "code",
   "execution_count": 43,
   "id": "8583ec1a-e2f5-4a28-9c8e-5462b69e5c8a",
   "metadata": {},
   "outputs": [
    {
     "name": "stdout",
     "output_type": "stream",
     "text": [
      "0    650\n",
      "1    550\n",
      "2    750\n",
      "3    800\n",
      "4    650\n",
      "dtype: int64\n"
     ]
    }
   ],
   "source": [
    "high = Series([42800, 42700, 42050, 42950, 43000])\n",
    "low = Series([42150, 42150, 41300, 42150, 42350])\n",
    "\n",
    "diff = high - low\n",
    "print(diff)"
   ]
  },
  {
   "cell_type": "code",
   "execution_count": 44,
   "id": "a8fafc58-a20f-4231-9a9b-2650dd420b07",
   "metadata": {},
   "outputs": [
    {
     "name": "stdout",
     "output_type": "stream",
     "text": [
      "800\n"
     ]
    }
   ],
   "source": [
    "print(diff.max())"
   ]
  },
  {
   "cell_type": "code",
   "execution_count": 45,
   "id": "f1c37eb4-320b-4222-ac00-83fc1b76ea47",
   "metadata": {},
   "outputs": [
    {
     "name": "stdout",
     "output_type": "stream",
     "text": [
      "6/1    650\n",
      "6/2    550\n",
      "6/3    750\n",
      "6/4    800\n",
      "6/5    650\n",
      "dtype: int64\n"
     ]
    }
   ],
   "source": [
    "date = [\"6/1\", \"6/2\", \"6/3\", \"6/4\", \"6/5\"]\n",
    "high = Series([42800, 42700, 42050, 42950, 43000], index=date)\n",
    "low = Series([42150, 42150, 41300, 42150, 42350] , index=date)\n",
    "diff = high - low\n",
    "print(diff)"
   ]
  },
  {
   "cell_type": "code",
   "execution_count": 46,
   "id": "8349e25b-54b2-4d21-8f5b-fbf1375a22c4",
   "metadata": {},
   "outputs": [
    {
     "name": "stdout",
     "output_type": "stream",
     "text": [
      "3\n",
      "6/4\n"
     ]
    }
   ],
   "source": [
    "max_idx = 0 #가장 큰 값이 있는 인덱스 저장할 변수 초기화\n",
    "max_val = 0 #현재까지의 최대값 저장할 변수 초기화\n",
    "\n",
    "for i in range(len(diff)): #diff배열의 길이만큼 반복\n",
    "    if diff[i] > max_val: \n",
    "        max_val = diff[i] #diff[i]가 더 크면 그 값을 최대값으로 업데이트\n",
    "        max_idx = i #그 값이 있는 인덱스를 저장\n",
    "\n",
    "print(max_idx)\n",
    "print(diff.index[max_idx])   "
   ]
  },
  {
   "cell_type": "code",
   "execution_count": 47,
   "id": "e59dbea1-61cd-4a8d-bf77-f8f39e8da187",
   "metadata": {},
   "outputs": [
    {
     "name": "stdout",
     "output_type": "stream",
     "text": [
      "6/4\n",
      "6/2\n"
     ]
    }
   ],
   "source": [
    "#메서드 호출. 반복문 대신 메서드만 호출하면 됨\n",
    "print(diff.idxmax())\n",
    "print(diff.idxmin())"
   ]
  },
  {
   "cell_type": "code",
   "execution_count": 48,
   "id": "ae58d6f2-5ca4-481c-a580-a1d513de0538",
   "metadata": {},
   "outputs": [
    {
     "name": "stdout",
     "output_type": "stream",
     "text": [
      "6/1    1.015421\n",
      "6/2    1.013049\n",
      "6/3    1.018160\n",
      "6/4    1.018980\n",
      "6/5    1.015348\n",
      "dtype: float64\n"
     ]
    }
   ],
   "source": [
    "date = [\"6/1\", \"6/2\", \"6/3\", \"6/4\", \"6/5\"]\n",
    "high = Series([42800, 42700, 42050, 42950, 43000], index=date)\n",
    "low = Series([42150, 42150, 41300, 42150, 42350] , index=date)\n",
    "profit = high / low\n",
    "print(profit)"
   ]
  },
  {
   "cell_type": "code",
   "execution_count": 49,
   "id": "27a49e02-16ff-45f3-b4a2-6696abcd7e63",
   "metadata": {},
   "outputs": [
    {
     "name": "stdout",
     "output_type": "stream",
     "text": [
      "6/1    1.015421\n",
      "6/2    1.028671\n",
      "6/3    1.047351\n",
      "6/4    1.067230\n",
      "6/5    1.083610\n",
      "dtype: float64\n"
     ]
    }
   ],
   "source": [
    "#누적수익률 = 모든 수익률을 누적해서 곱함\n",
    "#cumprod메서드\n",
    "print(profit.cumprod())"
   ]
  },
  {
   "cell_type": "code",
   "execution_count": 51,
   "id": "aedfa3b2-476d-4c90-8cf8-f22ba0644a17",
   "metadata": {},
   "outputs": [
    {
     "name": "stdout",
     "output_type": "stream",
     "text": [
      "1.0836101509172456\n"
     ]
    }
   ],
   "source": [
    "#cumprod 메서드를 적용한 결과가 다시 시리즈이니 인덱싱으로 하나의 값 가져오기 가능\n",
    "print(profit.cumprod().iloc[-1])"
   ]
  },
  {
   "cell_type": "code",
   "execution_count": 52,
   "id": "df8495b5-3a15-48aa-a1ff-1ad43bd61654",
   "metadata": {},
   "outputs": [],
   "source": [
    "#유일한 값 뽑아내고 데이터 개수 카운트하는 법\n",
    "data = {\n",
    "    \"삼성전자\": \"전기,전자\",\n",
    "    \"LG전자\": \"전기,전자\",\n",
    "    \"현대차\": \"운수장비\",\n",
    "    \"NAVER\": \"서비스업\",\n",
    "    \"카카오\": \"서비스업\"\n",
    "}\n",
    "s = Series(data)"
   ]
  },
  {
   "cell_type": "code",
   "execution_count": 53,
   "id": "803545d4-6cf1-47c1-93de-b88764984e45",
   "metadata": {},
   "outputs": [
    {
     "name": "stdout",
     "output_type": "stream",
     "text": [
      "['전기,전자' '운수장비' '서비스업']\n"
     ]
    }
   ],
   "source": [
    "#중복 제거하고 업종 리스트 가져오기\n",
    "#unique 메서드\n",
    "print(s.unique())"
   ]
  },
  {
   "cell_type": "code",
   "execution_count": 54,
   "id": "4b8370c6-db83-4081-928c-5bfe0943938c",
   "metadata": {},
   "outputs": [
    {
     "data": {
      "text/plain": [
       "전기,전자    2\n",
       "서비스업     2\n",
       "운수장비     1\n",
       "Name: count, dtype: int64"
      ]
     },
     "execution_count": 54,
     "metadata": {},
     "output_type": "execute_result"
    }
   ],
   "source": [
    "#시리즈 안에 업종이 몇 번 존재하는지 횟수 세기\n",
    "#value_counts\n",
    "s.value_counts()"
   ]
  },
  {
   "cell_type": "code",
   "execution_count": 55,
   "id": "1fa288c4-79e6-44f0-aee9-5f212f9503f4",
   "metadata": {},
   "outputs": [
    {
     "name": "stdout",
     "output_type": "stream",
     "text": [
      "1,234 in function\n",
      "5,678 in function\n",
      "9,876 in function\n",
      "0    1,234\n",
      "1    5,678\n",
      "2    9,876\n",
      "dtype: object\n"
     ]
    }
   ],
   "source": [
    "#시리즈와 map 메서드: 파이썬이 제공하지 않는 기능을 시리즈에 적용\n",
    "def remove_comma(x) : #remove_comma: 파라미터를 한 개 입력받아 그 값을 그대로 리턴하는 함수\n",
    "    print(x, 'in function')\n",
    "    return x\n",
    "\n",
    "s = Series([\"1,234\", \"5,678\", \"9,876\"])\n",
    "result = s.map(remove_comma)\n",
    "print(result)"
   ]
  },
  {
   "cell_type": "code",
   "execution_count": 57,
   "id": "0202536e-79ba-48ec-b7f2-76f703456510",
   "metadata": {},
   "outputs": [
    {
     "name": "stdout",
     "output_type": "stream",
     "text": [
      "0    1234\n",
      "1    5678\n",
      "2    9876\n",
      "dtype: int64\n"
     ]
    }
   ],
   "source": [
    "from pandas import Series\n",
    "\n",
    "def remove_comma(x):\n",
    "    return int(x.replace(\",\",\"\")) #replace 메서드 #int: 정수형으로 변환\n",
    "\n",
    "s = Series([\"1,234\", \"5,678\", \"9,876\"])\n",
    "result = s.map(remove_comma)\n",
    "print(result)\n",
    "#dtype: int64은 정수형 데이터타입이라는 뜻"
   ]
  },
  {
   "cell_type": "code",
   "execution_count": 58,
   "id": "b356e2ca-6cb8-4b6e-aa26-5a72d6f85eda",
   "metadata": {},
   "outputs": [
    {
     "name": "stdout",
     "output_type": "stream",
     "text": [
      "0    작다\n",
      "1    크다\n",
      "2    크다\n",
      "dtype: object\n"
     ]
    }
   ],
   "source": [
    "def is_greater_than_5000(x):\n",
    "    if x > 5000:\n",
    "        return \"크다\"\n",
    "    else:\n",
    "        return \"작다\"\n",
    "\n",
    "s = Series([1234, 5678, 9876])\n",
    "s = s.map(is_greater_than_5000)\n",
    "print(s)"
   ]
  },
  {
   "cell_type": "code",
   "execution_count": 59,
   "id": "ae03ad52-012f-4f93-beed-8875131288df",
   "metadata": {},
   "outputs": [
    {
     "name": "stdout",
     "output_type": "stream",
     "text": [
      "2019-05-31     True\n",
      "2019-05-30     True\n",
      "2019-05-29    False\n",
      "2019-05-28     True\n",
      "2019-05-27     True\n",
      "dtype: bool\n"
     ]
    }
   ],
   "source": [
    "#시리즈 필터링 #비교연산\n",
    "\n",
    "from pandas import Series\n",
    "\n",
    "data = [42500, 42550, 41800, 42550, 42650]\n",
    "index = ['2019-05-31', '2019-05-30', '2019-05-29', '2019-05-28', '2019-05-27']\n",
    "s = Series(data=data, index=index)\n",
    "cond = s > 42000 #cond: T or F가 시리즈로 저장되어 있음 -> 이를 사용해 색인하는 걸 '불리언 인덱싱'\n",
    "print(cond)"
   ]
  },
  {
   "cell_type": "code",
   "execution_count": 60,
   "id": "a9121c16-8a79-47d6-9a3a-9532443be80f",
   "metadata": {},
   "outputs": [
    {
     "name": "stdout",
     "output_type": "stream",
     "text": [
      "2019-05-31    42500\n",
      "2019-05-30    42550\n",
      "2019-05-28    42550\n",
      "2019-05-27    42650\n",
      "dtype: int64\n"
     ]
    }
   ],
   "source": [
    "print(s[cond])"
   ]
  },
  {
   "cell_type": "code",
   "execution_count": 62,
   "id": "10bca863-b648-45dc-8acd-3866f3a85c77",
   "metadata": {},
   "outputs": [
    {
     "name": "stdout",
     "output_type": "stream",
     "text": [
      "2019-05-31    False\n",
      "2019-05-30     True\n",
      "2019-05-29    False\n",
      "2019-05-28    False\n",
      "2019-05-27     True\n",
      "dtype: bool\n"
     ]
    }
   ],
   "source": [
    "#시가와 종가를 시리즈 객체로 표현 후 종가>시가인지 비교\n",
    "close = [42500, 42550, 41800, 42550, 42650]\n",
    "open = [42600, 42200, 41850, 42550, 42500]\n",
    "index = ['2019-05-31', '2019-05-30', '2019-05-29', '2019-05-28', '2019-05-27']\n",
    "\n",
    "open = Series(data=open, index=index)\n",
    "close = Series(data=close, index=index)\n",
    "\n",
    "cond = close > open\n",
    "print(cond)"
   ]
  },
  {
   "cell_type": "code",
   "execution_count": 63,
   "id": "c3dca422-e141-4931-8cea-03e754d62bc8",
   "metadata": {},
   "outputs": [
    {
     "name": "stdout",
     "output_type": "stream",
     "text": [
      "2019-05-30    42550\n",
      "2019-05-27    42650\n",
      "dtype: int64\n"
     ]
    }
   ],
   "source": [
    "print(close[cond])"
   ]
  },
  {
   "cell_type": "code",
   "execution_count": 64,
   "id": "3d73b870-47c3-45f6-a0ac-e952b02c89c4",
   "metadata": {},
   "outputs": [
    {
     "name": "stdout",
     "output_type": "stream",
     "text": [
      "2019-05-30    42550\n",
      "2019-05-27    42650\n",
      "dtype: int64\n"
     ]
    }
   ],
   "source": [
    "print(close[close>open])"
   ]
  },
  {
   "cell_type": "code",
   "execution_count": 65,
   "id": "88214542-75fe-4350-af6f-f0392094c03e",
   "metadata": {},
   "outputs": [
    {
     "name": "stdout",
     "output_type": "stream",
     "text": [
      "Index(['2019-05-30', '2019-05-27'], dtype='object')\n",
      "Index(['2019-05-30', '2019-05-27'], dtype='object')\n"
     ]
    }
   ],
   "source": [
    "#상승마감한 날짜만 출력\n",
    "print(close.index[close>open]) #조건이 참인 날짜만 선탣\n",
    "print(close[close>open].index) #조건으로 시리즈 필터링 한 뒤 인덱스 가져오기"
   ]
  },
  {
   "cell_type": "code",
   "execution_count": 66,
   "id": "f1120dc5-ac68-4a6f-9c54-28e567388e0d",
   "metadata": {},
   "outputs": [
    {
     "name": "stdout",
     "output_type": "stream",
     "text": [
      "2019-05-30    350\n",
      "2019-05-27    150\n",
      "dtype: int64\n"
     ]
    }
   ],
   "source": [
    "close = [42500, 42550, 41800, 42550, 42650]\n",
    "open = [42600, 42200, 41850, 42550, 42500]\n",
    "index = ['2019-05-31', '2019-05-30', '2019-05-29', '2019-05-28', '2019-05-27']\n",
    "\n",
    "open = Series(data=open, index=index)\n",
    "close = Series(data=close, index=index)\n",
    "diff = close - open\n",
    "print(diff[close>open])"
   ]
  },
  {
   "cell_type": "code",
   "execution_count": 67,
   "id": "e1dadd57-f093-483b-a2b0-9d11b0337012",
   "metadata": {},
   "outputs": [
    {
     "name": "stdout",
     "output_type": "stream",
     "text": [
      "000010     3.1\n",
      "000020     2.0\n",
      "000030    10.1\n",
      "000040     5.1\n",
      "dtype: float64\n",
      "000020     2.0\n",
      "000010     3.1\n",
      "000040     5.1\n",
      "000030    10.1\n",
      "dtype: float64\n",
      "000030    10.1\n",
      "000040     5.1\n",
      "000010     3.1\n",
      "000020     2.0\n",
      "dtype: float64\n"
     ]
    }
   ],
   "source": [
    "#정렬 및 순위\n",
    "#시리즈 객체는 sort_values라는 자체 정렬 메서드를 가짐 #오름차순\n",
    "#내림차순 정렬: ascending=False 라고 함수 기본 인자 설정\n",
    "from pandas import Series\n",
    "\n",
    "data = [3.1, 2.0, 10.1, 5.1]\n",
    "index = ['000010', '000020', '000030', '000040']\n",
    "s = Series(data=data, index=index)\n",
    "print(s)\n",
    "\n",
    "s1 = s.sort_values()\n",
    "print(s1)\n",
    "\n",
    "s2 = s.sort_values(ascending=False)\n",
    "print(s2)"
   ]
  },
  {
   "cell_type": "code",
   "execution_count": 69,
   "id": "517cf394-0cab-4f3e-8454-7ed885a119ce",
   "metadata": {},
   "outputs": [
    {
     "name": "stdout",
     "output_type": "stream",
     "text": [
      "000010    2.0\n",
      "000020    1.0\n",
      "000030    4.0\n",
      "000040    3.0\n",
      "dtype: float64\n"
     ]
    }
   ],
   "source": [
    "#순위 매기기: rank 메서드 #작은 데이터를 1순위로\n",
    "data = [3.1, 2.0, 10.1, 5.1]\n",
    "index = ['000010', '000020', '000030', '000040']\n",
    "s = Series(data=data, index=index)\n",
    "print(s.rank())"
   ]
  },
  {
   "cell_type": "code",
   "execution_count": 71,
   "id": "3b65900c-dc46-425d-8c55-6ca6961581e4",
   "metadata": {},
   "outputs": [
    {
     "name": "stdout",
     "output_type": "stream",
     "text": [
      "000010    3.0\n",
      "000020    4.0\n",
      "000030    1.0\n",
      "000040    2.0\n",
      "dtype: float64\n"
     ]
    }
   ],
   "source": [
    "#큰 데이터를 1순위로\n",
    "print(s.rank(ascending=False))"
   ]
  }
 ],
 "metadata": {
  "kernelspec": {
   "display_name": "Python 3 (ipykernel)",
   "language": "python",
   "name": "python3"
  },
  "language_info": {
   "codemirror_mode": {
    "name": "ipython",
    "version": 3
   },
   "file_extension": ".py",
   "mimetype": "text/x-python",
   "name": "python",
   "nbconvert_exporter": "python",
   "pygments_lexer": "ipython3",
   "version": "3.12.4"
  }
 },
 "nbformat": 4,
 "nbformat_minor": 5
}
