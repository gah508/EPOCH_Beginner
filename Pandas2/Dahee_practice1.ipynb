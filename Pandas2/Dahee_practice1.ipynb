{
  "nbformat": 4,
  "nbformat_minor": 0,
  "metadata": {
    "colab": {
      "provenance": [],
      "authorship_tag": "ABX9TyPwOsf9BcrpqfYAbQBz4lX5",
      "include_colab_link": true
    },
    "kernelspec": {
      "name": "python3",
      "display_name": "Python 3"
    },
    "language_info": {
      "name": "python"
    }
  },
  "cells": [
    {
      "cell_type": "markdown",
      "metadata": {
        "id": "view-in-github",
        "colab_type": "text"
      },
      "source": [
        "<a href=\"https://colab.research.google.com/github/gah508/EPOCH_Beginner/blob/main/Pandas2/Dahee_practice3.ipynb\" target=\"_parent\"><img src=\"https://colab.research.google.com/assets/colab-badge.svg\" alt=\"Open In Colab\"/></a>"
      ]
    },
    {
      "cell_type": "markdown",
      "source": [
        "\n",
        "#**Ch.4 판다스 데이터프레임 Part1(2)**"
      ],
      "metadata": {
        "id": "EZQT3gHcY05G"
      }
    },
    {
      "cell_type": "markdown",
      "source": [
        "### 4.8 컬럼 추가하기\n",
        "\n",
        "> 데이터프레임은 **동일한 인덱스를 갖는 시리즈가 연결된 형태**임을 생각하기\n",
        "\n",
        "\n",
        "\n",
        "\n"
      ],
      "metadata": {
        "id": "tSUXhj8yZTZv"
      }
    },
    {
      "cell_type": "code",
      "source": [
        "from pandas import DataFrame, Series\n",
        "\n",
        "data = [\n",
        "    ['3R', 1510, 7.36],\n",
        "    ['3SOFT', 1790, 1.65],\n",
        "    ['ACTS', 1185, 1.28]\n",
        "]\n",
        "\n",
        "index = ['037330', '036360', '005760']\n",
        "columns = ['종목명', '현재가', '등락률']\n",
        "df = DataFrame(data=data, index=index, columns=columns)"
      ],
      "metadata": {
        "id": "TYn3pftaZYVm"
      },
      "execution_count": null,
      "outputs": []
    },
    {
      "cell_type": "markdown",
      "source": [
        "**방법 1.** 데이터프레임에 '목표가'라는 이름의 컬럼 추가"
      ],
      "metadata": {
        "id": "WerVBy_IcV24"
      }
    },
    {
      "cell_type": "code",
      "source": [
        "s = Series(data=[1600, 1600, 1600], index=df.index) #df의 인덱스 전달\n",
        "df['목표가'] = s\n",
        "print(df)"
      ],
      "metadata": {
        "colab": {
          "base_uri": "https://localhost:8080/"
        },
        "id": "-Adm-8GGbx2I",
        "outputId": "c7983e85-4527-4652-e4c7-890ed3c88a45"
      },
      "execution_count": null,
      "outputs": [
        {
          "output_type": "stream",
          "name": "stdout",
          "text": [
            "          종목명   현재가   등락률   목표가\n",
            "037330     3R  1510  7.36  1600\n",
            "036360  3SOFT  1790  1.65  1600\n",
            "005760   ACTS  1185  1.28  1600\n"
          ]
        }
      ]
    },
    {
      "cell_type": "markdown",
      "source": [
        "**방법 2.** 시리즈로 값 구성하는 과정 없이 컬럼 이름과 추가 데이터만을 대입해도 가능"
      ],
      "metadata": {
        "id": "-cPHealVdEws"
      }
    },
    {
      "cell_type": "code",
      "source": [
        "df['목표가'] = 1600\n",
        "print(df)"
      ],
      "metadata": {
        "colab": {
          "base_uri": "https://localhost:8080/"
        },
        "id": "T60Ou1Kgc5iS",
        "outputId": "5adb14cf-dd70-4c25-ad3b-d888935735c3"
      },
      "execution_count": null,
      "outputs": [
        {
          "output_type": "stream",
          "name": "stdout",
          "text": [
            "          종목명   현재가   등락률   목표가\n",
            "037330     3R  1510  7.36  1600\n",
            "036360  3SOFT  1790  1.65  1600\n",
            "005760   ACTS  1185  1.28  1600\n"
          ]
        }
      ]
    },
    {
      "cell_type": "markdown",
      "source": [
        "**예시.** '괴리율' 컬럼 추가\n",
        "> 두 객체가 같은 인덱스를 갖기 때문에 사직연산 적용 가능\n",
        "\n",
        "> 반복문 사용 없이 자동으로 모든 row에 동일한 연산 적용됨"
      ],
      "metadata": {
        "id": "5sderoW_di8I"
      }
    },
    {
      "cell_type": "code",
      "source": [
        "df['괴리율'] = (df['목표가'] - df['현재가']) / df['현재가']\n",
        "print(df)"
      ],
      "metadata": {
        "colab": {
          "base_uri": "https://localhost:8080/"
        },
        "id": "5ZI60XFDdCZr",
        "outputId": "b4d34db8-b759-4203-c226-200f51353e42"
      },
      "execution_count": null,
      "outputs": [
        {
          "output_type": "stream",
          "name": "stdout",
          "text": [
            "          종목명   현재가   등락률   목표가       괴리율\n",
            "037330     3R  1510  7.36  1600  0.059603\n",
            "036360  3SOFT  1790  1.65  1600 -0.106145\n",
            "005760   ACTS  1185  1.28  1600  0.350211\n"
          ]
        }
      ]
    },
    {
      "cell_type": "markdown",
      "source": [
        "### 4.9 로우 추가하기\n",
        "> 시리즈 객체의 인덱스는 데이터프레임의 컬럼명"
      ],
      "metadata": {
        "id": "KpZg9eQieV0t"
      }
    },
    {
      "cell_type": "code",
      "source": [
        "from pandas import DataFrame, Series\n",
        "\n",
        "data = [\n",
        "    ['3R', 1510, 7.36],\n",
        "    ['3SOFT', 1790, 1.65],\n",
        "    ['ACTS', 1185, 1.28]\n",
        "]\n",
        "\n",
        "index = ['037330', '036360', '005760']\n",
        "columns = ['종목명', '현재가', '등락률']\n",
        "df = DataFrame(data=data, index=index, columns=columns)"
      ],
      "metadata": {
        "id": "pHsPRIrqdiuK"
      },
      "execution_count": null,
      "outputs": []
    },
    {
      "cell_type": "markdown",
      "source": [
        "**방법 1.**"
      ],
      "metadata": {
        "id": "79Y6cm8JjdlP"
      }
    },
    {
      "cell_type": "code",
      "source": [
        "s = Series(data=['LG전자', 60000, 3.84], index=df.columns)\n",
        "df.loc['066570'] = s\n",
        "print(df)"
      ],
      "metadata": {
        "colab": {
          "base_uri": "https://localhost:8080/"
        },
        "id": "ESFPade2eyfg",
        "outputId": "f195b660-990a-4800-c08f-b3c1843feb5d"
      },
      "execution_count": null,
      "outputs": [
        {
          "output_type": "stream",
          "name": "stdout",
          "text": [
            "          종목명    현재가   등락률\n",
            "037330     3R   1510  7.36\n",
            "036360  3SOFT   1790  1.65\n",
            "005760   ACTS   1185  1.28\n",
            "066570   LG전자  60000  3.84\n"
          ]
        }
      ]
    },
    {
      "cell_type": "markdown",
      "source": [
        "**방법 2.**"
      ],
      "metadata": {
        "id": "UR3kSFjMjjTv"
      }
    },
    {
      "cell_type": "code",
      "source": [
        "df.loc['066570'] = ['LG전자', 60000, 3.84]\n",
        "print(df)"
      ],
      "metadata": {
        "colab": {
          "base_uri": "https://localhost:8080/"
        },
        "id": "q1Yor1LcjRMC",
        "outputId": "bd3f0d8b-9241-4b2c-e95c-a7e01350ead6"
      },
      "execution_count": null,
      "outputs": [
        {
          "output_type": "stream",
          "name": "stdout",
          "text": [
            "          종목명    현재가   등락률\n",
            "037330     3R   1510  7.36\n",
            "036360  3SOFT   1790  1.65\n",
            "005760   ACTS   1185  1.28\n",
            "066570   LG전자  60000  3.84\n"
          ]
        }
      ]
    },
    {
      "cell_type": "markdown",
      "source": [
        "**방법3. append** 메서드 사용 (X)\n",
        "\n",
        "> pandas의 최신 버전에서는 DataFrame.append() 메서드가 제거되고. 대신, pd.concat() 함수를 사용\n",
        "\n"
      ],
      "metadata": {
        "id": "jr1SBNzVjoG9"
      }
    },
    {
      "cell_type": "code",
      "source": [
        "import pandas as pd\n",
        "\n",
        "s = Series(data=['LG전자', 60000, 3.84], index=df.columns, name='066570')\n",
        "new_df = pd.concat([df, s.to_frame().T]) #시리즈를 데이터프레임으로 변환한 후 전치하여 행으로 맞추기 + 기존 df와 연결\n",
        "\n",
        "print(new_df)"
      ],
      "metadata": {
        "colab": {
          "base_uri": "https://localhost:8080/"
        },
        "id": "zr0UddKJjXc7",
        "outputId": "e5b50a22-a5b2-4adc-a373-4dcc183b91c2"
      },
      "execution_count": null,
      "outputs": [
        {
          "output_type": "stream",
          "name": "stdout",
          "text": [
            "          종목명    현재가   등락률\n",
            "037330     3R   1510  7.36\n",
            "036360  3SOFT   1790  1.65\n",
            "005760   ACTS   1185  1.28\n",
            "066570   LG전자  60000  3.84\n",
            "066570   LG전자  60000  3.84\n"
          ]
        }
      ]
    },
    {
      "cell_type": "markdown",
      "source": [
        "### 4.10 컬럼/로우 삭제하기\n",
        "> 데이터프레임은 drop 메서드 사용\n",
        "\n",
        "> 파라미터 axis=1은 컬럼 삭제\n",
        "\n",
        "> 파라미터 axis=0은 로우 삭제\n",
        "\n",
        "> 원본 데이터프레임 변경은 inplace=True"
      ],
      "metadata": {
        "id": "26M2FqJgliQ0"
      }
    },
    {
      "cell_type": "code",
      "source": [
        "from pandas import DataFrame, Series\n",
        "\n",
        "data = [\n",
        "    ['3R', 1510, 7.36],\n",
        "    ['3SOFT', 1790, 1.65],\n",
        "    ['ACTS', 1185, 1.28]\n",
        "]\n",
        "\n",
        "index = ['037330', '036360', '005760']\n",
        "columns = ['종목명', '현재가', '등락률']\n",
        "df = DataFrame(data=data, index=index, columns=columns)"
      ],
      "metadata": {
        "id": "qb8CLoO4mc7q"
      },
      "execution_count": null,
      "outputs": []
    },
    {
      "cell_type": "code",
      "source": [
        "df_new = df.drop('현재가', axis=1)\n",
        "print(df_new)"
      ],
      "metadata": {
        "colab": {
          "base_uri": "https://localhost:8080/"
        },
        "id": "TqHkWwEQm9oW",
        "outputId": "26a62f61-d0fe-440d-9a5d-b73a7f7c1b48"
      },
      "execution_count": null,
      "outputs": [
        {
          "output_type": "stream",
          "name": "stdout",
          "text": [
            "          종목명   등락률\n",
            "037330     3R  7.36\n",
            "036360  3SOFT  1.65\n",
            "005760   ACTS  1.28\n"
          ]
        }
      ]
    },
    {
      "cell_type": "code",
      "source": [
        "df_new = df.drop('037330', axis=0)\n",
        "print(df_new)"
      ],
      "metadata": {
        "colab": {
          "base_uri": "https://localhost:8080/"
        },
        "id": "xoDJmlkonE8o",
        "outputId": "1f23d1b5-0320-4da4-fa38-4abd4c4e1f73"
      },
      "execution_count": null,
      "outputs": [
        {
          "output_type": "stream",
          "name": "stdout",
          "text": [
            "          종목명   현재가   등락률\n",
            "036360  3SOFT  1790  1.65\n",
            "005760   ACTS  1185  1.28\n"
          ]
        }
      ]
    },
    {
      "cell_type": "code",
      "source": [
        "print(df)"
      ],
      "metadata": {
        "colab": {
          "base_uri": "https://localhost:8080/"
        },
        "id": "xKNn-MyinPca",
        "outputId": "26b967ce-915c-406d-eea6-a01f8d328c4b"
      },
      "execution_count": null,
      "outputs": [
        {
          "output_type": "stream",
          "name": "stdout",
          "text": [
            "          종목명   현재가   등락률\n",
            "037330     3R  1510  7.36\n",
            "036360  3SOFT  1790  1.65\n",
            "005760   ACTS  1185  1.28\n"
          ]
        }
      ]
    },
    {
      "cell_type": "code",
      "source": [
        "data = [\n",
        "    ['3R', 1510, 7.36],\n",
        "    ['3SOFT', 1790, 1.65],\n",
        "    ['ACTS', 1185, 1.28]\n",
        "]\n",
        "\n",
        "index = ['037330', '036360', '005760']\n",
        "columns = ['종목명', '현재가', '등락률']\n",
        "df2 = DataFrame(data=data, index=index, columns=columns)"
      ],
      "metadata": {
        "id": "GGHy2vWWnLwu"
      },
      "execution_count": null,
      "outputs": []
    },
    {
      "cell_type": "code",
      "source": [
        "df.drop(['037330', '005760'], axis=0, inplace=True) #inplace=True: 원본 프레임을 바로 수정하는 옵션\n",
        "print(df2)"
      ],
      "metadata": {
        "colab": {
          "base_uri": "https://localhost:8080/",
          "height": 321
        },
        "id": "wkOfOLKhoG44",
        "outputId": "8257225e-c03f-4086-94b3-a7f4e7c427f7"
      },
      "execution_count": null,
      "outputs": [
        {
          "output_type": "error",
          "ename": "KeyError",
          "evalue": "\"['037330', '005760'] not found in axis\"",
          "traceback": [
            "\u001b[0;31m---------------------------------------------------------------------------\u001b[0m",
            "\u001b[0;31mKeyError\u001b[0m                                  Traceback (most recent call last)",
            "\u001b[0;32m<ipython-input-54-49e1b135247f>\u001b[0m in \u001b[0;36m<cell line: 1>\u001b[0;34m()\u001b[0m\n\u001b[0;32m----> 1\u001b[0;31m \u001b[0mdf\u001b[0m\u001b[0;34m.\u001b[0m\u001b[0mdrop\u001b[0m\u001b[0;34m(\u001b[0m\u001b[0;34m[\u001b[0m\u001b[0;34m'037330'\u001b[0m\u001b[0;34m,\u001b[0m \u001b[0;34m'005760'\u001b[0m\u001b[0;34m]\u001b[0m\u001b[0;34m,\u001b[0m \u001b[0maxis\u001b[0m\u001b[0;34m=\u001b[0m\u001b[0;36m0\u001b[0m\u001b[0;34m,\u001b[0m \u001b[0minplace\u001b[0m\u001b[0;34m=\u001b[0m\u001b[0;32mTrue\u001b[0m\u001b[0;34m)\u001b[0m\u001b[0;34m\u001b[0m\u001b[0;34m\u001b[0m\u001b[0m\n\u001b[0m\u001b[1;32m      2\u001b[0m \u001b[0mprint\u001b[0m\u001b[0;34m(\u001b[0m\u001b[0mdf2\u001b[0m\u001b[0;34m)\u001b[0m\u001b[0;34m\u001b[0m\u001b[0;34m\u001b[0m\u001b[0m\n",
            "\u001b[0;32m/usr/local/lib/python3.10/dist-packages/pandas/core/frame.py\u001b[0m in \u001b[0;36mdrop\u001b[0;34m(self, labels, axis, index, columns, level, inplace, errors)\u001b[0m\n\u001b[1;32m   5342\u001b[0m                 \u001b[0mweight\u001b[0m  \u001b[0;36m1.0\u001b[0m     \u001b[0;36m0.8\u001b[0m\u001b[0;34m\u001b[0m\u001b[0;34m\u001b[0m\u001b[0m\n\u001b[1;32m   5343\u001b[0m         \"\"\"\n\u001b[0;32m-> 5344\u001b[0;31m         return super().drop(\n\u001b[0m\u001b[1;32m   5345\u001b[0m             \u001b[0mlabels\u001b[0m\u001b[0;34m=\u001b[0m\u001b[0mlabels\u001b[0m\u001b[0;34m,\u001b[0m\u001b[0;34m\u001b[0m\u001b[0;34m\u001b[0m\u001b[0m\n\u001b[1;32m   5346\u001b[0m             \u001b[0maxis\u001b[0m\u001b[0;34m=\u001b[0m\u001b[0maxis\u001b[0m\u001b[0;34m,\u001b[0m\u001b[0;34m\u001b[0m\u001b[0;34m\u001b[0m\u001b[0m\n",
            "\u001b[0;32m/usr/local/lib/python3.10/dist-packages/pandas/core/generic.py\u001b[0m in \u001b[0;36mdrop\u001b[0;34m(self, labels, axis, index, columns, level, inplace, errors)\u001b[0m\n\u001b[1;32m   4709\u001b[0m         \u001b[0;32mfor\u001b[0m \u001b[0maxis\u001b[0m\u001b[0;34m,\u001b[0m \u001b[0mlabels\u001b[0m \u001b[0;32min\u001b[0m \u001b[0maxes\u001b[0m\u001b[0;34m.\u001b[0m\u001b[0mitems\u001b[0m\u001b[0;34m(\u001b[0m\u001b[0;34m)\u001b[0m\u001b[0;34m:\u001b[0m\u001b[0;34m\u001b[0m\u001b[0;34m\u001b[0m\u001b[0m\n\u001b[1;32m   4710\u001b[0m             \u001b[0;32mif\u001b[0m \u001b[0mlabels\u001b[0m \u001b[0;32mis\u001b[0m \u001b[0;32mnot\u001b[0m \u001b[0;32mNone\u001b[0m\u001b[0;34m:\u001b[0m\u001b[0;34m\u001b[0m\u001b[0;34m\u001b[0m\u001b[0m\n\u001b[0;32m-> 4711\u001b[0;31m                 \u001b[0mobj\u001b[0m \u001b[0;34m=\u001b[0m \u001b[0mobj\u001b[0m\u001b[0;34m.\u001b[0m\u001b[0m_drop_axis\u001b[0m\u001b[0;34m(\u001b[0m\u001b[0mlabels\u001b[0m\u001b[0;34m,\u001b[0m \u001b[0maxis\u001b[0m\u001b[0;34m,\u001b[0m \u001b[0mlevel\u001b[0m\u001b[0;34m=\u001b[0m\u001b[0mlevel\u001b[0m\u001b[0;34m,\u001b[0m \u001b[0merrors\u001b[0m\u001b[0;34m=\u001b[0m\u001b[0merrors\u001b[0m\u001b[0;34m)\u001b[0m\u001b[0;34m\u001b[0m\u001b[0;34m\u001b[0m\u001b[0m\n\u001b[0m\u001b[1;32m   4712\u001b[0m \u001b[0;34m\u001b[0m\u001b[0m\n\u001b[1;32m   4713\u001b[0m         \u001b[0;32mif\u001b[0m \u001b[0minplace\u001b[0m\u001b[0;34m:\u001b[0m\u001b[0;34m\u001b[0m\u001b[0;34m\u001b[0m\u001b[0m\n",
            "\u001b[0;32m/usr/local/lib/python3.10/dist-packages/pandas/core/generic.py\u001b[0m in \u001b[0;36m_drop_axis\u001b[0;34m(self, labels, axis, level, errors, only_slice)\u001b[0m\n\u001b[1;32m   4751\u001b[0m                 \u001b[0mnew_axis\u001b[0m \u001b[0;34m=\u001b[0m \u001b[0maxis\u001b[0m\u001b[0;34m.\u001b[0m\u001b[0mdrop\u001b[0m\u001b[0;34m(\u001b[0m\u001b[0mlabels\u001b[0m\u001b[0;34m,\u001b[0m \u001b[0mlevel\u001b[0m\u001b[0;34m=\u001b[0m\u001b[0mlevel\u001b[0m\u001b[0;34m,\u001b[0m \u001b[0merrors\u001b[0m\u001b[0;34m=\u001b[0m\u001b[0merrors\u001b[0m\u001b[0;34m)\u001b[0m\u001b[0;34m\u001b[0m\u001b[0;34m\u001b[0m\u001b[0m\n\u001b[1;32m   4752\u001b[0m             \u001b[0;32melse\u001b[0m\u001b[0;34m:\u001b[0m\u001b[0;34m\u001b[0m\u001b[0;34m\u001b[0m\u001b[0m\n\u001b[0;32m-> 4753\u001b[0;31m                 \u001b[0mnew_axis\u001b[0m \u001b[0;34m=\u001b[0m \u001b[0maxis\u001b[0m\u001b[0;34m.\u001b[0m\u001b[0mdrop\u001b[0m\u001b[0;34m(\u001b[0m\u001b[0mlabels\u001b[0m\u001b[0;34m,\u001b[0m \u001b[0merrors\u001b[0m\u001b[0;34m=\u001b[0m\u001b[0merrors\u001b[0m\u001b[0;34m)\u001b[0m\u001b[0;34m\u001b[0m\u001b[0;34m\u001b[0m\u001b[0m\n\u001b[0m\u001b[1;32m   4754\u001b[0m             \u001b[0mindexer\u001b[0m \u001b[0;34m=\u001b[0m \u001b[0maxis\u001b[0m\u001b[0;34m.\u001b[0m\u001b[0mget_indexer\u001b[0m\u001b[0;34m(\u001b[0m\u001b[0mnew_axis\u001b[0m\u001b[0;34m)\u001b[0m\u001b[0;34m\u001b[0m\u001b[0;34m\u001b[0m\u001b[0m\n\u001b[1;32m   4755\u001b[0m \u001b[0;34m\u001b[0m\u001b[0m\n",
            "\u001b[0;32m/usr/local/lib/python3.10/dist-packages/pandas/core/indexes/base.py\u001b[0m in \u001b[0;36mdrop\u001b[0;34m(self, labels, errors)\u001b[0m\n\u001b[1;32m   6998\u001b[0m         \u001b[0;32mif\u001b[0m \u001b[0mmask\u001b[0m\u001b[0;34m.\u001b[0m\u001b[0many\u001b[0m\u001b[0;34m(\u001b[0m\u001b[0;34m)\u001b[0m\u001b[0;34m:\u001b[0m\u001b[0;34m\u001b[0m\u001b[0;34m\u001b[0m\u001b[0m\n\u001b[1;32m   6999\u001b[0m             \u001b[0;32mif\u001b[0m \u001b[0merrors\u001b[0m \u001b[0;34m!=\u001b[0m \u001b[0;34m\"ignore\"\u001b[0m\u001b[0;34m:\u001b[0m\u001b[0;34m\u001b[0m\u001b[0;34m\u001b[0m\u001b[0m\n\u001b[0;32m-> 7000\u001b[0;31m                 \u001b[0;32mraise\u001b[0m \u001b[0mKeyError\u001b[0m\u001b[0;34m(\u001b[0m\u001b[0;34mf\"{labels[mask].tolist()} not found in axis\"\u001b[0m\u001b[0;34m)\u001b[0m\u001b[0;34m\u001b[0m\u001b[0;34m\u001b[0m\u001b[0m\n\u001b[0m\u001b[1;32m   7001\u001b[0m             \u001b[0mindexer\u001b[0m \u001b[0;34m=\u001b[0m \u001b[0mindexer\u001b[0m\u001b[0;34m[\u001b[0m\u001b[0;34m~\u001b[0m\u001b[0mmask\u001b[0m\u001b[0;34m]\u001b[0m\u001b[0;34m\u001b[0m\u001b[0;34m\u001b[0m\u001b[0m\n\u001b[1;32m   7002\u001b[0m         \u001b[0;32mreturn\u001b[0m \u001b[0mself\u001b[0m\u001b[0;34m.\u001b[0m\u001b[0mdelete\u001b[0m\u001b[0;34m(\u001b[0m\u001b[0mindexer\u001b[0m\u001b[0;34m)\u001b[0m\u001b[0;34m\u001b[0m\u001b[0;34m\u001b[0m\u001b[0m\n",
            "\u001b[0;31mKeyError\u001b[0m: \"['037330', '005760'] not found in axis\""
          ]
        }
      ]
    },
    {
      "cell_type": "markdown",
      "source": [
        "### 4.11 컬럼 레이블 변경\n",
        ">컬럼 레이블과 인덱스의 이름 수정\n",
        "\n",
        ">모두 Index 객체로 테이터 관리\n",
        "\n",
        ">Index는 클래스, index는 클래스의 인스턴트 변수 이름"
      ],
      "metadata": {
        "id": "rDQnZal5pNaN"
      }
    },
    {
      "cell_type": "code",
      "source": [
        "from pandas import DataFrame, Series\n",
        "\n",
        "data = [\n",
        "    ['3R', 1510, 7.36],\n",
        "    ['3SOFT', 1790, 1.65],\n",
        "    ['ACTS', 1185, 1.28]\n",
        "]\n",
        "\n",
        "index = ['037330', '036360', '005760']\n",
        "columns = ['종목명', '현재가', '등락률']\n",
        "df = DataFrame(data=data, index=index, columns=columns)\n",
        "print(df.columns)\n",
        "print(df.index)"
      ],
      "metadata": {
        "colab": {
          "base_uri": "https://localhost:8080/"
        },
        "id": "OxcnM9emo_52",
        "outputId": "e3763021-bcc6-4930-94fd-027459b841e6"
      },
      "execution_count": null,
      "outputs": [
        {
          "output_type": "stream",
          "name": "stdout",
          "text": [
            "Index(['종목명', '현재가', '등락률'], dtype='object')\n",
            "Index(['037330', '036360', '005760'], dtype='object')\n"
          ]
        }
      ]
    },
    {
      "cell_type": "markdown",
      "source": [
        "**방법 1.**"
      ],
      "metadata": {
        "id": "X-BQSpVTrZ8d"
      }
    },
    {
      "cell_type": "code",
      "source": [
        "df.colums = ['name', 'close', 'fluctuation']  #변경할 컬럼의 레이블을 리스트로 정의하고 columns 속성에 바인딩\n",
        "df.index.name = 'code' #인덱스 name 변경\n",
        "print(df)"
      ],
      "metadata": {
        "colab": {
          "base_uri": "https://localhost:8080/"
        },
        "id": "XbSIKQYSqpN3",
        "outputId": "d8900b42-b760-4568-a40e-637ca094eee3"
      },
      "execution_count": null,
      "outputs": [
        {
          "output_type": "stream",
          "name": "stdout",
          "text": [
            "          종목명   현재가   등락률\n",
            "code                     \n",
            "037330     3R  1510  7.36\n",
            "036360  3SOFT  1790  1.65\n",
            "005760   ACTS  1185  1.28\n"
          ]
        }
      ]
    },
    {
      "cell_type": "markdown",
      "source": [
        "**방법 2**. rename 메서드 사용\n",
        "> columns = {'변경 전 이름':'변경 후 이름'}과 같은 딕셔너리를 메서드의 인자로 전달\n",
        "\n",
        "> 컬럼명 중 일부만을 변경하고자 할 때 유용함\n",
        "\n",
        ">inplace=True: 원본 프레임을 바로 수정하는 옵션"
      ],
      "metadata": {
        "id": "pz5AHwANrcSr"
      }
    },
    {
      "cell_type": "code",
      "source": [
        "from pandas import DataFrame, Series\n",
        "\n",
        "data = [\n",
        "    ['3R', 1510, 7.36],\n",
        "    ['3SOFT', 1790, 1.65],\n",
        "    ['ACTS', 1185, 1.28]\n",
        "]\n",
        "\n",
        "index = ['037330', '036360', '005760']\n",
        "columns = ['종목명', '현재가', '등락률']\n",
        "df = DataFrame(data=data, index=index, columns=columns)\n",
        "df.rename(columns={'종목명':'name', '현재가':'close'}, inplace=True)\n",
        "print(df)"
      ],
      "metadata": {
        "colab": {
          "base_uri": "https://localhost:8080/"
        },
        "id": "LyzDjfsgrCuV",
        "outputId": "aaab67fe-f3c0-49d1-d32d-a6288e4985db"
      },
      "execution_count": null,
      "outputs": [
        {
          "output_type": "stream",
          "name": "stdout",
          "text": [
            "         name  close   등락률\n",
            "037330     3R   1510  7.36\n",
            "036360  3SOFT   1790  1.65\n",
            "005760   ACTS   1185  1.28\n"
          ]
        }
      ]
    },
    {
      "cell_type": "markdown",
      "source": [
        "### 4.12 데이터 타입 변경"
      ],
      "metadata": {
        "id": "JKPuycHNsRWv"
      }
    },
    {
      "cell_type": "code",
      "source": [
        "from pandas import DataFrame\n",
        "\n",
        "data = [\n",
        "    ['1,000', '1,100', '1,500'],\n",
        "    ['1,410', '1,420', '1,790'],\n",
        "    ['850', '900', '1,185']\n",
        "]\n",
        "\n",
        "colums = ['03/02', '03/03', '03/04']\n",
        "df = DataFrame(data=data, columns=colums)\n",
        "print(df)"
      ],
      "metadata": {
        "colab": {
          "base_uri": "https://localhost:8080/"
        },
        "id": "Za42I42FsVcS",
        "outputId": "ff436ddd-a174-457d-8604-65ceaa198f9b"
      },
      "execution_count": null,
      "outputs": [
        {
          "output_type": "stream",
          "name": "stdout",
          "text": [
            "   03/02  03/03  03/04\n",
            "0  1,000  1,100  1,500\n",
            "1  1,410  1,420  1,790\n",
            "2    850    900  1,185\n"
          ]
        }
      ]
    },
    {
      "cell_type": "markdown",
      "source": [
        "> **(교재와 다른 점) map 메서드로 데이터 타입을 문자열에서 정수로 변환 안 되는 것 같음**\n",
        "\n",
        "\n"
      ],
      "metadata": {
        "id": "HE_ql8DguAqd"
      }
    },
    {
      "cell_type": "code",
      "source": [
        "def remove_comma(x): #함수 정의\n",
        "  return x.replace(',', '') #replace 메서드로 콤마 제거\n",
        "\n",
        "df = df.applymap(remove_comma) #applymap 메서드로 전체 데이터에 연산 적용\n",
        "print(df)\n",
        "print(df.dtypes)"
      ],
      "metadata": {
        "colab": {
          "base_uri": "https://localhost:8080/"
        },
        "id": "4vSOnaoIs702",
        "outputId": "ab44d5e0-3c58-47cf-d931-5380c76e4b4d"
      },
      "execution_count": null,
      "outputs": [
        {
          "output_type": "stream",
          "name": "stdout",
          "text": [
            "  03/02 03/03 03/04\n",
            "0  1000  1100  1500\n",
            "1  1410  1420  1790\n",
            "2   850   900  1185\n",
            "03/02    object\n",
            "03/03    object\n",
            "03/04    object\n",
            "dtype: object\n"
          ]
        },
        {
          "output_type": "stream",
          "name": "stderr",
          "text": [
            "<ipython-input-71-7fcd2ccddbb8>:4: FutureWarning: DataFrame.applymap has been deprecated. Use DataFrame.map instead.\n",
            "  df = df.applymap(remove_comma) #applymap 메서드로 전체 데이터에 연산 적용\n"
          ]
        }
      ]
    },
    {
      "cell_type": "markdown",
      "source": [
        "> astype 메서드로 데이터 타입 변경 -> {변경하려는 칼럼 이름: 데이터 타입}을 딕셔너리로 받음"
      ],
      "metadata": {
        "id": "oEEg9VBSvWA1"
      }
    },
    {
      "cell_type": "code",
      "source": [
        "import numpy as np #numpy를 np라는 이름으로 임포트\n",
        "from pandas import DataFrame\n",
        "\n",
        "def remove_comma(x):\n",
        "  return x.replace(',', '')\n",
        "\n",
        "data = [\n",
        "    ['1,000', '1,100', '1,500'],\n",
        "    ['1,410', '1,420', '1,790'],\n",
        "    ['850', '900', '1,185']\n",
        "]\n",
        "\n",
        "colums = ['03/02', '03/03', '03/04']\n",
        "df = DataFrame(data=data, columns=colums)\n",
        "df = df.applymap(remove_comma)\n",
        "df = df.astype({'03/02':np.int64, '03/03':np.int64, '03/04':np.int64}) #np.int64는 numpy 모듈의 정수 타입\n",
        "print(df.dtypes)"
      ],
      "metadata": {
        "colab": {
          "base_uri": "https://localhost:8080/"
        },
        "id": "YounRRtUupXd",
        "outputId": "af84dd94-91ca-43ba-a002-69fac2b6e774"
      },
      "execution_count": null,
      "outputs": [
        {
          "output_type": "stream",
          "name": "stdout",
          "text": [
            "03/02    int64\n",
            "03/03    int64\n",
            "03/04    int64\n",
            "dtype: object\n"
          ]
        },
        {
          "output_type": "stream",
          "name": "stderr",
          "text": [
            "<ipython-input-72-9b0adad740e6>:15: FutureWarning: DataFrame.applymap has been deprecated. Use DataFrame.map instead.\n",
            "  df = df.applymap(remove_comma)\n"
          ]
        }
      ]
    },
    {
      "cell_type": "markdown",
      "source": [
        "> **FutureWarning: DataFrame.applymap has been deprecated. Use DataFrame.map instead.**"
      ],
      "metadata": {
        "id": "pQyVWihmylUV"
      }
    },
    {
      "cell_type": "markdown",
      "source": [
        "### 4.13 컬럼의 문자열 다루기"
      ],
      "metadata": {
        "id": "qaEh7oP50AYD"
      }
    },
    {
      "cell_type": "code",
      "source": [
        "from pandas import DataFrame\n",
        "import numpy as np\n",
        "\n",
        "data = [\n",
        "    {'cd':'A060310', 'nm':'3S', 'close':'2,920'},\n",
        "    {'cd':'A095570', 'nm':'AJ네트웍스', 'close':'6,250'},\n",
        "    {'cd':'A006840', 'nm':'AK홀딩스', 'close':'29,700'},\n",
        "    {'cd':'A054620', 'nm':'APS홀딩스', 'close':'19,400'},\n",
        "]\n",
        "df = DataFrame(data=data)\n",
        "print(df)"
      ],
      "metadata": {
        "colab": {
          "base_uri": "https://localhost:8080/"
        },
        "id": "QS3oPiFtyfkb",
        "outputId": "745a1c7b-6e8e-463b-a1c4-c9c485587350"
      },
      "execution_count": null,
      "outputs": [
        {
          "output_type": "stream",
          "name": "stdout",
          "text": [
            "        cd      nm   close\n",
            "0  A060310      3S   2,920\n",
            "1  A095570  AJ네트웍스   6,250\n",
            "2  A006840   AK홀딩스  29,700\n",
            "3  A054620  APS홀딩스  19,400\n"
          ]
        }
      ]
    },
    {
      "cell_type": "markdown",
      "source": [
        "**전처리 1.** 'cd' 컬럼의 종목코드에서 A를 제거한 후 나머지 6자리를 사용하도록 변경\n",
        "\n",
        "> 컬럼 선택 후 str 변수에 하나의 문자열 처리를 하듯 슬라이싱 코드 추가\n",
        "\n",
        "> str은 시리즈에 저장된 문자열 컬럼에만 사용 가능\n",
        "\n",
        "> str 뒤에 나열된 연산을 시리즈의 모든 데이터에 반복 적용"
      ],
      "metadata": {
        "id": "EOMg54dR1zzK"
      }
    },
    {
      "cell_type": "code",
      "source": [
        "df['cd'] = df['cd'].str[1:]\n",
        "print(df)"
      ],
      "metadata": {
        "colab": {
          "base_uri": "https://localhost:8080/"
        },
        "id": "zoO-Fejg1tYb",
        "outputId": "dd3f482b-d734-4891-89ae-29ae5cd3b199"
      },
      "execution_count": null,
      "outputs": [
        {
          "output_type": "stream",
          "name": "stdout",
          "text": [
            "      cd      nm   close\n",
            "0  60310      3S   2,920\n",
            "1  95570  AJ네트웍스   6,250\n",
            "2  06840   AK홀딩스  29,700\n",
            "3  54620  APS홀딩스  19,400\n"
          ]
        }
      ]
    },
    {
      "cell_type": "markdown",
      "source": [
        "**전처리 2.** 'close' 컬럼에 대해서 콤마를 제거\n",
        "\n",
        "> 앞서 쓴 map 또는 apply메서드 말고 str 기능 사용"
      ],
      "metadata": {
        "id": "NzEmvaD32Ynb"
      }
    },
    {
      "cell_type": "code",
      "source": [
        "df['close'] = df['close'].str.replace(',','').astype(np.int64)\n",
        "print(df)"
      ],
      "metadata": {
        "colab": {
          "base_uri": "https://localhost:8080/"
        },
        "id": "LCUqb_J22Rt3",
        "outputId": "8b1bde41-a2bc-45ca-f79e-884eb477ae2c"
      },
      "execution_count": null,
      "outputs": [
        {
          "output_type": "stream",
          "name": "stdout",
          "text": [
            "      cd      nm  close\n",
            "0  60310      3S   2920\n",
            "1  95570  AJ네트웍스   6250\n",
            "2  06840   AK홀딩스  29700\n",
            "3  54620  APS홀딩스  19400\n"
          ]
        }
      ]
    }
  ]
}
