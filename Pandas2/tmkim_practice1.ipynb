{
  "cells": [
    {
      "cell_type": "markdown",
      "id": "d8f91aad",
      "metadata": {
        "id": "d8f91aad"
      },
      "source": [
        "## 4.8 컬럼 추가하기"
      ]
    },
    {
      "cell_type": "code",
      "execution_count": null,
      "id": "5f87b830",
      "metadata": {
        "id": "5f87b830",
        "outputId": "779eea06-bff1-48d8-fcc5-71168b1dfef6"
      },
      "outputs": [
        {
          "data": {
            "text/html": [
              "<div>\n",
              "<style scoped>\n",
              "    .dataframe tbody tr th:only-of-type {\n",
              "        vertical-align: middle;\n",
              "    }\n",
              "\n",
              "    .dataframe tbody tr th {\n",
              "        vertical-align: top;\n",
              "    }\n",
              "\n",
              "    .dataframe thead th {\n",
              "        text-align: right;\n",
              "    }\n",
              "</style>\n",
              "<table border=\"1\" class=\"dataframe\">\n",
              "  <thead>\n",
              "    <tr style=\"text-align: right;\">\n",
              "      <th></th>\n",
              "      <th>종목명</th>\n",
              "      <th>현재가</th>\n",
              "      <th>등락률</th>\n",
              "    </tr>\n",
              "  </thead>\n",
              "  <tbody>\n",
              "    <tr>\n",
              "      <th>037730</th>\n",
              "      <td>3R</td>\n",
              "      <td>1510</td>\n",
              "      <td>7.36</td>\n",
              "    </tr>\n",
              "    <tr>\n",
              "      <th>036360</th>\n",
              "      <td>3SOFT</td>\n",
              "      <td>1790</td>\n",
              "      <td>1.65</td>\n",
              "    </tr>\n",
              "    <tr>\n",
              "      <th>005760</th>\n",
              "      <td>ACTS</td>\n",
              "      <td>1185</td>\n",
              "      <td>1.28</td>\n",
              "    </tr>\n",
              "  </tbody>\n",
              "</table>\n",
              "</div>"
            ],
            "text/plain": [
              "          종목명   현재가   등락률\n",
              "037730     3R  1510  7.36\n",
              "036360  3SOFT  1790  1.65\n",
              "005760   ACTS  1185  1.28"
            ]
          },
          "execution_count": 56,
          "metadata": {},
          "output_type": "execute_result"
        }
      ],
      "source": [
        "from pandas import DataFrame\n",
        "\n",
        "data = [\n",
        "    [\"3R\", 1510, 7.36],\n",
        "    [\"3SOFT\", 1790, 1.65],\n",
        "    [\"ACTS\", 1185, 1.28]\n",
        "]\n",
        "\n",
        "index = [\"037730\", \"036360\", \"005760\"]\n",
        "columns = [\"종목명\", \"현재가\", \"등락률\"]\n",
        "df = DataFrame(data=data, index=index, columns=columns)\n",
        "df"
      ]
    },
    {
      "cell_type": "code",
      "execution_count": null,
      "id": "a595e9c4",
      "metadata": {
        "id": "a595e9c4",
        "outputId": "f20a79f4-fca6-4c2a-9433-2a08b3e0c6a1"
      },
      "outputs": [
        {
          "data": {
            "text/html": [
              "<div>\n",
              "<style scoped>\n",
              "    .dataframe tbody tr th:only-of-type {\n",
              "        vertical-align: middle;\n",
              "    }\n",
              "\n",
              "    .dataframe tbody tr th {\n",
              "        vertical-align: top;\n",
              "    }\n",
              "\n",
              "    .dataframe thead th {\n",
              "        text-align: right;\n",
              "    }\n",
              "</style>\n",
              "<table border=\"1\" class=\"dataframe\">\n",
              "  <thead>\n",
              "    <tr style=\"text-align: right;\">\n",
              "      <th></th>\n",
              "      <th>종목명</th>\n",
              "      <th>현재가</th>\n",
              "      <th>등락률</th>\n",
              "      <th>목표가</th>\n",
              "    </tr>\n",
              "  </thead>\n",
              "  <tbody>\n",
              "    <tr>\n",
              "      <th>037730</th>\n",
              "      <td>3R</td>\n",
              "      <td>1510</td>\n",
              "      <td>7.36</td>\n",
              "      <td>1600</td>\n",
              "    </tr>\n",
              "    <tr>\n",
              "      <th>036360</th>\n",
              "      <td>3SOFT</td>\n",
              "      <td>1790</td>\n",
              "      <td>1.65</td>\n",
              "      <td>1600</td>\n",
              "    </tr>\n",
              "    <tr>\n",
              "      <th>005760</th>\n",
              "      <td>ACTS</td>\n",
              "      <td>1185</td>\n",
              "      <td>1.28</td>\n",
              "      <td>1600</td>\n",
              "    </tr>\n",
              "  </tbody>\n",
              "</table>\n",
              "</div>"
            ],
            "text/plain": [
              "          종목명   현재가   등락률   목표가\n",
              "037730     3R  1510  7.36  1600\n",
              "036360  3SOFT  1790  1.65  1600\n",
              "005760   ACTS  1185  1.28  1600"
            ]
          },
          "execution_count": 57,
          "metadata": {},
          "output_type": "execute_result"
        }
      ],
      "source": [
        "from pandas import Series\n",
        "\n",
        "s = Series(data=[1600, 1600, 1600], index=df.index)\n",
        "df['목표가'] = s\n",
        "df"
      ]
    },
    {
      "cell_type": "code",
      "execution_count": null,
      "id": "e33f1fd6",
      "metadata": {
        "id": "e33f1fd6",
        "outputId": "7f4ecf96-77f8-4129-970c-f23b5c3e531a"
      },
      "outputs": [
        {
          "data": {
            "text/plain": [
              "037730    1600\n",
              "036360    1600\n",
              "005760    1600\n",
              "dtype: int64"
            ]
          },
          "execution_count": 58,
          "metadata": {},
          "output_type": "execute_result"
        }
      ],
      "source": [
        "s"
      ]
    },
    {
      "cell_type": "code",
      "execution_count": null,
      "id": "5bbe1b90",
      "metadata": {
        "id": "5bbe1b90",
        "outputId": "a5299904-42a3-4972-a37d-45ac010a437c"
      },
      "outputs": [
        {
          "data": {
            "text/html": [
              "<div>\n",
              "<style scoped>\n",
              "    .dataframe tbody tr th:only-of-type {\n",
              "        vertical-align: middle;\n",
              "    }\n",
              "\n",
              "    .dataframe tbody tr th {\n",
              "        vertical-align: top;\n",
              "    }\n",
              "\n",
              "    .dataframe thead th {\n",
              "        text-align: right;\n",
              "    }\n",
              "</style>\n",
              "<table border=\"1\" class=\"dataframe\">\n",
              "  <thead>\n",
              "    <tr style=\"text-align: right;\">\n",
              "      <th></th>\n",
              "      <th>종목명</th>\n",
              "      <th>현재가</th>\n",
              "      <th>등락률</th>\n",
              "      <th>목표가</th>\n",
              "      <th>괴리율</th>\n",
              "    </tr>\n",
              "  </thead>\n",
              "  <tbody>\n",
              "    <tr>\n",
              "      <th>037730</th>\n",
              "      <td>3R</td>\n",
              "      <td>1510</td>\n",
              "      <td>7.36</td>\n",
              "      <td>1600</td>\n",
              "      <td>0.059603</td>\n",
              "    </tr>\n",
              "    <tr>\n",
              "      <th>036360</th>\n",
              "      <td>3SOFT</td>\n",
              "      <td>1790</td>\n",
              "      <td>1.65</td>\n",
              "      <td>1600</td>\n",
              "      <td>-0.106145</td>\n",
              "    </tr>\n",
              "    <tr>\n",
              "      <th>005760</th>\n",
              "      <td>ACTS</td>\n",
              "      <td>1185</td>\n",
              "      <td>1.28</td>\n",
              "      <td>1600</td>\n",
              "      <td>0.350211</td>\n",
              "    </tr>\n",
              "  </tbody>\n",
              "</table>\n",
              "</div>"
            ],
            "text/plain": [
              "          종목명   현재가   등락률   목표가       괴리율\n",
              "037730     3R  1510  7.36  1600  0.059603\n",
              "036360  3SOFT  1790  1.65  1600 -0.106145\n",
              "005760   ACTS  1185  1.28  1600  0.350211"
            ]
          },
          "execution_count": 60,
          "metadata": {},
          "output_type": "execute_result"
        }
      ],
      "source": [
        "df[\"괴리율\"] = (df[\"목표가\"] - df[\"현재가\"]) / df['현재가']\n",
        "df"
      ]
    },
    {
      "cell_type": "markdown",
      "id": "e18f6482",
      "metadata": {
        "id": "e18f6482"
      },
      "source": [
        "## 4.9 로우 추가하기"
      ]
    },
    {
      "cell_type": "code",
      "execution_count": null,
      "id": "71fb7e00",
      "metadata": {
        "id": "71fb7e00",
        "outputId": "0829b783-26a6-4e58-bc1a-504e1c4d3c90"
      },
      "outputs": [
        {
          "data": {
            "text/html": [
              "<div>\n",
              "<style scoped>\n",
              "    .dataframe tbody tr th:only-of-type {\n",
              "        vertical-align: middle;\n",
              "    }\n",
              "\n",
              "    .dataframe tbody tr th {\n",
              "        vertical-align: top;\n",
              "    }\n",
              "\n",
              "    .dataframe thead th {\n",
              "        text-align: right;\n",
              "    }\n",
              "</style>\n",
              "<table border=\"1\" class=\"dataframe\">\n",
              "  <thead>\n",
              "    <tr style=\"text-align: right;\">\n",
              "      <th></th>\n",
              "      <th>종목명</th>\n",
              "      <th>현재가</th>\n",
              "      <th>등락률</th>\n",
              "    </tr>\n",
              "  </thead>\n",
              "  <tbody>\n",
              "    <tr>\n",
              "      <th>037730</th>\n",
              "      <td>3R</td>\n",
              "      <td>1510</td>\n",
              "      <td>7.36</td>\n",
              "    </tr>\n",
              "    <tr>\n",
              "      <th>036360</th>\n",
              "      <td>3SOFT</td>\n",
              "      <td>1790</td>\n",
              "      <td>1.65</td>\n",
              "    </tr>\n",
              "    <tr>\n",
              "      <th>005760</th>\n",
              "      <td>ACTS</td>\n",
              "      <td>1185</td>\n",
              "      <td>1.28</td>\n",
              "    </tr>\n",
              "  </tbody>\n",
              "</table>\n",
              "</div>"
            ],
            "text/plain": [
              "          종목명   현재가   등락률\n",
              "037730     3R  1510  7.36\n",
              "036360  3SOFT  1790  1.65\n",
              "005760   ACTS  1185  1.28"
            ]
          },
          "execution_count": 61,
          "metadata": {},
          "output_type": "execute_result"
        }
      ],
      "source": [
        "from pandas import DataFrame\n",
        "\n",
        "data = [\n",
        "    [\"3R\", 1510, 7.36],\n",
        "    [\"3SOFT\", 1790, 1.65],\n",
        "    [\"ACTS\", 1185, 1.28]\n",
        "]\n",
        "\n",
        "index = [\"037730\", \"036360\", \"005760\"]\n",
        "columns = [\"종목명\", \"현재가\", \"등락률\"]\n",
        "df = DataFrame(data=data, index=index, columns=columns)\n",
        "df"
      ]
    },
    {
      "cell_type": "code",
      "execution_count": null,
      "id": "8445fecb",
      "metadata": {
        "id": "8445fecb",
        "outputId": "626d2887-7b70-4d77-e1ae-adb4f4beb5e4"
      },
      "outputs": [
        {
          "data": {
            "text/html": [
              "<div>\n",
              "<style scoped>\n",
              "    .dataframe tbody tr th:only-of-type {\n",
              "        vertical-align: middle;\n",
              "    }\n",
              "\n",
              "    .dataframe tbody tr th {\n",
              "        vertical-align: top;\n",
              "    }\n",
              "\n",
              "    .dataframe thead th {\n",
              "        text-align: right;\n",
              "    }\n",
              "</style>\n",
              "<table border=\"1\" class=\"dataframe\">\n",
              "  <thead>\n",
              "    <tr style=\"text-align: right;\">\n",
              "      <th></th>\n",
              "      <th>종목명</th>\n",
              "      <th>현재가</th>\n",
              "      <th>등락률</th>\n",
              "    </tr>\n",
              "  </thead>\n",
              "  <tbody>\n",
              "    <tr>\n",
              "      <th>037730</th>\n",
              "      <td>3R</td>\n",
              "      <td>1510</td>\n",
              "      <td>7.36</td>\n",
              "    </tr>\n",
              "    <tr>\n",
              "      <th>036360</th>\n",
              "      <td>3SOFT</td>\n",
              "      <td>1790</td>\n",
              "      <td>1.65</td>\n",
              "    </tr>\n",
              "    <tr>\n",
              "      <th>005760</th>\n",
              "      <td>ACTS</td>\n",
              "      <td>1185</td>\n",
              "      <td>1.28</td>\n",
              "    </tr>\n",
              "    <tr>\n",
              "      <th>066570</th>\n",
              "      <td>LG전자</td>\n",
              "      <td>60000</td>\n",
              "      <td>3.84</td>\n",
              "    </tr>\n",
              "  </tbody>\n",
              "</table>\n",
              "</div>"
            ],
            "text/plain": [
              "          종목명    현재가   등락률\n",
              "037730     3R   1510  7.36\n",
              "036360  3SOFT   1790  1.65\n",
              "005760   ACTS   1185  1.28\n",
              "066570   LG전자  60000  3.84"
            ]
          },
          "execution_count": 62,
          "metadata": {},
          "output_type": "execute_result"
        }
      ],
      "source": [
        "from pandas import Series\n",
        "\n",
        "s = Series(data=[\"LG전자\", 60000, 3.84], index=df.columns)\n",
        "df.loc[\"066570\"] = s\n",
        "df"
      ]
    },
    {
      "cell_type": "code",
      "execution_count": null,
      "id": "fe6759cf",
      "metadata": {
        "id": "fe6759cf"
      },
      "outputs": [],
      "source": [
        "df.loc[\"066570\"] = [\"LG전자\", 60000, 3.84]"
      ]
    },
    {
      "cell_type": "code",
      "execution_count": null,
      "id": "cd4fc413",
      "metadata": {
        "id": "cd4fc413",
        "outputId": "e9813564-1b71-4c2c-eb2e-19bf755cf6b5"
      },
      "outputs": [
        {
          "data": {
            "text/html": [
              "<div>\n",
              "<style scoped>\n",
              "    .dataframe tbody tr th:only-of-type {\n",
              "        vertical-align: middle;\n",
              "    }\n",
              "\n",
              "    .dataframe tbody tr th {\n",
              "        vertical-align: top;\n",
              "    }\n",
              "\n",
              "    .dataframe thead th {\n",
              "        text-align: right;\n",
              "    }\n",
              "</style>\n",
              "<table border=\"1\" class=\"dataframe\">\n",
              "  <thead>\n",
              "    <tr style=\"text-align: right;\">\n",
              "      <th></th>\n",
              "      <th>종목명</th>\n",
              "      <th>현재가</th>\n",
              "      <th>등락률</th>\n",
              "    </tr>\n",
              "  </thead>\n",
              "  <tbody>\n",
              "    <tr>\n",
              "      <th>037730</th>\n",
              "      <td>3R</td>\n",
              "      <td>1510</td>\n",
              "      <td>7.36</td>\n",
              "    </tr>\n",
              "    <tr>\n",
              "      <th>036360</th>\n",
              "      <td>3SOFT</td>\n",
              "      <td>1790</td>\n",
              "      <td>1.65</td>\n",
              "    </tr>\n",
              "    <tr>\n",
              "      <th>005760</th>\n",
              "      <td>ACTS</td>\n",
              "      <td>1185</td>\n",
              "      <td>1.28</td>\n",
              "    </tr>\n",
              "    <tr>\n",
              "      <th>066570</th>\n",
              "      <td>LG전자</td>\n",
              "      <td>60000</td>\n",
              "      <td>3.84</td>\n",
              "    </tr>\n",
              "  </tbody>\n",
              "</table>\n",
              "</div>"
            ],
            "text/plain": [
              "          종목명    현재가   등락률\n",
              "037730     3R   1510  7.36\n",
              "036360  3SOFT   1790  1.65\n",
              "005760   ACTS   1185  1.28\n",
              "066570   LG전자  60000  3.84"
            ]
          },
          "execution_count": 64,
          "metadata": {},
          "output_type": "execute_result"
        }
      ],
      "source": [
        "df"
      ]
    },
    {
      "cell_type": "code",
      "execution_count": null,
      "id": "58a48aee",
      "metadata": {
        "id": "58a48aee",
        "outputId": "c2dfe0ec-ecc6-4df9-ffdf-de91e0e40857"
      },
      "outputs": [
        {
          "data": {
            "text/html": [
              "<div>\n",
              "<style scoped>\n",
              "    .dataframe tbody tr th:only-of-type {\n",
              "        vertical-align: middle;\n",
              "    }\n",
              "\n",
              "    .dataframe tbody tr th {\n",
              "        vertical-align: top;\n",
              "    }\n",
              "\n",
              "    .dataframe thead th {\n",
              "        text-align: right;\n",
              "    }\n",
              "</style>\n",
              "<table border=\"1\" class=\"dataframe\">\n",
              "  <thead>\n",
              "    <tr style=\"text-align: right;\">\n",
              "      <th></th>\n",
              "      <th>종목명</th>\n",
              "      <th>현재가</th>\n",
              "      <th>등락률</th>\n",
              "    </tr>\n",
              "  </thead>\n",
              "  <tbody>\n",
              "    <tr>\n",
              "      <th>037730</th>\n",
              "      <td>3R</td>\n",
              "      <td>1510</td>\n",
              "      <td>7.36</td>\n",
              "    </tr>\n",
              "    <tr>\n",
              "      <th>036360</th>\n",
              "      <td>3SOFT</td>\n",
              "      <td>1790</td>\n",
              "      <td>1.65</td>\n",
              "    </tr>\n",
              "    <tr>\n",
              "      <th>005760</th>\n",
              "      <td>ACTS</td>\n",
              "      <td>1185</td>\n",
              "      <td>1.28</td>\n",
              "    </tr>\n",
              "    <tr>\n",
              "      <th>066570</th>\n",
              "      <td>LG전자</td>\n",
              "      <td>60000</td>\n",
              "      <td>3.84</td>\n",
              "    </tr>\n",
              "    <tr>\n",
              "      <th>066570</th>\n",
              "      <td>LG전자</td>\n",
              "      <td>60000</td>\n",
              "      <td>3.84</td>\n",
              "    </tr>\n",
              "  </tbody>\n",
              "</table>\n",
              "</div>"
            ],
            "text/plain": [
              "          종목명    현재가   등락률\n",
              "037730     3R   1510  7.36\n",
              "036360  3SOFT   1790  1.65\n",
              "005760   ACTS   1185  1.28\n",
              "066570   LG전자  60000  3.84\n",
              "066570   LG전자  60000  3.84"
            ]
          },
          "execution_count": 65,
          "metadata": {},
          "output_type": "execute_result"
        }
      ],
      "source": [
        "s = Series(data=[\"LG전자\", 60000, 3.84], index=df.columns, name=\"066570\")\n",
        "df.append(s)"
      ]
    },
    {
      "cell_type": "markdown",
      "id": "46d24890",
      "metadata": {
        "id": "46d24890"
      },
      "source": [
        "## 4.10 컬럼/로우 삭제하기"
      ]
    },
    {
      "cell_type": "code",
      "execution_count": null,
      "id": "4335f1bc",
      "metadata": {
        "id": "4335f1bc",
        "outputId": "742564ad-d0eb-4a76-89db-5591b1094df0"
      },
      "outputs": [
        {
          "name": "stdout",
          "output_type": "stream",
          "text": [
            "          종목명   현재가   등락률\n",
            "037730     3R  1510  7.36\n",
            "036360  3SOFT  1790  1.65\n",
            "005760   ACTS  1185  1.28\n",
            "          종목명   등락률\n",
            "037730     3R  7.36\n",
            "036360  3SOFT  1.65\n",
            "005760   ACTS  1.28\n"
          ]
        }
      ],
      "source": [
        "from pandas import DataFrame\n",
        "\n",
        "data = [\n",
        "    [\"3R\", 1510, 7.36],\n",
        "    [\"3SOFT\", 1790, 1.65],\n",
        "    [\"ACTS\", 1185, 1.28]\n",
        "]\n",
        "\n",
        "index = [\"037730\", \"036360\", \"005760\"]\n",
        "columns = [\"종목명\", \"현재가\", \"등락률\"]\n",
        "df = DataFrame(data=data, index=index, columns=columns)\n",
        "\n",
        "new_df = df.drop(\"현재가\", axis=1)\n",
        "print(df)\n",
        "print(new_df)"
      ]
    },
    {
      "cell_type": "markdown",
      "id": "960b6d38",
      "metadata": {
        "id": "960b6d38"
      },
      "source": [
        "## 4.11 컬럼 레이블 변경"
      ]
    },
    {
      "cell_type": "code",
      "execution_count": null,
      "id": "32ca0b08",
      "metadata": {
        "id": "32ca0b08"
      },
      "outputs": [],
      "source": [
        "from pandas import DataFrame\n",
        "\n",
        "data = [\n",
        "    [\"3R\", 1510, 7.36],\n",
        "    [\"3SOFT\", 1790, 1.65],\n",
        "    [\"ACTS\", 1185, 1.28]\n",
        "]\n",
        "\n",
        "index = [\"037730\", \"036360\", \"005760\"]\n",
        "columns = [\"종목명\", \"현재가\", \"등락률\"]\n",
        "df = DataFrame(data=data, index=index, columns=columns)"
      ]
    },
    {
      "cell_type": "code",
      "execution_count": null,
      "id": "4b29d321",
      "metadata": {
        "id": "4b29d321",
        "outputId": "7baebc8e-b3b2-4dda-9d50-076392e22e3b"
      },
      "outputs": [
        {
          "name": "stdout",
          "output_type": "stream",
          "text": [
            "Index(['종목명', '현재가', '등락률'], dtype='object')\n",
            "Index(['037730', '036360', '005760'], dtype='object')\n"
          ]
        }
      ],
      "source": [
        "print(df.columns)\n",
        "print(df.index)"
      ]
    },
    {
      "cell_type": "code",
      "execution_count": null,
      "id": "0b35d26b",
      "metadata": {
        "id": "0b35d26b",
        "outputId": "a8fd8aeb-d0d6-46ab-a480-4f1f268d8c4d"
      },
      "outputs": [
        {
          "data": {
            "text/html": [
              "<div>\n",
              "<style scoped>\n",
              "    .dataframe tbody tr th:only-of-type {\n",
              "        vertical-align: middle;\n",
              "    }\n",
              "\n",
              "    .dataframe tbody tr th {\n",
              "        vertical-align: top;\n",
              "    }\n",
              "\n",
              "    .dataframe thead th {\n",
              "        text-align: right;\n",
              "    }\n",
              "</style>\n",
              "<table border=\"1\" class=\"dataframe\">\n",
              "  <thead>\n",
              "    <tr style=\"text-align: right;\">\n",
              "      <th></th>\n",
              "      <th>종목명</th>\n",
              "      <th>현재가</th>\n",
              "      <th>등락률</th>\n",
              "    </tr>\n",
              "  </thead>\n",
              "  <tbody>\n",
              "    <tr>\n",
              "      <th>037730</th>\n",
              "      <td>3R</td>\n",
              "      <td>1510</td>\n",
              "      <td>7.36</td>\n",
              "    </tr>\n",
              "    <tr>\n",
              "      <th>036360</th>\n",
              "      <td>3SOFT</td>\n",
              "      <td>1790</td>\n",
              "      <td>1.65</td>\n",
              "    </tr>\n",
              "    <tr>\n",
              "      <th>005760</th>\n",
              "      <td>ACTS</td>\n",
              "      <td>1185</td>\n",
              "      <td>1.28</td>\n",
              "    </tr>\n",
              "  </tbody>\n",
              "</table>\n",
              "</div>"
            ],
            "text/plain": [
              "          종목명   현재가   등락률\n",
              "037730     3R  1510  7.36\n",
              "036360  3SOFT  1790  1.65\n",
              "005760   ACTS  1185  1.28"
            ]
          },
          "execution_count": 72,
          "metadata": {},
          "output_type": "execute_result"
        }
      ],
      "source": [
        "df"
      ]
    },
    {
      "cell_type": "code",
      "execution_count": null,
      "id": "37694f6f",
      "metadata": {
        "id": "37694f6f",
        "outputId": "285be57f-0194-4217-8145-f55dccf05614"
      },
      "outputs": [
        {
          "data": {
            "text/html": [
              "<div>\n",
              "<style scoped>\n",
              "    .dataframe tbody tr th:only-of-type {\n",
              "        vertical-align: middle;\n",
              "    }\n",
              "\n",
              "    .dataframe tbody tr th {\n",
              "        vertical-align: top;\n",
              "    }\n",
              "\n",
              "    .dataframe thead th {\n",
              "        text-align: right;\n",
              "    }\n",
              "</style>\n",
              "<table border=\"1\" class=\"dataframe\">\n",
              "  <thead>\n",
              "    <tr style=\"text-align: right;\">\n",
              "      <th></th>\n",
              "      <th>name</th>\n",
              "      <th>close</th>\n",
              "      <th>fluctuation</th>\n",
              "    </tr>\n",
              "    <tr>\n",
              "      <th>code</th>\n",
              "      <th></th>\n",
              "      <th></th>\n",
              "      <th></th>\n",
              "    </tr>\n",
              "  </thead>\n",
              "  <tbody>\n",
              "    <tr>\n",
              "      <th>037730</th>\n",
              "      <td>3R</td>\n",
              "      <td>1510</td>\n",
              "      <td>7.36</td>\n",
              "    </tr>\n",
              "    <tr>\n",
              "      <th>036360</th>\n",
              "      <td>3SOFT</td>\n",
              "      <td>1790</td>\n",
              "      <td>1.65</td>\n",
              "    </tr>\n",
              "    <tr>\n",
              "      <th>005760</th>\n",
              "      <td>ACTS</td>\n",
              "      <td>1185</td>\n",
              "      <td>1.28</td>\n",
              "    </tr>\n",
              "  </tbody>\n",
              "</table>\n",
              "</div>"
            ],
            "text/plain": [
              "         name  close  fluctuation\n",
              "code                             \n",
              "037730     3R   1510         7.36\n",
              "036360  3SOFT   1790         1.65\n",
              "005760   ACTS   1185         1.28"
            ]
          },
          "execution_count": 73,
          "metadata": {},
          "output_type": "execute_result"
        }
      ],
      "source": [
        "df.columns = ['name', 'close', 'fluctuation']\n",
        "df.index.name = 'code'\n",
        "df"
      ]
    },
    {
      "cell_type": "code",
      "execution_count": null,
      "id": "cd9bc28d",
      "metadata": {
        "id": "cd9bc28d",
        "outputId": "9c873808-8b95-423b-8d58-7d407a53b4ea"
      },
      "outputs": [
        {
          "data": {
            "text/html": [
              "<div>\n",
              "<style scoped>\n",
              "    .dataframe tbody tr th:only-of-type {\n",
              "        vertical-align: middle;\n",
              "    }\n",
              "\n",
              "    .dataframe tbody tr th {\n",
              "        vertical-align: top;\n",
              "    }\n",
              "\n",
              "    .dataframe thead th {\n",
              "        text-align: right;\n",
              "    }\n",
              "</style>\n",
              "<table border=\"1\" class=\"dataframe\">\n",
              "  <thead>\n",
              "    <tr style=\"text-align: right;\">\n",
              "      <th></th>\n",
              "      <th>code</th>\n",
              "      <th>현재가</th>\n",
              "      <th>등락률</th>\n",
              "    </tr>\n",
              "  </thead>\n",
              "  <tbody>\n",
              "    <tr>\n",
              "      <th>037730</th>\n",
              "      <td>3R</td>\n",
              "      <td>1510</td>\n",
              "      <td>7.36</td>\n",
              "    </tr>\n",
              "    <tr>\n",
              "      <th>036360</th>\n",
              "      <td>3SOFT</td>\n",
              "      <td>1790</td>\n",
              "      <td>1.65</td>\n",
              "    </tr>\n",
              "    <tr>\n",
              "      <th>005760</th>\n",
              "      <td>ACTS</td>\n",
              "      <td>1185</td>\n",
              "      <td>1.28</td>\n",
              "    </tr>\n",
              "  </tbody>\n",
              "</table>\n",
              "</div>"
            ],
            "text/plain": [
              "         code   현재가   등락률\n",
              "037730     3R  1510  7.36\n",
              "036360  3SOFT  1790  1.65\n",
              "005760   ACTS  1185  1.28"
            ]
          },
          "execution_count": 76,
          "metadata": {},
          "output_type": "execute_result"
        }
      ],
      "source": [
        "from pandas import DataFrame\n",
        "\n",
        "data = [\n",
        "    [\"3R\", 1510, 7.36],\n",
        "    [\"3SOFT\", 1790, 1.65],\n",
        "    [\"ACTS\", 1185, 1.28]\n",
        "]\n",
        "\n",
        "index = [\"037730\", \"036360\", \"005760\"]\n",
        "columns = [\"종목명\", \"현재가\", \"등락률\"]\n",
        "df = DataFrame(data=data, index=index, columns=columns)\n",
        "df.rename(columns={'종목명': 'code'}, inplace=True)\n",
        "df"
      ]
    },
    {
      "cell_type": "markdown",
      "id": "288efba0",
      "metadata": {
        "id": "288efba0"
      },
      "source": [
        "## 4.12 데이터 타입 변경"
      ]
    },
    {
      "cell_type": "code",
      "execution_count": null,
      "id": "085a7bc3",
      "metadata": {
        "id": "085a7bc3",
        "outputId": "3a9f0971-b1c9-4863-e41d-febaaed991b5"
      },
      "outputs": [
        {
          "data": {
            "text/html": [
              "<div>\n",
              "<style scoped>\n",
              "    .dataframe tbody tr th:only-of-type {\n",
              "        vertical-align: middle;\n",
              "    }\n",
              "\n",
              "    .dataframe tbody tr th {\n",
              "        vertical-align: top;\n",
              "    }\n",
              "\n",
              "    .dataframe thead th {\n",
              "        text-align: right;\n",
              "    }\n",
              "</style>\n",
              "<table border=\"1\" class=\"dataframe\">\n",
              "  <thead>\n",
              "    <tr style=\"text-align: right;\">\n",
              "      <th></th>\n",
              "      <th>03/02</th>\n",
              "      <th>03/03</th>\n",
              "      <th>03/04</th>\n",
              "    </tr>\n",
              "  </thead>\n",
              "  <tbody>\n",
              "    <tr>\n",
              "      <th>0</th>\n",
              "      <td>1,000</td>\n",
              "      <td>1,100</td>\n",
              "      <td>1,510</td>\n",
              "    </tr>\n",
              "    <tr>\n",
              "      <th>1</th>\n",
              "      <td>1,410</td>\n",
              "      <td>1,420</td>\n",
              "      <td>1,790</td>\n",
              "    </tr>\n",
              "    <tr>\n",
              "      <th>2</th>\n",
              "      <td>850</td>\n",
              "      <td>900</td>\n",
              "      <td>1,185</td>\n",
              "    </tr>\n",
              "  </tbody>\n",
              "</table>\n",
              "</div>"
            ],
            "text/plain": [
              "   03/02  03/03  03/04\n",
              "0  1,000  1,100  1,510\n",
              "1  1,410  1,420  1,790\n",
              "2    850    900  1,185"
            ]
          },
          "execution_count": 79,
          "metadata": {},
          "output_type": "execute_result"
        }
      ],
      "source": [
        "from pandas import DataFrame\n",
        "\n",
        "data = [\n",
        "    [\"1,000\", \"1,100\", '1,510'],\n",
        "    [\"1,410\", \"1,420\", '1,790'],\n",
        "    [\"850\", \"900\", '1,185'],\n",
        "]\n",
        "columns = [\"03/02\", \"03/03\", \"03/04\"]\n",
        "df = DataFrame(data=data, columns=columns)\n",
        "df"
      ]
    },
    {
      "cell_type": "code",
      "execution_count": null,
      "id": "0ad63a29",
      "metadata": {
        "id": "0ad63a29"
      },
      "outputs": [],
      "source": [
        "def remove_comma(x):\n",
        "    return int(x.replace(',', ''))"
      ]
    },
    {
      "cell_type": "code",
      "execution_count": null,
      "id": "6ec838ff",
      "metadata": {
        "id": "6ec838ff"
      },
      "outputs": [],
      "source": [
        "df['03/02'] = df['03/02'].map(remove_comma)"
      ]
    },
    {
      "cell_type": "code",
      "execution_count": null,
      "id": "f16e73f3",
      "metadata": {
        "id": "f16e73f3"
      },
      "outputs": [],
      "source": [
        "df['03/03'] = df['03/03'].map(remove_comma)"
      ]
    },
    {
      "cell_type": "code",
      "execution_count": null,
      "id": "07cead6e",
      "metadata": {
        "id": "07cead6e",
        "outputId": "bf8377c6-ab00-46c3-b803-d85862222e06"
      },
      "outputs": [
        {
          "data": {
            "text/html": [
              "<div>\n",
              "<style scoped>\n",
              "    .dataframe tbody tr th:only-of-type {\n",
              "        vertical-align: middle;\n",
              "    }\n",
              "\n",
              "    .dataframe tbody tr th {\n",
              "        vertical-align: top;\n",
              "    }\n",
              "\n",
              "    .dataframe thead th {\n",
              "        text-align: right;\n",
              "    }\n",
              "</style>\n",
              "<table border=\"1\" class=\"dataframe\">\n",
              "  <thead>\n",
              "    <tr style=\"text-align: right;\">\n",
              "      <th></th>\n",
              "      <th>03/02</th>\n",
              "      <th>03/03</th>\n",
              "      <th>03/04</th>\n",
              "    </tr>\n",
              "  </thead>\n",
              "  <tbody>\n",
              "    <tr>\n",
              "      <th>0</th>\n",
              "      <td>1000</td>\n",
              "      <td>1100</td>\n",
              "      <td>1,510</td>\n",
              "    </tr>\n",
              "    <tr>\n",
              "      <th>1</th>\n",
              "      <td>1410</td>\n",
              "      <td>1420</td>\n",
              "      <td>1,790</td>\n",
              "    </tr>\n",
              "    <tr>\n",
              "      <th>2</th>\n",
              "      <td>850</td>\n",
              "      <td>900</td>\n",
              "      <td>1,185</td>\n",
              "    </tr>\n",
              "  </tbody>\n",
              "</table>\n",
              "</div>"
            ],
            "text/plain": [
              "   03/02  03/03  03/04\n",
              "0   1000   1100  1,510\n",
              "1   1410   1420  1,790\n",
              "2    850    900  1,185"
            ]
          },
          "execution_count": 84,
          "metadata": {},
          "output_type": "execute_result"
        }
      ],
      "source": [
        "df"
      ]
    },
    {
      "cell_type": "code",
      "execution_count": null,
      "id": "443abbc1",
      "metadata": {
        "id": "443abbc1",
        "outputId": "532eab69-da03-4245-96c9-481fff7e9abd"
      },
      "outputs": [
        {
          "data": {
            "text/html": [
              "<div>\n",
              "<style scoped>\n",
              "    .dataframe tbody tr th:only-of-type {\n",
              "        vertical-align: middle;\n",
              "    }\n",
              "\n",
              "    .dataframe tbody tr th {\n",
              "        vertical-align: top;\n",
              "    }\n",
              "\n",
              "    .dataframe thead th {\n",
              "        text-align: right;\n",
              "    }\n",
              "</style>\n",
              "<table border=\"1\" class=\"dataframe\">\n",
              "  <thead>\n",
              "    <tr style=\"text-align: right;\">\n",
              "      <th></th>\n",
              "      <th>03/02</th>\n",
              "      <th>03/03</th>\n",
              "      <th>03/04</th>\n",
              "    </tr>\n",
              "  </thead>\n",
              "  <tbody>\n",
              "    <tr>\n",
              "      <th>0</th>\n",
              "      <td>1,000</td>\n",
              "      <td>1,100</td>\n",
              "      <td>1,510</td>\n",
              "    </tr>\n",
              "    <tr>\n",
              "      <th>1</th>\n",
              "      <td>1,410</td>\n",
              "      <td>1,420</td>\n",
              "      <td>1,790</td>\n",
              "    </tr>\n",
              "    <tr>\n",
              "      <th>2</th>\n",
              "      <td>850</td>\n",
              "      <td>900</td>\n",
              "      <td>1,185</td>\n",
              "    </tr>\n",
              "  </tbody>\n",
              "</table>\n",
              "</div>"
            ],
            "text/plain": [
              "   03/02  03/03  03/04\n",
              "0  1,000  1,100  1,510\n",
              "1  1,410  1,420  1,790\n",
              "2    850    900  1,185"
            ]
          },
          "execution_count": 85,
          "metadata": {},
          "output_type": "execute_result"
        }
      ],
      "source": [
        "from pandas import DataFrame\n",
        "\n",
        "data = [\n",
        "    [\"1,000\", \"1,100\", '1,510'],\n",
        "    [\"1,410\", \"1,420\", '1,790'],\n",
        "    [\"850\", \"900\", '1,185'],\n",
        "]\n",
        "columns = [\"03/02\", \"03/03\", \"03/04\"]\n",
        "df = DataFrame(data=data, columns=columns)\n",
        "df"
      ]
    },
    {
      "cell_type": "code",
      "execution_count": null,
      "id": "242ed02c",
      "metadata": {
        "id": "242ed02c",
        "outputId": "b17fd76f-9488-4704-d6bf-d594f555aa3e"
      },
      "outputs": [
        {
          "data": {
            "text/html": [
              "<div>\n",
              "<style scoped>\n",
              "    .dataframe tbody tr th:only-of-type {\n",
              "        vertical-align: middle;\n",
              "    }\n",
              "\n",
              "    .dataframe tbody tr th {\n",
              "        vertical-align: top;\n",
              "    }\n",
              "\n",
              "    .dataframe thead th {\n",
              "        text-align: right;\n",
              "    }\n",
              "</style>\n",
              "<table border=\"1\" class=\"dataframe\">\n",
              "  <thead>\n",
              "    <tr style=\"text-align: right;\">\n",
              "      <th></th>\n",
              "      <th>03/02</th>\n",
              "      <th>03/03</th>\n",
              "      <th>03/04</th>\n",
              "    </tr>\n",
              "  </thead>\n",
              "  <tbody>\n",
              "    <tr>\n",
              "      <th>0</th>\n",
              "      <td>1000</td>\n",
              "      <td>1100</td>\n",
              "      <td>1510</td>\n",
              "    </tr>\n",
              "    <tr>\n",
              "      <th>1</th>\n",
              "      <td>1410</td>\n",
              "      <td>1420</td>\n",
              "      <td>1790</td>\n",
              "    </tr>\n",
              "    <tr>\n",
              "      <th>2</th>\n",
              "      <td>850</td>\n",
              "      <td>900</td>\n",
              "      <td>1185</td>\n",
              "    </tr>\n",
              "  </tbody>\n",
              "</table>\n",
              "</div>"
            ],
            "text/plain": [
              "   03/02  03/03  03/04\n",
              "0   1000   1100   1510\n",
              "1   1410   1420   1790\n",
              "2    850    900   1185"
            ]
          },
          "execution_count": 86,
          "metadata": {},
          "output_type": "execute_result"
        }
      ],
      "source": [
        "df = df.applymap(remove_comma)\n",
        "df"
      ]
    },
    {
      "cell_type": "code",
      "execution_count": null,
      "id": "2fb1d763",
      "metadata": {
        "id": "2fb1d763",
        "outputId": "9f05f35f-7c4c-4533-f637-7cd222bfbb31"
      },
      "outputs": [
        {
          "data": {
            "text/plain": [
              "03/02    int64\n",
              "03/03    int64\n",
              "03/04    int64\n",
              "dtype: object"
            ]
          },
          "execution_count": 88,
          "metadata": {},
          "output_type": "execute_result"
        }
      ],
      "source": [
        "df.dtypes"
      ]
    },
    {
      "cell_type": "markdown",
      "id": "35950abd",
      "metadata": {
        "id": "35950abd"
      },
      "source": [
        "## 4.13 컬럼 문자열 다루기"
      ]
    },
    {
      "cell_type": "code",
      "execution_count": null,
      "id": "636a743c",
      "metadata": {
        "id": "636a743c",
        "outputId": "23038e2c-460c-40a7-cae0-4998f2bc7a6e"
      },
      "outputs": [
        {
          "data": {
            "text/html": [
              "<div>\n",
              "<style scoped>\n",
              "    .dataframe tbody tr th:only-of-type {\n",
              "        vertical-align: middle;\n",
              "    }\n",
              "\n",
              "    .dataframe tbody tr th {\n",
              "        vertical-align: top;\n",
              "    }\n",
              "\n",
              "    .dataframe thead th {\n",
              "        text-align: right;\n",
              "    }\n",
              "</style>\n",
              "<table border=\"1\" class=\"dataframe\">\n",
              "  <thead>\n",
              "    <tr style=\"text-align: right;\">\n",
              "      <th></th>\n",
              "      <th>cd</th>\n",
              "      <th>nm</th>\n",
              "      <th>close</th>\n",
              "    </tr>\n",
              "  </thead>\n",
              "  <tbody>\n",
              "    <tr>\n",
              "      <th>0</th>\n",
              "      <td>A060310</td>\n",
              "      <td>3S</td>\n",
              "      <td>2,920</td>\n",
              "    </tr>\n",
              "    <tr>\n",
              "      <th>1</th>\n",
              "      <td>A095570</td>\n",
              "      <td>AJ네트웍스</td>\n",
              "      <td>6,250</td>\n",
              "    </tr>\n",
              "    <tr>\n",
              "      <th>2</th>\n",
              "      <td>A006840</td>\n",
              "      <td>AK홀딩스</td>\n",
              "      <td>29,700</td>\n",
              "    </tr>\n",
              "    <tr>\n",
              "      <th>3</th>\n",
              "      <td>A054620</td>\n",
              "      <td>APS홀딩스</td>\n",
              "      <td>19,400</td>\n",
              "    </tr>\n",
              "  </tbody>\n",
              "</table>\n",
              "</div>"
            ],
            "text/plain": [
              "        cd      nm   close\n",
              "0  A060310      3S   2,920\n",
              "1  A095570  AJ네트웍스   6,250\n",
              "2  A006840   AK홀딩스  29,700\n",
              "3  A054620  APS홀딩스  19,400"
            ]
          },
          "execution_count": 92,
          "metadata": {},
          "output_type": "execute_result"
        }
      ],
      "source": [
        "from pandas import DataFrame\n",
        "\n",
        "data = [\n",
        "    {\"cd\":\"A060310\", \"nm\":\"3S\", \"close\":\"2,920\"},\n",
        "    {\"cd\":\"A095570\", \"nm\":\"AJ네트웍스\", \"close\":\"6,250\"},\n",
        "    {\"cd\":\"A006840\", \"nm\":\"AK홀딩스\", \"close\":\"29,700\"},\n",
        "    {\"cd\":\"A054620\", \"nm\":\"APS홀딩스\", \"close\":\"19,400\"}\n",
        "]\n",
        "df = DataFrame(data=data)\n",
        "df"
      ]
    },
    {
      "cell_type": "code",
      "execution_count": null,
      "id": "3241b74f",
      "metadata": {
        "id": "3241b74f",
        "outputId": "571bd04a-40e6-4e7d-bf21-db97ee1e1cf4"
      },
      "outputs": [
        {
          "data": {
            "text/plain": [
              "cd       object\n",
              "nm       object\n",
              "close    object\n",
              "dtype: object"
            ]
          },
          "execution_count": 93,
          "metadata": {},
          "output_type": "execute_result"
        }
      ],
      "source": [
        "df.dtypes"
      ]
    },
    {
      "cell_type": "code",
      "execution_count": null,
      "id": "2aa7fb15",
      "metadata": {
        "id": "2aa7fb15"
      },
      "outputs": [],
      "source": [
        "df['cd'] = df['cd'].str[1:]"
      ]
    },
    {
      "cell_type": "code",
      "execution_count": null,
      "id": "abf50809",
      "metadata": {
        "id": "abf50809",
        "outputId": "87b2c336-ce31-46ad-f74b-2a38a8b072cc"
      },
      "outputs": [
        {
          "data": {
            "text/html": [
              "<div>\n",
              "<style scoped>\n",
              "    .dataframe tbody tr th:only-of-type {\n",
              "        vertical-align: middle;\n",
              "    }\n",
              "\n",
              "    .dataframe tbody tr th {\n",
              "        vertical-align: top;\n",
              "    }\n",
              "\n",
              "    .dataframe thead th {\n",
              "        text-align: right;\n",
              "    }\n",
              "</style>\n",
              "<table border=\"1\" class=\"dataframe\">\n",
              "  <thead>\n",
              "    <tr style=\"text-align: right;\">\n",
              "      <th></th>\n",
              "      <th>cd</th>\n",
              "      <th>nm</th>\n",
              "      <th>close</th>\n",
              "    </tr>\n",
              "  </thead>\n",
              "  <tbody>\n",
              "    <tr>\n",
              "      <th>0</th>\n",
              "      <td>060310</td>\n",
              "      <td>3S</td>\n",
              "      <td>2,920</td>\n",
              "    </tr>\n",
              "    <tr>\n",
              "      <th>1</th>\n",
              "      <td>095570</td>\n",
              "      <td>AJ네트웍스</td>\n",
              "      <td>6,250</td>\n",
              "    </tr>\n",
              "    <tr>\n",
              "      <th>2</th>\n",
              "      <td>006840</td>\n",
              "      <td>AK홀딩스</td>\n",
              "      <td>29,700</td>\n",
              "    </tr>\n",
              "    <tr>\n",
              "      <th>3</th>\n",
              "      <td>054620</td>\n",
              "      <td>APS홀딩스</td>\n",
              "      <td>19,400</td>\n",
              "    </tr>\n",
              "  </tbody>\n",
              "</table>\n",
              "</div>"
            ],
            "text/plain": [
              "       cd      nm   close\n",
              "0  060310      3S   2,920\n",
              "1  095570  AJ네트웍스   6,250\n",
              "2  006840   AK홀딩스  29,700\n",
              "3  054620  APS홀딩스  19,400"
            ]
          },
          "execution_count": 95,
          "metadata": {},
          "output_type": "execute_result"
        }
      ],
      "source": [
        "df"
      ]
    },
    {
      "cell_type": "code",
      "execution_count": null,
      "id": "4774624b",
      "metadata": {
        "id": "4774624b"
      },
      "outputs": [],
      "source": [
        "df['close'] = df['close'].str.replace(',', '')"
      ]
    },
    {
      "cell_type": "code",
      "execution_count": null,
      "id": "3074364b",
      "metadata": {
        "id": "3074364b",
        "outputId": "31494585-1be6-447d-b99d-f8e50fcc2753"
      },
      "outputs": [
        {
          "data": {
            "text/html": [
              "<div>\n",
              "<style scoped>\n",
              "    .dataframe tbody tr th:only-of-type {\n",
              "        vertical-align: middle;\n",
              "    }\n",
              "\n",
              "    .dataframe tbody tr th {\n",
              "        vertical-align: top;\n",
              "    }\n",
              "\n",
              "    .dataframe thead th {\n",
              "        text-align: right;\n",
              "    }\n",
              "</style>\n",
              "<table border=\"1\" class=\"dataframe\">\n",
              "  <thead>\n",
              "    <tr style=\"text-align: right;\">\n",
              "      <th></th>\n",
              "      <th>cd</th>\n",
              "      <th>nm</th>\n",
              "      <th>close</th>\n",
              "    </tr>\n",
              "  </thead>\n",
              "  <tbody>\n",
              "    <tr>\n",
              "      <th>0</th>\n",
              "      <td>060310</td>\n",
              "      <td>3S</td>\n",
              "      <td>2920</td>\n",
              "    </tr>\n",
              "    <tr>\n",
              "      <th>1</th>\n",
              "      <td>095570</td>\n",
              "      <td>AJ네트웍스</td>\n",
              "      <td>6250</td>\n",
              "    </tr>\n",
              "    <tr>\n",
              "      <th>2</th>\n",
              "      <td>006840</td>\n",
              "      <td>AK홀딩스</td>\n",
              "      <td>29700</td>\n",
              "    </tr>\n",
              "    <tr>\n",
              "      <th>3</th>\n",
              "      <td>054620</td>\n",
              "      <td>APS홀딩스</td>\n",
              "      <td>19400</td>\n",
              "    </tr>\n",
              "  </tbody>\n",
              "</table>\n",
              "</div>"
            ],
            "text/plain": [
              "       cd      nm  close\n",
              "0  060310      3S   2920\n",
              "1  095570  AJ네트웍스   6250\n",
              "2  006840   AK홀딩스  29700\n",
              "3  054620  APS홀딩스  19400"
            ]
          },
          "execution_count": 98,
          "metadata": {},
          "output_type": "execute_result"
        }
      ],
      "source": [
        "df"
      ]
    },
    {
      "cell_type": "code",
      "execution_count": null,
      "id": "1c0186cc",
      "metadata": {
        "id": "1c0186cc"
      },
      "outputs": [],
      "source": []
    }
  ],
  "metadata": {
    "kernelspec": {
      "display_name": "Python 3.8.8 64-bit ('base': conda)",
      "language": "python",
      "name": "python388jvsc74a57bd0fab3550d34a8c166fb3db63df53dae4e626d4e9fa380cffd1134373ef20e9fe2"
    },
    "language_info": {
      "codemirror_mode": {
        "name": "ipython",
        "version": 3
      },
      "file_extension": ".py",
      "mimetype": "text/x-python",
      "name": "python",
      "nbconvert_exporter": "python",
      "pygments_lexer": "ipython3",
      "version": "3.8.8"
    },
    "colab": {
      "provenance": []
    }
  },
  "nbformat": 4,
  "nbformat_minor": 5
}
