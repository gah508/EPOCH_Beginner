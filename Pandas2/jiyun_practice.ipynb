{
  "nbformat": 4,
  "nbformat_minor": 0,
  "metadata": {
    "colab": {
      "provenance": [],
      "authorship_tag": "ABX9TyNeyaP5p4d/SpSYnNH/04+v",
      "include_colab_link": true
    },
    "kernelspec": {
      "name": "python3",
      "display_name": "Python 3"
    },
    "language_info": {
      "name": "python"
    }
  },
  "cells": [
    {
      "cell_type": "markdown",
      "metadata": {
        "id": "view-in-github",
        "colab_type": "text"
      },
      "source": [
        "<a href=\"https://colab.research.google.com/github/gah508/EPOCH_Beginner/blob/main/Pandas2/jiyun_practice.ipynb\" target=\"_parent\"><img src=\"https://colab.research.google.com/assets/colab-badge.svg\" alt=\"Open In Colab\"/></a>"
      ]
    },
    {
      "cell_type": "markdown",
      "source": [
        "## Chapter 04. 판다스 데이터프레임 Part1"
      ],
      "metadata": {
        "id": "WFJBim6_tM5S"
      }
    },
    {
      "cell_type": "markdown",
      "source": [
        "### 4.8 컬럼 추가하기\n"
      ],
      "metadata": {
        "id": "g-zfZpYKrxbq"
      }
    },
    {
      "cell_type": "code",
      "execution_count": null,
      "metadata": {
        "id": "ugEFsxuhrEs4"
      },
      "outputs": [],
      "source": [
        "# 데이터 프레임 만들기\n",
        "\n",
        "from pandas import DataFrame, Series\n",
        "\n",
        "data = [\n",
        "    [\"3R\", 1510, 7.36],\n",
        "    [\"3SOFT\", 1790, 1.65],\n",
        "    [\"ACTS\", 1185, 1.28]\n",
        "]\n",
        "\n",
        "index = [\"037730\", \"036360\", \"005760\"]\n",
        "columns = [\"종목명\", \"현재가\", \"등락률\"]\n",
        "\n",
        "df = DataFrame(data=data, index= index, columns=columns)"
      ]
    },
    {
      "cell_type": "code",
      "source": [
        "# 컬럼 추가\n",
        "\n",
        "s = Series(data=[1600, 1600, 1600], index=df.index) # df의 행 개수와 같은 세 개의 값 저장, 동일한 인덱스\n",
        "df['목표가'] = s\n",
        "print(df)"
      ],
      "metadata": {
        "colab": {
          "base_uri": "https://localhost:8080/"
        },
        "id": "L6xAIB6svjUe",
        "outputId": "114b7d9c-f672-4139-caa6-2c820a7abf36"
      },
      "execution_count": null,
      "outputs": [
        {
          "output_type": "stream",
          "name": "stdout",
          "text": [
            "          종목명   현재가   등락률   목표가\n",
            "037730     3R  1510  7.36  1600\n",
            "036360  3SOFT  1790  1.65  1600\n",
            "005760   ACTS  1185  1.28  1600\n"
          ]
        }
      ]
    },
    {
      "cell_type": "code",
      "source": [
        "# 생략\n",
        "\n",
        "df['목표가'] = 1600\n",
        "print(df)"
      ],
      "metadata": {
        "colab": {
          "base_uri": "https://localhost:8080/"
        },
        "id": "QuKcoxzDzne2",
        "outputId": "806e6fc6-50e2-4efc-b741-3fc4b8ff3453"
      },
      "execution_count": null,
      "outputs": [
        {
          "output_type": "stream",
          "name": "stdout",
          "text": [
            "          종목명   현재가   등락률   목표가\n",
            "037730     3R  1510  7.36  1600\n",
            "036360  3SOFT  1790  1.65  1600\n",
            "005760   ACTS  1185  1.28  1600\n"
          ]
        }
      ]
    },
    {
      "cell_type": "code",
      "source": [
        "# 기존 시리즈 간의 연산을 통해 새로운 컬럼 추가\n",
        "\n",
        "df[\"괴리율\"] = (df[\"목표가\"] - df[\"현재가\"]) / df[\"현재가\"] # 두 객체가 같은 인덱스를 갖기 때문에 사칙연산 적용 가능\n",
        "print(df)"
      ],
      "metadata": {
        "colab": {
          "base_uri": "https://localhost:8080/"
        },
        "id": "rJy1eA2-z00Z",
        "outputId": "17c171be-52cc-44f9-b954-f52c98190768"
      },
      "execution_count": null,
      "outputs": [
        {
          "output_type": "stream",
          "name": "stdout",
          "text": [
            "          종목명   현재가   등락률   목표가       괴리율\n",
            "037730     3R  1510  7.36  1600  0.059603\n",
            "036360  3SOFT  1790  1.65  1600 -0.106145\n",
            "005760   ACTS  1185  1.28  1600  0.350211\n"
          ]
        }
      ]
    },
    {
      "cell_type": "markdown",
      "source": [
        "### 4.9 로우 추가하기"
      ],
      "metadata": {
        "id": "Ywx6hOUQ0XHV"
      }
    },
    {
      "cell_type": "code",
      "source": [
        "# 데이터 프레임 만들기\n",
        "\n",
        "from pandas import DataFrame\n",
        "\n",
        "data = [\n",
        "    [\"3R\", 1510, 7.36],\n",
        "    [\"3SOFT\", 1790, 1.65],\n",
        "    [\"ACTS\", 1185, 1.28]\n",
        "]\n",
        "\n",
        "index = [\"037730\", \"036360\", \"005760\"]\n",
        "columns = [\"종목명\", \"현재가\", \"등락률\"]\n",
        "df = DataFrame(data=data, index=index, columns=columns)"
      ],
      "metadata": {
        "id": "sUdyGIeY0Wnd"
      },
      "execution_count": null,
      "outputs": []
    },
    {
      "cell_type": "code",
      "source": [
        "# 로우 추가하기\n",
        "\n",
        "from pandas import Series\n",
        "\n",
        "s = Series(data=[\"LG전자\", 60000, 3.84], index = df.columns) # 하나의 로우를 표현할 것이기 때문에 시리즈 객체의 인덱스는 df의 컬럼명\n",
        "df.loc [\"066570\"] = s\n",
        "print(df)"
      ],
      "metadata": {
        "colab": {
          "base_uri": "https://localhost:8080/"
        },
        "id": "n06WIwmi0yih",
        "outputId": "801d76c5-1b24-4624-8b1b-e7a3060cab41"
      },
      "execution_count": null,
      "outputs": [
        {
          "output_type": "stream",
          "name": "stdout",
          "text": [
            "          종목명    현재가   등락률\n",
            "037730     3R   1510  7.36\n",
            "036360  3SOFT   1790  1.65\n",
            "005760   ACTS   1185  1.28\n",
            "066570   LG전자  60000  3.84\n"
          ]
        }
      ]
    },
    {
      "cell_type": "code",
      "source": [
        "# 간단한 표현\n",
        "\n",
        "# 우변의 리스트를 시리즈로 변경하고 df과 같은 컬럼 레이블을 갖도록 자동 변환\n",
        "df.loc[\"066570\"] = [\"LG전자\", 60000, 3.84]\n",
        "print(df)"
      ],
      "metadata": {
        "colab": {
          "base_uri": "https://localhost:8080/"
        },
        "id": "mFnV1E3i10O1",
        "outputId": "a0607030-4226-4392-9a8a-4e68ae6d4933"
      },
      "execution_count": null,
      "outputs": [
        {
          "output_type": "stream",
          "name": "stdout",
          "text": [
            "          종목명    현재가   등락률\n",
            "037730     3R   1510  7.36\n",
            "036360  3SOFT   1790  1.65\n",
            "005760   ACTS   1185  1.28\n",
            "066570   LG전자  60000  3.84\n"
          ]
        }
      ]
    },
    {
      "cell_type": "code",
      "source": [
        "# append 메서드를 이용한 로우 추가\n",
        "\n",
        "import pandas as pd\n",
        "from pandas import Series\n",
        "\n",
        "s = Series(data=[\"LG전자\", 60000, 3.84], index = df.columns, name = \"066570\") # df의 인덱스로 사용될 종목코드는 시리즈 객체의 name 속성으로 전달\n",
        "# new_df = df.append(s)\n",
        "# print(new_df)\n",
        "# https://growingegg.tistory.com/146\n",
        "# 이걸 보면 판다스 2.0부터는 append를 지원해주지 않는 듯함 !\n",
        "\n",
        "# new = pd.DataFrame({s})\n",
        "# df = pd.concat([df, s.T], ignore_index = True)\n",
        "# print(df)"
      ],
      "metadata": {
        "colab": {
          "base_uri": "https://localhost:8080/",
          "height": 224
        },
        "id": "eQf4OF632ftw",
        "outputId": "4a5a26e3-605b-4d2f-9eef-33765d14d0b9"
      },
      "execution_count": null,
      "outputs": [
        {
          "output_type": "error",
          "ename": "TypeError",
          "evalue": "unhashable type: 'Series'",
          "traceback": [
            "\u001b[0;31m---------------------------------------------------------------------------\u001b[0m",
            "\u001b[0;31mTypeError\u001b[0m                                 Traceback (most recent call last)",
            "\u001b[0;32m<ipython-input-102-be7e500ae39b>\u001b[0m in \u001b[0;36m<cell line: 12>\u001b[0;34m()\u001b[0m\n\u001b[1;32m     10\u001b[0m \u001b[0;31m# 이걸 보면 판다스 2.0부터는 append를 지원해주지 않는 듯함 !\u001b[0m\u001b[0;34m\u001b[0m\u001b[0;34m\u001b[0m\u001b[0m\n\u001b[1;32m     11\u001b[0m \u001b[0;34m\u001b[0m\u001b[0m\n\u001b[0;32m---> 12\u001b[0;31m \u001b[0mnew\u001b[0m \u001b[0;34m=\u001b[0m \u001b[0mpd\u001b[0m\u001b[0;34m.\u001b[0m\u001b[0mDataFrame\u001b[0m\u001b[0;34m(\u001b[0m\u001b[0;34m{\u001b[0m\u001b[0ms\u001b[0m\u001b[0;34m}\u001b[0m\u001b[0;34m)\u001b[0m\u001b[0;34m\u001b[0m\u001b[0;34m\u001b[0m\u001b[0m\n\u001b[0m\u001b[1;32m     13\u001b[0m \u001b[0mdf\u001b[0m \u001b[0;34m=\u001b[0m \u001b[0mpd\u001b[0m\u001b[0;34m.\u001b[0m\u001b[0mconcat\u001b[0m\u001b[0;34m(\u001b[0m\u001b[0;34m[\u001b[0m\u001b[0mdf\u001b[0m\u001b[0;34m,\u001b[0m \u001b[0ms\u001b[0m\u001b[0;34m.\u001b[0m\u001b[0mT\u001b[0m\u001b[0;34m]\u001b[0m\u001b[0;34m,\u001b[0m \u001b[0mignore_index\u001b[0m \u001b[0;34m=\u001b[0m \u001b[0;32mTrue\u001b[0m\u001b[0;34m)\u001b[0m\u001b[0;34m\u001b[0m\u001b[0;34m\u001b[0m\u001b[0m\n\u001b[1;32m     14\u001b[0m \u001b[0mprint\u001b[0m\u001b[0;34m(\u001b[0m\u001b[0mdf\u001b[0m\u001b[0;34m)\u001b[0m\u001b[0;34m\u001b[0m\u001b[0;34m\u001b[0m\u001b[0m\n",
            "\u001b[0;31mTypeError\u001b[0m: unhashable type: 'Series'"
          ]
        }
      ]
    },
    {
      "cell_type": "markdown",
      "source": [],
      "metadata": {
        "id": "MrFOybHFz-dg"
      }
    },
    {
      "cell_type": "markdown",
      "source": [
        "### 4.10 컬럼/로우 삭제하기"
      ],
      "metadata": {
        "id": "p8Lq8vtk5yeP"
      }
    },
    {
      "cell_type": "code",
      "source": [
        "from pandas import DataFrame\n",
        "\n",
        "data = [\n",
        "    [\"3R\", 1510, 7.36],\n",
        "    [\"3SOFT\", 1790, 1.65],\n",
        "    [\"ACTS\", 1185, 1.28]\n",
        "]\n",
        "\n",
        "index = [\"037730\", \"036360\", \"005760\"]\n",
        "columns = [\"종목명\", \"현재가\", \"등락률\"]\n",
        "df = DataFrame(data=data, index=index, columns=columns)\n",
        "\n",
        "# 인덱스 또는 컬럼명을 사용해서 데이터를 삭제하는 drop메서드\n",
        "# axis = 1은 컬럼 삭제 / axis = 0은 로우 삭제\n",
        "\n",
        "# 특정 컬럼 삭제\n",
        "df_new = df.drop(\"현재가\", axis=1)\n",
        "print(df)\n",
        "print(df_new)\n",
        "# drop 메서드는 원본 df를 변경하는 것이 아닌 새로운 df를 추가로 리턴함"
      ],
      "metadata": {
        "colab": {
          "base_uri": "https://localhost:8080/"
        },
        "id": "O04WKaBT5tIF",
        "outputId": "09ea09cf-dbd9-4163-b0fb-5b1795625359"
      },
      "execution_count": null,
      "outputs": [
        {
          "output_type": "stream",
          "name": "stdout",
          "text": [
            "          종목명   현재가   등락률\n",
            "037730     3R  1510  7.36\n",
            "036360  3SOFT  1790  1.65\n",
            "005760   ACTS  1185  1.28\n",
            "          종목명   등락률\n",
            "037730     3R  7.36\n",
            "036360  3SOFT  1.65\n",
            "005760   ACTS  1.28\n"
          ]
        }
      ]
    },
    {
      "cell_type": "code",
      "source": [
        "# 특정 로우 삭제\n",
        "df_new = df.drop(\"037730\", axis = 0)\n",
        "print(df)\n",
        "print(df_new)"
      ],
      "metadata": {
        "colab": {
          "base_uri": "https://localhost:8080/"
        },
        "id": "ob5TcBmf9WY4",
        "outputId": "ea7b1506-d798-44a4-aa5d-86d53f2339b6"
      },
      "execution_count": null,
      "outputs": [
        {
          "output_type": "stream",
          "name": "stdout",
          "text": [
            "          종목명   현재가   등락률\n",
            "037730     3R  1510  7.36\n",
            "036360  3SOFT  1790  1.65\n",
            "005760   ACTS  1185  1.28\n",
            "          종목명   현재가   등락률\n",
            "036360  3SOFT  1790  1.65\n",
            "005760   ACTS  1185  1.28\n"
          ]
        }
      ]
    },
    {
      "cell_type": "code",
      "source": [
        "# 원본 df을 변경\n",
        "df.drop(\"037730\", axis = 0, inplace=True)\n",
        "print(df)"
      ],
      "metadata": {
        "colab": {
          "base_uri": "https://localhost:8080/"
        },
        "id": "pJZJa4A4-nnm",
        "outputId": "25867de5-ef34-49f3-f678-01334bc61870"
      },
      "execution_count": null,
      "outputs": [
        {
          "output_type": "stream",
          "name": "stdout",
          "text": [
            "          종목명   현재가   등락률\n",
            "036360  3SOFT  1790  1.65\n",
            "005760   ACTS  1185  1.28\n"
          ]
        }
      ]
    },
    {
      "cell_type": "code",
      "source": [
        "# 한 번에 여러 개의 로우나 컬럼 삭제\n",
        "\n",
        "# 리스트 형태로 인덱스나 컬럼의 레이블을 넘겨준다\n",
        "df.drop([\"037730\", \"005760\"], axis = 0 , inplace=True)\n",
        "print(df)"
      ],
      "metadata": {
        "colab": {
          "base_uri": "https://localhost:8080/"
        },
        "id": "Aowjo3pe_BoG",
        "outputId": "e69a9f54-3f4b-43e1-de76-d8de71df0753"
      },
      "execution_count": null,
      "outputs": [
        {
          "output_type": "stream",
          "name": "stdout",
          "text": [
            "          종목명   현재가   등락률\n",
            "036360  3SOFT  1790  1.65\n"
          ]
        }
      ]
    },
    {
      "cell_type": "markdown",
      "source": [
        "### 4.11 컬럼 레이블 변경"
      ],
      "metadata": {
        "id": "hefcJe0Z_eOB"
      }
    },
    {
      "cell_type": "code",
      "source": [
        "# 데이터 프레임 만들기\n",
        "from pandas import DataFrame\n",
        "\n",
        "data = [\n",
        "    [\"3R\", 1510, 7.36],\n",
        "    [\"3SOFT\", 1790, 1.65],\n",
        "    [\"ACTS\", 1185, 1.28]\n",
        "]\n",
        "\n",
        "index = [\"037730\", \"036360\", \"005760\"] # 클래스의 인스턴스 변수 이름(소문자)\n",
        "columns = [\"종목명\", \"현재가\", \"등락률\"]\n",
        "df = DataFrame(data=data, index=index, columns=columns)\n",
        "print(df.columns)\n",
        "print(df.index)\n",
        "\n",
        "# 실행결과: Index는 클래스(대문자)"
      ],
      "metadata": {
        "colab": {
          "base_uri": "https://localhost:8080/"
        },
        "id": "3d-0YYGR_Z6g",
        "outputId": "f6e5ee10-c1b7-4360-9872-5ae8967ef830"
      },
      "execution_count": null,
      "outputs": [
        {
          "output_type": "stream",
          "name": "stdout",
          "text": [
            "Index(['종목명', '현재가', '등락률'], dtype='object')\n",
            "Index(['037730', '036360', '005760'], dtype='object')\n"
          ]
        }
      ]
    },
    {
      "cell_type": "code",
      "source": [
        "# 컬럼 레이블 변경\n",
        "\n",
        "# 변경하려는 컬럼 레이블 개수와 기존 정의된 레이블 개수가 동일할 것\n",
        "df.columns = [\"name\", \"close\", \"fluctuation\"]\n",
        "df.index.name = 'code' # 인덱스의 이름을 변경\n",
        "print(df)"
      ],
      "metadata": {
        "colab": {
          "base_uri": "https://localhost:8080/"
        },
        "id": "mf5JCkbh_3St",
        "outputId": "e77eace1-36a2-4053-8248-996c43eebcec"
      },
      "execution_count": null,
      "outputs": [
        {
          "output_type": "stream",
          "name": "stdout",
          "text": [
            "         name  close  fluctuation\n",
            "code                             \n",
            "037730     3R   1510         7.36\n",
            "036360  3SOFT   1790         1.65\n",
            "005760   ACTS   1185         1.28\n"
          ]
        }
      ]
    },
    {
      "cell_type": "code",
      "source": [
        "# rename 메서드를 이용한 컬럼 레이블 변경\n",
        "\n",
        "# {\"변경 전 이름\": \"변경 후 이름\"} / 컬럼명 중 일부만을 변경하고자 할 때 유용\n",
        "data = [\n",
        "    [\"3R\", 1510, 7.36],\n",
        "    [\"3SOFT\", 1790, 1.65],\n",
        "    [\"ACTS\", 1185, 1.28]\n",
        "]\n",
        "\n",
        "index = [\"037730\", \"036360\", \"005760\"]\n",
        "columns = [\"종목명\", \"현재가\", \"등락률\"]\n",
        "df = DataFrame(data=data, index=index, columns=columns)\n",
        "df.rename(columns={\"종목명\":\"code\"}, inplace=True) # 'inplace=True'는 원본 df를 바로 수정하는 옵셥\n",
        "print(df)"
      ],
      "metadata": {
        "colab": {
          "base_uri": "https://localhost:8080/"
        },
        "id": "h4FXZFCWCWjE",
        "outputId": "88f2c359-8858-4b97-8a39-0fd5914f0b9c"
      },
      "execution_count": null,
      "outputs": [
        {
          "output_type": "stream",
          "name": "stdout",
          "text": [
            "         code   현재가   등락률\n",
            "037730     3R  1510  7.36\n",
            "036360  3SOFT  1790  1.65\n",
            "005760   ACTS  1185  1.28\n"
          ]
        }
      ]
    },
    {
      "cell_type": "markdown",
      "source": [
        "### 4.12 데이터 타입 변경"
      ],
      "metadata": {
        "id": "fDjV8DA3DY7_"
      }
    },
    {
      "cell_type": "code",
      "source": [
        "# 문자열 타입의 현재가로 데이터 프레임 만들기\n",
        "\n",
        "from pandas import DataFrame\n",
        "\n",
        "data = [\n",
        "    [\"1,000\", \"1,100\", \"1,510\"],\n",
        "    [\"1,410\", \"1,420\", \"1,790\"],\n",
        "    [\"850\", \"900\", \"1,185\"]\n",
        "]\n",
        "\n",
        "columns = [\"03/02\", \"03/03\", \"03/04\"]\n",
        "df = DataFrame(data=data, columns=columns)\n",
        "print(df)"
      ],
      "metadata": {
        "colab": {
          "base_uri": "https://localhost:8080/"
        },
        "id": "2Y0tZlmwDYgv",
        "outputId": "0a62bea9-c0a6-4135-c812-e88f24361e53"
      },
      "execution_count": null,
      "outputs": [
        {
          "output_type": "stream",
          "name": "stdout",
          "text": [
            "   03/02  03/03  03/04\n",
            "0  1,000  1,100  1,510\n",
            "1  1,410  1,420  1,790\n",
            "2    850    900  1,185\n"
          ]
        }
      ]
    },
    {
      "cell_type": "code",
      "source": [
        "# map 메서드를 사용한 데이터타입 변경\n",
        "\n",
        "from pandas import DataFrame\n",
        "\n",
        "data = [\n",
        "    [\"1,000\", \"1,100\", \"1,510\"],\n",
        "    [\"1,410\", \"1,420\", \"1,790\"],\n",
        "    [\"850\", \"900\", \"1,185\"]\n",
        "]\n",
        "\n",
        "columns = [\"03/02\", \"03/03\", \"03/04\"]\n",
        "df = DataFrame(data=data, columns=columns)\n",
        "\n",
        "def remove_comma(x):\n",
        "    return int(x.replace(',', ''))\n",
        "# 콤마를 제거하고 정수로 변경\n",
        "\n",
        "df['03/02'] = df['03/02'].map(remove_comma)\n",
        "df['03/03'] = df['03/03'].map(remove_comma)\n",
        "df['03/04'] = df['03/04'].map(remove_comma)\n",
        "print(df)"
      ],
      "metadata": {
        "colab": {
          "base_uri": "https://localhost:8080/"
        },
        "id": "mOosMhq_F4Eg",
        "outputId": "15f414c0-4d67-40bb-f95b-804d89530180"
      },
      "execution_count": null,
      "outputs": [
        {
          "output_type": "stream",
          "name": "stdout",
          "text": [
            "   03/02  03/03  03/04\n",
            "0   1000   1100   1510\n",
            "1   1410   1420   1790\n",
            "2    850    900   1185\n"
          ]
        }
      ]
    },
    {
      "cell_type": "code",
      "source": [
        "# applymap 메서드를 사용한 데이터타입 변경\n",
        "# 전체 데이터에 연산을 적용\n",
        "\n",
        "from pandas import DataFrame\n",
        "\n",
        "data = [\n",
        "    [\"1,000\", \"1,100\", \"1,510\"],\n",
        "    [\"1,410\", \"1,420\", \"1,790\"],\n",
        "    [\"850\", \"900\", \"1,185\"]\n",
        "]\n",
        "\n",
        "columns = [\"03/02\", \"03/03\", \"03/04\"]\n",
        "df = DataFrame(data=data, columns=columns)\n",
        "\n",
        "def remove_comma(x):\n",
        "    return int(x.replace(',', ''))\n",
        "\n",
        "df = df.applymap(remove_comma)\n",
        "print(df)\n",
        "print(df.dtypes)"
      ],
      "metadata": {
        "colab": {
          "base_uri": "https://localhost:8080/"
        },
        "id": "t5yJMh-pGmbd",
        "outputId": "c0974c00-9d1c-4add-d2c8-6121cbf379e8"
      },
      "execution_count": null,
      "outputs": [
        {
          "output_type": "stream",
          "name": "stdout",
          "text": [
            "   03/02  03/03  03/04\n",
            "0   1000   1100   1510\n",
            "1   1410   1420   1790\n",
            "2    850    900   1185\n",
            "03/02    int64\n",
            "03/03    int64\n",
            "03/04    int64\n",
            "dtype: object\n"
          ]
        },
        {
          "output_type": "stream",
          "name": "stderr",
          "text": [
            "<ipython-input-54-3c7ecd76c72b>:18: FutureWarning: DataFrame.applymap has been deprecated. Use DataFrame.map instead.\n",
            "  df = df.applymap(remove_comma)\n"
          ]
        }
      ]
    },
    {
      "cell_type": "code",
      "source": [
        "# astype 메서드를 활용한 데이터 타입 변경\n",
        "\n",
        "import numpy as np\n",
        "from pandas import DataFrame\n",
        "\n",
        "def remove_comma(x):\n",
        "    return x.replace(',', '') # 타입 변환 함수(astype) 사용을 위해 int 호출X\n",
        "\n",
        "data = [\n",
        "    [\"1,000\", \"1,100\", \"1,510\"],\n",
        "    [\"1,410\", \"1,420\", \"1,790\"],\n",
        "    [\"850\", \"900\", \"1,185\"]\n",
        "]\n",
        "\n",
        "columns = [\"03/02\", \"03/03\", \"03/04\"]\n",
        "df = DataFrame(data=data, columns=columns)\n",
        "df = df.applymap(remove_comma)\n",
        "df = df.astype({\"03/02\": np.int64, \"03/03\": np.int64, \"03/04\": np.int64})\n",
        "print(df)\n",
        "print(df.dtypes)"
      ],
      "metadata": {
        "colab": {
          "base_uri": "https://localhost:8080/"
        },
        "id": "CO9m5_whHZ-p",
        "outputId": "24c5a367-c646-44b0-85ab-082a89d00ec4"
      },
      "execution_count": null,
      "outputs": [
        {
          "output_type": "stream",
          "name": "stdout",
          "text": [
            "   03/02  03/03  03/04\n",
            "0   1000   1100   1510\n",
            "1   1410   1420   1790\n",
            "2    850    900   1185\n",
            "03/02    int64\n",
            "03/03    int64\n",
            "03/04    int64\n",
            "dtype: object\n"
          ]
        },
        {
          "output_type": "stream",
          "name": "stderr",
          "text": [
            "<ipython-input-2-56c2823460c1>:17: FutureWarning: DataFrame.applymap has been deprecated. Use DataFrame.map instead.\n",
            "  df = df.applymap(remove_comma)\n"
          ]
        }
      ]
    },
    {
      "cell_type": "markdown",
      "source": [
        "### 4.13 컬럼의 문자열 다루기"
      ],
      "metadata": {
        "id": "v4Y4iFdEc9BU"
      }
    },
    {
      "cell_type": "code",
      "source": [
        "# 문자열 데이터로 구성된 데이터 프레임 만들기\n",
        "from pandas import DataFrame\n",
        "import numpy as np\n",
        "\n",
        "data = [\n",
        "    {\"cd\":\"A060310\", \"nm\":\"3S\", \"close\":\"2,920\"},\n",
        "    {\"cd\":\"A095570\", \"nm\":\"AJ네트웍스\", \"close\":\"6,250\"},\n",
        "    {\"cd\":\"A006840\", \"nm\":\"AK홀딩스\", \"close\":\"29,700\"},\n",
        "    {\"cd\":\"A054620\", \"nm\":\"APS홀딩스\", \"close\":\"19,400\"}\n",
        "]\n",
        "df = DataFrame(data=data)\n",
        "print(df)"
      ],
      "metadata": {
        "colab": {
          "base_uri": "https://localhost:8080/"
        },
        "id": "jeSBNLihcJ1R",
        "outputId": "73519fd4-9d68-49cd-989f-6e158ea15111"
      },
      "execution_count": null,
      "outputs": [
        {
          "output_type": "stream",
          "name": "stdout",
          "text": [
            "        cd      nm   close\n",
            "0  A060310      3S   2,920\n",
            "1  A095570  AJ네트웍스   6,250\n",
            "2  A006840   AK홀딩스  29,700\n",
            "3  A054620  APS홀딩스  19,400\n"
          ]
        }
      ]
    },
    {
      "cell_type": "code",
      "source": [
        "# 'cd'컬럼 종목코드에서 A를 제거한 나머지 6자리 슬라이싱 / 시리즈의 모든 데이터에 반복 적용\n",
        "df['cd'] = df['cd'].str[1:]"
      ],
      "metadata": {
        "id": "Nzcqd7A0dm2H"
      },
      "execution_count": null,
      "outputs": []
    },
    {
      "cell_type": "code",
      "source": [
        "# 'close' 컬럼 콤마 제거\n",
        "df['close'] = df['close'].str.replace(',', '').astype(np.int64)"
      ],
      "metadata": {
        "id": "SgQu0_hWeqly"
      },
      "execution_count": null,
      "outputs": []
    },
    {
      "cell_type": "code",
      "source": [
        "print(df)"
      ],
      "metadata": {
        "colab": {
          "base_uri": "https://localhost:8080/"
        },
        "id": "G3mSc8defHo3",
        "outputId": "4bdc244a-99e1-4dd6-a784-14ad8f0a214d"
      },
      "execution_count": null,
      "outputs": [
        {
          "output_type": "stream",
          "name": "stdout",
          "text": [
            "       cd      nm  close\n",
            "0  060310      3S   2920\n",
            "1  095570  AJ네트웍스   6250\n",
            "2  006840   AK홀딩스  29700\n",
            "3  054620  APS홀딩스  19400\n"
          ]
        }
      ]
    },
    {
      "cell_type": "markdown",
      "source": [
        "## Chapter 05. 판다스 데이터프레임 Part2"
      ],
      "metadata": {
        "id": "4ZfKyNBFfY5e"
      }
    },
    {
      "cell_type": "markdown",
      "source": [
        "### 5.1 Query"
      ],
      "metadata": {
        "id": "vKnHhSh-famu"
      }
    },
    {
      "cell_type": "code",
      "source": [
        "# 데이터 프레임 만들기\n",
        "\n",
        "from pandas import DataFrame\n",
        "\n",
        "data = [\n",
        "    {\"cd\":\"A060310\", \"nm\":\"3S\", \"open\":2920, \"close\":2800},\n",
        "    {\"cd\":\"A095570\", \"nm\":\"AJ네트웍스\", \"open\":1920, \"close\":1900},\n",
        "    {\"cd\":\"A006840\", \"nm\":\"AK홀딩스\", \"open\":2020, \"close\":2010},\n",
        "    {\"cd\":\"A054620\", \"nm\":\"APS홀딩스\", \"open\":3120, \"close\":3200}\n",
        "]\n",
        "df = DataFrame(data=data)\n",
        "df = df.set_index(\"cd\")\n",
        "print(df)"
      ],
      "metadata": {
        "colab": {
          "base_uri": "https://localhost:8080/"
        },
        "id": "Thx4wGDsgtms",
        "outputId": "3193af08-c78a-4e37-db01-207ce6c20299"
      },
      "execution_count": null,
      "outputs": [
        {
          "output_type": "stream",
          "name": "stdout",
          "text": [
            "             nm  open  close\n",
            "cd                          \n",
            "A060310      3S  2920   2800\n",
            "A095570  AJ네트웍스  1920   1900\n",
            "A006840   AK홀딩스  2020   2010\n",
            "A054620  APS홀딩스  3120   3200\n"
          ]
        }
      ]
    },
    {
      "cell_type": "code",
      "source": [
        "# 불린형 데이터: 시가가 2,000 이상인 값만 슬라이싱\n",
        "cond = df['open'] >= 2000\n",
        "print(df[cond])"
      ],
      "metadata": {
        "colab": {
          "base_uri": "https://localhost:8080/"
        },
        "id": "iS4pJE9Vhyqr",
        "outputId": "60f8d70e-5615-4a93-bf19-400aac6d7e64"
      },
      "execution_count": null,
      "outputs": [
        {
          "output_type": "stream",
          "name": "stdout",
          "text": [
            "             nm  open  close\n",
            "cd                          \n",
            "A060310      3S  2920   2800\n",
            "A006840   AK홀딩스  2020   2010\n",
            "A054620  APS홀딩스  3120   3200\n"
          ]
        }
      ]
    },
    {
      "cell_type": "code",
      "source": [
        "# query 메서드로 필터링\n",
        "\n",
        "print(df.query(\"nm == '3S'\")) # 큰 따옴표와 작은 따옴표로 전체 쿼리, 문자열을 구분\n",
        "# nm이라는 컬럼에서 3S라는 값을 갖는 데이터를 필터링\n",
        "\n",
        "print(df.query(\"open > close\"))\n",
        "# 종가가 시가보다 큰 상승 마감한 데이터만 출력\n",
        "\n",
        "print(df.query(\"nm in ['3S', 'AK홀딩스']\"))\n",
        "# in 연산자: 뒤에 나오는 자료구조에서 나열된 데이터만 을 선택 <-> not in: 포함되지 않는 종목만을 선택\n",
        "\n",
        "print(df.query(\"cd == 'A060310'\"))\n",
        "# 인덱스를 기준으로 조회\n",
        "\n",
        "name = \"AJ네트웍스\"\n",
        "df.query('nm == @name')\n",
        "# \"@\" 키워드를 사용하면 파이썬 변수를 참조할 수 있음"
      ],
      "metadata": {
        "colab": {
          "base_uri": "https://localhost:8080/",
          "height": 392
        },
        "id": "49rubNk3h-76",
        "outputId": "6057c310-47e7-44ad-a5fb-955764a1d2a6"
      },
      "execution_count": null,
      "outputs": [
        {
          "output_type": "stream",
          "name": "stdout",
          "text": [
            "         nm  open  close\n",
            "cd                      \n",
            "A060310  3S  2920   2800\n",
            "             nm  open  close\n",
            "cd                          \n",
            "A060310      3S  2920   2800\n",
            "A095570  AJ네트웍스  1920   1900\n",
            "A006840   AK홀딩스  2020   2010\n",
            "            nm  open  close\n",
            "cd                         \n",
            "A060310     3S  2920   2800\n",
            "A006840  AK홀딩스  2020   2010\n",
            "         nm  open  close\n",
            "cd                      \n",
            "A060310  3S  2920   2800\n"
          ]
        },
        {
          "output_type": "execute_result",
          "data": {
            "text/plain": [
              "             nm  open  close\n",
              "cd                          \n",
              "A095570  AJ네트웍스  1920   1900"
            ],
            "text/html": [
              "\n",
              "  <div id=\"df-135dfc31-9cf9-46ab-bd23-b68be9ddfd76\" class=\"colab-df-container\">\n",
              "    <div>\n",
              "<style scoped>\n",
              "    .dataframe tbody tr th:only-of-type {\n",
              "        vertical-align: middle;\n",
              "    }\n",
              "\n",
              "    .dataframe tbody tr th {\n",
              "        vertical-align: top;\n",
              "    }\n",
              "\n",
              "    .dataframe thead th {\n",
              "        text-align: right;\n",
              "    }\n",
              "</style>\n",
              "<table border=\"1\" class=\"dataframe\">\n",
              "  <thead>\n",
              "    <tr style=\"text-align: right;\">\n",
              "      <th></th>\n",
              "      <th>nm</th>\n",
              "      <th>open</th>\n",
              "      <th>close</th>\n",
              "    </tr>\n",
              "    <tr>\n",
              "      <th>cd</th>\n",
              "      <th></th>\n",
              "      <th></th>\n",
              "      <th></th>\n",
              "    </tr>\n",
              "  </thead>\n",
              "  <tbody>\n",
              "    <tr>\n",
              "      <th>A095570</th>\n",
              "      <td>AJ네트웍스</td>\n",
              "      <td>1920</td>\n",
              "      <td>1900</td>\n",
              "    </tr>\n",
              "  </tbody>\n",
              "</table>\n",
              "</div>\n",
              "    <div class=\"colab-df-buttons\">\n",
              "\n",
              "  <div class=\"colab-df-container\">\n",
              "    <button class=\"colab-df-convert\" onclick=\"convertToInteractive('df-135dfc31-9cf9-46ab-bd23-b68be9ddfd76')\"\n",
              "            title=\"Convert this dataframe to an interactive table.\"\n",
              "            style=\"display:none;\">\n",
              "\n",
              "  <svg xmlns=\"http://www.w3.org/2000/svg\" height=\"24px\" viewBox=\"0 -960 960 960\">\n",
              "    <path d=\"M120-120v-720h720v720H120Zm60-500h600v-160H180v160Zm220 220h160v-160H400v160Zm0 220h160v-160H400v160ZM180-400h160v-160H180v160Zm440 0h160v-160H620v160ZM180-180h160v-160H180v160Zm440 0h160v-160H620v160Z\"/>\n",
              "  </svg>\n",
              "    </button>\n",
              "\n",
              "  <style>\n",
              "    .colab-df-container {\n",
              "      display:flex;\n",
              "      gap: 12px;\n",
              "    }\n",
              "\n",
              "    .colab-df-convert {\n",
              "      background-color: #E8F0FE;\n",
              "      border: none;\n",
              "      border-radius: 50%;\n",
              "      cursor: pointer;\n",
              "      display: none;\n",
              "      fill: #1967D2;\n",
              "      height: 32px;\n",
              "      padding: 0 0 0 0;\n",
              "      width: 32px;\n",
              "    }\n",
              "\n",
              "    .colab-df-convert:hover {\n",
              "      background-color: #E2EBFA;\n",
              "      box-shadow: 0px 1px 2px rgba(60, 64, 67, 0.3), 0px 1px 3px 1px rgba(60, 64, 67, 0.15);\n",
              "      fill: #174EA6;\n",
              "    }\n",
              "\n",
              "    .colab-df-buttons div {\n",
              "      margin-bottom: 4px;\n",
              "    }\n",
              "\n",
              "    [theme=dark] .colab-df-convert {\n",
              "      background-color: #3B4455;\n",
              "      fill: #D2E3FC;\n",
              "    }\n",
              "\n",
              "    [theme=dark] .colab-df-convert:hover {\n",
              "      background-color: #434B5C;\n",
              "      box-shadow: 0px 1px 3px 1px rgba(0, 0, 0, 0.15);\n",
              "      filter: drop-shadow(0px 1px 2px rgba(0, 0, 0, 0.3));\n",
              "      fill: #FFFFFF;\n",
              "    }\n",
              "  </style>\n",
              "\n",
              "    <script>\n",
              "      const buttonEl =\n",
              "        document.querySelector('#df-135dfc31-9cf9-46ab-bd23-b68be9ddfd76 button.colab-df-convert');\n",
              "      buttonEl.style.display =\n",
              "        google.colab.kernel.accessAllowed ? 'block' : 'none';\n",
              "\n",
              "      async function convertToInteractive(key) {\n",
              "        const element = document.querySelector('#df-135dfc31-9cf9-46ab-bd23-b68be9ddfd76');\n",
              "        const dataTable =\n",
              "          await google.colab.kernel.invokeFunction('convertToInteractive',\n",
              "                                                    [key], {});\n",
              "        if (!dataTable) return;\n",
              "\n",
              "        const docLinkHtml = 'Like what you see? Visit the ' +\n",
              "          '<a target=\"_blank\" href=https://colab.research.google.com/notebooks/data_table.ipynb>data table notebook</a>'\n",
              "          + ' to learn more about interactive tables.';\n",
              "        element.innerHTML = '';\n",
              "        dataTable['output_type'] = 'display_data';\n",
              "        await google.colab.output.renderOutput(dataTable, element);\n",
              "        const docLink = document.createElement('div');\n",
              "        docLink.innerHTML = docLinkHtml;\n",
              "        element.appendChild(docLink);\n",
              "      }\n",
              "    </script>\n",
              "  </div>\n",
              "\n",
              "\n",
              "    </div>\n",
              "  </div>\n"
            ],
            "application/vnd.google.colaboratory.intrinsic+json": {
              "type": "dataframe",
              "summary": "{\n  \"name\": \"# \\\"@\\\" \\ud0a4\\uc6cc\\ub4dc\\ub97c \\uc0ac\\uc6a9\\ud558\\uba74 \\ud30c\\uc774\\uc36c \\ubcc0\\uc218\\ub97c \\ucc38\\uc870\\ud560 \\uc218 \\uc788\\uc74c\",\n  \"rows\": 1,\n  \"fields\": [\n    {\n      \"column\": \"cd\",\n      \"properties\": {\n        \"dtype\": \"string\",\n        \"num_unique_values\": 1,\n        \"samples\": [\n          \"A095570\"\n        ],\n        \"semantic_type\": \"\",\n        \"description\": \"\"\n      }\n    },\n    {\n      \"column\": \"nm\",\n      \"properties\": {\n        \"dtype\": \"string\",\n        \"num_unique_values\": 1,\n        \"samples\": [\n          \"AJ\\ub124\\ud2b8\\uc6cd\\uc2a4\"\n        ],\n        \"semantic_type\": \"\",\n        \"description\": \"\"\n      }\n    },\n    {\n      \"column\": \"open\",\n      \"properties\": {\n        \"dtype\": \"number\",\n        \"std\": null,\n        \"min\": 1920,\n        \"max\": 1920,\n        \"num_unique_values\": 1,\n        \"samples\": [\n          1920\n        ],\n        \"semantic_type\": \"\",\n        \"description\": \"\"\n      }\n    },\n    {\n      \"column\": \"close\",\n      \"properties\": {\n        \"dtype\": \"number\",\n        \"std\": null,\n        \"min\": 1900,\n        \"max\": 1900,\n        \"num_unique_values\": 1,\n        \"samples\": [\n          1900\n        ],\n        \"semantic_type\": \"\",\n        \"description\": \"\"\n      }\n    }\n  ]\n}"
            }
          },
          "metadata": {},
          "execution_count": 26
        }
      ]
    },
    {
      "cell_type": "markdown",
      "source": [
        "### 5.2 Filter"
      ],
      "metadata": {
        "id": "hnVkp2eKjxD_"
      }
    },
    {
      "cell_type": "code",
      "source": [
        "# 데이터 프레임 만들기\n",
        "\n",
        "from pandas import DataFrame\n",
        "\n",
        "data = [\n",
        "    [1416, 1416, 2994, 1755],\n",
        "    [6.42, 17.63, 21.09, 13.93],\n",
        "    [1.10, 1.49, 2.06, 1.88]\n",
        "]\n",
        "\n",
        "columns = [\"2018/12\", \"2019/12\", \"2020/12\", \"2021/12(E)\"]\n",
        "index = [\"DPS\", \"PER\", \"PBR\"]\n",
        "\n",
        "df = DataFrame(data=data, index=index, columns=columns)\n",
        "print(df)"
      ],
      "metadata": {
        "colab": {
          "base_uri": "https://localhost:8080/"
        },
        "id": "7F3a1gP5ifv7",
        "outputId": "3c5af33c-1f30-43c2-e27d-fcb2e4c74165"
      },
      "execution_count": null,
      "outputs": [
        {
          "output_type": "stream",
          "name": "stdout",
          "text": [
            "     2018/12  2019/12  2020/12  2021/12(E)\n",
            "DPS  1416.00  1416.00  2994.00     1755.00\n",
            "PER     6.42    17.63    21.09       13.93\n",
            "PBR     1.10     1.49     2.06        1.88\n"
          ]
        }
      ]
    },
    {
      "cell_type": "code",
      "source": [
        "# filter 메서드\n",
        "\n",
        "#  컬럼 필터링\n",
        "print(df.filter(items=[\"2018/12\"]))# items 파라미터로 선택할 컬럼의 이름 지정 / 여러 개의 이름을 입력하면 나열한 모든 컬럼 선택\n",
        "# filter 메서드의 반환값은 데이터프레임\n",
        "\n",
        "# 인덱스 필터링\n",
        "print(df.filter(items=[\"PER\"], axis=0))\n",
        "# axis 입력하지 않으면 1로 설정되어 컬럼 탐색\n",
        "\n",
        "# 일부 문자열 필터링\n",
        "print(df.filter(regex=\"2020\"))\n",
        "\n",
        "print(df.filter(regex=\"^2020\")) # '^'는 해당 문자열로 시작하는 문자열 패턴만 반환\n",
        "\n",
        "print(df.filter(regex=\"R$\", axis = 0)) # \"$\"는 해당 문자열로 끝나는 패턴; 인덱스에서 R로 끝나는 패턴 반환\n",
        "\n",
        "print(df.filter(regex=\"|d{4}\")) #'\\d'는 숫자를 읨; 중괄호로 출현 횟수 지정 # 숫자 네개가 연속 발생하는 문자열 반환\n",
        "\n",
        "print(df.filter(regex=\"\\d{4}/\\d{2}$\")) # 숫자 네개 '/' 숫자 두 개로 구성된 컬럼 선택"
      ],
      "metadata": {
        "colab": {
          "base_uri": "https://localhost:8080/"
        },
        "id": "MNYSyZ2flgR1",
        "outputId": "9ca9584f-409f-4eaa-a0c7-45b603a1f080"
      },
      "execution_count": null,
      "outputs": [
        {
          "output_type": "stream",
          "name": "stdout",
          "text": [
            "     2018/12\n",
            "DPS  1416.00\n",
            "PER     6.42\n",
            "PBR     1.10\n",
            "     2018/12  2019/12  2020/12  2021/12(E)\n",
            "PER     6.42    17.63    21.09       13.93\n",
            "     2020/12\n",
            "DPS  2994.00\n",
            "PER    21.09\n",
            "PBR     2.06\n",
            "     2020/12\n",
            "DPS  2994.00\n",
            "PER    21.09\n",
            "PBR     2.06\n",
            "     2018/12  2019/12  2020/12  2021/12(E)\n",
            "PER     6.42    17.63    21.09       13.93\n",
            "PBR     1.10     1.49     2.06        1.88\n",
            "     2018/12  2019/12  2020/12  2021/12(E)\n",
            "DPS  1416.00  1416.00  2994.00     1755.00\n",
            "PER     6.42    17.63    21.09       13.93\n",
            "PBR     1.10     1.49     2.06        1.88\n",
            "     2018/12  2019/12  2020/12\n",
            "DPS  1416.00  1416.00  2994.00\n",
            "PER     6.42    17.63    21.09\n",
            "PBR     1.10     1.49     2.06\n"
          ]
        }
      ]
    },
    {
      "cell_type": "markdown",
      "source": [
        "### 5.3 정렬 및 순위"
      ],
      "metadata": {
        "id": "krygF_fPptvB"
      }
    },
    {
      "cell_type": "code",
      "source": [
        "# 데이터 프레임 만들기\n",
        "\n",
        "from pandas import DataFrame\n",
        "\n",
        "data = [\n",
        "    [\"037730\", \"3R\", 1510],\n",
        "    [\"036360\", \"3SOFT\", 1790],\n",
        "    [\"005670\", \"ACTS\", 1185]\n",
        "]\n",
        "\n",
        "columns = [\"종목코드\", \"종목명\", \"현재가\"]\n",
        "df = DataFrame(data=data, columns=columns)\n",
        "df.set_index(\"종목코드\", inplace=True)"
      ],
      "metadata": {
        "id": "fA2UoO1Dn1EG"
      },
      "execution_count": null,
      "outputs": []
    },
    {
      "cell_type": "code",
      "source": [
        "# 정렬 기준 컬럼 정하기\n",
        "\n",
        "df2 = df.sort_values(\"현재가\")\n",
        "print(df2)"
      ],
      "metadata": {
        "colab": {
          "base_uri": "https://localhost:8080/"
        },
        "id": "Dsj8DOFQqtrp",
        "outputId": "69c247b3-ca63-4c0f-bb57-56aedca58c71"
      },
      "execution_count": null,
      "outputs": [
        {
          "output_type": "stream",
          "name": "stdout",
          "text": [
            "          종목명   현재가\n",
            "종목코드               \n",
            "005670   ACTS  1185\n",
            "037730     3R  1510\n",
            "036360  3SOFT  1790\n"
          ]
        }
      ]
    },
    {
      "cell_type": "code",
      "source": [
        "# 파라미터의 이름 지정\n",
        "\n",
        "df2 = df.sort_values(by = \"현재가\")\n",
        "print(df2)"
      ],
      "metadata": {
        "colab": {
          "base_uri": "https://localhost:8080/"
        },
        "id": "H_OC-U3mq5tI",
        "outputId": "ac73b2a1-3c67-41c3-d54e-4be638d6aa6c"
      },
      "execution_count": null,
      "outputs": [
        {
          "output_type": "stream",
          "name": "stdout",
          "text": [
            "          종목명   현재가\n",
            "종목코드               \n",
            "005670   ACTS  1185\n",
            "037730     3R  1510\n",
            "036360  3SOFT  1790\n"
          ]
        }
      ]
    },
    {
      "cell_type": "code",
      "source": [
        "# 내림차순 정렬\n",
        "\n",
        "df2 = df.sort_values(by = \"현재가\", ascending=False) #ascending 파라미터의 기본값은 True\n",
        "print(df2)"
      ],
      "metadata": {
        "colab": {
          "base_uri": "https://localhost:8080/"
        },
        "id": "bY2jU-XPshgx",
        "outputId": "bf785920-a28a-43a7-e578-f1b5958fb86f"
      },
      "execution_count": null,
      "outputs": [
        {
          "output_type": "stream",
          "name": "stdout",
          "text": [
            "          종목명   현재가\n",
            "종목코드               \n",
            "036360  3SOFT  1790\n",
            "037730     3R  1510\n",
            "005670   ACTS  1185\n"
          ]
        }
      ]
    },
    {
      "cell_type": "code",
      "source": [
        "# 순위 매기기\n",
        "\n",
        "df['순위'] = df['현재가'].rank()\n",
        "print(df)\n",
        "\n",
        "df.sort_values(by=\"순위\", inplace=True) # 순위 순서대로 정렬\n",
        "print(df)"
      ],
      "metadata": {
        "colab": {
          "base_uri": "https://localhost:8080/"
        },
        "id": "TBqCU_lAsx2O",
        "outputId": "21b1bb4d-420c-49ee-857e-b9378886edc4"
      },
      "execution_count": null,
      "outputs": [
        {
          "output_type": "stream",
          "name": "stdout",
          "text": [
            "          종목명   현재가   순위\n",
            "종목코드                    \n",
            "005670   ACTS  1185  1.0\n",
            "037730     3R  1510  2.0\n",
            "036360  3SOFT  1790  3.0\n",
            "          종목명   현재가   순위\n",
            "종목코드                    \n",
            "005670   ACTS  1185  1.0\n",
            "037730     3R  1510  2.0\n",
            "036360  3SOFT  1790  3.0\n"
          ]
        }
      ]
    },
    {
      "cell_type": "markdown",
      "source": [
        "### 5.4 인덱스 연산"
      ],
      "metadata": {
        "id": "VhWZ4grutbo3"
      }
    },
    {
      "cell_type": "code",
      "source": [
        "# 인덱스 만들기\n",
        "\n",
        "import pandas as pd\n",
        "\n",
        "idx1 = pd.Index([1, 2, 3])\n",
        "idx2 = pd.Index([2, 3, 4])\n",
        "print(type(idx1))"
      ],
      "metadata": {
        "colab": {
          "base_uri": "https://localhost:8080/"
        },
        "id": "eka4M3bWtbFB",
        "outputId": "6b01e8e1-718f-43b8-a87a-b82a89f4b2f4"
      },
      "execution_count": null,
      "outputs": [
        {
          "output_type": "stream",
          "name": "stdout",
          "text": [
            "<class 'pandas.core.indexes.base.Index'>\n"
          ]
        }
      ]
    },
    {
      "cell_type": "code",
      "source": [
        "idx1.union(idx2) # 합집합"
      ],
      "metadata": {
        "colab": {
          "base_uri": "https://localhost:8080/"
        },
        "id": "ttcdyJWxuB2n",
        "outputId": "863fee0e-c0f9-4526-953b-f7d7c234809e"
      },
      "execution_count": null,
      "outputs": [
        {
          "output_type": "execute_result",
          "data": {
            "text/plain": [
              "Index([1, 2, 3, 4], dtype='int64')"
            ]
          },
          "metadata": {},
          "execution_count": 32
        }
      ]
    },
    {
      "cell_type": "code",
      "source": [
        "idx1.intersection(idx2) # 교집합"
      ],
      "metadata": {
        "colab": {
          "base_uri": "https://localhost:8080/"
        },
        "id": "RS7OYasauFxK",
        "outputId": "df07ed4f-da7e-4815-ea77-89b2fb1e1607"
      },
      "execution_count": null,
      "outputs": [
        {
          "output_type": "execute_result",
          "data": {
            "text/plain": [
              "Index([2, 3], dtype='int64')"
            ]
          },
          "metadata": {},
          "execution_count": 34
        }
      ]
    },
    {
      "cell_type": "code",
      "source": [
        "idx1.difference(idx2) # 차집합"
      ],
      "metadata": {
        "colab": {
          "base_uri": "https://localhost:8080/"
        },
        "id": "5bZ7fk5WuLK7",
        "outputId": "98f0823e-0dd3-4081-893c-544ce3168ec8"
      },
      "execution_count": null,
      "outputs": [
        {
          "output_type": "execute_result",
          "data": {
            "text/plain": [
              "Index([1], dtype='int64')"
            ]
          },
          "metadata": {},
          "execution_count": 36
        }
      ]
    },
    {
      "cell_type": "markdown",
      "source": [
        "### 5.5 GroupBy"
      ],
      "metadata": {
        "id": "W4qego0DuVF9"
      }
    },
    {
      "cell_type": "code",
      "source": [
        "from pandas import DataFrame\n",
        "\n",
        "data = [\n",
        "    [\"2차전지(생산)\", \"SK이노베이션\", 10.19, 1.29],\n",
        "    [\"해운\", \"팬오션\", 21.23, 0.95],\n",
        "    [\"시스템반도체\", \"티엘아이\", 35.97, 1.12],\n",
        "    [\"해운\", \"HMM\", 21.52, 3.20],\n",
        "    [\"시스템반도체\", \"아이에이\", 37.32, 3.55],\n",
        "    [\"2차전지(생산)\", \"LG화학\", 83.06, 3.75]\n",
        "]\n",
        "\n",
        "columns = [\"테마\", \"종목명\", \"PER\", \"PBR\"]\n",
        "df = DataFrame(data=data, columns=columns)\n",
        "\n",
        "df1 = df[df['테마'] == \"2차전지(생산)\"] # 테마 컬럼이 \"2차전지(생산)\"와 같은 종목만 필터링\n",
        "df2 = df[df['테마'] == \"해운\"] # 테마 컬럼이 \"해운\"와 같은 종목만 필터링\n",
        "df3 = df[df['테마'] == \"시스템반도체\"] # 테마 컬럼이 \"시스템반도체\"와 같은 종목만 필터링"
      ],
      "metadata": {
        "id": "0FOu1fsRuW5N"
      },
      "execution_count": null,
      "outputs": []
    },
    {
      "cell_type": "code",
      "source": [
        "# 테마별 그룹화한 df 객체에서 PER 컬럼의 평균값 계산\n",
        "\n",
        "mean1 = df1['PER'].mean()\n",
        "mean2 = df2['PER'].mean()\n",
        "mean3 = df3['PER'].mean()"
      ],
      "metadata": {
        "id": "Qlqn4-2hv55M"
      },
      "execution_count": null,
      "outputs": []
    },
    {
      "cell_type": "code",
      "source": [
        "# 테마별 PER 평균을 시리즈로 저장\n",
        "\n",
        "data = [mean1, mean2, mean3]\n",
        "index = [\"2차전지(생산)\", \"해운\", \"시스템반도체\"]\n",
        "s = pd.Series(data=data, index=index)\n",
        "print(s)"
      ],
      "metadata": {
        "colab": {
          "base_uri": "https://localhost:8080/"
        },
        "id": "EwiPhcKcwFLv",
        "outputId": "2fc93e08-d72a-4b40-d6b6-753c941d0d93"
      },
      "execution_count": null,
      "outputs": [
        {
          "output_type": "stream",
          "name": "stdout",
          "text": [
            "2차전지(생산)    46.625\n",
            "해운          21.375\n",
            "시스템반도체      36.645\n",
            "dtype: float64\n"
          ]
        }
      ]
    },
    {
      "cell_type": "code",
      "source": [
        "# groupby 메서드\n",
        "gb = df.groupby(\"테마\") # 분할, DataFrameGroupBy 타입의 객체 리턴\n",
        "temp = gb.get_group(\"2차전지(생산)\") # 특정한 값을 갖는 df 반환\n",
        "print(temp)"
      ],
      "metadata": {
        "colab": {
          "base_uri": "https://localhost:8080/"
        },
        "id": "BMm-VAIjwN6T",
        "outputId": "692eae4d-83a0-451f-9e69-4186724abfa5"
      },
      "execution_count": null,
      "outputs": [
        {
          "output_type": "stream",
          "name": "stdout",
          "text": [
            "         테마      종목명    PER   PBR\n",
            "0  2차전지(생산)  SK이노베이션  10.19  1.29\n",
            "5  2차전지(생산)     LG화학  83.06  3.75\n"
          ]
        }
      ]
    },
    {
      "cell_type": "code",
      "source": [
        "# 데이터 슬라이싱 후 groupby 메서드 적용\n",
        "temp = df[[\"테마\", \"PER\", \"PBR\"]].groupby(\"테마\").get_group(\"2차전지(생산)\")\n",
        "print(temp)"
      ],
      "metadata": {
        "colab": {
          "base_uri": "https://localhost:8080/"
        },
        "id": "ntgCEah32sNV",
        "outputId": "35c2d2ca-b8ef-45fe-f86d-177cf11977ba"
      },
      "execution_count": null,
      "outputs": [
        {
          "output_type": "stream",
          "name": "stdout",
          "text": [
            "         테마    PER   PBR\n",
            "0  2차전지(생산)  10.19  1.29\n",
            "5  2차전지(생산)  83.06  3.75\n"
          ]
        }
      ]
    },
    {
      "cell_type": "code",
      "source": [
        "# DataFrameGroupBy 객체 슬라이싱\n",
        "temp = df.groupby(\"테마\")[ [\"PER\", \"PBR\"] ].get_group(\"2차전지(생산)\")\n",
        "print(temp)"
      ],
      "metadata": {
        "colab": {
          "base_uri": "https://localhost:8080/"
        },
        "id": "tt0M1m222x3W",
        "outputId": "923eeec8-0137-4503-eed5-b3a711ab91f6"
      },
      "execution_count": null,
      "outputs": [
        {
          "output_type": "stream",
          "name": "stdout",
          "text": [
            "     PER   PBR\n",
            "0  10.19  1.29\n",
            "5  83.06  3.75\n"
          ]
        }
      ]
    },
    {
      "cell_type": "code",
      "source": [
        "# groupby 메서드로 그룹화, PER PBR컬럼에 mean메서드 적용\n",
        "df.groupby(\"테마\")[[\"PER\", \"PBR\"]].mean()"
      ],
      "metadata": {
        "colab": {
          "base_uri": "https://localhost:8080/",
          "height": 174
        },
        "id": "tawkd2fv3ZOV",
        "outputId": "6eb60aa2-8c87-474c-b9de-07bf82981849"
      },
      "execution_count": null,
      "outputs": [
        {
          "output_type": "execute_result",
          "data": {
            "text/plain": [
              "             PER    PBR\n",
              "테마                     \n",
              "2차전지(생산)  46.625  2.520\n",
              "시스템반도체    36.645  2.335\n",
              "해운        21.375  2.075"
            ],
            "text/html": [
              "\n",
              "  <div id=\"df-f5068171-bd7c-46c9-b783-78f77f391657\" class=\"colab-df-container\">\n",
              "    <div>\n",
              "<style scoped>\n",
              "    .dataframe tbody tr th:only-of-type {\n",
              "        vertical-align: middle;\n",
              "    }\n",
              "\n",
              "    .dataframe tbody tr th {\n",
              "        vertical-align: top;\n",
              "    }\n",
              "\n",
              "    .dataframe thead th {\n",
              "        text-align: right;\n",
              "    }\n",
              "</style>\n",
              "<table border=\"1\" class=\"dataframe\">\n",
              "  <thead>\n",
              "    <tr style=\"text-align: right;\">\n",
              "      <th></th>\n",
              "      <th>PER</th>\n",
              "      <th>PBR</th>\n",
              "    </tr>\n",
              "    <tr>\n",
              "      <th>테마</th>\n",
              "      <th></th>\n",
              "      <th></th>\n",
              "    </tr>\n",
              "  </thead>\n",
              "  <tbody>\n",
              "    <tr>\n",
              "      <th>2차전지(생산)</th>\n",
              "      <td>46.625</td>\n",
              "      <td>2.520</td>\n",
              "    </tr>\n",
              "    <tr>\n",
              "      <th>시스템반도체</th>\n",
              "      <td>36.645</td>\n",
              "      <td>2.335</td>\n",
              "    </tr>\n",
              "    <tr>\n",
              "      <th>해운</th>\n",
              "      <td>21.375</td>\n",
              "      <td>2.075</td>\n",
              "    </tr>\n",
              "  </tbody>\n",
              "</table>\n",
              "</div>\n",
              "    <div class=\"colab-df-buttons\">\n",
              "\n",
              "  <div class=\"colab-df-container\">\n",
              "    <button class=\"colab-df-convert\" onclick=\"convertToInteractive('df-f5068171-bd7c-46c9-b783-78f77f391657')\"\n",
              "            title=\"Convert this dataframe to an interactive table.\"\n",
              "            style=\"display:none;\">\n",
              "\n",
              "  <svg xmlns=\"http://www.w3.org/2000/svg\" height=\"24px\" viewBox=\"0 -960 960 960\">\n",
              "    <path d=\"M120-120v-720h720v720H120Zm60-500h600v-160H180v160Zm220 220h160v-160H400v160Zm0 220h160v-160H400v160ZM180-400h160v-160H180v160Zm440 0h160v-160H620v160ZM180-180h160v-160H180v160Zm440 0h160v-160H620v160Z\"/>\n",
              "  </svg>\n",
              "    </button>\n",
              "\n",
              "  <style>\n",
              "    .colab-df-container {\n",
              "      display:flex;\n",
              "      gap: 12px;\n",
              "    }\n",
              "\n",
              "    .colab-df-convert {\n",
              "      background-color: #E8F0FE;\n",
              "      border: none;\n",
              "      border-radius: 50%;\n",
              "      cursor: pointer;\n",
              "      display: none;\n",
              "      fill: #1967D2;\n",
              "      height: 32px;\n",
              "      padding: 0 0 0 0;\n",
              "      width: 32px;\n",
              "    }\n",
              "\n",
              "    .colab-df-convert:hover {\n",
              "      background-color: #E2EBFA;\n",
              "      box-shadow: 0px 1px 2px rgba(60, 64, 67, 0.3), 0px 1px 3px 1px rgba(60, 64, 67, 0.15);\n",
              "      fill: #174EA6;\n",
              "    }\n",
              "\n",
              "    .colab-df-buttons div {\n",
              "      margin-bottom: 4px;\n",
              "    }\n",
              "\n",
              "    [theme=dark] .colab-df-convert {\n",
              "      background-color: #3B4455;\n",
              "      fill: #D2E3FC;\n",
              "    }\n",
              "\n",
              "    [theme=dark] .colab-df-convert:hover {\n",
              "      background-color: #434B5C;\n",
              "      box-shadow: 0px 1px 3px 1px rgba(0, 0, 0, 0.15);\n",
              "      filter: drop-shadow(0px 1px 2px rgba(0, 0, 0, 0.3));\n",
              "      fill: #FFFFFF;\n",
              "    }\n",
              "  </style>\n",
              "\n",
              "    <script>\n",
              "      const buttonEl =\n",
              "        document.querySelector('#df-f5068171-bd7c-46c9-b783-78f77f391657 button.colab-df-convert');\n",
              "      buttonEl.style.display =\n",
              "        google.colab.kernel.accessAllowed ? 'block' : 'none';\n",
              "\n",
              "      async function convertToInteractive(key) {\n",
              "        const element = document.querySelector('#df-f5068171-bd7c-46c9-b783-78f77f391657');\n",
              "        const dataTable =\n",
              "          await google.colab.kernel.invokeFunction('convertToInteractive',\n",
              "                                                    [key], {});\n",
              "        if (!dataTable) return;\n",
              "\n",
              "        const docLinkHtml = 'Like what you see? Visit the ' +\n",
              "          '<a target=\"_blank\" href=https://colab.research.google.com/notebooks/data_table.ipynb>data table notebook</a>'\n",
              "          + ' to learn more about interactive tables.';\n",
              "        element.innerHTML = '';\n",
              "        dataTable['output_type'] = 'display_data';\n",
              "        await google.colab.output.renderOutput(dataTable, element);\n",
              "        const docLink = document.createElement('div');\n",
              "        docLink.innerHTML = docLinkHtml;\n",
              "        element.appendChild(docLink);\n",
              "      }\n",
              "    </script>\n",
              "  </div>\n",
              "\n",
              "\n",
              "<div id=\"df-e12747a8-fc72-4ff1-804e-4dc46b9e2c3a\">\n",
              "  <button class=\"colab-df-quickchart\" onclick=\"quickchart('df-e12747a8-fc72-4ff1-804e-4dc46b9e2c3a')\"\n",
              "            title=\"Suggest charts\"\n",
              "            style=\"display:none;\">\n",
              "\n",
              "<svg xmlns=\"http://www.w3.org/2000/svg\" height=\"24px\"viewBox=\"0 0 24 24\"\n",
              "     width=\"24px\">\n",
              "    <g>\n",
              "        <path d=\"M19 3H5c-1.1 0-2 .9-2 2v14c0 1.1.9 2 2 2h14c1.1 0 2-.9 2-2V5c0-1.1-.9-2-2-2zM9 17H7v-7h2v7zm4 0h-2V7h2v10zm4 0h-2v-4h2v4z\"/>\n",
              "    </g>\n",
              "</svg>\n",
              "  </button>\n",
              "\n",
              "<style>\n",
              "  .colab-df-quickchart {\n",
              "      --bg-color: #E8F0FE;\n",
              "      --fill-color: #1967D2;\n",
              "      --hover-bg-color: #E2EBFA;\n",
              "      --hover-fill-color: #174EA6;\n",
              "      --disabled-fill-color: #AAA;\n",
              "      --disabled-bg-color: #DDD;\n",
              "  }\n",
              "\n",
              "  [theme=dark] .colab-df-quickchart {\n",
              "      --bg-color: #3B4455;\n",
              "      --fill-color: #D2E3FC;\n",
              "      --hover-bg-color: #434B5C;\n",
              "      --hover-fill-color: #FFFFFF;\n",
              "      --disabled-bg-color: #3B4455;\n",
              "      --disabled-fill-color: #666;\n",
              "  }\n",
              "\n",
              "  .colab-df-quickchart {\n",
              "    background-color: var(--bg-color);\n",
              "    border: none;\n",
              "    border-radius: 50%;\n",
              "    cursor: pointer;\n",
              "    display: none;\n",
              "    fill: var(--fill-color);\n",
              "    height: 32px;\n",
              "    padding: 0;\n",
              "    width: 32px;\n",
              "  }\n",
              "\n",
              "  .colab-df-quickchart:hover {\n",
              "    background-color: var(--hover-bg-color);\n",
              "    box-shadow: 0 1px 2px rgba(60, 64, 67, 0.3), 0 1px 3px 1px rgba(60, 64, 67, 0.15);\n",
              "    fill: var(--button-hover-fill-color);\n",
              "  }\n",
              "\n",
              "  .colab-df-quickchart-complete:disabled,\n",
              "  .colab-df-quickchart-complete:disabled:hover {\n",
              "    background-color: var(--disabled-bg-color);\n",
              "    fill: var(--disabled-fill-color);\n",
              "    box-shadow: none;\n",
              "  }\n",
              "\n",
              "  .colab-df-spinner {\n",
              "    border: 2px solid var(--fill-color);\n",
              "    border-color: transparent;\n",
              "    border-bottom-color: var(--fill-color);\n",
              "    animation:\n",
              "      spin 1s steps(1) infinite;\n",
              "  }\n",
              "\n",
              "  @keyframes spin {\n",
              "    0% {\n",
              "      border-color: transparent;\n",
              "      border-bottom-color: var(--fill-color);\n",
              "      border-left-color: var(--fill-color);\n",
              "    }\n",
              "    20% {\n",
              "      border-color: transparent;\n",
              "      border-left-color: var(--fill-color);\n",
              "      border-top-color: var(--fill-color);\n",
              "    }\n",
              "    30% {\n",
              "      border-color: transparent;\n",
              "      border-left-color: var(--fill-color);\n",
              "      border-top-color: var(--fill-color);\n",
              "      border-right-color: var(--fill-color);\n",
              "    }\n",
              "    40% {\n",
              "      border-color: transparent;\n",
              "      border-right-color: var(--fill-color);\n",
              "      border-top-color: var(--fill-color);\n",
              "    }\n",
              "    60% {\n",
              "      border-color: transparent;\n",
              "      border-right-color: var(--fill-color);\n",
              "    }\n",
              "    80% {\n",
              "      border-color: transparent;\n",
              "      border-right-color: var(--fill-color);\n",
              "      border-bottom-color: var(--fill-color);\n",
              "    }\n",
              "    90% {\n",
              "      border-color: transparent;\n",
              "      border-bottom-color: var(--fill-color);\n",
              "    }\n",
              "  }\n",
              "</style>\n",
              "\n",
              "  <script>\n",
              "    async function quickchart(key) {\n",
              "      const quickchartButtonEl =\n",
              "        document.querySelector('#' + key + ' button');\n",
              "      quickchartButtonEl.disabled = true;  // To prevent multiple clicks.\n",
              "      quickchartButtonEl.classList.add('colab-df-spinner');\n",
              "      try {\n",
              "        const charts = await google.colab.kernel.invokeFunction(\n",
              "            'suggestCharts', [key], {});\n",
              "      } catch (error) {\n",
              "        console.error('Error during call to suggestCharts:', error);\n",
              "      }\n",
              "      quickchartButtonEl.classList.remove('colab-df-spinner');\n",
              "      quickchartButtonEl.classList.add('colab-df-quickchart-complete');\n",
              "    }\n",
              "    (() => {\n",
              "      let quickchartButtonEl =\n",
              "        document.querySelector('#df-e12747a8-fc72-4ff1-804e-4dc46b9e2c3a button');\n",
              "      quickchartButtonEl.style.display =\n",
              "        google.colab.kernel.accessAllowed ? 'block' : 'none';\n",
              "    })();\n",
              "  </script>\n",
              "</div>\n",
              "\n",
              "    </div>\n",
              "  </div>\n"
            ],
            "application/vnd.google.colaboratory.intrinsic+json": {
              "type": "dataframe",
              "summary": "{\n  \"name\": \"df\",\n  \"rows\": 3,\n  \"fields\": [\n    {\n      \"column\": \"\\ud14c\\ub9c8\",\n      \"properties\": {\n        \"dtype\": \"string\",\n        \"num_unique_values\": 3,\n        \"samples\": [\n          \"2\\ucc28\\uc804\\uc9c0(\\uc0dd\\uc0b0)\",\n          \"\\uc2dc\\uc2a4\\ud15c\\ubc18\\ub3c4\\uccb4\",\n          \"\\ud574\\uc6b4\"\n        ],\n        \"semantic_type\": \"\",\n        \"description\": \"\"\n      }\n    },\n    {\n      \"column\": \"PER\",\n      \"properties\": {\n        \"dtype\": \"number\",\n        \"std\": 12.717021401780109,\n        \"min\": 21.375,\n        \"max\": 46.625,\n        \"num_unique_values\": 3,\n        \"samples\": [\n          46.625,\n          36.644999999999996,\n          21.375\n        ],\n        \"semantic_type\": \"\",\n        \"description\": \"\"\n      }\n    },\n    {\n      \"column\": \"PBR\",\n      \"properties\": {\n        \"dtype\": \"number\",\n        \"std\": 0.2235508890610815,\n        \"min\": 2.075,\n        \"max\": 2.52,\n        \"num_unique_values\": 3,\n        \"samples\": [\n          2.52,\n          2.335,\n          2.075\n        ],\n        \"semantic_type\": \"\",\n        \"description\": \"\"\n      }\n    }\n  ]\n}"
            }
          },
          "metadata": {},
          "execution_count": 114
        }
      ]
    },
    {
      "cell_type": "code",
      "source": [
        "# df.groupby(\"테마\").mean()\n",
        "# 최신 버전에서는 평균연산 적용이 불가한 컬럼을 자동 제거해주지 않는 것 같다"
      ],
      "metadata": {
        "id": "PIp4zndp3-O4"
      },
      "execution_count": null,
      "outputs": []
    },
    {
      "cell_type": "code",
      "source": [
        "# 컬럼별 다른 함수 적용\n",
        "df.groupby(\"테마\").agg({\"PER\": max , \"PBR\": min})"
      ],
      "metadata": {
        "colab": {
          "base_uri": "https://localhost:8080/",
          "height": 269
        },
        "id": "0u_9y6y14CWm",
        "outputId": "65f9f018-7cef-4bc2-dc4a-f283ed0b0721"
      },
      "execution_count": null,
      "outputs": [
        {
          "output_type": "stream",
          "name": "stderr",
          "text": [
            "<ipython-input-119-005a93a2d231>:2: FutureWarning: The provided callable <built-in function max> is currently using SeriesGroupBy.max. In a future version of pandas, the provided callable will be used directly. To keep current behavior pass the string \"max\" instead.\n",
            "  df.groupby(\"테마\").agg({\"PER\": max , \"PBR\": min})\n",
            "<ipython-input-119-005a93a2d231>:2: FutureWarning: The provided callable <built-in function min> is currently using SeriesGroupBy.min. In a future version of pandas, the provided callable will be used directly. To keep current behavior pass the string \"min\" instead.\n",
            "  df.groupby(\"테마\").agg({\"PER\": max , \"PBR\": min})\n"
          ]
        },
        {
          "output_type": "execute_result",
          "data": {
            "text/plain": [
              "            PER   PBR\n",
              "테마                   \n",
              "2차전지(생산)  83.06  1.29\n",
              "시스템반도체    37.32  1.12\n",
              "해운        21.52  0.95"
            ],
            "text/html": [
              "\n",
              "  <div id=\"df-4fec5b39-fd68-48a0-b78a-e96fc8d0cabd\" class=\"colab-df-container\">\n",
              "    <div>\n",
              "<style scoped>\n",
              "    .dataframe tbody tr th:only-of-type {\n",
              "        vertical-align: middle;\n",
              "    }\n",
              "\n",
              "    .dataframe tbody tr th {\n",
              "        vertical-align: top;\n",
              "    }\n",
              "\n",
              "    .dataframe thead th {\n",
              "        text-align: right;\n",
              "    }\n",
              "</style>\n",
              "<table border=\"1\" class=\"dataframe\">\n",
              "  <thead>\n",
              "    <tr style=\"text-align: right;\">\n",
              "      <th></th>\n",
              "      <th>PER</th>\n",
              "      <th>PBR</th>\n",
              "    </tr>\n",
              "    <tr>\n",
              "      <th>테마</th>\n",
              "      <th></th>\n",
              "      <th></th>\n",
              "    </tr>\n",
              "  </thead>\n",
              "  <tbody>\n",
              "    <tr>\n",
              "      <th>2차전지(생산)</th>\n",
              "      <td>83.06</td>\n",
              "      <td>1.29</td>\n",
              "    </tr>\n",
              "    <tr>\n",
              "      <th>시스템반도체</th>\n",
              "      <td>37.32</td>\n",
              "      <td>1.12</td>\n",
              "    </tr>\n",
              "    <tr>\n",
              "      <th>해운</th>\n",
              "      <td>21.52</td>\n",
              "      <td>0.95</td>\n",
              "    </tr>\n",
              "  </tbody>\n",
              "</table>\n",
              "</div>\n",
              "    <div class=\"colab-df-buttons\">\n",
              "\n",
              "  <div class=\"colab-df-container\">\n",
              "    <button class=\"colab-df-convert\" onclick=\"convertToInteractive('df-4fec5b39-fd68-48a0-b78a-e96fc8d0cabd')\"\n",
              "            title=\"Convert this dataframe to an interactive table.\"\n",
              "            style=\"display:none;\">\n",
              "\n",
              "  <svg xmlns=\"http://www.w3.org/2000/svg\" height=\"24px\" viewBox=\"0 -960 960 960\">\n",
              "    <path d=\"M120-120v-720h720v720H120Zm60-500h600v-160H180v160Zm220 220h160v-160H400v160Zm0 220h160v-160H400v160ZM180-400h160v-160H180v160Zm440 0h160v-160H620v160ZM180-180h160v-160H180v160Zm440 0h160v-160H620v160Z\"/>\n",
              "  </svg>\n",
              "    </button>\n",
              "\n",
              "  <style>\n",
              "    .colab-df-container {\n",
              "      display:flex;\n",
              "      gap: 12px;\n",
              "    }\n",
              "\n",
              "    .colab-df-convert {\n",
              "      background-color: #E8F0FE;\n",
              "      border: none;\n",
              "      border-radius: 50%;\n",
              "      cursor: pointer;\n",
              "      display: none;\n",
              "      fill: #1967D2;\n",
              "      height: 32px;\n",
              "      padding: 0 0 0 0;\n",
              "      width: 32px;\n",
              "    }\n",
              "\n",
              "    .colab-df-convert:hover {\n",
              "      background-color: #E2EBFA;\n",
              "      box-shadow: 0px 1px 2px rgba(60, 64, 67, 0.3), 0px 1px 3px 1px rgba(60, 64, 67, 0.15);\n",
              "      fill: #174EA6;\n",
              "    }\n",
              "\n",
              "    .colab-df-buttons div {\n",
              "      margin-bottom: 4px;\n",
              "    }\n",
              "\n",
              "    [theme=dark] .colab-df-convert {\n",
              "      background-color: #3B4455;\n",
              "      fill: #D2E3FC;\n",
              "    }\n",
              "\n",
              "    [theme=dark] .colab-df-convert:hover {\n",
              "      background-color: #434B5C;\n",
              "      box-shadow: 0px 1px 3px 1px rgba(0, 0, 0, 0.15);\n",
              "      filter: drop-shadow(0px 1px 2px rgba(0, 0, 0, 0.3));\n",
              "      fill: #FFFFFF;\n",
              "    }\n",
              "  </style>\n",
              "\n",
              "    <script>\n",
              "      const buttonEl =\n",
              "        document.querySelector('#df-4fec5b39-fd68-48a0-b78a-e96fc8d0cabd button.colab-df-convert');\n",
              "      buttonEl.style.display =\n",
              "        google.colab.kernel.accessAllowed ? 'block' : 'none';\n",
              "\n",
              "      async function convertToInteractive(key) {\n",
              "        const element = document.querySelector('#df-4fec5b39-fd68-48a0-b78a-e96fc8d0cabd');\n",
              "        const dataTable =\n",
              "          await google.colab.kernel.invokeFunction('convertToInteractive',\n",
              "                                                    [key], {});\n",
              "        if (!dataTable) return;\n",
              "\n",
              "        const docLinkHtml = 'Like what you see? Visit the ' +\n",
              "          '<a target=\"_blank\" href=https://colab.research.google.com/notebooks/data_table.ipynb>data table notebook</a>'\n",
              "          + ' to learn more about interactive tables.';\n",
              "        element.innerHTML = '';\n",
              "        dataTable['output_type'] = 'display_data';\n",
              "        await google.colab.output.renderOutput(dataTable, element);\n",
              "        const docLink = document.createElement('div');\n",
              "        docLink.innerHTML = docLinkHtml;\n",
              "        element.appendChild(docLink);\n",
              "      }\n",
              "    </script>\n",
              "  </div>\n",
              "\n",
              "\n",
              "<div id=\"df-4c9e87d0-9f73-43f9-80a4-7a0927ef5e65\">\n",
              "  <button class=\"colab-df-quickchart\" onclick=\"quickchart('df-4c9e87d0-9f73-43f9-80a4-7a0927ef5e65')\"\n",
              "            title=\"Suggest charts\"\n",
              "            style=\"display:none;\">\n",
              "\n",
              "<svg xmlns=\"http://www.w3.org/2000/svg\" height=\"24px\"viewBox=\"0 0 24 24\"\n",
              "     width=\"24px\">\n",
              "    <g>\n",
              "        <path d=\"M19 3H5c-1.1 0-2 .9-2 2v14c0 1.1.9 2 2 2h14c1.1 0 2-.9 2-2V5c0-1.1-.9-2-2-2zM9 17H7v-7h2v7zm4 0h-2V7h2v10zm4 0h-2v-4h2v4z\"/>\n",
              "    </g>\n",
              "</svg>\n",
              "  </button>\n",
              "\n",
              "<style>\n",
              "  .colab-df-quickchart {\n",
              "      --bg-color: #E8F0FE;\n",
              "      --fill-color: #1967D2;\n",
              "      --hover-bg-color: #E2EBFA;\n",
              "      --hover-fill-color: #174EA6;\n",
              "      --disabled-fill-color: #AAA;\n",
              "      --disabled-bg-color: #DDD;\n",
              "  }\n",
              "\n",
              "  [theme=dark] .colab-df-quickchart {\n",
              "      --bg-color: #3B4455;\n",
              "      --fill-color: #D2E3FC;\n",
              "      --hover-bg-color: #434B5C;\n",
              "      --hover-fill-color: #FFFFFF;\n",
              "      --disabled-bg-color: #3B4455;\n",
              "      --disabled-fill-color: #666;\n",
              "  }\n",
              "\n",
              "  .colab-df-quickchart {\n",
              "    background-color: var(--bg-color);\n",
              "    border: none;\n",
              "    border-radius: 50%;\n",
              "    cursor: pointer;\n",
              "    display: none;\n",
              "    fill: var(--fill-color);\n",
              "    height: 32px;\n",
              "    padding: 0;\n",
              "    width: 32px;\n",
              "  }\n",
              "\n",
              "  .colab-df-quickchart:hover {\n",
              "    background-color: var(--hover-bg-color);\n",
              "    box-shadow: 0 1px 2px rgba(60, 64, 67, 0.3), 0 1px 3px 1px rgba(60, 64, 67, 0.15);\n",
              "    fill: var(--button-hover-fill-color);\n",
              "  }\n",
              "\n",
              "  .colab-df-quickchart-complete:disabled,\n",
              "  .colab-df-quickchart-complete:disabled:hover {\n",
              "    background-color: var(--disabled-bg-color);\n",
              "    fill: var(--disabled-fill-color);\n",
              "    box-shadow: none;\n",
              "  }\n",
              "\n",
              "  .colab-df-spinner {\n",
              "    border: 2px solid var(--fill-color);\n",
              "    border-color: transparent;\n",
              "    border-bottom-color: var(--fill-color);\n",
              "    animation:\n",
              "      spin 1s steps(1) infinite;\n",
              "  }\n",
              "\n",
              "  @keyframes spin {\n",
              "    0% {\n",
              "      border-color: transparent;\n",
              "      border-bottom-color: var(--fill-color);\n",
              "      border-left-color: var(--fill-color);\n",
              "    }\n",
              "    20% {\n",
              "      border-color: transparent;\n",
              "      border-left-color: var(--fill-color);\n",
              "      border-top-color: var(--fill-color);\n",
              "    }\n",
              "    30% {\n",
              "      border-color: transparent;\n",
              "      border-left-color: var(--fill-color);\n",
              "      border-top-color: var(--fill-color);\n",
              "      border-right-color: var(--fill-color);\n",
              "    }\n",
              "    40% {\n",
              "      border-color: transparent;\n",
              "      border-right-color: var(--fill-color);\n",
              "      border-top-color: var(--fill-color);\n",
              "    }\n",
              "    60% {\n",
              "      border-color: transparent;\n",
              "      border-right-color: var(--fill-color);\n",
              "    }\n",
              "    80% {\n",
              "      border-color: transparent;\n",
              "      border-right-color: var(--fill-color);\n",
              "      border-bottom-color: var(--fill-color);\n",
              "    }\n",
              "    90% {\n",
              "      border-color: transparent;\n",
              "      border-bottom-color: var(--fill-color);\n",
              "    }\n",
              "  }\n",
              "</style>\n",
              "\n",
              "  <script>\n",
              "    async function quickchart(key) {\n",
              "      const quickchartButtonEl =\n",
              "        document.querySelector('#' + key + ' button');\n",
              "      quickchartButtonEl.disabled = true;  // To prevent multiple clicks.\n",
              "      quickchartButtonEl.classList.add('colab-df-spinner');\n",
              "      try {\n",
              "        const charts = await google.colab.kernel.invokeFunction(\n",
              "            'suggestCharts', [key], {});\n",
              "      } catch (error) {\n",
              "        console.error('Error during call to suggestCharts:', error);\n",
              "      }\n",
              "      quickchartButtonEl.classList.remove('colab-df-spinner');\n",
              "      quickchartButtonEl.classList.add('colab-df-quickchart-complete');\n",
              "    }\n",
              "    (() => {\n",
              "      let quickchartButtonEl =\n",
              "        document.querySelector('#df-4c9e87d0-9f73-43f9-80a4-7a0927ef5e65 button');\n",
              "      quickchartButtonEl.style.display =\n",
              "        google.colab.kernel.accessAllowed ? 'block' : 'none';\n",
              "    })();\n",
              "  </script>\n",
              "</div>\n",
              "\n",
              "    </div>\n",
              "  </div>\n"
            ],
            "application/vnd.google.colaboratory.intrinsic+json": {
              "type": "dataframe",
              "summary": "{\n  \"name\": \"df\",\n  \"rows\": 3,\n  \"fields\": [\n    {\n      \"column\": \"\\ud14c\\ub9c8\",\n      \"properties\": {\n        \"dtype\": \"string\",\n        \"num_unique_values\": 3,\n        \"samples\": [\n          \"2\\ucc28\\uc804\\uc9c0(\\uc0dd\\uc0b0)\",\n          \"\\uc2dc\\uc2a4\\ud15c\\ubc18\\ub3c4\\uccb4\",\n          \"\\ud574\\uc6b4\"\n        ],\n        \"semantic_type\": \"\",\n        \"description\": \"\"\n      }\n    },\n    {\n      \"column\": \"PER\",\n      \"properties\": {\n        \"dtype\": \"number\",\n        \"std\": 31.960807248879057,\n        \"min\": 21.52,\n        \"max\": 83.06,\n        \"num_unique_values\": 3,\n        \"samples\": [\n          83.06,\n          37.32,\n          21.52\n        ],\n        \"semantic_type\": \"\",\n        \"description\": \"\"\n      }\n    },\n    {\n      \"column\": \"PBR\",\n      \"properties\": {\n        \"dtype\": \"number\",\n        \"std\": 0.17000000000000004,\n        \"min\": 0.95,\n        \"max\": 1.29,\n        \"num_unique_values\": 3,\n        \"samples\": [\n          1.29,\n          1.12,\n          0.95\n        ],\n        \"semantic_type\": \"\",\n        \"description\": \"\"\n      }\n    }\n  ]\n}"
            }
          },
          "metadata": {},
          "execution_count": 119
        }
      ]
    },
    {
      "cell_type": "code",
      "source": [
        "# 하나의 컬럼에 여러 연산 적용\n",
        "import numpy as np\n",
        "df.groupby(\"테마\").agg({\"PER\": [max, min], \"PBR\": [np.std, np.var]})"
      ],
      "metadata": {
        "colab": {
          "base_uri": "https://localhost:8080/",
          "height": 375
        },
        "id": "xhRLSoNU55D-",
        "outputId": "a7967410-5877-4b81-a588-1d2f8ecce472"
      },
      "execution_count": null,
      "outputs": [
        {
          "output_type": "stream",
          "name": "stderr",
          "text": [
            "<ipython-input-122-d7d36b8e014b>:3: FutureWarning: The provided callable <built-in function max> is currently using SeriesGroupBy.max. In a future version of pandas, the provided callable will be used directly. To keep current behavior pass the string \"max\" instead.\n",
            "  df.groupby(\"테마\").agg({\"PER\": [max, min], \"PBR\": [np.std, np.var]})\n",
            "<ipython-input-122-d7d36b8e014b>:3: FutureWarning: The provided callable <built-in function min> is currently using SeriesGroupBy.min. In a future version of pandas, the provided callable will be used directly. To keep current behavior pass the string \"min\" instead.\n",
            "  df.groupby(\"테마\").agg({\"PER\": [max, min], \"PBR\": [np.std, np.var]})\n",
            "<ipython-input-122-d7d36b8e014b>:3: FutureWarning: The provided callable <function std at 0x7df6a390be20> is currently using SeriesGroupBy.std. In a future version of pandas, the provided callable will be used directly. To keep current behavior pass the string \"std\" instead.\n",
            "  df.groupby(\"테마\").agg({\"PER\": [max, min], \"PBR\": [np.std, np.var]})\n",
            "<ipython-input-122-d7d36b8e014b>:3: FutureWarning: The provided callable <function var at 0x7df6a390bf40> is currently using SeriesGroupBy.var. In a future version of pandas, the provided callable will be used directly. To keep current behavior pass the string \"var\" instead.\n",
            "  df.groupby(\"테마\").agg({\"PER\": [max, min], \"PBR\": [np.std, np.var]})\n"
          ]
        },
        {
          "output_type": "execute_result",
          "data": {
            "text/plain": [
              "            PER              PBR         \n",
              "            max    min       std      var\n",
              "테마                                       \n",
              "2차전지(생산)  83.06  10.19  1.739483  3.02580\n",
              "시스템반도체    37.32  35.97  1.718269  2.95245\n",
              "해운        21.52  21.23  1.590990  2.53125"
            ],
            "text/html": [
              "\n",
              "  <div id=\"df-5a0f92e9-9cc3-4301-9dda-1baba47538ba\" class=\"colab-df-container\">\n",
              "    <div>\n",
              "<style scoped>\n",
              "    .dataframe tbody tr th:only-of-type {\n",
              "        vertical-align: middle;\n",
              "    }\n",
              "\n",
              "    .dataframe tbody tr th {\n",
              "        vertical-align: top;\n",
              "    }\n",
              "\n",
              "    .dataframe thead tr th {\n",
              "        text-align: left;\n",
              "    }\n",
              "\n",
              "    .dataframe thead tr:last-of-type th {\n",
              "        text-align: right;\n",
              "    }\n",
              "</style>\n",
              "<table border=\"1\" class=\"dataframe\">\n",
              "  <thead>\n",
              "    <tr>\n",
              "      <th></th>\n",
              "      <th colspan=\"2\" halign=\"left\">PER</th>\n",
              "      <th colspan=\"2\" halign=\"left\">PBR</th>\n",
              "    </tr>\n",
              "    <tr>\n",
              "      <th></th>\n",
              "      <th>max</th>\n",
              "      <th>min</th>\n",
              "      <th>std</th>\n",
              "      <th>var</th>\n",
              "    </tr>\n",
              "    <tr>\n",
              "      <th>테마</th>\n",
              "      <th></th>\n",
              "      <th></th>\n",
              "      <th></th>\n",
              "      <th></th>\n",
              "    </tr>\n",
              "  </thead>\n",
              "  <tbody>\n",
              "    <tr>\n",
              "      <th>2차전지(생산)</th>\n",
              "      <td>83.06</td>\n",
              "      <td>10.19</td>\n",
              "      <td>1.739483</td>\n",
              "      <td>3.02580</td>\n",
              "    </tr>\n",
              "    <tr>\n",
              "      <th>시스템반도체</th>\n",
              "      <td>37.32</td>\n",
              "      <td>35.97</td>\n",
              "      <td>1.718269</td>\n",
              "      <td>2.95245</td>\n",
              "    </tr>\n",
              "    <tr>\n",
              "      <th>해운</th>\n",
              "      <td>21.52</td>\n",
              "      <td>21.23</td>\n",
              "      <td>1.590990</td>\n",
              "      <td>2.53125</td>\n",
              "    </tr>\n",
              "  </tbody>\n",
              "</table>\n",
              "</div>\n",
              "    <div class=\"colab-df-buttons\">\n",
              "\n",
              "  <div class=\"colab-df-container\">\n",
              "    <button class=\"colab-df-convert\" onclick=\"convertToInteractive('df-5a0f92e9-9cc3-4301-9dda-1baba47538ba')\"\n",
              "            title=\"Convert this dataframe to an interactive table.\"\n",
              "            style=\"display:none;\">\n",
              "\n",
              "  <svg xmlns=\"http://www.w3.org/2000/svg\" height=\"24px\" viewBox=\"0 -960 960 960\">\n",
              "    <path d=\"M120-120v-720h720v720H120Zm60-500h600v-160H180v160Zm220 220h160v-160H400v160Zm0 220h160v-160H400v160ZM180-400h160v-160H180v160Zm440 0h160v-160H620v160ZM180-180h160v-160H180v160Zm440 0h160v-160H620v160Z\"/>\n",
              "  </svg>\n",
              "    </button>\n",
              "\n",
              "  <style>\n",
              "    .colab-df-container {\n",
              "      display:flex;\n",
              "      gap: 12px;\n",
              "    }\n",
              "\n",
              "    .colab-df-convert {\n",
              "      background-color: #E8F0FE;\n",
              "      border: none;\n",
              "      border-radius: 50%;\n",
              "      cursor: pointer;\n",
              "      display: none;\n",
              "      fill: #1967D2;\n",
              "      height: 32px;\n",
              "      padding: 0 0 0 0;\n",
              "      width: 32px;\n",
              "    }\n",
              "\n",
              "    .colab-df-convert:hover {\n",
              "      background-color: #E2EBFA;\n",
              "      box-shadow: 0px 1px 2px rgba(60, 64, 67, 0.3), 0px 1px 3px 1px rgba(60, 64, 67, 0.15);\n",
              "      fill: #174EA6;\n",
              "    }\n",
              "\n",
              "    .colab-df-buttons div {\n",
              "      margin-bottom: 4px;\n",
              "    }\n",
              "\n",
              "    [theme=dark] .colab-df-convert {\n",
              "      background-color: #3B4455;\n",
              "      fill: #D2E3FC;\n",
              "    }\n",
              "\n",
              "    [theme=dark] .colab-df-convert:hover {\n",
              "      background-color: #434B5C;\n",
              "      box-shadow: 0px 1px 3px 1px rgba(0, 0, 0, 0.15);\n",
              "      filter: drop-shadow(0px 1px 2px rgba(0, 0, 0, 0.3));\n",
              "      fill: #FFFFFF;\n",
              "    }\n",
              "  </style>\n",
              "\n",
              "    <script>\n",
              "      const buttonEl =\n",
              "        document.querySelector('#df-5a0f92e9-9cc3-4301-9dda-1baba47538ba button.colab-df-convert');\n",
              "      buttonEl.style.display =\n",
              "        google.colab.kernel.accessAllowed ? 'block' : 'none';\n",
              "\n",
              "      async function convertToInteractive(key) {\n",
              "        const element = document.querySelector('#df-5a0f92e9-9cc3-4301-9dda-1baba47538ba');\n",
              "        const dataTable =\n",
              "          await google.colab.kernel.invokeFunction('convertToInteractive',\n",
              "                                                    [key], {});\n",
              "        if (!dataTable) return;\n",
              "\n",
              "        const docLinkHtml = 'Like what you see? Visit the ' +\n",
              "          '<a target=\"_blank\" href=https://colab.research.google.com/notebooks/data_table.ipynb>data table notebook</a>'\n",
              "          + ' to learn more about interactive tables.';\n",
              "        element.innerHTML = '';\n",
              "        dataTable['output_type'] = 'display_data';\n",
              "        await google.colab.output.renderOutput(dataTable, element);\n",
              "        const docLink = document.createElement('div');\n",
              "        docLink.innerHTML = docLinkHtml;\n",
              "        element.appendChild(docLink);\n",
              "      }\n",
              "    </script>\n",
              "  </div>\n",
              "\n",
              "\n",
              "<div id=\"df-7cbc4cb2-5dd2-4c77-acc9-d282b3267ec8\">\n",
              "  <button class=\"colab-df-quickchart\" onclick=\"quickchart('df-7cbc4cb2-5dd2-4c77-acc9-d282b3267ec8')\"\n",
              "            title=\"Suggest charts\"\n",
              "            style=\"display:none;\">\n",
              "\n",
              "<svg xmlns=\"http://www.w3.org/2000/svg\" height=\"24px\"viewBox=\"0 0 24 24\"\n",
              "     width=\"24px\">\n",
              "    <g>\n",
              "        <path d=\"M19 3H5c-1.1 0-2 .9-2 2v14c0 1.1.9 2 2 2h14c1.1 0 2-.9 2-2V5c0-1.1-.9-2-2-2zM9 17H7v-7h2v7zm4 0h-2V7h2v10zm4 0h-2v-4h2v4z\"/>\n",
              "    </g>\n",
              "</svg>\n",
              "  </button>\n",
              "\n",
              "<style>\n",
              "  .colab-df-quickchart {\n",
              "      --bg-color: #E8F0FE;\n",
              "      --fill-color: #1967D2;\n",
              "      --hover-bg-color: #E2EBFA;\n",
              "      --hover-fill-color: #174EA6;\n",
              "      --disabled-fill-color: #AAA;\n",
              "      --disabled-bg-color: #DDD;\n",
              "  }\n",
              "\n",
              "  [theme=dark] .colab-df-quickchart {\n",
              "      --bg-color: #3B4455;\n",
              "      --fill-color: #D2E3FC;\n",
              "      --hover-bg-color: #434B5C;\n",
              "      --hover-fill-color: #FFFFFF;\n",
              "      --disabled-bg-color: #3B4455;\n",
              "      --disabled-fill-color: #666;\n",
              "  }\n",
              "\n",
              "  .colab-df-quickchart {\n",
              "    background-color: var(--bg-color);\n",
              "    border: none;\n",
              "    border-radius: 50%;\n",
              "    cursor: pointer;\n",
              "    display: none;\n",
              "    fill: var(--fill-color);\n",
              "    height: 32px;\n",
              "    padding: 0;\n",
              "    width: 32px;\n",
              "  }\n",
              "\n",
              "  .colab-df-quickchart:hover {\n",
              "    background-color: var(--hover-bg-color);\n",
              "    box-shadow: 0 1px 2px rgba(60, 64, 67, 0.3), 0 1px 3px 1px rgba(60, 64, 67, 0.15);\n",
              "    fill: var(--button-hover-fill-color);\n",
              "  }\n",
              "\n",
              "  .colab-df-quickchart-complete:disabled,\n",
              "  .colab-df-quickchart-complete:disabled:hover {\n",
              "    background-color: var(--disabled-bg-color);\n",
              "    fill: var(--disabled-fill-color);\n",
              "    box-shadow: none;\n",
              "  }\n",
              "\n",
              "  .colab-df-spinner {\n",
              "    border: 2px solid var(--fill-color);\n",
              "    border-color: transparent;\n",
              "    border-bottom-color: var(--fill-color);\n",
              "    animation:\n",
              "      spin 1s steps(1) infinite;\n",
              "  }\n",
              "\n",
              "  @keyframes spin {\n",
              "    0% {\n",
              "      border-color: transparent;\n",
              "      border-bottom-color: var(--fill-color);\n",
              "      border-left-color: var(--fill-color);\n",
              "    }\n",
              "    20% {\n",
              "      border-color: transparent;\n",
              "      border-left-color: var(--fill-color);\n",
              "      border-top-color: var(--fill-color);\n",
              "    }\n",
              "    30% {\n",
              "      border-color: transparent;\n",
              "      border-left-color: var(--fill-color);\n",
              "      border-top-color: var(--fill-color);\n",
              "      border-right-color: var(--fill-color);\n",
              "    }\n",
              "    40% {\n",
              "      border-color: transparent;\n",
              "      border-right-color: var(--fill-color);\n",
              "      border-top-color: var(--fill-color);\n",
              "    }\n",
              "    60% {\n",
              "      border-color: transparent;\n",
              "      border-right-color: var(--fill-color);\n",
              "    }\n",
              "    80% {\n",
              "      border-color: transparent;\n",
              "      border-right-color: var(--fill-color);\n",
              "      border-bottom-color: var(--fill-color);\n",
              "    }\n",
              "    90% {\n",
              "      border-color: transparent;\n",
              "      border-bottom-color: var(--fill-color);\n",
              "    }\n",
              "  }\n",
              "</style>\n",
              "\n",
              "  <script>\n",
              "    async function quickchart(key) {\n",
              "      const quickchartButtonEl =\n",
              "        document.querySelector('#' + key + ' button');\n",
              "      quickchartButtonEl.disabled = true;  // To prevent multiple clicks.\n",
              "      quickchartButtonEl.classList.add('colab-df-spinner');\n",
              "      try {\n",
              "        const charts = await google.colab.kernel.invokeFunction(\n",
              "            'suggestCharts', [key], {});\n",
              "      } catch (error) {\n",
              "        console.error('Error during call to suggestCharts:', error);\n",
              "      }\n",
              "      quickchartButtonEl.classList.remove('colab-df-spinner');\n",
              "      quickchartButtonEl.classList.add('colab-df-quickchart-complete');\n",
              "    }\n",
              "    (() => {\n",
              "      let quickchartButtonEl =\n",
              "        document.querySelector('#df-7cbc4cb2-5dd2-4c77-acc9-d282b3267ec8 button');\n",
              "      quickchartButtonEl.style.display =\n",
              "        google.colab.kernel.accessAllowed ? 'block' : 'none';\n",
              "    })();\n",
              "  </script>\n",
              "</div>\n",
              "\n",
              "    </div>\n",
              "  </div>\n"
            ],
            "application/vnd.google.colaboratory.intrinsic+json": {
              "type": "dataframe",
              "summary": "{\n  \"name\": \"df\",\n  \"rows\": 3,\n  \"fields\": [\n    {\n      \"column\": [\n        \"\\ud14c\\ub9c8\",\n        \"\"\n      ],\n      \"properties\": {\n        \"dtype\": \"string\",\n        \"num_unique_values\": 3,\n        \"samples\": [\n          \"2\\ucc28\\uc804\\uc9c0(\\uc0dd\\uc0b0)\",\n          \"\\uc2dc\\uc2a4\\ud15c\\ubc18\\ub3c4\\uccb4\",\n          \"\\ud574\\uc6b4\"\n        ],\n        \"semantic_type\": \"\",\n        \"description\": \"\"\n      }\n    },\n    {\n      \"column\": [\n        \"PER\",\n        \"max\"\n      ],\n      \"properties\": {\n        \"dtype\": \"number\",\n        \"std\": 31.960807248879057,\n        \"min\": 21.52,\n        \"max\": 83.06,\n        \"num_unique_values\": 3,\n        \"samples\": [\n          83.06,\n          37.32,\n          21.52\n        ],\n        \"semantic_type\": \"\",\n        \"description\": \"\"\n      }\n    },\n    {\n      \"column\": [\n        \"PER\",\n        \"min\"\n      ],\n      \"properties\": {\n        \"dtype\": \"number\",\n        \"std\": 12.934176948431366,\n        \"min\": 10.19,\n        \"max\": 35.97,\n        \"num_unique_values\": 3,\n        \"samples\": [\n          10.19,\n          35.97,\n          21.23\n        ],\n        \"semantic_type\": \"\",\n        \"description\": \"\"\n      }\n    },\n    {\n      \"column\": [\n        \"PBR\",\n        \"std\"\n      ],\n      \"properties\": {\n        \"dtype\": \"number\",\n        \"std\": 0.08031189202104501,\n        \"min\": 1.590990257669732,\n        \"max\": 1.7394826817189069,\n        \"num_unique_values\": 3,\n        \"samples\": [\n          1.7394826817189069,\n          1.7182694782833103,\n          1.590990257669732\n        ],\n        \"semantic_type\": \"\",\n        \"description\": \"\"\n      }\n    },\n    {\n      \"column\": [\n        \"PBR\",\n        \"var\"\n      ],\n      \"properties\": {\n        \"dtype\": \"number\",\n        \"std\": 0.2668861695554865,\n        \"min\": 2.53125,\n        \"max\": 3.0258,\n        \"num_unique_values\": 3,\n        \"samples\": [\n          3.0258,\n          2.9524499999999994,\n          2.53125\n        ],\n        \"semantic_type\": \"\",\n        \"description\": \"\"\n      }\n    }\n  ]\n}"
            }
          },
          "metadata": {},
          "execution_count": 122
        }
      ]
    },
    {
      "cell_type": "markdown",
      "source": [
        "### 5.6 좌/우로 붙이기\n",
        "\n",
        "`concat` : 인덱스는 동일한데 컬럼의 데이터가 분리되어 있을 때 하나의 데이터프레임으로 합쳐주는 함수"
      ],
      "metadata": {
        "id": "7-p5DSAY6RPH"
      }
    },
    {
      "cell_type": "code",
      "source": [
        "from pandas import DataFrame\n",
        "import pandas as pd\n",
        "\n",
        "# 첫 번째 데이터 프레임\n",
        "data = {\n",
        "    '종가' : [113000, 111500],\n",
        "    '거래량': [555850, 282163]\n",
        "}\n",
        "\n",
        "index = ['2019-06-21', '2019-06-20']\n",
        "df1 = DataFrame(data=data, index=index)\n",
        "\n",
        "# 두 번째 데이터 프레임\n",
        "data = {\n",
        "    '시가': [112500, 110000],\n",
        "    '고가': [115000, 112000],\n",
        "    '저가': [111500, 109000]\n",
        "}\n",
        "\n",
        "index = ['2019-06-21', '2019-06-20']\n",
        "df2 = DataFrame(data=data, index=index)\n",
        "\n",
        "df = pd.concat([df1, df2], axis = 1)\n",
        "print(df)"
      ],
      "metadata": {
        "colab": {
          "base_uri": "https://localhost:8080/"
        },
        "id": "duWIw4m16OIR",
        "outputId": "8e2147e5-1404-47da-b3b7-d14bf35f52b0"
      },
      "execution_count": null,
      "outputs": [
        {
          "output_type": "stream",
          "name": "stdout",
          "text": [
            "                종가     거래량      시가      고가      저가\n",
            "2019-06-21  113000  555850  112500  115000  111500\n",
            "2019-06-20  111500  282163  110000  112000  109000\n"
          ]
        }
      ]
    },
    {
      "cell_type": "code",
      "source": [
        "# 컬럼 순서 정렬\n",
        "정렬순서 = ['시가', '고가', '저가', '종가', '거래량']\n",
        "df = df[정렬순서]\n",
        "print(df)"
      ],
      "metadata": {
        "colab": {
          "base_uri": "https://localhost:8080/"
        },
        "id": "eGj7T4cq7ja8",
        "outputId": "049f924f-8b0f-428d-fb3b-9b7e956b8624"
      },
      "execution_count": null,
      "outputs": [
        {
          "output_type": "stream",
          "name": "stdout",
          "text": [
            "                시가      고가      저가      종가     거래량\n",
            "2019-06-21  112500  115000  111500  113000  555850\n",
            "2019-06-20  110000  112000  109000  111500  282163\n"
          ]
        }
      ]
    },
    {
      "cell_type": "code",
      "source": [
        "# 인덱스가 다른 데이터 프레임\n",
        "data = {\n",
        "    '종가' : [113000, 111500],\n",
        "    '거래량': [555850, 282163]\n",
        "}\n",
        "\n",
        "index = ['2019-06-21', '2019-06-20']\n",
        "df1 = DataFrame(data=data, index=index)\n",
        "\n",
        "# 두 번째 데이터 프레임\n",
        "data = {\n",
        "    '시가': [112500, 110000],\n",
        "    '고가': [115000, 112000],\n",
        "    '저가': [111500, 109000]\n",
        "}\n",
        "\n",
        "index = ['2019-06-20', '2019-06-19']\n",
        "df2 = DataFrame(data=data, index=index)\n",
        "\n",
        "df = pd.concat([df1, df2], axis = 1)\n",
        "print(df)  # 결측값으로 표기"
      ],
      "metadata": {
        "colab": {
          "base_uri": "https://localhost:8080/"
        },
        "id": "PZNr_VBj7ufk",
        "outputId": "f2b4f241-74b0-4af9-9f59-4f71f37d2169"
      },
      "execution_count": null,
      "outputs": [
        {
          "output_type": "stream",
          "name": "stdout",
          "text": [
            "                  종가       거래량        시가        고가        저가\n",
            "2019-06-21  113000.0  555850.0       NaN       NaN       NaN\n",
            "2019-06-20  111500.0  282163.0  112500.0  115000.0  111500.0\n",
            "2019-06-19       NaN       NaN  110000.0  112000.0  109000.0\n"
          ]
        }
      ]
    },
    {
      "cell_type": "code",
      "source": [
        "# inner 모드 -> 교집합; 인덱스가 공통인 부분만 연결\n",
        "# join 파라미터를 지정하지 않으면 outer 모드로 동작\n",
        "f = pd.concat([df1, df2], axis = 1, join = 'inner')\n",
        "print(df)"
      ],
      "metadata": {
        "colab": {
          "base_uri": "https://localhost:8080/"
        },
        "id": "49c3G82s8HMb",
        "outputId": "f17a06b0-e360-4321-92b2-86018f6a3663"
      },
      "execution_count": null,
      "outputs": [
        {
          "output_type": "stream",
          "name": "stdout",
          "text": [
            "                종가     거래량      시가      고가      저가\n",
            "2019-06-20  111500  282163  112500  115000  111500\n"
          ]
        }
      ]
    },
    {
      "cell_type": "markdown",
      "source": [
        "### 5.7 위/아래로 붙이기"
      ],
      "metadata": {
        "id": "qnGsSJhl8hpo"
      }
    },
    {
      "cell_type": "code",
      "source": [
        "from pandas import DataFrame\n",
        "import pandas as pd\n",
        "\n",
        "# 첫 번째 데이터 프레임\n",
        "data = {\n",
        "    '종가' : [113000, 111500],\n",
        "    '거래량': [555850, 282163]\n",
        "}\n",
        "\n",
        "index = ['2019-06-21', '2019-06-20']\n",
        "df1 = DataFrame(data, index=index)\n",
        "\n",
        "# 두 번째 데이터 프레임\n",
        "data = {\n",
        "    '종가' : [110000, 483689],\n",
        "    '거래량': [109000, 791946]\n",
        "}\n",
        "\n",
        "index = ['2019-06-19', '2019-06-18']\n",
        "df2 = DataFrame(data, index=index)\n",
        "\n",
        "# df = df1.append(df2)\n",
        "# print(df)\n",
        "# 4.9와 마찬가지로 append 미지원으로 인한 오류같다"
      ],
      "metadata": {
        "id": "MFU-khF68XtH"
      },
      "execution_count": null,
      "outputs": []
    },
    {
      "cell_type": "code",
      "source": [
        "# concat 함수로 합치기\n",
        "# axis = 0이면 위/아래 axis = 1이면 좌/우로 연결\n",
        "df = pd.concat([df1, df2])\n",
        "print(df)"
      ],
      "metadata": {
        "colab": {
          "base_uri": "https://localhost:8080/"
        },
        "id": "ricypODE9kHr",
        "outputId": "4ef8bfde-590b-4982-abf0-3eaa0bf29299"
      },
      "execution_count": null,
      "outputs": [
        {
          "output_type": "stream",
          "name": "stdout",
          "text": [
            "                종가     거래량\n",
            "2019-06-21  113000  555850\n",
            "2019-06-20  111500  282163\n",
            "2019-06-19  110000  109000\n",
            "2019-06-18  483689  791946\n"
          ]
        }
      ]
    },
    {
      "cell_type": "markdown",
      "source": [
        "### 5.8 Merge\n",
        "\n",
        "`merge`는 특정 컬럼값을 기준으로 데이터를 병합"
      ],
      "metadata": {
        "id": "b68LXEgy-P4s"
      }
    },
    {
      "cell_type": "code",
      "source": [
        "# 데이터 프레임 만들기\n",
        "from pandas import DataFrame\n",
        "import pandas as pd\n",
        "\n",
        "# 첫 번째 데이터 프레임\n",
        "data = [\n",
        "    [\"전기전자\", \"005930\", \"삼성전자\", 74400],\n",
        "    [\"화학\", \"051910\", \"LG화학\", 896000],\n",
        "    [\"전기전자\", \"000660\", \"SK하이닉스\", 101500]\n",
        "]\n",
        "\n",
        "columns = [\"업종\", \"종목코드\", \"종목명\", \"현재가\"]\n",
        "df1 = DataFrame(data=data, columns=columns)\n",
        "\n",
        "# 두 번째 데이터 프레임\n",
        "data = [\n",
        "    [\"은행\", 2.92],\n",
        "    [\"보험\", 0.37],\n",
        "    [\"화학\", 0.06],\n",
        "    [\"전기전자\", -2.43]\n",
        "]\n",
        "\n",
        "columns = [\"업종\", \"등락률\"]\n",
        "df2 = DataFrame(data=data, columns=columns)\n",
        "\n",
        "# merge함수; on 파라미터를 통해 두 df를 합칠 기준값을 지정\n",
        "df = pd.merge(left=df1, right=df2, on=\"업종\")\n",
        "print(df)"
      ],
      "metadata": {
        "colab": {
          "base_uri": "https://localhost:8080/"
        },
        "id": "eWTCYb1T-MaA",
        "outputId": "4b6d936b-9130-415f-e317-69e493e8845c"
      },
      "execution_count": null,
      "outputs": [
        {
          "output_type": "stream",
          "name": "stdout",
          "text": [
            "     업종    종목코드     종목명     현재가   등락률\n",
            "0  전기전자  005930    삼성전자   74400 -2.43\n",
            "1  전기전자  000660  SK하이닉스  101500 -2.43\n",
            "2    화학  051910    LG화학  896000  0.06\n"
          ]
        }
      ]
    },
    {
      "cell_type": "code",
      "source": [
        "# 첫 번째 데이터 프레임\n",
        "data = [\n",
        "    [\"전기전자\", \"005930\", \"삼성전자\", 74400],\n",
        "    [\"화학\", \"051910\", \"LG화학\", 896000],\n",
        "    [\"서비스업\", \"035720\", \"카카오\", 121500]\n",
        "]\n",
        "\n",
        "columns = [\"업종\", \"종목코드\", \"종목명\", \"현재가\"]\n",
        "df1 = DataFrame(data=data, columns=columns)\n",
        "\n",
        "# 두 번째 데이터 프레임\n",
        "data = [\n",
        "    [\"은행\", 2.92],\n",
        "    [\"보험\", 0.37],\n",
        "    [\"화학\", 0.06],\n",
        "    [\"전기전자\", -2.43]\n",
        "]\n",
        "\n",
        "columns = [\"업종\", \"등락률\"]\n",
        "df2 = DataFrame(data=data, columns=columns)\n",
        "\n",
        "# left, right 옵션\n",
        "df = pd.merge(left=df1, right=df2, how='left', on='업종') # how = 'left', 왼쪽을 기준으로 합친다\n",
        "print(df)"
      ],
      "metadata": {
        "colab": {
          "base_uri": "https://localhost:8080/"
        },
        "id": "1lZHerEs_tjp",
        "outputId": "5b1c30b4-1dd5-4708-cd1f-32616c1f5607"
      },
      "execution_count": null,
      "outputs": [
        {
          "output_type": "stream",
          "name": "stdout",
          "text": [
            "     업종    종목코드   종목명     현재가   등락률\n",
            "0  전기전자  005930  삼성전자   74400 -2.43\n",
            "1    화학  051910  LG화학  896000  0.06\n",
            "2  서비스업  035720   카카오  121500   NaN\n"
          ]
        }
      ]
    },
    {
      "cell_type": "code",
      "source": [
        "#  두 데이터 프레임의 컬럼명이 다를 경우\n",
        "\n",
        "# 첫 번째 데이터 프레임\n",
        "data = [\n",
        "    [\"전기전자\", \"005930\", \"삼성전자\", 74400],\n",
        "    [\"화학\", \"051910\", \"LG화학\", 896000],\n",
        "    [\"서비스업\", \"035720\", \"카카오\", 121500]\n",
        "]\n",
        "\n",
        "columns = [\"업종\", \"종목코드\", \"종목명\", \"현재가\"]\n",
        "df1 = DataFrame(data=data, columns=columns)\n",
        "\n",
        "# 두 번째 데이터 프레임\n",
        "data = [\n",
        "    [\"은행\", 2.92],\n",
        "    [\"보험\", 0.37],\n",
        "    [\"화학\", 0.06],\n",
        "    [\"전기전자\", -2.43]\n",
        "]\n",
        "\n",
        "columns = [\"항목\", \"등락률\"]\n",
        "df2 = DataFrame(data=data, columns=columns)\n",
        "\n",
        "# 컬럼 이름이 다르므로 합칠 기준이 되는 각 컬럼의 이름을 모두 입력\n",
        "df = pd.merge(left=df1, right=df2, left_on=\"업종\", right_on=\"항목\")\n",
        "print(df)"
      ],
      "metadata": {
        "colab": {
          "base_uri": "https://localhost:8080/"
        },
        "id": "EEMCbm8hAmmt",
        "outputId": "0651aff0-3933-44e4-86c1-951ff817088b"
      },
      "execution_count": null,
      "outputs": [
        {
          "output_type": "stream",
          "name": "stdout",
          "text": [
            "     업종    종목코드   종목명     현재가    항목   등락률\n",
            "0  전기전자  005930  삼성전자   74400  전기전자 -2.43\n",
            "1    화학  051910  LG화학  896000    화학  0.06\n"
          ]
        }
      ]
    },
    {
      "cell_type": "markdown",
      "source": [
        "### 5.9 Join\n",
        "\n",
        "데이터프레임의 인덱스를 기준으로 병합하는 경우 `join`을 사용\n"
      ],
      "metadata": {
        "id": "zpdNTCIGB-K0"
      }
    },
    {
      "cell_type": "code",
      "source": [
        "# 첫 번째 데이터 프레임\n",
        "data = [\n",
        "    [\"전기전자\", \"005930\", \"삼성전자\", 74400],\n",
        "    [\"화학\", \"051910\", \"LG화학\", 896000],\n",
        "    [\"서비스업\", \"035720\", \"카카오\", 121500]\n",
        "]\n",
        "\n",
        "columns = [\"업종\", \"종목코드\", \"종목명\", \"현재가\"]\n",
        "df1 = DataFrame(data=data, columns=columns)\n",
        "df1 = df1.set_index(\"업종\")\n",
        "print(df1)\n",
        "\n",
        "# 두 번째 데이터 프레임\n",
        "data = [\n",
        "    [\"은행\", 2.92],\n",
        "    [\"보험\", 0.37],\n",
        "    [\"화학\", 0.06],\n",
        "    [\"전기전자\", -2.43]\n",
        "]\n",
        "\n",
        "columns = [\"항목\", \"등락률\"]\n",
        "df2 = DataFrame(data=data, columns=columns)\n",
        "df2 = df2.set_index(\"항목\")\n",
        "print(df2)"
      ],
      "metadata": {
        "colab": {
          "base_uri": "https://localhost:8080/"
        },
        "id": "CSRbok_FB80t",
        "outputId": "60035992-5f6e-4a2e-8fef-0079b6490e63"
      },
      "execution_count": null,
      "outputs": [
        {
          "output_type": "stream",
          "name": "stdout",
          "text": [
            "        종목코드   종목명     현재가\n",
            "업종                        \n",
            "전기전자  005930  삼성전자   74400\n",
            "화학    051910  LG화학  896000\n",
            "서비스업  035720   카카오  121500\n",
            "       등락률\n",
            "항목        \n",
            "은행    2.92\n",
            "보험    0.37\n",
            "화학    0.06\n",
            "전기전자 -2.43\n"
          ]
        }
      ]
    },
    {
      "cell_type": "code",
      "source": [
        "# join 메서드\n",
        "df1.join(other=df2)"
      ],
      "metadata": {
        "colab": {
          "base_uri": "https://localhost:8080/",
          "height": 174
        },
        "id": "Cdo09jfaDAHH",
        "outputId": "2dc1b050-760b-4441-9953-dc0cbe98bf7b"
      },
      "execution_count": null,
      "outputs": [
        {
          "output_type": "execute_result",
          "data": {
            "text/plain": [
              "        종목코드   종목명     현재가   등락률\n",
              "업종                              \n",
              "전기전자  005930  삼성전자   74400 -2.43\n",
              "화학    051910  LG화학  896000  0.06\n",
              "서비스업  035720   카카오  121500   NaN"
            ],
            "text/html": [
              "\n",
              "  <div id=\"df-7e9a3aac-afeb-40da-93ec-dc765911f5a9\" class=\"colab-df-container\">\n",
              "    <div>\n",
              "<style scoped>\n",
              "    .dataframe tbody tr th:only-of-type {\n",
              "        vertical-align: middle;\n",
              "    }\n",
              "\n",
              "    .dataframe tbody tr th {\n",
              "        vertical-align: top;\n",
              "    }\n",
              "\n",
              "    .dataframe thead th {\n",
              "        text-align: right;\n",
              "    }\n",
              "</style>\n",
              "<table border=\"1\" class=\"dataframe\">\n",
              "  <thead>\n",
              "    <tr style=\"text-align: right;\">\n",
              "      <th></th>\n",
              "      <th>종목코드</th>\n",
              "      <th>종목명</th>\n",
              "      <th>현재가</th>\n",
              "      <th>등락률</th>\n",
              "    </tr>\n",
              "    <tr>\n",
              "      <th>업종</th>\n",
              "      <th></th>\n",
              "      <th></th>\n",
              "      <th></th>\n",
              "      <th></th>\n",
              "    </tr>\n",
              "  </thead>\n",
              "  <tbody>\n",
              "    <tr>\n",
              "      <th>전기전자</th>\n",
              "      <td>005930</td>\n",
              "      <td>삼성전자</td>\n",
              "      <td>74400</td>\n",
              "      <td>-2.43</td>\n",
              "    </tr>\n",
              "    <tr>\n",
              "      <th>화학</th>\n",
              "      <td>051910</td>\n",
              "      <td>LG화학</td>\n",
              "      <td>896000</td>\n",
              "      <td>0.06</td>\n",
              "    </tr>\n",
              "    <tr>\n",
              "      <th>서비스업</th>\n",
              "      <td>035720</td>\n",
              "      <td>카카오</td>\n",
              "      <td>121500</td>\n",
              "      <td>NaN</td>\n",
              "    </tr>\n",
              "  </tbody>\n",
              "</table>\n",
              "</div>\n",
              "    <div class=\"colab-df-buttons\">\n",
              "\n",
              "  <div class=\"colab-df-container\">\n",
              "    <button class=\"colab-df-convert\" onclick=\"convertToInteractive('df-7e9a3aac-afeb-40da-93ec-dc765911f5a9')\"\n",
              "            title=\"Convert this dataframe to an interactive table.\"\n",
              "            style=\"display:none;\">\n",
              "\n",
              "  <svg xmlns=\"http://www.w3.org/2000/svg\" height=\"24px\" viewBox=\"0 -960 960 960\">\n",
              "    <path d=\"M120-120v-720h720v720H120Zm60-500h600v-160H180v160Zm220 220h160v-160H400v160Zm0 220h160v-160H400v160ZM180-400h160v-160H180v160Zm440 0h160v-160H620v160ZM180-180h160v-160H180v160Zm440 0h160v-160H620v160Z\"/>\n",
              "  </svg>\n",
              "    </button>\n",
              "\n",
              "  <style>\n",
              "    .colab-df-container {\n",
              "      display:flex;\n",
              "      gap: 12px;\n",
              "    }\n",
              "\n",
              "    .colab-df-convert {\n",
              "      background-color: #E8F0FE;\n",
              "      border: none;\n",
              "      border-radius: 50%;\n",
              "      cursor: pointer;\n",
              "      display: none;\n",
              "      fill: #1967D2;\n",
              "      height: 32px;\n",
              "      padding: 0 0 0 0;\n",
              "      width: 32px;\n",
              "    }\n",
              "\n",
              "    .colab-df-convert:hover {\n",
              "      background-color: #E2EBFA;\n",
              "      box-shadow: 0px 1px 2px rgba(60, 64, 67, 0.3), 0px 1px 3px 1px rgba(60, 64, 67, 0.15);\n",
              "      fill: #174EA6;\n",
              "    }\n",
              "\n",
              "    .colab-df-buttons div {\n",
              "      margin-bottom: 4px;\n",
              "    }\n",
              "\n",
              "    [theme=dark] .colab-df-convert {\n",
              "      background-color: #3B4455;\n",
              "      fill: #D2E3FC;\n",
              "    }\n",
              "\n",
              "    [theme=dark] .colab-df-convert:hover {\n",
              "      background-color: #434B5C;\n",
              "      box-shadow: 0px 1px 3px 1px rgba(0, 0, 0, 0.15);\n",
              "      filter: drop-shadow(0px 1px 2px rgba(0, 0, 0, 0.3));\n",
              "      fill: #FFFFFF;\n",
              "    }\n",
              "  </style>\n",
              "\n",
              "    <script>\n",
              "      const buttonEl =\n",
              "        document.querySelector('#df-7e9a3aac-afeb-40da-93ec-dc765911f5a9 button.colab-df-convert');\n",
              "      buttonEl.style.display =\n",
              "        google.colab.kernel.accessAllowed ? 'block' : 'none';\n",
              "\n",
              "      async function convertToInteractive(key) {\n",
              "        const element = document.querySelector('#df-7e9a3aac-afeb-40da-93ec-dc765911f5a9');\n",
              "        const dataTable =\n",
              "          await google.colab.kernel.invokeFunction('convertToInteractive',\n",
              "                                                    [key], {});\n",
              "        if (!dataTable) return;\n",
              "\n",
              "        const docLinkHtml = 'Like what you see? Visit the ' +\n",
              "          '<a target=\"_blank\" href=https://colab.research.google.com/notebooks/data_table.ipynb>data table notebook</a>'\n",
              "          + ' to learn more about interactive tables.';\n",
              "        element.innerHTML = '';\n",
              "        dataTable['output_type'] = 'display_data';\n",
              "        await google.colab.output.renderOutput(dataTable, element);\n",
              "        const docLink = document.createElement('div');\n",
              "        docLink.innerHTML = docLinkHtml;\n",
              "        element.appendChild(docLink);\n",
              "      }\n",
              "    </script>\n",
              "  </div>\n",
              "\n",
              "\n",
              "<div id=\"df-263bbbc9-5d66-4779-8445-7bffdac05878\">\n",
              "  <button class=\"colab-df-quickchart\" onclick=\"quickchart('df-263bbbc9-5d66-4779-8445-7bffdac05878')\"\n",
              "            title=\"Suggest charts\"\n",
              "            style=\"display:none;\">\n",
              "\n",
              "<svg xmlns=\"http://www.w3.org/2000/svg\" height=\"24px\"viewBox=\"0 0 24 24\"\n",
              "     width=\"24px\">\n",
              "    <g>\n",
              "        <path d=\"M19 3H5c-1.1 0-2 .9-2 2v14c0 1.1.9 2 2 2h14c1.1 0 2-.9 2-2V5c0-1.1-.9-2-2-2zM9 17H7v-7h2v7zm4 0h-2V7h2v10zm4 0h-2v-4h2v4z\"/>\n",
              "    </g>\n",
              "</svg>\n",
              "  </button>\n",
              "\n",
              "<style>\n",
              "  .colab-df-quickchart {\n",
              "      --bg-color: #E8F0FE;\n",
              "      --fill-color: #1967D2;\n",
              "      --hover-bg-color: #E2EBFA;\n",
              "      --hover-fill-color: #174EA6;\n",
              "      --disabled-fill-color: #AAA;\n",
              "      --disabled-bg-color: #DDD;\n",
              "  }\n",
              "\n",
              "  [theme=dark] .colab-df-quickchart {\n",
              "      --bg-color: #3B4455;\n",
              "      --fill-color: #D2E3FC;\n",
              "      --hover-bg-color: #434B5C;\n",
              "      --hover-fill-color: #FFFFFF;\n",
              "      --disabled-bg-color: #3B4455;\n",
              "      --disabled-fill-color: #666;\n",
              "  }\n",
              "\n",
              "  .colab-df-quickchart {\n",
              "    background-color: var(--bg-color);\n",
              "    border: none;\n",
              "    border-radius: 50%;\n",
              "    cursor: pointer;\n",
              "    display: none;\n",
              "    fill: var(--fill-color);\n",
              "    height: 32px;\n",
              "    padding: 0;\n",
              "    width: 32px;\n",
              "  }\n",
              "\n",
              "  .colab-df-quickchart:hover {\n",
              "    background-color: var(--hover-bg-color);\n",
              "    box-shadow: 0 1px 2px rgba(60, 64, 67, 0.3), 0 1px 3px 1px rgba(60, 64, 67, 0.15);\n",
              "    fill: var(--button-hover-fill-color);\n",
              "  }\n",
              "\n",
              "  .colab-df-quickchart-complete:disabled,\n",
              "  .colab-df-quickchart-complete:disabled:hover {\n",
              "    background-color: var(--disabled-bg-color);\n",
              "    fill: var(--disabled-fill-color);\n",
              "    box-shadow: none;\n",
              "  }\n",
              "\n",
              "  .colab-df-spinner {\n",
              "    border: 2px solid var(--fill-color);\n",
              "    border-color: transparent;\n",
              "    border-bottom-color: var(--fill-color);\n",
              "    animation:\n",
              "      spin 1s steps(1) infinite;\n",
              "  }\n",
              "\n",
              "  @keyframes spin {\n",
              "    0% {\n",
              "      border-color: transparent;\n",
              "      border-bottom-color: var(--fill-color);\n",
              "      border-left-color: var(--fill-color);\n",
              "    }\n",
              "    20% {\n",
              "      border-color: transparent;\n",
              "      border-left-color: var(--fill-color);\n",
              "      border-top-color: var(--fill-color);\n",
              "    }\n",
              "    30% {\n",
              "      border-color: transparent;\n",
              "      border-left-color: var(--fill-color);\n",
              "      border-top-color: var(--fill-color);\n",
              "      border-right-color: var(--fill-color);\n",
              "    }\n",
              "    40% {\n",
              "      border-color: transparent;\n",
              "      border-right-color: var(--fill-color);\n",
              "      border-top-color: var(--fill-color);\n",
              "    }\n",
              "    60% {\n",
              "      border-color: transparent;\n",
              "      border-right-color: var(--fill-color);\n",
              "    }\n",
              "    80% {\n",
              "      border-color: transparent;\n",
              "      border-right-color: var(--fill-color);\n",
              "      border-bottom-color: var(--fill-color);\n",
              "    }\n",
              "    90% {\n",
              "      border-color: transparent;\n",
              "      border-bottom-color: var(--fill-color);\n",
              "    }\n",
              "  }\n",
              "</style>\n",
              "\n",
              "  <script>\n",
              "    async function quickchart(key) {\n",
              "      const quickchartButtonEl =\n",
              "        document.querySelector('#' + key + ' button');\n",
              "      quickchartButtonEl.disabled = true;  // To prevent multiple clicks.\n",
              "      quickchartButtonEl.classList.add('colab-df-spinner');\n",
              "      try {\n",
              "        const charts = await google.colab.kernel.invokeFunction(\n",
              "            'suggestCharts', [key], {});\n",
              "      } catch (error) {\n",
              "        console.error('Error during call to suggestCharts:', error);\n",
              "      }\n",
              "      quickchartButtonEl.classList.remove('colab-df-spinner');\n",
              "      quickchartButtonEl.classList.add('colab-df-quickchart-complete');\n",
              "    }\n",
              "    (() => {\n",
              "      let quickchartButtonEl =\n",
              "        document.querySelector('#df-263bbbc9-5d66-4779-8445-7bffdac05878 button');\n",
              "      quickchartButtonEl.style.display =\n",
              "        google.colab.kernel.accessAllowed ? 'block' : 'none';\n",
              "    })();\n",
              "  </script>\n",
              "</div>\n",
              "\n",
              "    </div>\n",
              "  </div>\n"
            ],
            "application/vnd.google.colaboratory.intrinsic+json": {
              "type": "dataframe",
              "summary": "{\n  \"name\": \"df1\",\n  \"rows\": 3,\n  \"fields\": [\n    {\n      \"column\": \"\\uc5c5\\uc885\",\n      \"properties\": {\n        \"dtype\": \"string\",\n        \"num_unique_values\": 3,\n        \"samples\": [\n          \"\\uc804\\uae30\\uc804\\uc790\",\n          \"\\ud654\\ud559\",\n          \"\\uc11c\\ube44\\uc2a4\\uc5c5\"\n        ],\n        \"semantic_type\": \"\",\n        \"description\": \"\"\n      }\n    },\n    {\n      \"column\": \"\\uc885\\ubaa9\\ucf54\\ub4dc\",\n      \"properties\": {\n        \"dtype\": \"string\",\n        \"num_unique_values\": 3,\n        \"samples\": [\n          \"005930\",\n          \"051910\",\n          \"035720\"\n        ],\n        \"semantic_type\": \"\",\n        \"description\": \"\"\n      }\n    },\n    {\n      \"column\": \"\\uc885\\ubaa9\\uba85\",\n      \"properties\": {\n        \"dtype\": \"string\",\n        \"num_unique_values\": 3,\n        \"samples\": [\n          \"\\uc0bc\\uc131\\uc804\\uc790\",\n          \"LG\\ud654\\ud559\",\n          \"\\uce74\\uce74\\uc624\"\n        ],\n        \"semantic_type\": \"\",\n        \"description\": \"\"\n      }\n    },\n    {\n      \"column\": \"\\ud604\\uc7ac\\uac00\",\n      \"properties\": {\n        \"dtype\": \"number\",\n        \"std\": 461355,\n        \"min\": 74400,\n        \"max\": 896000,\n        \"num_unique_values\": 3,\n        \"samples\": [\n          74400,\n          896000,\n          121500\n        ],\n        \"semantic_type\": \"\",\n        \"description\": \"\"\n      }\n    },\n    {\n      \"column\": \"\\ub4f1\\ub77d\\ub960\",\n      \"properties\": {\n        \"dtype\": \"number\",\n        \"std\": 1.7606958851545034,\n        \"min\": -2.43,\n        \"max\": 0.06,\n        \"num_unique_values\": 2,\n        \"samples\": [\n          0.06,\n          -2.43\n        ],\n        \"semantic_type\": \"\",\n        \"description\": \"\"\n      }\n    }\n  ]\n}"
            }
          },
          "metadata": {},
          "execution_count": 148
        }
      ]
    },
    {
      "cell_type": "code",
      "source": [
        "data = [\n",
        "    [\"2017\", \"삼성\", 500],\n",
        "    [\"2017\", \"LG\", 300],\n",
        "    [\"2017\", \"SK하이닉스\", 200],\n",
        "    [\"2018\", \"삼성\", 600],\n",
        "    [\"2018\", \"LG\", 400],\n",
        "    [\"2018\", \"SK하이닉스\", 300]\n",
        "]\n",
        "columns = [\"연도\", \"회사\", \"시가총액\"]\n",
        "df = DataFrame(data=data, columns=columns)\n",
        "print(df)"
      ],
      "metadata": {
        "colab": {
          "base_uri": "https://localhost:8080/"
        },
        "id": "Tezd8Q_IDlhe",
        "outputId": "bc58adb0-b878-4544-81b3-f891ab73e18a"
      },
      "execution_count": null,
      "outputs": [
        {
          "output_type": "stream",
          "name": "stdout",
          "text": [
            "     연도      회사  시가총액\n",
            "0  2017      삼성   500\n",
            "1  2017      LG   300\n",
            "2  2017  SK하이닉스   200\n",
            "3  2018      삼성   600\n",
            "4  2018      LG   400\n",
            "5  2018  SK하이닉스   300\n"
          ]
        }
      ]
    },
    {
      "cell_type": "code",
      "source": [
        "df_mean = df.groupby(\"연도\")[\"시가총액\"].mean().to_frame() # 컬럼이 시가총액 하나라서 시리즈이기 때문에 to_fram메서드를 사용해 데이터프레임을 얻음\n",
        "df_mean.columns = [\"시가총액평균\"]\n",
        "print(df_mean)"
      ],
      "metadata": {
        "colab": {
          "base_uri": "https://localhost:8080/"
        },
        "id": "yHI08gZ8GCR2",
        "outputId": "edb83bc8-3e4d-42b2-c4de-796389f69b3f"
      },
      "execution_count": null,
      "outputs": [
        {
          "output_type": "stream",
          "name": "stdout",
          "text": [
            "          시가총액평균\n",
            "연도              \n",
            "2017  333.333333\n",
            "2018  433.333333\n"
          ]
        }
      ]
    },
    {
      "cell_type": "code",
      "source": [
        "# join메서드로 병합하기\n",
        "\n",
        "df = df.join(df_mean, on=\"연도\")\n",
        " print(df)"
      ],
      "metadata": {
        "colab": {
          "base_uri": "https://localhost:8080/"
        },
        "id": "wffrxYwqGgyL",
        "outputId": "c0ad3e2a-01f1-4060-efa3-030948d29270"
      },
      "execution_count": null,
      "outputs": [
        {
          "output_type": "stream",
          "name": "stdout",
          "text": [
            "     연도      회사  시가총액      시가총액평균\n",
            "0  2017      삼성   500  333.333333\n",
            "1  2017      LG   300  333.333333\n",
            "2  2017  SK하이닉스   200  333.333333\n",
            "3  2018      삼성   600  433.333333\n",
            "4  2018      LG   400  433.333333\n",
            "5  2018  SK하이닉스   300  433.333333\n"
          ]
        }
      ]
    },
    {
      "cell_type": "code",
      "source": [
        "import numpy as np\n",
        "\n",
        "df['규모'] = np.where(df['시가총액'] >= df['시가총액평균'], \"대형주\", \"중/소형주\")\n",
        "print(df)"
      ],
      "metadata": {
        "colab": {
          "base_uri": "https://localhost:8080/"
        },
        "id": "XRglbIlIG3sl",
        "outputId": "b9514d1f-a2fd-4fdd-9d81-d40c8ac13eef"
      },
      "execution_count": null,
      "outputs": [
        {
          "output_type": "stream",
          "name": "stdout",
          "text": [
            "     연도      회사  시가총액      시가총액평균     규모\n",
            "0  2017      삼성   500  333.333333    대형주\n",
            "1  2017      LG   300  333.333333  중/소형주\n",
            "2  2017  SK하이닉스   200  333.333333  중/소형주\n",
            "3  2018      삼성   600  433.333333    대형주\n",
            "4  2018      LG   400  433.333333  중/소형주\n",
            "5  2018  SK하이닉스   300  433.333333  중/소형주\n"
          ]
        }
      ]
    },
    {
      "cell_type": "markdown",
      "source": [
        "### 5.10 멀티인덱스(Multi-Index)\n",
        "\n",
        "> 멀티인덱스: 여러 컬럼으로 구분된 구조적인 데이터를 표현\n"
      ],
      "metadata": {
        "id": "jbR1j3C4HeR6"
      }
    },
    {
      "cell_type": "code",
      "source": [
        "from pandas import DataFrame\n",
        "import pandas as ad\n",
        "\n",
        "data = [\n",
        "    ['영업이익', '컨센서스', 1000, 1200],\n",
        "    ['영업이익', '잠정치', 900, 1400],\n",
        "    ['당기순이익', '컨센서스', 800, 900],\n",
        "    ['당기순이익', '잠정치', 700, 800]\n",
        "]\n",
        "\n",
        "df = DataFrame(data=data)\n",
        "df = df.set_index( [0, 1]) # 자동 맵핑된 숫자 컬럼 이름으로 인덱스를 지정(리스트로 전달)\n",
        "print(df)"
      ],
      "metadata": {
        "colab": {
          "base_uri": "https://localhost:8080/"
        },
        "id": "KGoJkDhtHcix",
        "outputId": "29484a1b-5a4a-4f63-a44e-aea71ee5b21f"
      },
      "execution_count": null,
      "outputs": [
        {
          "output_type": "stream",
          "name": "stdout",
          "text": [
            "               2     3\n",
            "0     1               \n",
            "영업이익  컨센서스  1000  1200\n",
            "      잠정치    900  1400\n",
            "당기순이익 컨센서스   800   900\n",
            "      잠정치    700   800\n"
          ]
        }
      ]
    },
    {
      "cell_type": "code",
      "source": [
        "# 인덱스와 컬럼 이름 변경\n",
        "\n",
        "df.index.names = [\"재무연월\", \"\"]\n",
        "df.columns = [\"2020/06\", \"2020/09\"]\n",
        "print(df)"
      ],
      "metadata": {
        "colab": {
          "base_uri": "https://localhost:8080/"
        },
        "id": "2DhRUkg9JEfP",
        "outputId": "68d2e863-77a3-465f-c3f2-f58413c4ed45"
      },
      "execution_count": null,
      "outputs": [
        {
          "output_type": "stream",
          "name": "stdout",
          "text": [
            "            2020/06  2020/09\n",
            "재무연월                        \n",
            "영업이익  컨센서스     1000     1200\n",
            "      잠정치       900     1400\n",
            "당기순이익 컨센서스      800      900\n",
            "      잠정치       700      800\n"
          ]
        }
      ]
    },
    {
      "cell_type": "code",
      "source": [
        "# level 0 인덱스로 인덱싱\n",
        "print(df.loc['영업이익'])"
      ],
      "metadata": {
        "colab": {
          "base_uri": "https://localhost:8080/"
        },
        "id": "T459kiNcKe-8",
        "outputId": "86be2fb1-eb7d-4456-e96c-542d8de4548e"
      },
      "execution_count": null,
      "outputs": [
        {
          "output_type": "stream",
          "name": "stdout",
          "text": [
            "      2020/06  2020/09\n",
            "                      \n",
            "컨센서스     1000     1200\n",
            "잠정치       900     1400\n"
          ]
        }
      ]
    },
    {
      "cell_type": "code",
      "source": [
        "# 멀티인덱스에서 하나의 행을 선택할 때는 level 0부터 N까지의 인덱스를 튜플로 정의\n",
        "print(df.loc['영업이익', '컨센서스'])"
      ],
      "metadata": {
        "colab": {
          "base_uri": "https://localhost:8080/"
        },
        "id": "mOpQVoVaKmLE",
        "outputId": "c1885161-08b2-4b01-96a6-3bcd837d56e7"
      },
      "execution_count": null,
      "outputs": [
        {
          "output_type": "stream",
          "name": "stdout",
          "text": [
            "2020/06    1000\n",
            "2020/09    1200\n",
            "Name: (영업이익, 컨센서스), dtype: int64\n"
          ]
        }
      ]
    },
    {
      "cell_type": "code",
      "source": [
        "# iloc를 사용하면 인덱스 레벨과 무관하게 하나의 로우 선택\n",
        "# 컬럼 이름을 인덱스로 갖는 시리즈 반환\n",
        "print(df.iloc[0])"
      ],
      "metadata": {
        "colab": {
          "base_uri": "https://localhost:8080/"
        },
        "id": "bOLEUMP4MYma",
        "outputId": "e1229d14-eb3d-4796-ead6-8dfbaf76c7dd"
      },
      "execution_count": null,
      "outputs": [
        {
          "output_type": "stream",
          "name": "stdout",
          "text": [
            "2020/06    1000\n",
            "2020/09    1200\n",
            "Name: (영업이익, 컨센서스), dtype: int64\n"
          ]
        }
      ]
    },
    {
      "cell_type": "code",
      "source": [
        "# 특정 값 가져오기 응용\n",
        "print(df.iloc[0, 0]) # 행, 열 인덱스 차례로 지정"
      ],
      "metadata": {
        "colab": {
          "base_uri": "https://localhost:8080/"
        },
        "id": "oWpm979kMvf_",
        "outputId": "f740fe00-0cc0-4c60-ca2b-e4fcfe067abc"
      },
      "execution_count": null,
      "outputs": [
        {
          "output_type": "stream",
          "name": "stdout",
          "text": [
            "1000\n"
          ]
        }
      ]
    },
    {
      "cell_type": "code",
      "source": [
        "# loc는 멀티 인덱스 값 선택을 위해 튜플 사용\n",
        "print(df.loc[('영업이익', '컨센서스'), '2020/06'])"
      ],
      "metadata": {
        "colab": {
          "base_uri": "https://localhost:8080/"
        },
        "id": "R8Tlq5ebM5o-",
        "outputId": "49702656-fe90-470d-862c-efcba008ca20"
      },
      "execution_count": null,
      "outputs": [
        {
          "output_type": "stream",
          "name": "stdout",
          "text": [
            "1000\n"
          ]
        }
      ]
    },
    {
      "cell_type": "code",
      "source": [
        "# 슬라이스 클래스\n",
        "# '시작:끝:오프셋' slice 클래스는 콜론 대신 콤마로 인덱스 구분\n",
        "a = [1, 2, 3, 4, 5]\n",
        "print(a[0:5:2])\n",
        "print(a[slice(0, 5, 2)])"
      ],
      "metadata": {
        "colab": {
          "base_uri": "https://localhost:8080/"
        },
        "id": "deN2vAbgNSZ1",
        "outputId": "871cb4c4-add5-4cbe-bcc6-7ec3b254437f"
      },
      "execution_count": null,
      "outputs": [
        {
          "output_type": "stream",
          "name": "stdout",
          "text": [
            "[1, 3, 5]\n",
            "[1, 3, 5]\n"
          ]
        }
      ]
    },
    {
      "cell_type": "code",
      "source": [
        "a = [1, 2, 3, 4, 5]\n",
        "b = [3, 4, 5, 6, 7]\n",
        "\n",
        "s = slice(0, 5, 2)\n",
        "print(a[ s ])\n",
        "print(b[ s ])"
      ],
      "metadata": {
        "colab": {
          "base_uri": "https://localhost:8080/"
        },
        "id": "AZuy_PN5N2hB",
        "outputId": "b9e4848c-79f4-44bd-9f2c-54aaefc26c61"
      },
      "execution_count": null,
      "outputs": [
        {
          "output_type": "stream",
          "name": "stdout",
          "text": [
            "[1, 3, 5]\n",
            "[3, 5, 7]\n"
          ]
        }
      ]
    },
    {
      "cell_type": "code",
      "source": [
        "a = [1, 2, 3, 4, 5]\n",
        "\n",
        "# slice 객체에서는 콜론과 같은 기능은 slice(None)으로 표현할 수 있음\n",
        "print(a[:])\n",
        "print(a[slice(None)])\n",
        "print(a[ : : ])\n",
        "print(a[slice(None, None)])"
      ],
      "metadata": {
        "colab": {
          "base_uri": "https://localhost:8080/"
        },
        "id": "gkRw8-MfUFkx",
        "outputId": "d196bf54-bbf0-4a2a-8bc1-17f082145439"
      },
      "execution_count": null,
      "outputs": [
        {
          "output_type": "stream",
          "name": "stdout",
          "text": [
            "[1, 2, 3, 4, 5]\n",
            "[1, 2, 3, 4, 5]\n",
            "[1, 2, 3, 4, 5]\n",
            "[1, 2, 3, 4, 5]\n"
          ]
        }
      ]
    },
    {
      "cell_type": "code",
      "source": [
        "# print(df.loc[ (:, '컨센서스'), : ] ) 튜플 안의 콜론을 인식하지 못해 에러 발생\n",
        "\n",
        "# level 0 인덱스 전체에 level 1의 컨센서스만을 선택\n",
        "print( df.loc[ (slice(None), '컨센서스'), :] )"
      ],
      "metadata": {
        "colab": {
          "base_uri": "https://localhost:8080/"
        },
        "id": "hDoYbbOCUqM1",
        "outputId": "872da25f-f66e-438c-b026-263210c23ec2"
      },
      "execution_count": null,
      "outputs": [
        {
          "output_type": "stream",
          "name": "stdout",
          "text": [
            "            2020/06  2020/09\n",
            "재무연월                        \n",
            "영업이익  컨센서스     1000     1200\n",
            "당기순이익 컨센서스      800      900\n"
          ]
        }
      ]
    },
    {
      "cell_type": "code",
      "source": [
        "# slice(None) 대신 IndexSlice 사용\n",
        "# IndexSlice는 인덱싱 기호와 함께 ['level 0', 'level 1', 'level 2']형태로 인덱스를 차례로 지정; 행과 열을 모두 지정\n",
        "\n",
        "idx = pd.IndexSlice\n",
        "print(df.loc[ idx[ :, '컨센서스'], : ])"
      ],
      "metadata": {
        "colab": {
          "base_uri": "https://localhost:8080/"
        },
        "id": "nc7rvP8GVgaN",
        "outputId": "c26af80e-c1dc-495b-b116-1d9e77e769fc"
      },
      "execution_count": null,
      "outputs": [
        {
          "output_type": "stream",
          "name": "stdout",
          "text": [
            "            2020/06  2020/09\n",
            "재무연월                        \n",
            "영업이익  컨센서스     1000     1200\n",
            "당기순이익 컨센서스      800      900\n"
          ]
        }
      ]
    },
    {
      "cell_type": "markdown",
      "source": [
        "### 5.11 멀티컬럼(Multi-Column)"
      ],
      "metadata": {
        "id": "fcRM97GkW4ry"
      }
    },
    {
      "cell_type": "code",
      "source": [
        "from pandas import DataFrame\n",
        "\n",
        "data = [\n",
        "    [1000, 900, 800, 700],\n",
        "    [1200, 1400, 900, 800]\n",
        "]\n",
        "\n",
        "columns = [\n",
        "    ['영업이익', '영업이익', '당기순이익', '당기순이익'],\n",
        "    ['컨센서스', '잠정치', '컨센서스', '잠정치']\n",
        "]\n",
        "\n",
        "df = DataFrame(data=data, index=[\"2020/06\", \"2020/09\"], columns=columns)\n",
        "print(df)"
      ],
      "metadata": {
        "colab": {
          "base_uri": "https://localhost:8080/"
        },
        "id": "isFoW19cW3Ri",
        "outputId": "6bcf8af1-7d5c-428a-94d7-618522bb9c9a"
      },
      "execution_count": null,
      "outputs": [
        {
          "output_type": "stream",
          "name": "stdout",
          "text": [
            "         영업이익       당기순이익     \n",
            "         컨센서스   잠정치  컨센서스  잠정치\n",
            "2020/06  1000   900   800  700\n",
            "2020/09  1200  1400   900  800\n"
          ]
        }
      ]
    },
    {
      "cell_type": "code",
      "source": [
        "import pandas as pd\n",
        "\n",
        "# Multiindex의 from_product 함수\n",
        "level_0 = ['영업이익', '당기순이익']\n",
        "level_1 = ['컨센서스', '잠정치']\n",
        "\n",
        "idx = pd.MultiIndex.from_product( [level_0, level_1] ) # 리스트로 데이터의 조합을 만듦\n",
        "\n",
        "print(idx)\n",
        "print(idx.get_level_values(0)) # level 0 만 출력"
      ],
      "metadata": {
        "colab": {
          "base_uri": "https://localhost:8080/"
        },
        "id": "QHMBPHfWXxCq",
        "outputId": "ad275dc2-55d5-4e4e-9027-83570c8fd0ac"
      },
      "execution_count": null,
      "outputs": [
        {
          "output_type": "stream",
          "name": "stdout",
          "text": [
            "MultiIndex([( '영업이익', '컨센서스'),\n",
            "            ( '영업이익',  '잠정치'),\n",
            "            ('당기순이익', '컨센서스'),\n",
            "            ('당기순이익',  '잠정치')],\n",
            "           )\n",
            "Index(['영업이익', '영업이익', '당기순이익', '당기순이익'], dtype='object')\n"
          ]
        }
      ]
    },
    {
      "cell_type": "code",
      "source": [
        "level_0 = ['영업이익', '당기순이익']\n",
        "level_1 = ['컨센서스', '잠정치']\n",
        "\n",
        "columns = pd.MultiIndex.from_product( [level_0, level_1] )\n",
        "df = DataFrame(data=data, index=[\"2020/06\", \"2020/09\"], columns=columns)\n",
        "print(df)"
      ],
      "metadata": {
        "colab": {
          "base_uri": "https://localhost:8080/"
        },
        "id": "iD19PR-JYl5P",
        "outputId": "d98cf70a-dbc2-49f7-860e-03f5fe5dd4fd"
      },
      "execution_count": null,
      "outputs": [
        {
          "output_type": "stream",
          "name": "stdout",
          "text": [
            "         영업이익       당기순이익     \n",
            "         컨센서스   잠정치  컨센서스  잠정치\n",
            "2020/06  1000   900   800  700\n",
            "2020/09  1200  1400   900  800\n"
          ]
        }
      ]
    },
    {
      "cell_type": "code",
      "source": [
        "print(df['영업이익'])"
      ],
      "metadata": {
        "colab": {
          "base_uri": "https://localhost:8080/"
        },
        "id": "zWbNcHmDZVVD",
        "outputId": "8719d3ff-4ce1-4e7d-b34f-aab9171ddd14"
      },
      "execution_count": null,
      "outputs": [
        {
          "output_type": "stream",
          "name": "stdout",
          "text": [
            "         컨센서스   잠정치\n",
            "2020/06  1000   900\n",
            "2020/09  1200  1400\n"
          ]
        }
      ]
    },
    {
      "cell_type": "code",
      "source": [
        "print(df[ ('영업이익', '컨센서스') ])"
      ],
      "metadata": {
        "colab": {
          "base_uri": "https://localhost:8080/"
        },
        "id": "c7KF1UIPZe8D",
        "outputId": "8361c90a-54d3-4a24-f3b2-5fecaa60ec6e"
      },
      "execution_count": null,
      "outputs": [
        {
          "output_type": "stream",
          "name": "stdout",
          "text": [
            "2020/06    1000\n",
            "2020/09    1200\n",
            "Name: (영업이익, 컨센서스), dtype: int64\n"
          ]
        }
      ]
    },
    {
      "cell_type": "code",
      "source": [
        "print(df[ '영업이익' ]) # 영업이익 컬럼 선택, 데이터프레임 반환\n",
        "print(df.loc[ '2020/06', '영업이익' ]) # 2020/06의 영업이익 시리즈 반환\n",
        "print(df.loc[ '2020/06', ( '영업이익', '컨센서스' ) ]) # 2020/06의 영업이익 중 컨센서스값 하나가 정수로 출력\n",
        "print(df.loc[ '2020/06', (slice(None), '잠정치') ]) # 2020/06의 영업이익의 컨센서스와 당기순이익의 컨센서스 시리즈 출력"
      ],
      "metadata": {
        "colab": {
          "base_uri": "https://localhost:8080/"
        },
        "id": "WN4Ff_RvZh9f",
        "outputId": "5247b368-c57f-4bb8-e949-3ce4cbc74def"
      },
      "execution_count": null,
      "outputs": [
        {
          "output_type": "stream",
          "name": "stdout",
          "text": [
            "         컨센서스   잠정치\n",
            "2020/06  1000   900\n",
            "2020/09  1200  1400\n",
            "컨센서스    1000\n",
            "잠정치      900\n",
            "Name: 2020/06, dtype: int64\n",
            "1000\n",
            "영업이익   잠정치    900\n",
            "당기순이익  잠정치    700\n",
            "Name: 2020/06, dtype: int64\n"
          ]
        }
      ]
    },
    {
      "cell_type": "code",
      "source": [
        "# 멀티 컬럼으로 표현된 데이터를 멀티 인덱스를 갖는 데이터로 변환\n",
        "print(df.transpose())\n",
        "print(df.T)"
      ],
      "metadata": {
        "colab": {
          "base_uri": "https://localhost:8080/"
        },
        "id": "-oHmyOObacPW",
        "outputId": "47909f1e-63d6-45cf-ccae-cef4c93f4280"
      },
      "execution_count": null,
      "outputs": [
        {
          "output_type": "stream",
          "name": "stdout",
          "text": [
            "            2020/06  2020/09\n",
            "영업이익  컨센서스     1000     1200\n",
            "      잠정치       900     1400\n",
            "당기순이익 컨센서스      800      900\n",
            "      잠정치       700      800\n",
            "            2020/06  2020/09\n",
            "영업이익  컨센서스     1000     1200\n",
            "      잠정치       900     1400\n",
            "당기순이익 컨센서스      800      900\n",
            "      잠정치       700      800\n"
          ]
        }
      ]
    },
    {
      "cell_type": "markdown",
      "source": [
        "### 5.12 Stack/Unstack\n",
        "\n",
        "`stack` 메서드: 컬럼을 인덱스로 변경; stack(쌓다) -> 데이터를 길게 쌓아올린 형태로 변경\n",
        "\n",
        "`unstack` 메서드: 인덱스를 컬럼으로 변경"
      ],
      "metadata": {
        "id": "HzycU8vwaxIr"
      }
    },
    {
      "cell_type": "code",
      "source": [
        "from pandas import DataFrame\n",
        "import pandas as pd\n",
        "\n",
        "data = [\n",
        "    [1000, 900, 800, 700],\n",
        "    [1200, 1400, 900, 800]\n",
        "]\n",
        "\n",
        "level_0 = ['영업이익', '당기순이익']\n",
        "level_1 = ['컨센서스', '잠정치']\n",
        "columns = pd.MultiIndex.from_product( [level_0, level_1] )\n",
        "\n",
        "df = DataFrame(data=data, index=[\"2020/06\", \"2020/09\"], columns=columns)\n",
        "print(df.stack()) # 높은 레벨의 컬럼을 인덱스로 변경"
      ],
      "metadata": {
        "colab": {
          "base_uri": "https://localhost:8080/"
        },
        "id": "8FUV7YXHankO",
        "outputId": "cdb412c1-1011-48b3-c220-c008ad88a098"
      },
      "execution_count": null,
      "outputs": [
        {
          "output_type": "stream",
          "name": "stdout",
          "text": [
            "              영업이익  당기순이익\n",
            "2020/06 잠정치    900    700\n",
            "        컨센서스  1000    800\n",
            "2020/09 잠정치   1400    800\n",
            "        컨센서스  1200    900\n"
          ]
        }
      ]
    },
    {
      "cell_type": "code",
      "source": [
        "# 기본적으로 높은 레벨 컬럼이 인덱스로 변경; level 옵션을 사용해 특정 컬럼을 변경할 수도 있음\n",
        "print(df.stack(level=0))"
      ],
      "metadata": {
        "colab": {
          "base_uri": "https://localhost:8080/"
        },
        "id": "s3yuqMuWbpRL",
        "outputId": "59a83fe9-f90e-49a6-ff31-942b8fc2b54b"
      },
      "execution_count": null,
      "outputs": [
        {
          "output_type": "stream",
          "name": "stdout",
          "text": [
            "               컨센서스   잠정치\n",
            "2020/06 당기순이익   800   700\n",
            "        영업이익   1000   900\n",
            "2020/09 당기순이익   900   800\n",
            "        영업이익   1200  1400\n"
          ]
        }
      ]
    },
    {
      "cell_type": "code",
      "source": [
        "# stack 메서드 반복 사용\n",
        "print(df.stack().stack()) # 3차원 인덱스를 갖는 시리즈"
      ],
      "metadata": {
        "colab": {
          "base_uri": "https://localhost:8080/"
        },
        "id": "VN1NYu8FbsdC",
        "outputId": "7cd486aa-6f72-4c1f-b1cb-88075649b278"
      },
      "execution_count": null,
      "outputs": [
        {
          "output_type": "stream",
          "name": "stdout",
          "text": [
            "2020/06  잠정치   영업이익      900\n",
            "               당기순이익     700\n",
            "         컨센서스  영업이익     1000\n",
            "               당기순이익     800\n",
            "2020/09  잠정치   영업이익     1400\n",
            "               당기순이익     800\n",
            "         컨센서스  영업이익     1200\n",
            "               당기순이익     900\n",
            "dtype: int64\n"
          ]
        }
      ]
    },
    {
      "cell_type": "code",
      "source": [
        "# stack 결과 원래대로 되돌리기\n",
        "print(df.stack().unstack())"
      ],
      "metadata": {
        "colab": {
          "base_uri": "https://localhost:8080/"
        },
        "id": "JTQjALQHckcS",
        "outputId": "ce75b110-e2eb-4903-d77c-55c2967e54c7"
      },
      "execution_count": null,
      "outputs": [
        {
          "output_type": "stream",
          "name": "stdout",
          "text": [
            "         영업이익       당기순이익     \n",
            "          잠정치  컨센서스   잠정치 컨센서스\n",
            "2020/06   900  1000   700  800\n",
            "2020/09  1400  1200   800  900\n"
          ]
        }
      ]
    },
    {
      "cell_type": "code",
      "source": [
        "data = [\n",
        "    [1000, 1100, 900, 1200, 1300],\n",
        "    [800, 2000, 1700, 1500, 1800]\n",
        "]\n",
        "\n",
        "index = ['자본금', '부채']\n",
        "columns = [\"2020/03\", \"2020/06\", \"2020/09\", \"2021/03\", \"2021/06\"]\n",
        "df = DataFrame(data, index,columns)"
      ],
      "metadata": {
        "id": "VJifJ4vLcxNS"
      },
      "execution_count": null,
      "outputs": []
    },
    {
      "cell_type": "code",
      "source": [
        "# stack을 적용해 2차원 인덱스로 만들고\n",
        "# 인덱스를 다시 값으로 변경\n",
        "df_stacked = df.stack().reset_index()\n",
        "print(df_stacked) # 자동부여된 level_0, level_1, 0"
      ],
      "metadata": {
        "colab": {
          "base_uri": "https://localhost:8080/"
        },
        "id": "ShWstm6MdbBE",
        "outputId": "9d9fe73f-fd1c-4a72-d53a-d81042eb503d"
      },
      "execution_count": null,
      "outputs": [
        {
          "output_type": "stream",
          "name": "stdout",
          "text": [
            "  level_0  level_1     0\n",
            "0     자본금  2020/03  1000\n",
            "1     자본금  2020/06  1100\n",
            "2     자본금  2020/09   900\n",
            "3     자본금  2021/03  1200\n",
            "4     자본금  2021/06  1300\n",
            "5      부채  2020/03   800\n",
            "6      부채  2020/06  2000\n",
            "7      부채  2020/09  1700\n",
            "8      부채  2021/03  1500\n",
            "9      부채  2021/06  1800\n"
          ]
        }
      ]
    },
    {
      "cell_type": "code",
      "source": [
        "# 각각의 문자열에 split 메서드 적용\n",
        "temp = df_stacked['level_1'].str.split('/')\n",
        "print(temp)"
      ],
      "metadata": {
        "colab": {
          "base_uri": "https://localhost:8080/"
        },
        "id": "N_DCp5lYdqlt",
        "outputId": "44183fcf-1a9d-4ab3-cd36-4727b3d2d40f"
      },
      "execution_count": null,
      "outputs": [
        {
          "output_type": "stream",
          "name": "stdout",
          "text": [
            "0    [2020, 03]\n",
            "1    [2020, 06]\n",
            "2    [2020, 09]\n",
            "3    [2021, 03]\n",
            "4    [2021, 06]\n",
            "5    [2020, 03]\n",
            "6    [2020, 06]\n",
            "7    [2020, 09]\n",
            "8    [2021, 03]\n",
            "9    [2021, 06]\n",
            "Name: level_1, dtype: object\n"
          ]
        }
      ]
    },
    {
      "cell_type": "code",
      "source": [
        "# 시리즈 -> 리스트 -> 데이터프레임 객체 변환\n",
        "df_split = DataFrame( list(df_stacked['level_1'].str.split('/')) )\n",
        "print(df_split)"
      ],
      "metadata": {
        "colab": {
          "base_uri": "https://localhost:8080/"
        },
        "id": "htcBmxGDoOJ_",
        "outputId": "96b8fd59-9c07-435d-e856-3a9b4f6f8590"
      },
      "execution_count": null,
      "outputs": [
        {
          "output_type": "stream",
          "name": "stdout",
          "text": [
            "      0   1\n",
            "0  2020  03\n",
            "1  2020  06\n",
            "2  2020  09\n",
            "3  2021  03\n",
            "4  2021  06\n",
            "5  2020  03\n",
            "6  2020  06\n",
            "7  2020  09\n",
            "8  2021  03\n",
            "9  2021  06\n"
          ]
        }
      ]
    },
    {
      "cell_type": "code",
      "source": [
        "# df_stacked와 df_split 두 개를 합치고 컬럼 이름 부여\n",
        "df_merged = pd.concat( [df_stacked, df_split], axis = 1)\n",
        "df_merged.columns = ['계정', '년월', '금액', '연도', '월']\n",
        "print(df_merged)"
      ],
      "metadata": {
        "colab": {
          "base_uri": "https://localhost:8080/"
        },
        "id": "37xwyaG1o-YG",
        "outputId": "fbfe964e-fb88-4f0b-aa36-3474fe4338f3"
      },
      "execution_count": null,
      "outputs": [
        {
          "output_type": "stream",
          "name": "stdout",
          "text": [
            "    계정       년월    금액    연도   월\n",
            "0  자본금  2020/03  1000  2020  03\n",
            "1  자본금  2020/06  1100  2020  06\n",
            "2  자본금  2020/09   900  2020  09\n",
            "3  자본금  2021/03  1200  2021  03\n",
            "4  자본금  2021/06  1300  2021  06\n",
            "5   부채  2020/03   800  2020  03\n",
            "6   부채  2020/06  2000  2020  06\n",
            "7   부채  2020/09  1700  2020  09\n",
            "8   부채  2021/03  1500  2021  03\n",
            "9   부채  2021/06  1800  2021  06\n"
          ]
        }
      ]
    },
    {
      "cell_type": "code",
      "source": [
        "# groupby 메서드로 부채와 자본금을 연도별 정리\n",
        "df_group = df_merged.groupby([\"계정\", \"연도\"]).sum()\n",
        "print(df_group)"
      ],
      "metadata": {
        "colab": {
          "base_uri": "https://localhost:8080/"
        },
        "id": "MqZG8f6Cpdcm",
        "outputId": "1ba9f1c5-fcf0-4b42-89e1-5f0c97edbc0d"
      },
      "execution_count": null,
      "outputs": [
        {
          "output_type": "stream",
          "name": "stdout",
          "text": [
            "                             년월    금액       월\n",
            "계정  연도                                       \n",
            "부채  2020  2020/032020/062020/09  4500  030609\n",
            "    2021         2021/032021/06  3300    0306\n",
            "자본금 2020  2020/032020/062020/09  3000  030609\n",
            "    2021         2021/032021/06  2500    0306\n"
          ]
        }
      ]
    },
    {
      "cell_type": "code",
      "source": [
        "# level 1 인덱스 '연도'를 컬럼으로 변경\n",
        "df_unstack = df_group.unstack()\n",
        "\n",
        "# level 0 컬럼 '금액'을 선택, 컬럼과 인덱스 이름 제거\n",
        "result = df_unstack['금액']\n",
        "result.columns.name = ''\n",
        "result.index.name = ''\n",
        "print(result)"
      ],
      "metadata": {
        "colab": {
          "base_uri": "https://localhost:8080/"
        },
        "id": "LJAolVctp4EP",
        "outputId": "e5f5a0b1-0b67-41cb-c931-f1a1d0470149"
      },
      "execution_count": null,
      "outputs": [
        {
          "output_type": "stream",
          "name": "stdout",
          "text": [
            "     2020  2021\n",
            "               \n",
            "부채   4500  3300\n",
            "자본금  3000  2500\n"
          ]
        }
      ]
    },
    {
      "cell_type": "markdown",
      "source": [
        "### 5.13 Pivot\n",
        "\n",
        "> `Pivot`은 인덱스와 컬럼 및 데이터를 지정해서 데이터프레임을 생성\n",
        ">\n",
        "> 피벗을 사용해 데이터를 재구조화함으로써 데이터를 다양한 측면에서 분석할 수 있게 됨"
      ],
      "metadata": {
        "id": "cyYGXUh-rhXP"
      }
    },
    {
      "cell_type": "code",
      "source": [
        "# 데이터 프레임 만들기\n",
        "\n",
        "from pandas import DataFrame\n",
        "import pandas as pd\n",
        "\n",
        "data = [\n",
        "    [\"2021-08-12\", \"삼성전자\", 77000],\n",
        "    [\"2021-08-13\", \"삼성전자\", 74400],\n",
        "    [\"2021-08-12\", \"LG전자\", 153000],\n",
        "    [\"2021-08-13\", \"LG전자\", 150500],\n",
        "    [\"2021-08-12\", \"SK하이닉스\", 100500],\n",
        "    [\"2021-08-13\", \"SK하이닉스\", 101500]\n",
        "]\n",
        "\n",
        "columns = [\"날짜\", \"종목명\", \"종가\"]\n",
        "df = DataFrame(data=data, columns=columns)\n",
        "print(df)"
      ],
      "metadata": {
        "colab": {
          "base_uri": "https://localhost:8080/"
        },
        "id": "LeKLMNs4rLKu",
        "outputId": "80c49645-621e-442a-9bbb-592e998ed125"
      },
      "execution_count": null,
      "outputs": [
        {
          "output_type": "stream",
          "name": "stdout",
          "text": [
            "           날짜     종목명      종가\n",
            "0  2021-08-12    삼성전자   77000\n",
            "1  2021-08-13    삼성전자   74400\n",
            "2  2021-08-12    LG전자  153000\n",
            "3  2021-08-13    LG전자  150500\n",
            "4  2021-08-12  SK하이닉스  100500\n",
            "5  2021-08-13  SK하이닉스  101500\n"
          ]
        }
      ]
    },
    {
      "cell_type": "code",
      "source": [
        "pd.pivot(data=df, index=\"날짜\", columns=\"종목명\", values=\"종가\")"
      ],
      "metadata": {
        "colab": {
          "base_uri": "https://localhost:8080/",
          "height": 143
        },
        "id": "5AVNNsc5rIbl",
        "outputId": "d1bb6997-94b1-4f6f-84ba-756c1dfa8722"
      },
      "execution_count": null,
      "outputs": [
        {
          "output_type": "execute_result",
          "data": {
            "text/plain": [
              "종목명           LG전자  SK하이닉스   삼성전자\n",
              "날짜                               \n",
              "2021-08-12  153000  100500  77000\n",
              "2021-08-13  150500  101500  74400"
            ],
            "text/html": [
              "\n",
              "  <div id=\"df-787d449a-5908-406a-8b1f-b683f10a62d3\" class=\"colab-df-container\">\n",
              "    <div>\n",
              "<style scoped>\n",
              "    .dataframe tbody tr th:only-of-type {\n",
              "        vertical-align: middle;\n",
              "    }\n",
              "\n",
              "    .dataframe tbody tr th {\n",
              "        vertical-align: top;\n",
              "    }\n",
              "\n",
              "    .dataframe thead th {\n",
              "        text-align: right;\n",
              "    }\n",
              "</style>\n",
              "<table border=\"1\" class=\"dataframe\">\n",
              "  <thead>\n",
              "    <tr style=\"text-align: right;\">\n",
              "      <th>종목명</th>\n",
              "      <th>LG전자</th>\n",
              "      <th>SK하이닉스</th>\n",
              "      <th>삼성전자</th>\n",
              "    </tr>\n",
              "    <tr>\n",
              "      <th>날짜</th>\n",
              "      <th></th>\n",
              "      <th></th>\n",
              "      <th></th>\n",
              "    </tr>\n",
              "  </thead>\n",
              "  <tbody>\n",
              "    <tr>\n",
              "      <th>2021-08-12</th>\n",
              "      <td>153000</td>\n",
              "      <td>100500</td>\n",
              "      <td>77000</td>\n",
              "    </tr>\n",
              "    <tr>\n",
              "      <th>2021-08-13</th>\n",
              "      <td>150500</td>\n",
              "      <td>101500</td>\n",
              "      <td>74400</td>\n",
              "    </tr>\n",
              "  </tbody>\n",
              "</table>\n",
              "</div>\n",
              "    <div class=\"colab-df-buttons\">\n",
              "\n",
              "  <div class=\"colab-df-container\">\n",
              "    <button class=\"colab-df-convert\" onclick=\"convertToInteractive('df-787d449a-5908-406a-8b1f-b683f10a62d3')\"\n",
              "            title=\"Convert this dataframe to an interactive table.\"\n",
              "            style=\"display:none;\">\n",
              "\n",
              "  <svg xmlns=\"http://www.w3.org/2000/svg\" height=\"24px\" viewBox=\"0 -960 960 960\">\n",
              "    <path d=\"M120-120v-720h720v720H120Zm60-500h600v-160H180v160Zm220 220h160v-160H400v160Zm0 220h160v-160H400v160ZM180-400h160v-160H180v160Zm440 0h160v-160H620v160ZM180-180h160v-160H180v160Zm440 0h160v-160H620v160Z\"/>\n",
              "  </svg>\n",
              "    </button>\n",
              "\n",
              "  <style>\n",
              "    .colab-df-container {\n",
              "      display:flex;\n",
              "      gap: 12px;\n",
              "    }\n",
              "\n",
              "    .colab-df-convert {\n",
              "      background-color: #E8F0FE;\n",
              "      border: none;\n",
              "      border-radius: 50%;\n",
              "      cursor: pointer;\n",
              "      display: none;\n",
              "      fill: #1967D2;\n",
              "      height: 32px;\n",
              "      padding: 0 0 0 0;\n",
              "      width: 32px;\n",
              "    }\n",
              "\n",
              "    .colab-df-convert:hover {\n",
              "      background-color: #E2EBFA;\n",
              "      box-shadow: 0px 1px 2px rgba(60, 64, 67, 0.3), 0px 1px 3px 1px rgba(60, 64, 67, 0.15);\n",
              "      fill: #174EA6;\n",
              "    }\n",
              "\n",
              "    .colab-df-buttons div {\n",
              "      margin-bottom: 4px;\n",
              "    }\n",
              "\n",
              "    [theme=dark] .colab-df-convert {\n",
              "      background-color: #3B4455;\n",
              "      fill: #D2E3FC;\n",
              "    }\n",
              "\n",
              "    [theme=dark] .colab-df-convert:hover {\n",
              "      background-color: #434B5C;\n",
              "      box-shadow: 0px 1px 3px 1px rgba(0, 0, 0, 0.15);\n",
              "      filter: drop-shadow(0px 1px 2px rgba(0, 0, 0, 0.3));\n",
              "      fill: #FFFFFF;\n",
              "    }\n",
              "  </style>\n",
              "\n",
              "    <script>\n",
              "      const buttonEl =\n",
              "        document.querySelector('#df-787d449a-5908-406a-8b1f-b683f10a62d3 button.colab-df-convert');\n",
              "      buttonEl.style.display =\n",
              "        google.colab.kernel.accessAllowed ? 'block' : 'none';\n",
              "\n",
              "      async function convertToInteractive(key) {\n",
              "        const element = document.querySelector('#df-787d449a-5908-406a-8b1f-b683f10a62d3');\n",
              "        const dataTable =\n",
              "          await google.colab.kernel.invokeFunction('convertToInteractive',\n",
              "                                                    [key], {});\n",
              "        if (!dataTable) return;\n",
              "\n",
              "        const docLinkHtml = 'Like what you see? Visit the ' +\n",
              "          '<a target=\"_blank\" href=https://colab.research.google.com/notebooks/data_table.ipynb>data table notebook</a>'\n",
              "          + ' to learn more about interactive tables.';\n",
              "        element.innerHTML = '';\n",
              "        dataTable['output_type'] = 'display_data';\n",
              "        await google.colab.output.renderOutput(dataTable, element);\n",
              "        const docLink = document.createElement('div');\n",
              "        docLink.innerHTML = docLinkHtml;\n",
              "        element.appendChild(docLink);\n",
              "      }\n",
              "    </script>\n",
              "  </div>\n",
              "\n",
              "\n",
              "<div id=\"df-f1e39429-efa9-498c-a558-ddc277fc43e1\">\n",
              "  <button class=\"colab-df-quickchart\" onclick=\"quickchart('df-f1e39429-efa9-498c-a558-ddc277fc43e1')\"\n",
              "            title=\"Suggest charts\"\n",
              "            style=\"display:none;\">\n",
              "\n",
              "<svg xmlns=\"http://www.w3.org/2000/svg\" height=\"24px\"viewBox=\"0 0 24 24\"\n",
              "     width=\"24px\">\n",
              "    <g>\n",
              "        <path d=\"M19 3H5c-1.1 0-2 .9-2 2v14c0 1.1.9 2 2 2h14c1.1 0 2-.9 2-2V5c0-1.1-.9-2-2-2zM9 17H7v-7h2v7zm4 0h-2V7h2v10zm4 0h-2v-4h2v4z\"/>\n",
              "    </g>\n",
              "</svg>\n",
              "  </button>\n",
              "\n",
              "<style>\n",
              "  .colab-df-quickchart {\n",
              "      --bg-color: #E8F0FE;\n",
              "      --fill-color: #1967D2;\n",
              "      --hover-bg-color: #E2EBFA;\n",
              "      --hover-fill-color: #174EA6;\n",
              "      --disabled-fill-color: #AAA;\n",
              "      --disabled-bg-color: #DDD;\n",
              "  }\n",
              "\n",
              "  [theme=dark] .colab-df-quickchart {\n",
              "      --bg-color: #3B4455;\n",
              "      --fill-color: #D2E3FC;\n",
              "      --hover-bg-color: #434B5C;\n",
              "      --hover-fill-color: #FFFFFF;\n",
              "      --disabled-bg-color: #3B4455;\n",
              "      --disabled-fill-color: #666;\n",
              "  }\n",
              "\n",
              "  .colab-df-quickchart {\n",
              "    background-color: var(--bg-color);\n",
              "    border: none;\n",
              "    border-radius: 50%;\n",
              "    cursor: pointer;\n",
              "    display: none;\n",
              "    fill: var(--fill-color);\n",
              "    height: 32px;\n",
              "    padding: 0;\n",
              "    width: 32px;\n",
              "  }\n",
              "\n",
              "  .colab-df-quickchart:hover {\n",
              "    background-color: var(--hover-bg-color);\n",
              "    box-shadow: 0 1px 2px rgba(60, 64, 67, 0.3), 0 1px 3px 1px rgba(60, 64, 67, 0.15);\n",
              "    fill: var(--button-hover-fill-color);\n",
              "  }\n",
              "\n",
              "  .colab-df-quickchart-complete:disabled,\n",
              "  .colab-df-quickchart-complete:disabled:hover {\n",
              "    background-color: var(--disabled-bg-color);\n",
              "    fill: var(--disabled-fill-color);\n",
              "    box-shadow: none;\n",
              "  }\n",
              "\n",
              "  .colab-df-spinner {\n",
              "    border: 2px solid var(--fill-color);\n",
              "    border-color: transparent;\n",
              "    border-bottom-color: var(--fill-color);\n",
              "    animation:\n",
              "      spin 1s steps(1) infinite;\n",
              "  }\n",
              "\n",
              "  @keyframes spin {\n",
              "    0% {\n",
              "      border-color: transparent;\n",
              "      border-bottom-color: var(--fill-color);\n",
              "      border-left-color: var(--fill-color);\n",
              "    }\n",
              "    20% {\n",
              "      border-color: transparent;\n",
              "      border-left-color: var(--fill-color);\n",
              "      border-top-color: var(--fill-color);\n",
              "    }\n",
              "    30% {\n",
              "      border-color: transparent;\n",
              "      border-left-color: var(--fill-color);\n",
              "      border-top-color: var(--fill-color);\n",
              "      border-right-color: var(--fill-color);\n",
              "    }\n",
              "    40% {\n",
              "      border-color: transparent;\n",
              "      border-right-color: var(--fill-color);\n",
              "      border-top-color: var(--fill-color);\n",
              "    }\n",
              "    60% {\n",
              "      border-color: transparent;\n",
              "      border-right-color: var(--fill-color);\n",
              "    }\n",
              "    80% {\n",
              "      border-color: transparent;\n",
              "      border-right-color: var(--fill-color);\n",
              "      border-bottom-color: var(--fill-color);\n",
              "    }\n",
              "    90% {\n",
              "      border-color: transparent;\n",
              "      border-bottom-color: var(--fill-color);\n",
              "    }\n",
              "  }\n",
              "</style>\n",
              "\n",
              "  <script>\n",
              "    async function quickchart(key) {\n",
              "      const quickchartButtonEl =\n",
              "        document.querySelector('#' + key + ' button');\n",
              "      quickchartButtonEl.disabled = true;  // To prevent multiple clicks.\n",
              "      quickchartButtonEl.classList.add('colab-df-spinner');\n",
              "      try {\n",
              "        const charts = await google.colab.kernel.invokeFunction(\n",
              "            'suggestCharts', [key], {});\n",
              "      } catch (error) {\n",
              "        console.error('Error during call to suggestCharts:', error);\n",
              "      }\n",
              "      quickchartButtonEl.classList.remove('colab-df-spinner');\n",
              "      quickchartButtonEl.classList.add('colab-df-quickchart-complete');\n",
              "    }\n",
              "    (() => {\n",
              "      let quickchartButtonEl =\n",
              "        document.querySelector('#df-f1e39429-efa9-498c-a558-ddc277fc43e1 button');\n",
              "      quickchartButtonEl.style.display =\n",
              "        google.colab.kernel.accessAllowed ? 'block' : 'none';\n",
              "    })();\n",
              "  </script>\n",
              "</div>\n",
              "\n",
              "    </div>\n",
              "  </div>\n"
            ],
            "application/vnd.google.colaboratory.intrinsic+json": {
              "type": "dataframe",
              "summary": "{\n  \"name\": \"pd\",\n  \"rows\": 2,\n  \"fields\": [\n    {\n      \"column\": \"\\ub0a0\\uc9dc\",\n      \"properties\": {\n        \"dtype\": \"object\",\n        \"num_unique_values\": 2,\n        \"samples\": [\n          \"2021-08-13\",\n          \"2021-08-12\"\n        ],\n        \"semantic_type\": \"\",\n        \"description\": \"\"\n      }\n    },\n    {\n      \"column\": \"LG\\uc804\\uc790\",\n      \"properties\": {\n        \"dtype\": \"number\",\n        \"std\": 1767,\n        \"min\": 150500,\n        \"max\": 153000,\n        \"num_unique_values\": 2,\n        \"samples\": [\n          150500,\n          153000\n        ],\n        \"semantic_type\": \"\",\n        \"description\": \"\"\n      }\n    },\n    {\n      \"column\": \"SK\\ud558\\uc774\\ub2c9\\uc2a4\",\n      \"properties\": {\n        \"dtype\": \"number\",\n        \"std\": 707,\n        \"min\": 100500,\n        \"max\": 101500,\n        \"num_unique_values\": 2,\n        \"samples\": [\n          101500,\n          100500\n        ],\n        \"semantic_type\": \"\",\n        \"description\": \"\"\n      }\n    },\n    {\n      \"column\": \"\\uc0bc\\uc131\\uc804\\uc790\",\n      \"properties\": {\n        \"dtype\": \"number\",\n        \"std\": 1838,\n        \"min\": 74400,\n        \"max\": 77000,\n        \"num_unique_values\": 2,\n        \"samples\": [\n          74400,\n          77000\n        ],\n        \"semantic_type\": \"\",\n        \"description\": \"\"\n      }\n    }\n  ]\n}"
            }
          },
          "metadata": {},
          "execution_count": 218
        }
      ]
    },
    {
      "cell_type": "code",
      "source": [
        "from pandas import DataFrame\n",
        "import pandas as pd\n",
        "\n",
        "data = [\n",
        "    [\"2021-08-12\", \"삼성전자\", 77000],\n",
        "    [\"2021-08-13\", \"삼성전자\", 74400],\n",
        "    [\"2021-08-12\", \"LG전자\", 153000],\n",
        "    [\"2021-08-13\", \"LG전자\", 150500],\n",
        "    [\"2021-08-12\", \"SK하이닉스\", 100500],\n",
        "    [\"2021-08-13\", \"SK하이닉스\", 101500]\n",
        "]\n",
        "\n",
        "columns = [\"날짜\", \"종목명\", \"종가\"]\n",
        "df = DataFrame(data=data, columns=columns)\n",
        "print(df)\n",
        "\n",
        "# 날짜와 종목명 컬럼으로 그룹화, level 1 인덱스인 종목명을 컬럼으로 변경\n",
        "df.groupby([\"날짜\", \"종목명\"]).mean().unstack()"
      ],
      "metadata": {
        "colab": {
          "base_uri": "https://localhost:8080/",
          "height": 305
        },
        "id": "TnqrnCSVsnjX",
        "outputId": "d63531f8-753a-4b87-e297-5d9c0c7c61fc"
      },
      "execution_count": null,
      "outputs": [
        {
          "output_type": "stream",
          "name": "stdout",
          "text": [
            "           날짜     종목명      종가\n",
            "0  2021-08-12    삼성전자   77000\n",
            "1  2021-08-13    삼성전자   74400\n",
            "2  2021-08-12    LG전자  153000\n",
            "3  2021-08-13    LG전자  150500\n",
            "4  2021-08-12  SK하이닉스  100500\n",
            "5  2021-08-13  SK하이닉스  101500\n"
          ]
        },
        {
          "output_type": "execute_result",
          "data": {
            "text/plain": [
              "                  종가                   \n",
              "종목명             LG전자    SK하이닉스     삼성전자\n",
              "날짜                                     \n",
              "2021-08-12  153000.0  100500.0  77000.0\n",
              "2021-08-13  150500.0  101500.0  74400.0"
            ],
            "text/html": [
              "\n",
              "  <div id=\"df-ec202152-4fb1-4acb-a075-7ea302093532\" class=\"colab-df-container\">\n",
              "    <div>\n",
              "<style scoped>\n",
              "    .dataframe tbody tr th:only-of-type {\n",
              "        vertical-align: middle;\n",
              "    }\n",
              "\n",
              "    .dataframe tbody tr th {\n",
              "        vertical-align: top;\n",
              "    }\n",
              "\n",
              "    .dataframe thead tr th {\n",
              "        text-align: left;\n",
              "    }\n",
              "\n",
              "    .dataframe thead tr:last-of-type th {\n",
              "        text-align: right;\n",
              "    }\n",
              "</style>\n",
              "<table border=\"1\" class=\"dataframe\">\n",
              "  <thead>\n",
              "    <tr>\n",
              "      <th></th>\n",
              "      <th colspan=\"3\" halign=\"left\">종가</th>\n",
              "    </tr>\n",
              "    <tr>\n",
              "      <th>종목명</th>\n",
              "      <th>LG전자</th>\n",
              "      <th>SK하이닉스</th>\n",
              "      <th>삼성전자</th>\n",
              "    </tr>\n",
              "    <tr>\n",
              "      <th>날짜</th>\n",
              "      <th></th>\n",
              "      <th></th>\n",
              "      <th></th>\n",
              "    </tr>\n",
              "  </thead>\n",
              "  <tbody>\n",
              "    <tr>\n",
              "      <th>2021-08-12</th>\n",
              "      <td>153000.0</td>\n",
              "      <td>100500.0</td>\n",
              "      <td>77000.0</td>\n",
              "    </tr>\n",
              "    <tr>\n",
              "      <th>2021-08-13</th>\n",
              "      <td>150500.0</td>\n",
              "      <td>101500.0</td>\n",
              "      <td>74400.0</td>\n",
              "    </tr>\n",
              "  </tbody>\n",
              "</table>\n",
              "</div>\n",
              "    <div class=\"colab-df-buttons\">\n",
              "\n",
              "  <div class=\"colab-df-container\">\n",
              "    <button class=\"colab-df-convert\" onclick=\"convertToInteractive('df-ec202152-4fb1-4acb-a075-7ea302093532')\"\n",
              "            title=\"Convert this dataframe to an interactive table.\"\n",
              "            style=\"display:none;\">\n",
              "\n",
              "  <svg xmlns=\"http://www.w3.org/2000/svg\" height=\"24px\" viewBox=\"0 -960 960 960\">\n",
              "    <path d=\"M120-120v-720h720v720H120Zm60-500h600v-160H180v160Zm220 220h160v-160H400v160Zm0 220h160v-160H400v160ZM180-400h160v-160H180v160Zm440 0h160v-160H620v160ZM180-180h160v-160H180v160Zm440 0h160v-160H620v160Z\"/>\n",
              "  </svg>\n",
              "    </button>\n",
              "\n",
              "  <style>\n",
              "    .colab-df-container {\n",
              "      display:flex;\n",
              "      gap: 12px;\n",
              "    }\n",
              "\n",
              "    .colab-df-convert {\n",
              "      background-color: #E8F0FE;\n",
              "      border: none;\n",
              "      border-radius: 50%;\n",
              "      cursor: pointer;\n",
              "      display: none;\n",
              "      fill: #1967D2;\n",
              "      height: 32px;\n",
              "      padding: 0 0 0 0;\n",
              "      width: 32px;\n",
              "    }\n",
              "\n",
              "    .colab-df-convert:hover {\n",
              "      background-color: #E2EBFA;\n",
              "      box-shadow: 0px 1px 2px rgba(60, 64, 67, 0.3), 0px 1px 3px 1px rgba(60, 64, 67, 0.15);\n",
              "      fill: #174EA6;\n",
              "    }\n",
              "\n",
              "    .colab-df-buttons div {\n",
              "      margin-bottom: 4px;\n",
              "    }\n",
              "\n",
              "    [theme=dark] .colab-df-convert {\n",
              "      background-color: #3B4455;\n",
              "      fill: #D2E3FC;\n",
              "    }\n",
              "\n",
              "    [theme=dark] .colab-df-convert:hover {\n",
              "      background-color: #434B5C;\n",
              "      box-shadow: 0px 1px 3px 1px rgba(0, 0, 0, 0.15);\n",
              "      filter: drop-shadow(0px 1px 2px rgba(0, 0, 0, 0.3));\n",
              "      fill: #FFFFFF;\n",
              "    }\n",
              "  </style>\n",
              "\n",
              "    <script>\n",
              "      const buttonEl =\n",
              "        document.querySelector('#df-ec202152-4fb1-4acb-a075-7ea302093532 button.colab-df-convert');\n",
              "      buttonEl.style.display =\n",
              "        google.colab.kernel.accessAllowed ? 'block' : 'none';\n",
              "\n",
              "      async function convertToInteractive(key) {\n",
              "        const element = document.querySelector('#df-ec202152-4fb1-4acb-a075-7ea302093532');\n",
              "        const dataTable =\n",
              "          await google.colab.kernel.invokeFunction('convertToInteractive',\n",
              "                                                    [key], {});\n",
              "        if (!dataTable) return;\n",
              "\n",
              "        const docLinkHtml = 'Like what you see? Visit the ' +\n",
              "          '<a target=\"_blank\" href=https://colab.research.google.com/notebooks/data_table.ipynb>data table notebook</a>'\n",
              "          + ' to learn more about interactive tables.';\n",
              "        element.innerHTML = '';\n",
              "        dataTable['output_type'] = 'display_data';\n",
              "        await google.colab.output.renderOutput(dataTable, element);\n",
              "        const docLink = document.createElement('div');\n",
              "        docLink.innerHTML = docLinkHtml;\n",
              "        element.appendChild(docLink);\n",
              "      }\n",
              "    </script>\n",
              "  </div>\n",
              "\n",
              "\n",
              "<div id=\"df-02ad9923-7f8d-4934-aad9-d4cb117214f7\">\n",
              "  <button class=\"colab-df-quickchart\" onclick=\"quickchart('df-02ad9923-7f8d-4934-aad9-d4cb117214f7')\"\n",
              "            title=\"Suggest charts\"\n",
              "            style=\"display:none;\">\n",
              "\n",
              "<svg xmlns=\"http://www.w3.org/2000/svg\" height=\"24px\"viewBox=\"0 0 24 24\"\n",
              "     width=\"24px\">\n",
              "    <g>\n",
              "        <path d=\"M19 3H5c-1.1 0-2 .9-2 2v14c0 1.1.9 2 2 2h14c1.1 0 2-.9 2-2V5c0-1.1-.9-2-2-2zM9 17H7v-7h2v7zm4 0h-2V7h2v10zm4 0h-2v-4h2v4z\"/>\n",
              "    </g>\n",
              "</svg>\n",
              "  </button>\n",
              "\n",
              "<style>\n",
              "  .colab-df-quickchart {\n",
              "      --bg-color: #E8F0FE;\n",
              "      --fill-color: #1967D2;\n",
              "      --hover-bg-color: #E2EBFA;\n",
              "      --hover-fill-color: #174EA6;\n",
              "      --disabled-fill-color: #AAA;\n",
              "      --disabled-bg-color: #DDD;\n",
              "  }\n",
              "\n",
              "  [theme=dark] .colab-df-quickchart {\n",
              "      --bg-color: #3B4455;\n",
              "      --fill-color: #D2E3FC;\n",
              "      --hover-bg-color: #434B5C;\n",
              "      --hover-fill-color: #FFFFFF;\n",
              "      --disabled-bg-color: #3B4455;\n",
              "      --disabled-fill-color: #666;\n",
              "  }\n",
              "\n",
              "  .colab-df-quickchart {\n",
              "    background-color: var(--bg-color);\n",
              "    border: none;\n",
              "    border-radius: 50%;\n",
              "    cursor: pointer;\n",
              "    display: none;\n",
              "    fill: var(--fill-color);\n",
              "    height: 32px;\n",
              "    padding: 0;\n",
              "    width: 32px;\n",
              "  }\n",
              "\n",
              "  .colab-df-quickchart:hover {\n",
              "    background-color: var(--hover-bg-color);\n",
              "    box-shadow: 0 1px 2px rgba(60, 64, 67, 0.3), 0 1px 3px 1px rgba(60, 64, 67, 0.15);\n",
              "    fill: var(--button-hover-fill-color);\n",
              "  }\n",
              "\n",
              "  .colab-df-quickchart-complete:disabled,\n",
              "  .colab-df-quickchart-complete:disabled:hover {\n",
              "    background-color: var(--disabled-bg-color);\n",
              "    fill: var(--disabled-fill-color);\n",
              "    box-shadow: none;\n",
              "  }\n",
              "\n",
              "  .colab-df-spinner {\n",
              "    border: 2px solid var(--fill-color);\n",
              "    border-color: transparent;\n",
              "    border-bottom-color: var(--fill-color);\n",
              "    animation:\n",
              "      spin 1s steps(1) infinite;\n",
              "  }\n",
              "\n",
              "  @keyframes spin {\n",
              "    0% {\n",
              "      border-color: transparent;\n",
              "      border-bottom-color: var(--fill-color);\n",
              "      border-left-color: var(--fill-color);\n",
              "    }\n",
              "    20% {\n",
              "      border-color: transparent;\n",
              "      border-left-color: var(--fill-color);\n",
              "      border-top-color: var(--fill-color);\n",
              "    }\n",
              "    30% {\n",
              "      border-color: transparent;\n",
              "      border-left-color: var(--fill-color);\n",
              "      border-top-color: var(--fill-color);\n",
              "      border-right-color: var(--fill-color);\n",
              "    }\n",
              "    40% {\n",
              "      border-color: transparent;\n",
              "      border-right-color: var(--fill-color);\n",
              "      border-top-color: var(--fill-color);\n",
              "    }\n",
              "    60% {\n",
              "      border-color: transparent;\n",
              "      border-right-color: var(--fill-color);\n",
              "    }\n",
              "    80% {\n",
              "      border-color: transparent;\n",
              "      border-right-color: var(--fill-color);\n",
              "      border-bottom-color: var(--fill-color);\n",
              "    }\n",
              "    90% {\n",
              "      border-color: transparent;\n",
              "      border-bottom-color: var(--fill-color);\n",
              "    }\n",
              "  }\n",
              "</style>\n",
              "\n",
              "  <script>\n",
              "    async function quickchart(key) {\n",
              "      const quickchartButtonEl =\n",
              "        document.querySelector('#' + key + ' button');\n",
              "      quickchartButtonEl.disabled = true;  // To prevent multiple clicks.\n",
              "      quickchartButtonEl.classList.add('colab-df-spinner');\n",
              "      try {\n",
              "        const charts = await google.colab.kernel.invokeFunction(\n",
              "            'suggestCharts', [key], {});\n",
              "      } catch (error) {\n",
              "        console.error('Error during call to suggestCharts:', error);\n",
              "      }\n",
              "      quickchartButtonEl.classList.remove('colab-df-spinner');\n",
              "      quickchartButtonEl.classList.add('colab-df-quickchart-complete');\n",
              "    }\n",
              "    (() => {\n",
              "      let quickchartButtonEl =\n",
              "        document.querySelector('#df-02ad9923-7f8d-4934-aad9-d4cb117214f7 button');\n",
              "      quickchartButtonEl.style.display =\n",
              "        google.colab.kernel.accessAllowed ? 'block' : 'none';\n",
              "    })();\n",
              "  </script>\n",
              "</div>\n",
              "\n",
              "    </div>\n",
              "  </div>\n"
            ],
            "application/vnd.google.colaboratory.intrinsic+json": {
              "type": "dataframe",
              "summary": "{\n  \"name\": \"df\",\n  \"rows\": 2,\n  \"fields\": [\n    {\n      \"column\": [\n        \"\\ub0a0\\uc9dc\",\n        \"\"\n      ],\n      \"properties\": {\n        \"dtype\": \"object\",\n        \"num_unique_values\": 2,\n        \"samples\": [\n          \"2021-08-13\",\n          \"2021-08-12\"\n        ],\n        \"semantic_type\": \"\",\n        \"description\": \"\"\n      }\n    },\n    {\n      \"column\": [\n        \"\\uc885\\uac00\",\n        \"LG\\uc804\\uc790\"\n      ],\n      \"properties\": {\n        \"dtype\": \"number\",\n        \"std\": 1767.7669529663688,\n        \"min\": 150500.0,\n        \"max\": 153000.0,\n        \"num_unique_values\": 2,\n        \"samples\": [\n          150500.0,\n          153000.0\n        ],\n        \"semantic_type\": \"\",\n        \"description\": \"\"\n      }\n    },\n    {\n      \"column\": [\n        \"\\uc885\\uac00\",\n        \"SK\\ud558\\uc774\\ub2c9\\uc2a4\"\n      ],\n      \"properties\": {\n        \"dtype\": \"number\",\n        \"std\": 707.1067811865476,\n        \"min\": 100500.0,\n        \"max\": 101500.0,\n        \"num_unique_values\": 2,\n        \"samples\": [\n          101500.0,\n          100500.0\n        ],\n        \"semantic_type\": \"\",\n        \"description\": \"\"\n      }\n    },\n    {\n      \"column\": [\n        \"\\uc885\\uac00\",\n        \"\\uc0bc\\uc131\\uc804\\uc790\"\n      ],\n      \"properties\": {\n        \"dtype\": \"number\",\n        \"std\": 1838.4776310850236,\n        \"min\": 74400.0,\n        \"max\": 77000.0,\n        \"num_unique_values\": 2,\n        \"samples\": [\n          74400.0,\n          77000.0\n        ],\n        \"semantic_type\": \"\",\n        \"description\": \"\"\n      }\n    }\n  ]\n}"
            }
          },
          "metadata": {},
          "execution_count": 222
        }
      ]
    },
    {
      "cell_type": "code",
      "source": [
        "pd.pivot(data=df, index=\"종목명\", columns=\"날짜\", values=\"종가\")"
      ],
      "metadata": {
        "colab": {
          "base_uri": "https://localhost:8080/",
          "height": 174
        },
        "id": "9DCbup7PtaWs",
        "outputId": "43c34875-9a1c-4cf8-d306-b5807a9fa36b"
      },
      "execution_count": null,
      "outputs": [
        {
          "output_type": "execute_result",
          "data": {
            "text/plain": [
              "날짜      2021-08-12  2021-08-13\n",
              "종목명                           \n",
              "LG전자        153000      150500\n",
              "SK하이닉스      100500      101500\n",
              "삼성전자         77000       74400"
            ],
            "text/html": [
              "\n",
              "  <div id=\"df-41070bb1-79ef-483c-b0fe-16ec78daf0f8\" class=\"colab-df-container\">\n",
              "    <div>\n",
              "<style scoped>\n",
              "    .dataframe tbody tr th:only-of-type {\n",
              "        vertical-align: middle;\n",
              "    }\n",
              "\n",
              "    .dataframe tbody tr th {\n",
              "        vertical-align: top;\n",
              "    }\n",
              "\n",
              "    .dataframe thead th {\n",
              "        text-align: right;\n",
              "    }\n",
              "</style>\n",
              "<table border=\"1\" class=\"dataframe\">\n",
              "  <thead>\n",
              "    <tr style=\"text-align: right;\">\n",
              "      <th>날짜</th>\n",
              "      <th>2021-08-12</th>\n",
              "      <th>2021-08-13</th>\n",
              "    </tr>\n",
              "    <tr>\n",
              "      <th>종목명</th>\n",
              "      <th></th>\n",
              "      <th></th>\n",
              "    </tr>\n",
              "  </thead>\n",
              "  <tbody>\n",
              "    <tr>\n",
              "      <th>LG전자</th>\n",
              "      <td>153000</td>\n",
              "      <td>150500</td>\n",
              "    </tr>\n",
              "    <tr>\n",
              "      <th>SK하이닉스</th>\n",
              "      <td>100500</td>\n",
              "      <td>101500</td>\n",
              "    </tr>\n",
              "    <tr>\n",
              "      <th>삼성전자</th>\n",
              "      <td>77000</td>\n",
              "      <td>74400</td>\n",
              "    </tr>\n",
              "  </tbody>\n",
              "</table>\n",
              "</div>\n",
              "    <div class=\"colab-df-buttons\">\n",
              "\n",
              "  <div class=\"colab-df-container\">\n",
              "    <button class=\"colab-df-convert\" onclick=\"convertToInteractive('df-41070bb1-79ef-483c-b0fe-16ec78daf0f8')\"\n",
              "            title=\"Convert this dataframe to an interactive table.\"\n",
              "            style=\"display:none;\">\n",
              "\n",
              "  <svg xmlns=\"http://www.w3.org/2000/svg\" height=\"24px\" viewBox=\"0 -960 960 960\">\n",
              "    <path d=\"M120-120v-720h720v720H120Zm60-500h600v-160H180v160Zm220 220h160v-160H400v160Zm0 220h160v-160H400v160ZM180-400h160v-160H180v160Zm440 0h160v-160H620v160ZM180-180h160v-160H180v160Zm440 0h160v-160H620v160Z\"/>\n",
              "  </svg>\n",
              "    </button>\n",
              "\n",
              "  <style>\n",
              "    .colab-df-container {\n",
              "      display:flex;\n",
              "      gap: 12px;\n",
              "    }\n",
              "\n",
              "    .colab-df-convert {\n",
              "      background-color: #E8F0FE;\n",
              "      border: none;\n",
              "      border-radius: 50%;\n",
              "      cursor: pointer;\n",
              "      display: none;\n",
              "      fill: #1967D2;\n",
              "      height: 32px;\n",
              "      padding: 0 0 0 0;\n",
              "      width: 32px;\n",
              "    }\n",
              "\n",
              "    .colab-df-convert:hover {\n",
              "      background-color: #E2EBFA;\n",
              "      box-shadow: 0px 1px 2px rgba(60, 64, 67, 0.3), 0px 1px 3px 1px rgba(60, 64, 67, 0.15);\n",
              "      fill: #174EA6;\n",
              "    }\n",
              "\n",
              "    .colab-df-buttons div {\n",
              "      margin-bottom: 4px;\n",
              "    }\n",
              "\n",
              "    [theme=dark] .colab-df-convert {\n",
              "      background-color: #3B4455;\n",
              "      fill: #D2E3FC;\n",
              "    }\n",
              "\n",
              "    [theme=dark] .colab-df-convert:hover {\n",
              "      background-color: #434B5C;\n",
              "      box-shadow: 0px 1px 3px 1px rgba(0, 0, 0, 0.15);\n",
              "      filter: drop-shadow(0px 1px 2px rgba(0, 0, 0, 0.3));\n",
              "      fill: #FFFFFF;\n",
              "    }\n",
              "  </style>\n",
              "\n",
              "    <script>\n",
              "      const buttonEl =\n",
              "        document.querySelector('#df-41070bb1-79ef-483c-b0fe-16ec78daf0f8 button.colab-df-convert');\n",
              "      buttonEl.style.display =\n",
              "        google.colab.kernel.accessAllowed ? 'block' : 'none';\n",
              "\n",
              "      async function convertToInteractive(key) {\n",
              "        const element = document.querySelector('#df-41070bb1-79ef-483c-b0fe-16ec78daf0f8');\n",
              "        const dataTable =\n",
              "          await google.colab.kernel.invokeFunction('convertToInteractive',\n",
              "                                                    [key], {});\n",
              "        if (!dataTable) return;\n",
              "\n",
              "        const docLinkHtml = 'Like what you see? Visit the ' +\n",
              "          '<a target=\"_blank\" href=https://colab.research.google.com/notebooks/data_table.ipynb>data table notebook</a>'\n",
              "          + ' to learn more about interactive tables.';\n",
              "        element.innerHTML = '';\n",
              "        dataTable['output_type'] = 'display_data';\n",
              "        await google.colab.output.renderOutput(dataTable, element);\n",
              "        const docLink = document.createElement('div');\n",
              "        docLink.innerHTML = docLinkHtml;\n",
              "        element.appendChild(docLink);\n",
              "      }\n",
              "    </script>\n",
              "  </div>\n",
              "\n",
              "\n",
              "<div id=\"df-527acb26-52af-4f3b-8b3c-8612919f8d2b\">\n",
              "  <button class=\"colab-df-quickchart\" onclick=\"quickchart('df-527acb26-52af-4f3b-8b3c-8612919f8d2b')\"\n",
              "            title=\"Suggest charts\"\n",
              "            style=\"display:none;\">\n",
              "\n",
              "<svg xmlns=\"http://www.w3.org/2000/svg\" height=\"24px\"viewBox=\"0 0 24 24\"\n",
              "     width=\"24px\">\n",
              "    <g>\n",
              "        <path d=\"M19 3H5c-1.1 0-2 .9-2 2v14c0 1.1.9 2 2 2h14c1.1 0 2-.9 2-2V5c0-1.1-.9-2-2-2zM9 17H7v-7h2v7zm4 0h-2V7h2v10zm4 0h-2v-4h2v4z\"/>\n",
              "    </g>\n",
              "</svg>\n",
              "  </button>\n",
              "\n",
              "<style>\n",
              "  .colab-df-quickchart {\n",
              "      --bg-color: #E8F0FE;\n",
              "      --fill-color: #1967D2;\n",
              "      --hover-bg-color: #E2EBFA;\n",
              "      --hover-fill-color: #174EA6;\n",
              "      --disabled-fill-color: #AAA;\n",
              "      --disabled-bg-color: #DDD;\n",
              "  }\n",
              "\n",
              "  [theme=dark] .colab-df-quickchart {\n",
              "      --bg-color: #3B4455;\n",
              "      --fill-color: #D2E3FC;\n",
              "      --hover-bg-color: #434B5C;\n",
              "      --hover-fill-color: #FFFFFF;\n",
              "      --disabled-bg-color: #3B4455;\n",
              "      --disabled-fill-color: #666;\n",
              "  }\n",
              "\n",
              "  .colab-df-quickchart {\n",
              "    background-color: var(--bg-color);\n",
              "    border: none;\n",
              "    border-radius: 50%;\n",
              "    cursor: pointer;\n",
              "    display: none;\n",
              "    fill: var(--fill-color);\n",
              "    height: 32px;\n",
              "    padding: 0;\n",
              "    width: 32px;\n",
              "  }\n",
              "\n",
              "  .colab-df-quickchart:hover {\n",
              "    background-color: var(--hover-bg-color);\n",
              "    box-shadow: 0 1px 2px rgba(60, 64, 67, 0.3), 0 1px 3px 1px rgba(60, 64, 67, 0.15);\n",
              "    fill: var(--button-hover-fill-color);\n",
              "  }\n",
              "\n",
              "  .colab-df-quickchart-complete:disabled,\n",
              "  .colab-df-quickchart-complete:disabled:hover {\n",
              "    background-color: var(--disabled-bg-color);\n",
              "    fill: var(--disabled-fill-color);\n",
              "    box-shadow: none;\n",
              "  }\n",
              "\n",
              "  .colab-df-spinner {\n",
              "    border: 2px solid var(--fill-color);\n",
              "    border-color: transparent;\n",
              "    border-bottom-color: var(--fill-color);\n",
              "    animation:\n",
              "      spin 1s steps(1) infinite;\n",
              "  }\n",
              "\n",
              "  @keyframes spin {\n",
              "    0% {\n",
              "      border-color: transparent;\n",
              "      border-bottom-color: var(--fill-color);\n",
              "      border-left-color: var(--fill-color);\n",
              "    }\n",
              "    20% {\n",
              "      border-color: transparent;\n",
              "      border-left-color: var(--fill-color);\n",
              "      border-top-color: var(--fill-color);\n",
              "    }\n",
              "    30% {\n",
              "      border-color: transparent;\n",
              "      border-left-color: var(--fill-color);\n",
              "      border-top-color: var(--fill-color);\n",
              "      border-right-color: var(--fill-color);\n",
              "    }\n",
              "    40% {\n",
              "      border-color: transparent;\n",
              "      border-right-color: var(--fill-color);\n",
              "      border-top-color: var(--fill-color);\n",
              "    }\n",
              "    60% {\n",
              "      border-color: transparent;\n",
              "      border-right-color: var(--fill-color);\n",
              "    }\n",
              "    80% {\n",
              "      border-color: transparent;\n",
              "      border-right-color: var(--fill-color);\n",
              "      border-bottom-color: var(--fill-color);\n",
              "    }\n",
              "    90% {\n",
              "      border-color: transparent;\n",
              "      border-bottom-color: var(--fill-color);\n",
              "    }\n",
              "  }\n",
              "</style>\n",
              "\n",
              "  <script>\n",
              "    async function quickchart(key) {\n",
              "      const quickchartButtonEl =\n",
              "        document.querySelector('#' + key + ' button');\n",
              "      quickchartButtonEl.disabled = true;  // To prevent multiple clicks.\n",
              "      quickchartButtonEl.classList.add('colab-df-spinner');\n",
              "      try {\n",
              "        const charts = await google.colab.kernel.invokeFunction(\n",
              "            'suggestCharts', [key], {});\n",
              "      } catch (error) {\n",
              "        console.error('Error during call to suggestCharts:', error);\n",
              "      }\n",
              "      quickchartButtonEl.classList.remove('colab-df-spinner');\n",
              "      quickchartButtonEl.classList.add('colab-df-quickchart-complete');\n",
              "    }\n",
              "    (() => {\n",
              "      let quickchartButtonEl =\n",
              "        document.querySelector('#df-527acb26-52af-4f3b-8b3c-8612919f8d2b button');\n",
              "      quickchartButtonEl.style.display =\n",
              "        google.colab.kernel.accessAllowed ? 'block' : 'none';\n",
              "    })();\n",
              "  </script>\n",
              "</div>\n",
              "\n",
              "    </div>\n",
              "  </div>\n"
            ],
            "application/vnd.google.colaboratory.intrinsic+json": {
              "type": "dataframe",
              "summary": "{\n  \"name\": \"pd\",\n  \"rows\": 3,\n  \"fields\": [\n    {\n      \"column\": \"\\uc885\\ubaa9\\uba85\",\n      \"properties\": {\n        \"dtype\": \"string\",\n        \"num_unique_values\": 3,\n        \"samples\": [\n          \"LG\\uc804\\uc790\",\n          \"SK\\ud558\\uc774\\ub2c9\\uc2a4\",\n          \"\\uc0bc\\uc131\\uc804\\uc790\"\n        ],\n        \"semantic_type\": \"\",\n        \"description\": \"\"\n      }\n    },\n    {\n      \"column\": \"2021-08-12\",\n      \"properties\": {\n        \"dtype\": \"number\",\n        \"std\": 38911,\n        \"min\": 77000,\n        \"max\": 153000,\n        \"num_unique_values\": 3,\n        \"samples\": [\n          153000,\n          100500,\n          77000\n        ],\n        \"semantic_type\": \"\",\n        \"description\": \"\"\n      }\n    },\n    {\n      \"column\": \"2021-08-13\",\n      \"properties\": {\n        \"dtype\": \"number\",\n        \"std\": 38571,\n        \"min\": 74400,\n        \"max\": 150500,\n        \"num_unique_values\": 3,\n        \"samples\": [\n          150500,\n          101500,\n          74400\n        ],\n        \"semantic_type\": \"\",\n        \"description\": \"\"\n      }\n    }\n  ]\n}"
            }
          },
          "metadata": {},
          "execution_count": 224
        }
      ]
    },
    {
      "cell_type": "markdown",
      "source": [
        "### 5.14 Melt\n",
        "> `Melt` : 와이드 포맷의 데이터프레임을 롱 포맷의 데이터프레임으로 재구조화"
      ],
      "metadata": {
        "id": "qfyxErAkuduH"
      }
    },
    {
      "cell_type": "code",
      "source": [
        "# 데이터 프레임 만들기\n",
        "\n",
        "from pandas import DataFrame\n",
        "\n",
        "data = [\n",
        "    [\"005930\", \"삼성전자\", 75800, 76000, 74100, 74400],\n",
        "    [\"035720\", \"카카오\", 147500, 147500, 144500, 146000],\n",
        "    [\"000660\", \"SK하이닉스\", 99600, 101500, 98900, 101500]\n",
        "]\n",
        "\n",
        "columns = [\"종목코드\", \"종목명\", \"시가\", \"고가\", \"저가\", \"종가\"]\n",
        "df = DataFrame(data=data, columns=columns)\n",
        "print(df)"
      ],
      "metadata": {
        "colab": {
          "base_uri": "https://localhost:8080/"
        },
        "id": "sO6JZJoGuSvg",
        "outputId": "8de82a0f-38bf-4d96-ddc2-b2b618d79d73"
      },
      "execution_count": null,
      "outputs": [
        {
          "output_type": "stream",
          "name": "stdout",
          "text": [
            "     종목코드     종목명      시가      고가      저가      종가\n",
            "0  005930    삼성전자   75800   76000   74100   74400\n",
            "1  035720     카카오  147500  147500  144500  146000\n",
            "2  000660  SK하이닉스   99600  101500   98900  101500\n"
          ]
        }
      ]
    },
    {
      "cell_type": "code",
      "source": [
        "# melt하지 않을 컬럼을 리스트로 지정\n",
        "df.melt(id_vars=['종목코드', '종목명'])"
      ],
      "metadata": {
        "colab": {
          "base_uri": "https://localhost:8080/",
          "height": 425
        },
        "id": "DbHUeGQgvIQ4",
        "outputId": "38ed5580-b9eb-45e6-d7ed-98a824e19c7b"
      },
      "execution_count": null,
      "outputs": [
        {
          "output_type": "execute_result",
          "data": {
            "text/plain": [
              "      종목코드     종목명 variable   value\n",
              "0   005930    삼성전자       시가   75800\n",
              "1   035720     카카오       시가  147500\n",
              "2   000660  SK하이닉스       시가   99600\n",
              "3   005930    삼성전자       고가   76000\n",
              "4   035720     카카오       고가  147500\n",
              "5   000660  SK하이닉스       고가  101500\n",
              "6   005930    삼성전자       저가   74100\n",
              "7   035720     카카오       저가  144500\n",
              "8   000660  SK하이닉스       저가   98900\n",
              "9   005930    삼성전자       종가   74400\n",
              "10  035720     카카오       종가  146000\n",
              "11  000660  SK하이닉스       종가  101500"
            ],
            "text/html": [
              "\n",
              "  <div id=\"df-c8d9813a-3069-4700-9c20-ca4da8f27de1\" class=\"colab-df-container\">\n",
              "    <div>\n",
              "<style scoped>\n",
              "    .dataframe tbody tr th:only-of-type {\n",
              "        vertical-align: middle;\n",
              "    }\n",
              "\n",
              "    .dataframe tbody tr th {\n",
              "        vertical-align: top;\n",
              "    }\n",
              "\n",
              "    .dataframe thead th {\n",
              "        text-align: right;\n",
              "    }\n",
              "</style>\n",
              "<table border=\"1\" class=\"dataframe\">\n",
              "  <thead>\n",
              "    <tr style=\"text-align: right;\">\n",
              "      <th></th>\n",
              "      <th>종목코드</th>\n",
              "      <th>종목명</th>\n",
              "      <th>variable</th>\n",
              "      <th>value</th>\n",
              "    </tr>\n",
              "  </thead>\n",
              "  <tbody>\n",
              "    <tr>\n",
              "      <th>0</th>\n",
              "      <td>005930</td>\n",
              "      <td>삼성전자</td>\n",
              "      <td>시가</td>\n",
              "      <td>75800</td>\n",
              "    </tr>\n",
              "    <tr>\n",
              "      <th>1</th>\n",
              "      <td>035720</td>\n",
              "      <td>카카오</td>\n",
              "      <td>시가</td>\n",
              "      <td>147500</td>\n",
              "    </tr>\n",
              "    <tr>\n",
              "      <th>2</th>\n",
              "      <td>000660</td>\n",
              "      <td>SK하이닉스</td>\n",
              "      <td>시가</td>\n",
              "      <td>99600</td>\n",
              "    </tr>\n",
              "    <tr>\n",
              "      <th>3</th>\n",
              "      <td>005930</td>\n",
              "      <td>삼성전자</td>\n",
              "      <td>고가</td>\n",
              "      <td>76000</td>\n",
              "    </tr>\n",
              "    <tr>\n",
              "      <th>4</th>\n",
              "      <td>035720</td>\n",
              "      <td>카카오</td>\n",
              "      <td>고가</td>\n",
              "      <td>147500</td>\n",
              "    </tr>\n",
              "    <tr>\n",
              "      <th>5</th>\n",
              "      <td>000660</td>\n",
              "      <td>SK하이닉스</td>\n",
              "      <td>고가</td>\n",
              "      <td>101500</td>\n",
              "    </tr>\n",
              "    <tr>\n",
              "      <th>6</th>\n",
              "      <td>005930</td>\n",
              "      <td>삼성전자</td>\n",
              "      <td>저가</td>\n",
              "      <td>74100</td>\n",
              "    </tr>\n",
              "    <tr>\n",
              "      <th>7</th>\n",
              "      <td>035720</td>\n",
              "      <td>카카오</td>\n",
              "      <td>저가</td>\n",
              "      <td>144500</td>\n",
              "    </tr>\n",
              "    <tr>\n",
              "      <th>8</th>\n",
              "      <td>000660</td>\n",
              "      <td>SK하이닉스</td>\n",
              "      <td>저가</td>\n",
              "      <td>98900</td>\n",
              "    </tr>\n",
              "    <tr>\n",
              "      <th>9</th>\n",
              "      <td>005930</td>\n",
              "      <td>삼성전자</td>\n",
              "      <td>종가</td>\n",
              "      <td>74400</td>\n",
              "    </tr>\n",
              "    <tr>\n",
              "      <th>10</th>\n",
              "      <td>035720</td>\n",
              "      <td>카카오</td>\n",
              "      <td>종가</td>\n",
              "      <td>146000</td>\n",
              "    </tr>\n",
              "    <tr>\n",
              "      <th>11</th>\n",
              "      <td>000660</td>\n",
              "      <td>SK하이닉스</td>\n",
              "      <td>종가</td>\n",
              "      <td>101500</td>\n",
              "    </tr>\n",
              "  </tbody>\n",
              "</table>\n",
              "</div>\n",
              "    <div class=\"colab-df-buttons\">\n",
              "\n",
              "  <div class=\"colab-df-container\">\n",
              "    <button class=\"colab-df-convert\" onclick=\"convertToInteractive('df-c8d9813a-3069-4700-9c20-ca4da8f27de1')\"\n",
              "            title=\"Convert this dataframe to an interactive table.\"\n",
              "            style=\"display:none;\">\n",
              "\n",
              "  <svg xmlns=\"http://www.w3.org/2000/svg\" height=\"24px\" viewBox=\"0 -960 960 960\">\n",
              "    <path d=\"M120-120v-720h720v720H120Zm60-500h600v-160H180v160Zm220 220h160v-160H400v160Zm0 220h160v-160H400v160ZM180-400h160v-160H180v160Zm440 0h160v-160H620v160ZM180-180h160v-160H180v160Zm440 0h160v-160H620v160Z\"/>\n",
              "  </svg>\n",
              "    </button>\n",
              "\n",
              "  <style>\n",
              "    .colab-df-container {\n",
              "      display:flex;\n",
              "      gap: 12px;\n",
              "    }\n",
              "\n",
              "    .colab-df-convert {\n",
              "      background-color: #E8F0FE;\n",
              "      border: none;\n",
              "      border-radius: 50%;\n",
              "      cursor: pointer;\n",
              "      display: none;\n",
              "      fill: #1967D2;\n",
              "      height: 32px;\n",
              "      padding: 0 0 0 0;\n",
              "      width: 32px;\n",
              "    }\n",
              "\n",
              "    .colab-df-convert:hover {\n",
              "      background-color: #E2EBFA;\n",
              "      box-shadow: 0px 1px 2px rgba(60, 64, 67, 0.3), 0px 1px 3px 1px rgba(60, 64, 67, 0.15);\n",
              "      fill: #174EA6;\n",
              "    }\n",
              "\n",
              "    .colab-df-buttons div {\n",
              "      margin-bottom: 4px;\n",
              "    }\n",
              "\n",
              "    [theme=dark] .colab-df-convert {\n",
              "      background-color: #3B4455;\n",
              "      fill: #D2E3FC;\n",
              "    }\n",
              "\n",
              "    [theme=dark] .colab-df-convert:hover {\n",
              "      background-color: #434B5C;\n",
              "      box-shadow: 0px 1px 3px 1px rgba(0, 0, 0, 0.15);\n",
              "      filter: drop-shadow(0px 1px 2px rgba(0, 0, 0, 0.3));\n",
              "      fill: #FFFFFF;\n",
              "    }\n",
              "  </style>\n",
              "\n",
              "    <script>\n",
              "      const buttonEl =\n",
              "        document.querySelector('#df-c8d9813a-3069-4700-9c20-ca4da8f27de1 button.colab-df-convert');\n",
              "      buttonEl.style.display =\n",
              "        google.colab.kernel.accessAllowed ? 'block' : 'none';\n",
              "\n",
              "      async function convertToInteractive(key) {\n",
              "        const element = document.querySelector('#df-c8d9813a-3069-4700-9c20-ca4da8f27de1');\n",
              "        const dataTable =\n",
              "          await google.colab.kernel.invokeFunction('convertToInteractive',\n",
              "                                                    [key], {});\n",
              "        if (!dataTable) return;\n",
              "\n",
              "        const docLinkHtml = 'Like what you see? Visit the ' +\n",
              "          '<a target=\"_blank\" href=https://colab.research.google.com/notebooks/data_table.ipynb>data table notebook</a>'\n",
              "          + ' to learn more about interactive tables.';\n",
              "        element.innerHTML = '';\n",
              "        dataTable['output_type'] = 'display_data';\n",
              "        await google.colab.output.renderOutput(dataTable, element);\n",
              "        const docLink = document.createElement('div');\n",
              "        docLink.innerHTML = docLinkHtml;\n",
              "        element.appendChild(docLink);\n",
              "      }\n",
              "    </script>\n",
              "  </div>\n",
              "\n",
              "\n",
              "<div id=\"df-21a1b00f-37b1-4b00-b9ed-c3226db6c316\">\n",
              "  <button class=\"colab-df-quickchart\" onclick=\"quickchart('df-21a1b00f-37b1-4b00-b9ed-c3226db6c316')\"\n",
              "            title=\"Suggest charts\"\n",
              "            style=\"display:none;\">\n",
              "\n",
              "<svg xmlns=\"http://www.w3.org/2000/svg\" height=\"24px\"viewBox=\"0 0 24 24\"\n",
              "     width=\"24px\">\n",
              "    <g>\n",
              "        <path d=\"M19 3H5c-1.1 0-2 .9-2 2v14c0 1.1.9 2 2 2h14c1.1 0 2-.9 2-2V5c0-1.1-.9-2-2-2zM9 17H7v-7h2v7zm4 0h-2V7h2v10zm4 0h-2v-4h2v4z\"/>\n",
              "    </g>\n",
              "</svg>\n",
              "  </button>\n",
              "\n",
              "<style>\n",
              "  .colab-df-quickchart {\n",
              "      --bg-color: #E8F0FE;\n",
              "      --fill-color: #1967D2;\n",
              "      --hover-bg-color: #E2EBFA;\n",
              "      --hover-fill-color: #174EA6;\n",
              "      --disabled-fill-color: #AAA;\n",
              "      --disabled-bg-color: #DDD;\n",
              "  }\n",
              "\n",
              "  [theme=dark] .colab-df-quickchart {\n",
              "      --bg-color: #3B4455;\n",
              "      --fill-color: #D2E3FC;\n",
              "      --hover-bg-color: #434B5C;\n",
              "      --hover-fill-color: #FFFFFF;\n",
              "      --disabled-bg-color: #3B4455;\n",
              "      --disabled-fill-color: #666;\n",
              "  }\n",
              "\n",
              "  .colab-df-quickchart {\n",
              "    background-color: var(--bg-color);\n",
              "    border: none;\n",
              "    border-radius: 50%;\n",
              "    cursor: pointer;\n",
              "    display: none;\n",
              "    fill: var(--fill-color);\n",
              "    height: 32px;\n",
              "    padding: 0;\n",
              "    width: 32px;\n",
              "  }\n",
              "\n",
              "  .colab-df-quickchart:hover {\n",
              "    background-color: var(--hover-bg-color);\n",
              "    box-shadow: 0 1px 2px rgba(60, 64, 67, 0.3), 0 1px 3px 1px rgba(60, 64, 67, 0.15);\n",
              "    fill: var(--button-hover-fill-color);\n",
              "  }\n",
              "\n",
              "  .colab-df-quickchart-complete:disabled,\n",
              "  .colab-df-quickchart-complete:disabled:hover {\n",
              "    background-color: var(--disabled-bg-color);\n",
              "    fill: var(--disabled-fill-color);\n",
              "    box-shadow: none;\n",
              "  }\n",
              "\n",
              "  .colab-df-spinner {\n",
              "    border: 2px solid var(--fill-color);\n",
              "    border-color: transparent;\n",
              "    border-bottom-color: var(--fill-color);\n",
              "    animation:\n",
              "      spin 1s steps(1) infinite;\n",
              "  }\n",
              "\n",
              "  @keyframes spin {\n",
              "    0% {\n",
              "      border-color: transparent;\n",
              "      border-bottom-color: var(--fill-color);\n",
              "      border-left-color: var(--fill-color);\n",
              "    }\n",
              "    20% {\n",
              "      border-color: transparent;\n",
              "      border-left-color: var(--fill-color);\n",
              "      border-top-color: var(--fill-color);\n",
              "    }\n",
              "    30% {\n",
              "      border-color: transparent;\n",
              "      border-left-color: var(--fill-color);\n",
              "      border-top-color: var(--fill-color);\n",
              "      border-right-color: var(--fill-color);\n",
              "    }\n",
              "    40% {\n",
              "      border-color: transparent;\n",
              "      border-right-color: var(--fill-color);\n",
              "      border-top-color: var(--fill-color);\n",
              "    }\n",
              "    60% {\n",
              "      border-color: transparent;\n",
              "      border-right-color: var(--fill-color);\n",
              "    }\n",
              "    80% {\n",
              "      border-color: transparent;\n",
              "      border-right-color: var(--fill-color);\n",
              "      border-bottom-color: var(--fill-color);\n",
              "    }\n",
              "    90% {\n",
              "      border-color: transparent;\n",
              "      border-bottom-color: var(--fill-color);\n",
              "    }\n",
              "  }\n",
              "</style>\n",
              "\n",
              "  <script>\n",
              "    async function quickchart(key) {\n",
              "      const quickchartButtonEl =\n",
              "        document.querySelector('#' + key + ' button');\n",
              "      quickchartButtonEl.disabled = true;  // To prevent multiple clicks.\n",
              "      quickchartButtonEl.classList.add('colab-df-spinner');\n",
              "      try {\n",
              "        const charts = await google.colab.kernel.invokeFunction(\n",
              "            'suggestCharts', [key], {});\n",
              "      } catch (error) {\n",
              "        console.error('Error during call to suggestCharts:', error);\n",
              "      }\n",
              "      quickchartButtonEl.classList.remove('colab-df-spinner');\n",
              "      quickchartButtonEl.classList.add('colab-df-quickchart-complete');\n",
              "    }\n",
              "    (() => {\n",
              "      let quickchartButtonEl =\n",
              "        document.querySelector('#df-21a1b00f-37b1-4b00-b9ed-c3226db6c316 button');\n",
              "      quickchartButtonEl.style.display =\n",
              "        google.colab.kernel.accessAllowed ? 'block' : 'none';\n",
              "    })();\n",
              "  </script>\n",
              "</div>\n",
              "\n",
              "    </div>\n",
              "  </div>\n"
            ],
            "application/vnd.google.colaboratory.intrinsic+json": {
              "type": "dataframe",
              "summary": "{\n  \"name\": \"df\",\n  \"rows\": 12,\n  \"fields\": [\n    {\n      \"column\": \"\\uc885\\ubaa9\\ucf54\\ub4dc\",\n      \"properties\": {\n        \"dtype\": \"category\",\n        \"num_unique_values\": 3,\n        \"samples\": [\n          \"005930\",\n          \"035720\",\n          \"000660\"\n        ],\n        \"semantic_type\": \"\",\n        \"description\": \"\"\n      }\n    },\n    {\n      \"column\": \"\\uc885\\ubaa9\\uba85\",\n      \"properties\": {\n        \"dtype\": \"category\",\n        \"num_unique_values\": 3,\n        \"samples\": [\n          \"\\uc0bc\\uc131\\uc804\\uc790\",\n          \"\\uce74\\uce74\\uc624\",\n          \"SK\\ud558\\uc774\\ub2c9\\uc2a4\"\n        ],\n        \"semantic_type\": \"\",\n        \"description\": \"\"\n      }\n    },\n    {\n      \"column\": \"variable\",\n      \"properties\": {\n        \"dtype\": \"category\",\n        \"num_unique_values\": 4,\n        \"samples\": [\n          \"\\uace0\\uac00\",\n          \"\\uc885\\uac00\",\n          \"\\uc2dc\\uac00\"\n        ],\n        \"semantic_type\": \"\",\n        \"description\": \"\"\n      }\n    },\n    {\n      \"column\": \"value\",\n      \"properties\": {\n        \"dtype\": \"number\",\n        \"std\": 30847,\n        \"min\": 74100,\n        \"max\": 147500,\n        \"num_unique_values\": 10,\n        \"samples\": [\n          74400,\n          147500,\n          74100\n        ],\n        \"semantic_type\": \"\",\n        \"description\": \"\"\n      }\n    }\n  ]\n}"
            }
          },
          "metadata": {},
          "execution_count": 227
        }
      ]
    },
    {
      "cell_type": "code",
      "source": [
        "# 특정 컬럼을 슬라이싱한 뒤 melt 메서드 적용\n",
        "df.melt(value_vars=['시가', '종가'])"
      ],
      "metadata": {
        "colab": {
          "base_uri": "https://localhost:8080/",
          "height": 237
        },
        "id": "ey2NKq56vofY",
        "outputId": "abc750c5-04e0-4214-d342-1ac3118b1bcf"
      },
      "execution_count": null,
      "outputs": [
        {
          "output_type": "execute_result",
          "data": {
            "text/plain": [
              "  variable   value\n",
              "0       시가   75800\n",
              "1       시가  147500\n",
              "2       시가   99600\n",
              "3       종가   74400\n",
              "4       종가  146000\n",
              "5       종가  101500"
            ],
            "text/html": [
              "\n",
              "  <div id=\"df-e20a1528-86c6-4049-bf4e-251f9b123042\" class=\"colab-df-container\">\n",
              "    <div>\n",
              "<style scoped>\n",
              "    .dataframe tbody tr th:only-of-type {\n",
              "        vertical-align: middle;\n",
              "    }\n",
              "\n",
              "    .dataframe tbody tr th {\n",
              "        vertical-align: top;\n",
              "    }\n",
              "\n",
              "    .dataframe thead th {\n",
              "        text-align: right;\n",
              "    }\n",
              "</style>\n",
              "<table border=\"1\" class=\"dataframe\">\n",
              "  <thead>\n",
              "    <tr style=\"text-align: right;\">\n",
              "      <th></th>\n",
              "      <th>variable</th>\n",
              "      <th>value</th>\n",
              "    </tr>\n",
              "  </thead>\n",
              "  <tbody>\n",
              "    <tr>\n",
              "      <th>0</th>\n",
              "      <td>시가</td>\n",
              "      <td>75800</td>\n",
              "    </tr>\n",
              "    <tr>\n",
              "      <th>1</th>\n",
              "      <td>시가</td>\n",
              "      <td>147500</td>\n",
              "    </tr>\n",
              "    <tr>\n",
              "      <th>2</th>\n",
              "      <td>시가</td>\n",
              "      <td>99600</td>\n",
              "    </tr>\n",
              "    <tr>\n",
              "      <th>3</th>\n",
              "      <td>종가</td>\n",
              "      <td>74400</td>\n",
              "    </tr>\n",
              "    <tr>\n",
              "      <th>4</th>\n",
              "      <td>종가</td>\n",
              "      <td>146000</td>\n",
              "    </tr>\n",
              "    <tr>\n",
              "      <th>5</th>\n",
              "      <td>종가</td>\n",
              "      <td>101500</td>\n",
              "    </tr>\n",
              "  </tbody>\n",
              "</table>\n",
              "</div>\n",
              "    <div class=\"colab-df-buttons\">\n",
              "\n",
              "  <div class=\"colab-df-container\">\n",
              "    <button class=\"colab-df-convert\" onclick=\"convertToInteractive('df-e20a1528-86c6-4049-bf4e-251f9b123042')\"\n",
              "            title=\"Convert this dataframe to an interactive table.\"\n",
              "            style=\"display:none;\">\n",
              "\n",
              "  <svg xmlns=\"http://www.w3.org/2000/svg\" height=\"24px\" viewBox=\"0 -960 960 960\">\n",
              "    <path d=\"M120-120v-720h720v720H120Zm60-500h600v-160H180v160Zm220 220h160v-160H400v160Zm0 220h160v-160H400v160ZM180-400h160v-160H180v160Zm440 0h160v-160H620v160ZM180-180h160v-160H180v160Zm440 0h160v-160H620v160Z\"/>\n",
              "  </svg>\n",
              "    </button>\n",
              "\n",
              "  <style>\n",
              "    .colab-df-container {\n",
              "      display:flex;\n",
              "      gap: 12px;\n",
              "    }\n",
              "\n",
              "    .colab-df-convert {\n",
              "      background-color: #E8F0FE;\n",
              "      border: none;\n",
              "      border-radius: 50%;\n",
              "      cursor: pointer;\n",
              "      display: none;\n",
              "      fill: #1967D2;\n",
              "      height: 32px;\n",
              "      padding: 0 0 0 0;\n",
              "      width: 32px;\n",
              "    }\n",
              "\n",
              "    .colab-df-convert:hover {\n",
              "      background-color: #E2EBFA;\n",
              "      box-shadow: 0px 1px 2px rgba(60, 64, 67, 0.3), 0px 1px 3px 1px rgba(60, 64, 67, 0.15);\n",
              "      fill: #174EA6;\n",
              "    }\n",
              "\n",
              "    .colab-df-buttons div {\n",
              "      margin-bottom: 4px;\n",
              "    }\n",
              "\n",
              "    [theme=dark] .colab-df-convert {\n",
              "      background-color: #3B4455;\n",
              "      fill: #D2E3FC;\n",
              "    }\n",
              "\n",
              "    [theme=dark] .colab-df-convert:hover {\n",
              "      background-color: #434B5C;\n",
              "      box-shadow: 0px 1px 3px 1px rgba(0, 0, 0, 0.15);\n",
              "      filter: drop-shadow(0px 1px 2px rgba(0, 0, 0, 0.3));\n",
              "      fill: #FFFFFF;\n",
              "    }\n",
              "  </style>\n",
              "\n",
              "    <script>\n",
              "      const buttonEl =\n",
              "        document.querySelector('#df-e20a1528-86c6-4049-bf4e-251f9b123042 button.colab-df-convert');\n",
              "      buttonEl.style.display =\n",
              "        google.colab.kernel.accessAllowed ? 'block' : 'none';\n",
              "\n",
              "      async function convertToInteractive(key) {\n",
              "        const element = document.querySelector('#df-e20a1528-86c6-4049-bf4e-251f9b123042');\n",
              "        const dataTable =\n",
              "          await google.colab.kernel.invokeFunction('convertToInteractive',\n",
              "                                                    [key], {});\n",
              "        if (!dataTable) return;\n",
              "\n",
              "        const docLinkHtml = 'Like what you see? Visit the ' +\n",
              "          '<a target=\"_blank\" href=https://colab.research.google.com/notebooks/data_table.ipynb>data table notebook</a>'\n",
              "          + ' to learn more about interactive tables.';\n",
              "        element.innerHTML = '';\n",
              "        dataTable['output_type'] = 'display_data';\n",
              "        await google.colab.output.renderOutput(dataTable, element);\n",
              "        const docLink = document.createElement('div');\n",
              "        docLink.innerHTML = docLinkHtml;\n",
              "        element.appendChild(docLink);\n",
              "      }\n",
              "    </script>\n",
              "  </div>\n",
              "\n",
              "\n",
              "<div id=\"df-acd24693-fc1f-4007-9de8-7a63b2fbc9b5\">\n",
              "  <button class=\"colab-df-quickchart\" onclick=\"quickchart('df-acd24693-fc1f-4007-9de8-7a63b2fbc9b5')\"\n",
              "            title=\"Suggest charts\"\n",
              "            style=\"display:none;\">\n",
              "\n",
              "<svg xmlns=\"http://www.w3.org/2000/svg\" height=\"24px\"viewBox=\"0 0 24 24\"\n",
              "     width=\"24px\">\n",
              "    <g>\n",
              "        <path d=\"M19 3H5c-1.1 0-2 .9-2 2v14c0 1.1.9 2 2 2h14c1.1 0 2-.9 2-2V5c0-1.1-.9-2-2-2zM9 17H7v-7h2v7zm4 0h-2V7h2v10zm4 0h-2v-4h2v4z\"/>\n",
              "    </g>\n",
              "</svg>\n",
              "  </button>\n",
              "\n",
              "<style>\n",
              "  .colab-df-quickchart {\n",
              "      --bg-color: #E8F0FE;\n",
              "      --fill-color: #1967D2;\n",
              "      --hover-bg-color: #E2EBFA;\n",
              "      --hover-fill-color: #174EA6;\n",
              "      --disabled-fill-color: #AAA;\n",
              "      --disabled-bg-color: #DDD;\n",
              "  }\n",
              "\n",
              "  [theme=dark] .colab-df-quickchart {\n",
              "      --bg-color: #3B4455;\n",
              "      --fill-color: #D2E3FC;\n",
              "      --hover-bg-color: #434B5C;\n",
              "      --hover-fill-color: #FFFFFF;\n",
              "      --disabled-bg-color: #3B4455;\n",
              "      --disabled-fill-color: #666;\n",
              "  }\n",
              "\n",
              "  .colab-df-quickchart {\n",
              "    background-color: var(--bg-color);\n",
              "    border: none;\n",
              "    border-radius: 50%;\n",
              "    cursor: pointer;\n",
              "    display: none;\n",
              "    fill: var(--fill-color);\n",
              "    height: 32px;\n",
              "    padding: 0;\n",
              "    width: 32px;\n",
              "  }\n",
              "\n",
              "  .colab-df-quickchart:hover {\n",
              "    background-color: var(--hover-bg-color);\n",
              "    box-shadow: 0 1px 2px rgba(60, 64, 67, 0.3), 0 1px 3px 1px rgba(60, 64, 67, 0.15);\n",
              "    fill: var(--button-hover-fill-color);\n",
              "  }\n",
              "\n",
              "  .colab-df-quickchart-complete:disabled,\n",
              "  .colab-df-quickchart-complete:disabled:hover {\n",
              "    background-color: var(--disabled-bg-color);\n",
              "    fill: var(--disabled-fill-color);\n",
              "    box-shadow: none;\n",
              "  }\n",
              "\n",
              "  .colab-df-spinner {\n",
              "    border: 2px solid var(--fill-color);\n",
              "    border-color: transparent;\n",
              "    border-bottom-color: var(--fill-color);\n",
              "    animation:\n",
              "      spin 1s steps(1) infinite;\n",
              "  }\n",
              "\n",
              "  @keyframes spin {\n",
              "    0% {\n",
              "      border-color: transparent;\n",
              "      border-bottom-color: var(--fill-color);\n",
              "      border-left-color: var(--fill-color);\n",
              "    }\n",
              "    20% {\n",
              "      border-color: transparent;\n",
              "      border-left-color: var(--fill-color);\n",
              "      border-top-color: var(--fill-color);\n",
              "    }\n",
              "    30% {\n",
              "      border-color: transparent;\n",
              "      border-left-color: var(--fill-color);\n",
              "      border-top-color: var(--fill-color);\n",
              "      border-right-color: var(--fill-color);\n",
              "    }\n",
              "    40% {\n",
              "      border-color: transparent;\n",
              "      border-right-color: var(--fill-color);\n",
              "      border-top-color: var(--fill-color);\n",
              "    }\n",
              "    60% {\n",
              "      border-color: transparent;\n",
              "      border-right-color: var(--fill-color);\n",
              "    }\n",
              "    80% {\n",
              "      border-color: transparent;\n",
              "      border-right-color: var(--fill-color);\n",
              "      border-bottom-color: var(--fill-color);\n",
              "    }\n",
              "    90% {\n",
              "      border-color: transparent;\n",
              "      border-bottom-color: var(--fill-color);\n",
              "    }\n",
              "  }\n",
              "</style>\n",
              "\n",
              "  <script>\n",
              "    async function quickchart(key) {\n",
              "      const quickchartButtonEl =\n",
              "        document.querySelector('#' + key + ' button');\n",
              "      quickchartButtonEl.disabled = true;  // To prevent multiple clicks.\n",
              "      quickchartButtonEl.classList.add('colab-df-spinner');\n",
              "      try {\n",
              "        const charts = await google.colab.kernel.invokeFunction(\n",
              "            'suggestCharts', [key], {});\n",
              "      } catch (error) {\n",
              "        console.error('Error during call to suggestCharts:', error);\n",
              "      }\n",
              "      quickchartButtonEl.classList.remove('colab-df-spinner');\n",
              "      quickchartButtonEl.classList.add('colab-df-quickchart-complete');\n",
              "    }\n",
              "    (() => {\n",
              "      let quickchartButtonEl =\n",
              "        document.querySelector('#df-acd24693-fc1f-4007-9de8-7a63b2fbc9b5 button');\n",
              "      quickchartButtonEl.style.display =\n",
              "        google.colab.kernel.accessAllowed ? 'block' : 'none';\n",
              "    })();\n",
              "  </script>\n",
              "</div>\n",
              "\n",
              "    </div>\n",
              "  </div>\n"
            ],
            "application/vnd.google.colaboratory.intrinsic+json": {
              "type": "dataframe",
              "summary": "{\n  \"name\": \"df\",\n  \"rows\": 6,\n  \"fields\": [\n    {\n      \"column\": \"variable\",\n      \"properties\": {\n        \"dtype\": \"category\",\n        \"num_unique_values\": 2,\n        \"samples\": [\n          \"\\uc885\\uac00\",\n          \"\\uc2dc\\uac00\"\n        ],\n        \"semantic_type\": \"\",\n        \"description\": \"\"\n      }\n    },\n    {\n      \"column\": \"value\",\n      \"properties\": {\n        \"dtype\": \"number\",\n        \"std\": 32499,\n        \"min\": 74400,\n        \"max\": 147500,\n        \"num_unique_values\": 6,\n        \"samples\": [\n          75800,\n          147500\n        ],\n        \"semantic_type\": \"\",\n        \"description\": \"\"\n      }\n    }\n  ]\n}"
            }
          },
          "metadata": {},
          "execution_count": 229
        }
      ]
    },
    {
      "cell_type": "markdown",
      "source": [
        "### 5.15 파일 저장하기"
      ],
      "metadata": {
        "id": "XPY1HbSlwhUR"
      }
    },
    {
      "cell_type": "code",
      "source": [
        "# 데이터 프레임 만들기\n",
        "\n",
        "from pandas import DataFrame\n",
        "data = {\n",
        "    \"종목명\": [\"3R\", \"3SOFT\", \"ACTS\"],\n",
        "    \"현재가\": [1510, 1790, 1185],\n",
        "    \"등락률\": [7.36, 1.65, 1.28]\n",
        "}\n",
        "df = DataFrame(data, index=[\"037730\", \"036360\", \"005760\"])\n",
        "print(df)"
      ],
      "metadata": {
        "colab": {
          "base_uri": "https://localhost:8080/"
        },
        "id": "v3W4qhb5wST2",
        "outputId": "36cfbec8-0f69-41f8-b1cd-434b7794d0b9"
      },
      "execution_count": null,
      "outputs": [
        {
          "output_type": "stream",
          "name": "stdout",
          "text": [
            "          종목명   현재가   등락률\n",
            "037730     3R  1510  7.36\n",
            "036360  3SOFT  1790  1.65\n",
            "005760   ACTS  1185  1.28\n"
          ]
        }
      ]
    },
    {
      "cell_type": "code",
      "source": [
        "# csv 파일 저장\n",
        "df.to_csv(\"data.csv\")"
      ],
      "metadata": {
        "id": "o48d27vWwsxT"
      },
      "execution_count": null,
      "outputs": []
    },
    {
      "cell_type": "code",
      "source": [
        "# df.to_csv(\"abc/data.csv\") # abc라는 폴더 안에 data.csv 이름으로 저장"
      ],
      "metadata": {
        "id": "TlG6C_9gxM9q"
      },
      "execution_count": null,
      "outputs": []
    },
    {
      "cell_type": "code",
      "source": [
        "# os모듈을 사용해 폴더의 존재 유무 확인, 폴더 생성까지 코드로 표현\n",
        "import os\n",
        "if not os.path.isdir(\"abc\"):\n",
        "  os.mkdir(\"abc\")\n",
        "df.to_csv(\"abc/data.csv\")"
      ],
      "metadata": {
        "id": "mUITgzvMxpGK"
      },
      "execution_count": null,
      "outputs": []
    },
    {
      "cell_type": "code",
      "source": [
        "# 절대 경로 방식: 최상위 경로에서 파일의 위치까지 모든 경로를 나열\n",
        "\"C:||A||B||C||data.csv\"\n",
        "\"C:/A/B/C/data.csv\"\n",
        "r\"C:|A|B|C|data.csv\"\n",
        "# 모두 같은 위치"
      ],
      "metadata": {
        "colab": {
          "base_uri": "https://localhost:8080/",
          "height": 36
        },
        "id": "q-mWvwCVx3Px",
        "outputId": "2bcfc9d6-b99d-438e-9d14-5e7c3c84d9c1"
      },
      "execution_count": null,
      "outputs": [
        {
          "output_type": "execute_result",
          "data": {
            "text/plain": [
              "'C:|A|B|C|data.csv'"
            ],
            "application/vnd.google.colaboratory.intrinsic+json": {
              "type": "string"
            }
          },
          "metadata": {},
          "execution_count": 238
        }
      ]
    },
    {
      "cell_type": "code",
      "source": [
        "# excel 파일 저장\n",
        "df.to_excel(\"data.xlsx\")"
      ],
      "metadata": {
        "id": "c5RWPDFRyZmY"
      },
      "execution_count": null,
      "outputs": []
    },
    {
      "cell_type": "code",
      "source": [
        "# 엑셀 시트의 이름 변경\n",
        "df.to_excel(\"data2.xlsx\", sheet_name=\"종목정보\")"
      ],
      "metadata": {
        "id": "51e4JXURynuq"
      },
      "execution_count": null,
      "outputs": []
    },
    {
      "cell_type": "code",
      "source": [
        "# 인덱스를 제외하고 엑셀 파일 저장\n",
        "df.to_excel(\"data3.xlsx\", index=False)"
      ],
      "metadata": {
        "id": "v3HIX6anyw_f"
      },
      "execution_count": null,
      "outputs": []
    },
    {
      "cell_type": "code",
      "source": [
        "# 컬럼명 생략\n",
        "df.to_excel(\"data4.xlsx\", header=False)"
      ],
      "metadata": {
        "id": "sNhN8jUyy5vn"
      },
      "execution_count": null,
      "outputs": []
    },
    {
      "cell_type": "markdown",
      "source": [],
      "metadata": {
        "id": "McfuEUYj4Njm"
      }
    },
    {
      "cell_type": "markdown",
      "source": [
        "### 5.16 파일 불러오기"
      ],
      "metadata": {
        "id": "VWWvOsJZzAU1"
      }
    },
    {
      "cell_type": "code",
      "source": [
        "import pandas as pd\n",
        "df = pd.read_excel(\"code.xlsx\")"
      ],
      "metadata": {
        "id": "sqKJP75Gy_Dy",
        "colab": {
          "base_uri": "https://localhost:8080/",
          "height": 323
        },
        "outputId": "9f47a1bd-7984-436f-e966-d2043665edd4"
      },
      "execution_count": null,
      "outputs": [
        {
          "output_type": "error",
          "ename": "FileNotFoundError",
          "evalue": "[Errno 2] No such file or directory: 'code.xlsx'",
          "traceback": [
            "\u001b[0;31m---------------------------------------------------------------------------\u001b[0m",
            "\u001b[0;31mFileNotFoundError\u001b[0m                         Traceback (most recent call last)",
            "\u001b[0;32m<ipython-input-285-645c14b0885e>\u001b[0m in \u001b[0;36m<cell line: 2>\u001b[0;34m()\u001b[0m\n\u001b[1;32m      1\u001b[0m \u001b[0;32mimport\u001b[0m \u001b[0mpandas\u001b[0m \u001b[0;32mas\u001b[0m \u001b[0mpd\u001b[0m\u001b[0;34m\u001b[0m\u001b[0;34m\u001b[0m\u001b[0m\n\u001b[0;32m----> 2\u001b[0;31m \u001b[0mdf\u001b[0m \u001b[0;34m=\u001b[0m \u001b[0mpd\u001b[0m\u001b[0;34m.\u001b[0m\u001b[0mread_excel\u001b[0m\u001b[0;34m(\u001b[0m\u001b[0;34m\"code.xlsx\"\u001b[0m\u001b[0;34m)\u001b[0m\u001b[0;34m\u001b[0m\u001b[0;34m\u001b[0m\u001b[0m\n\u001b[0m",
            "\u001b[0;32m/usr/local/lib/python3.10/dist-packages/pandas/io/excel/_base.py\u001b[0m in \u001b[0;36mread_excel\u001b[0;34m(io, sheet_name, header, names, index_col, usecols, dtype, engine, converters, true_values, false_values, skiprows, nrows, na_values, keep_default_na, na_filter, verbose, parse_dates, date_parser, date_format, thousands, decimal, comment, skipfooter, storage_options, dtype_backend, engine_kwargs)\u001b[0m\n\u001b[1;32m    502\u001b[0m     \u001b[0;32mif\u001b[0m \u001b[0;32mnot\u001b[0m \u001b[0misinstance\u001b[0m\u001b[0;34m(\u001b[0m\u001b[0mio\u001b[0m\u001b[0;34m,\u001b[0m \u001b[0mExcelFile\u001b[0m\u001b[0;34m)\u001b[0m\u001b[0;34m:\u001b[0m\u001b[0;34m\u001b[0m\u001b[0;34m\u001b[0m\u001b[0m\n\u001b[1;32m    503\u001b[0m         \u001b[0mshould_close\u001b[0m \u001b[0;34m=\u001b[0m \u001b[0;32mTrue\u001b[0m\u001b[0;34m\u001b[0m\u001b[0;34m\u001b[0m\u001b[0m\n\u001b[0;32m--> 504\u001b[0;31m         io = ExcelFile(\n\u001b[0m\u001b[1;32m    505\u001b[0m             \u001b[0mio\u001b[0m\u001b[0;34m,\u001b[0m\u001b[0;34m\u001b[0m\u001b[0;34m\u001b[0m\u001b[0m\n\u001b[1;32m    506\u001b[0m             \u001b[0mstorage_options\u001b[0m\u001b[0;34m=\u001b[0m\u001b[0mstorage_options\u001b[0m\u001b[0;34m,\u001b[0m\u001b[0;34m\u001b[0m\u001b[0;34m\u001b[0m\u001b[0m\n",
            "\u001b[0;32m/usr/local/lib/python3.10/dist-packages/pandas/io/excel/_base.py\u001b[0m in \u001b[0;36m__init__\u001b[0;34m(self, path_or_buffer, engine, storage_options, engine_kwargs)\u001b[0m\n\u001b[1;32m   1561\u001b[0m                 \u001b[0mext\u001b[0m \u001b[0;34m=\u001b[0m \u001b[0;34m\"xls\"\u001b[0m\u001b[0;34m\u001b[0m\u001b[0;34m\u001b[0m\u001b[0m\n\u001b[1;32m   1562\u001b[0m             \u001b[0;32melse\u001b[0m\u001b[0;34m:\u001b[0m\u001b[0;34m\u001b[0m\u001b[0;34m\u001b[0m\u001b[0m\n\u001b[0;32m-> 1563\u001b[0;31m                 ext = inspect_excel_format(\n\u001b[0m\u001b[1;32m   1564\u001b[0m                     \u001b[0mcontent_or_path\u001b[0m\u001b[0;34m=\u001b[0m\u001b[0mpath_or_buffer\u001b[0m\u001b[0;34m,\u001b[0m \u001b[0mstorage_options\u001b[0m\u001b[0;34m=\u001b[0m\u001b[0mstorage_options\u001b[0m\u001b[0;34m\u001b[0m\u001b[0;34m\u001b[0m\u001b[0m\n\u001b[1;32m   1565\u001b[0m                 )\n",
            "\u001b[0;32m/usr/local/lib/python3.10/dist-packages/pandas/io/excel/_base.py\u001b[0m in \u001b[0;36minspect_excel_format\u001b[0;34m(content_or_path, storage_options)\u001b[0m\n\u001b[1;32m   1417\u001b[0m         \u001b[0mcontent_or_path\u001b[0m \u001b[0;34m=\u001b[0m \u001b[0mBytesIO\u001b[0m\u001b[0;34m(\u001b[0m\u001b[0mcontent_or_path\u001b[0m\u001b[0;34m)\u001b[0m\u001b[0;34m\u001b[0m\u001b[0;34m\u001b[0m\u001b[0m\n\u001b[1;32m   1418\u001b[0m \u001b[0;34m\u001b[0m\u001b[0m\n\u001b[0;32m-> 1419\u001b[0;31m     with get_handle(\n\u001b[0m\u001b[1;32m   1420\u001b[0m         \u001b[0mcontent_or_path\u001b[0m\u001b[0;34m,\u001b[0m \u001b[0;34m\"rb\"\u001b[0m\u001b[0;34m,\u001b[0m \u001b[0mstorage_options\u001b[0m\u001b[0;34m=\u001b[0m\u001b[0mstorage_options\u001b[0m\u001b[0;34m,\u001b[0m \u001b[0mis_text\u001b[0m\u001b[0;34m=\u001b[0m\u001b[0;32mFalse\u001b[0m\u001b[0;34m\u001b[0m\u001b[0;34m\u001b[0m\u001b[0m\n\u001b[1;32m   1421\u001b[0m     ) as handle:\n",
            "\u001b[0;32m/usr/local/lib/python3.10/dist-packages/pandas/io/common.py\u001b[0m in \u001b[0;36mget_handle\u001b[0;34m(path_or_buf, mode, encoding, compression, memory_map, is_text, errors, storage_options)\u001b[0m\n\u001b[1;32m    870\u001b[0m         \u001b[0;32melse\u001b[0m\u001b[0;34m:\u001b[0m\u001b[0;34m\u001b[0m\u001b[0;34m\u001b[0m\u001b[0m\n\u001b[1;32m    871\u001b[0m             \u001b[0;31m# Binary mode\u001b[0m\u001b[0;34m\u001b[0m\u001b[0;34m\u001b[0m\u001b[0m\n\u001b[0;32m--> 872\u001b[0;31m             \u001b[0mhandle\u001b[0m \u001b[0;34m=\u001b[0m \u001b[0mopen\u001b[0m\u001b[0;34m(\u001b[0m\u001b[0mhandle\u001b[0m\u001b[0;34m,\u001b[0m \u001b[0mioargs\u001b[0m\u001b[0;34m.\u001b[0m\u001b[0mmode\u001b[0m\u001b[0;34m)\u001b[0m\u001b[0;34m\u001b[0m\u001b[0;34m\u001b[0m\u001b[0m\n\u001b[0m\u001b[1;32m    873\u001b[0m         \u001b[0mhandles\u001b[0m\u001b[0;34m.\u001b[0m\u001b[0mappend\u001b[0m\u001b[0;34m(\u001b[0m\u001b[0mhandle\u001b[0m\u001b[0;34m)\u001b[0m\u001b[0;34m\u001b[0m\u001b[0;34m\u001b[0m\u001b[0m\n\u001b[1;32m    874\u001b[0m \u001b[0;34m\u001b[0m\u001b[0m\n",
            "\u001b[0;31mFileNotFoundError\u001b[0m: [Errno 2] No such file or directory: 'code.xlsx'"
          ]
        }
      ]
    },
    {
      "cell_type": "code",
      "source": [
        "df = pd.read_excel(\"code.xlsx\", index_col ='cd')"
      ],
      "metadata": {
        "id": "apPWew_iy9qy",
        "colab": {
          "base_uri": "https://localhost:8080/",
          "height": 304
        },
        "outputId": "8edf097b-4e1d-4eb8-fd80-7ce63ae6ddc8"
      },
      "execution_count": null,
      "outputs": [
        {
          "output_type": "error",
          "ename": "FileNotFoundError",
          "evalue": "[Errno 2] No such file or directory: 'code.xlsx'",
          "traceback": [
            "\u001b[0;31m---------------------------------------------------------------------------\u001b[0m",
            "\u001b[0;31mFileNotFoundError\u001b[0m                         Traceback (most recent call last)",
            "\u001b[0;32m<ipython-input-284-e3377de01450>\u001b[0m in \u001b[0;36m<cell line: 1>\u001b[0;34m()\u001b[0m\n\u001b[0;32m----> 1\u001b[0;31m \u001b[0mdf\u001b[0m \u001b[0;34m=\u001b[0m \u001b[0mpd\u001b[0m\u001b[0;34m.\u001b[0m\u001b[0mread_excel\u001b[0m\u001b[0;34m(\u001b[0m\u001b[0;34m\"code.xlsx\"\u001b[0m\u001b[0;34m,\u001b[0m \u001b[0mindex_col\u001b[0m \u001b[0;34m=\u001b[0m\u001b[0;34m'cd'\u001b[0m\u001b[0;34m)\u001b[0m\u001b[0;34m\u001b[0m\u001b[0;34m\u001b[0m\u001b[0m\n\u001b[0m",
            "\u001b[0;32m/usr/local/lib/python3.10/dist-packages/pandas/io/excel/_base.py\u001b[0m in \u001b[0;36mread_excel\u001b[0;34m(io, sheet_name, header, names, index_col, usecols, dtype, engine, converters, true_values, false_values, skiprows, nrows, na_values, keep_default_na, na_filter, verbose, parse_dates, date_parser, date_format, thousands, decimal, comment, skipfooter, storage_options, dtype_backend, engine_kwargs)\u001b[0m\n\u001b[1;32m    502\u001b[0m     \u001b[0;32mif\u001b[0m \u001b[0;32mnot\u001b[0m \u001b[0misinstance\u001b[0m\u001b[0;34m(\u001b[0m\u001b[0mio\u001b[0m\u001b[0;34m,\u001b[0m \u001b[0mExcelFile\u001b[0m\u001b[0;34m)\u001b[0m\u001b[0;34m:\u001b[0m\u001b[0;34m\u001b[0m\u001b[0;34m\u001b[0m\u001b[0m\n\u001b[1;32m    503\u001b[0m         \u001b[0mshould_close\u001b[0m \u001b[0;34m=\u001b[0m \u001b[0;32mTrue\u001b[0m\u001b[0;34m\u001b[0m\u001b[0;34m\u001b[0m\u001b[0m\n\u001b[0;32m--> 504\u001b[0;31m         io = ExcelFile(\n\u001b[0m\u001b[1;32m    505\u001b[0m             \u001b[0mio\u001b[0m\u001b[0;34m,\u001b[0m\u001b[0;34m\u001b[0m\u001b[0;34m\u001b[0m\u001b[0m\n\u001b[1;32m    506\u001b[0m             \u001b[0mstorage_options\u001b[0m\u001b[0;34m=\u001b[0m\u001b[0mstorage_options\u001b[0m\u001b[0;34m,\u001b[0m\u001b[0;34m\u001b[0m\u001b[0;34m\u001b[0m\u001b[0m\n",
            "\u001b[0;32m/usr/local/lib/python3.10/dist-packages/pandas/io/excel/_base.py\u001b[0m in \u001b[0;36m__init__\u001b[0;34m(self, path_or_buffer, engine, storage_options, engine_kwargs)\u001b[0m\n\u001b[1;32m   1561\u001b[0m                 \u001b[0mext\u001b[0m \u001b[0;34m=\u001b[0m \u001b[0;34m\"xls\"\u001b[0m\u001b[0;34m\u001b[0m\u001b[0;34m\u001b[0m\u001b[0m\n\u001b[1;32m   1562\u001b[0m             \u001b[0;32melse\u001b[0m\u001b[0;34m:\u001b[0m\u001b[0;34m\u001b[0m\u001b[0;34m\u001b[0m\u001b[0m\n\u001b[0;32m-> 1563\u001b[0;31m                 ext = inspect_excel_format(\n\u001b[0m\u001b[1;32m   1564\u001b[0m                     \u001b[0mcontent_or_path\u001b[0m\u001b[0;34m=\u001b[0m\u001b[0mpath_or_buffer\u001b[0m\u001b[0;34m,\u001b[0m \u001b[0mstorage_options\u001b[0m\u001b[0;34m=\u001b[0m\u001b[0mstorage_options\u001b[0m\u001b[0;34m\u001b[0m\u001b[0;34m\u001b[0m\u001b[0m\n\u001b[1;32m   1565\u001b[0m                 )\n",
            "\u001b[0;32m/usr/local/lib/python3.10/dist-packages/pandas/io/excel/_base.py\u001b[0m in \u001b[0;36minspect_excel_format\u001b[0;34m(content_or_path, storage_options)\u001b[0m\n\u001b[1;32m   1417\u001b[0m         \u001b[0mcontent_or_path\u001b[0m \u001b[0;34m=\u001b[0m \u001b[0mBytesIO\u001b[0m\u001b[0;34m(\u001b[0m\u001b[0mcontent_or_path\u001b[0m\u001b[0;34m)\u001b[0m\u001b[0;34m\u001b[0m\u001b[0;34m\u001b[0m\u001b[0m\n\u001b[1;32m   1418\u001b[0m \u001b[0;34m\u001b[0m\u001b[0m\n\u001b[0;32m-> 1419\u001b[0;31m     with get_handle(\n\u001b[0m\u001b[1;32m   1420\u001b[0m         \u001b[0mcontent_or_path\u001b[0m\u001b[0;34m,\u001b[0m \u001b[0;34m\"rb\"\u001b[0m\u001b[0;34m,\u001b[0m \u001b[0mstorage_options\u001b[0m\u001b[0;34m=\u001b[0m\u001b[0mstorage_options\u001b[0m\u001b[0;34m,\u001b[0m \u001b[0mis_text\u001b[0m\u001b[0;34m=\u001b[0m\u001b[0;32mFalse\u001b[0m\u001b[0;34m\u001b[0m\u001b[0;34m\u001b[0m\u001b[0m\n\u001b[1;32m   1421\u001b[0m     ) as handle:\n",
            "\u001b[0;32m/usr/local/lib/python3.10/dist-packages/pandas/io/common.py\u001b[0m in \u001b[0;36mget_handle\u001b[0;34m(path_or_buf, mode, encoding, compression, memory_map, is_text, errors, storage_options)\u001b[0m\n\u001b[1;32m    870\u001b[0m         \u001b[0;32melse\u001b[0m\u001b[0;34m:\u001b[0m\u001b[0;34m\u001b[0m\u001b[0;34m\u001b[0m\u001b[0m\n\u001b[1;32m    871\u001b[0m             \u001b[0;31m# Binary mode\u001b[0m\u001b[0;34m\u001b[0m\u001b[0;34m\u001b[0m\u001b[0m\n\u001b[0;32m--> 872\u001b[0;31m             \u001b[0mhandle\u001b[0m \u001b[0;34m=\u001b[0m \u001b[0mopen\u001b[0m\u001b[0;34m(\u001b[0m\u001b[0mhandle\u001b[0m\u001b[0;34m,\u001b[0m \u001b[0mioargs\u001b[0m\u001b[0;34m.\u001b[0m\u001b[0mmode\u001b[0m\u001b[0;34m)\u001b[0m\u001b[0;34m\u001b[0m\u001b[0;34m\u001b[0m\u001b[0m\n\u001b[0m\u001b[1;32m    873\u001b[0m         \u001b[0mhandles\u001b[0m\u001b[0;34m.\u001b[0m\u001b[0mappend\u001b[0m\u001b[0;34m(\u001b[0m\u001b[0mhandle\u001b[0m\u001b[0;34m)\u001b[0m\u001b[0;34m\u001b[0m\u001b[0;34m\u001b[0m\u001b[0m\n\u001b[1;32m    874\u001b[0m \u001b[0;34m\u001b[0m\u001b[0m\n",
            "\u001b[0;31mFileNotFoundError\u001b[0m: [Errno 2] No such file or directory: 'code.xlsx'"
          ]
        }
      ]
    },
    {
      "cell_type": "code",
      "source": [
        "df = pd.read_excel(\"code.xlsx\", index_col = 1)"
      ],
      "metadata": {
        "colab": {
          "base_uri": "https://localhost:8080/",
          "height": 304
        },
        "id": "f6Qci_qF8wJR",
        "outputId": "27577815-abf7-42cf-d76c-d488a31f43c1"
      },
      "execution_count": null,
      "outputs": [
        {
          "output_type": "error",
          "ename": "FileNotFoundError",
          "evalue": "[Errno 2] No such file or directory: 'code.xlsx'",
          "traceback": [
            "\u001b[0;31m---------------------------------------------------------------------------\u001b[0m",
            "\u001b[0;31mFileNotFoundError\u001b[0m                         Traceback (most recent call last)",
            "\u001b[0;32m<ipython-input-287-9977b04580bc>\u001b[0m in \u001b[0;36m<cell line: 1>\u001b[0;34m()\u001b[0m\n\u001b[0;32m----> 1\u001b[0;31m \u001b[0mdf\u001b[0m \u001b[0;34m=\u001b[0m \u001b[0mpd\u001b[0m\u001b[0;34m.\u001b[0m\u001b[0mread_excel\u001b[0m\u001b[0;34m(\u001b[0m\u001b[0;34m\"code.xlsx\"\u001b[0m\u001b[0;34m,\u001b[0m \u001b[0mindex_col\u001b[0m \u001b[0;34m=\u001b[0m \u001b[0;36m1\u001b[0m\u001b[0;34m)\u001b[0m\u001b[0;34m\u001b[0m\u001b[0;34m\u001b[0m\u001b[0m\n\u001b[0m",
            "\u001b[0;32m/usr/local/lib/python3.10/dist-packages/pandas/io/excel/_base.py\u001b[0m in \u001b[0;36mread_excel\u001b[0;34m(io, sheet_name, header, names, index_col, usecols, dtype, engine, converters, true_values, false_values, skiprows, nrows, na_values, keep_default_na, na_filter, verbose, parse_dates, date_parser, date_format, thousands, decimal, comment, skipfooter, storage_options, dtype_backend, engine_kwargs)\u001b[0m\n\u001b[1;32m    502\u001b[0m     \u001b[0;32mif\u001b[0m \u001b[0;32mnot\u001b[0m \u001b[0misinstance\u001b[0m\u001b[0;34m(\u001b[0m\u001b[0mio\u001b[0m\u001b[0;34m,\u001b[0m \u001b[0mExcelFile\u001b[0m\u001b[0;34m)\u001b[0m\u001b[0;34m:\u001b[0m\u001b[0;34m\u001b[0m\u001b[0;34m\u001b[0m\u001b[0m\n\u001b[1;32m    503\u001b[0m         \u001b[0mshould_close\u001b[0m \u001b[0;34m=\u001b[0m \u001b[0;32mTrue\u001b[0m\u001b[0;34m\u001b[0m\u001b[0;34m\u001b[0m\u001b[0m\n\u001b[0;32m--> 504\u001b[0;31m         io = ExcelFile(\n\u001b[0m\u001b[1;32m    505\u001b[0m             \u001b[0mio\u001b[0m\u001b[0;34m,\u001b[0m\u001b[0;34m\u001b[0m\u001b[0;34m\u001b[0m\u001b[0m\n\u001b[1;32m    506\u001b[0m             \u001b[0mstorage_options\u001b[0m\u001b[0;34m=\u001b[0m\u001b[0mstorage_options\u001b[0m\u001b[0;34m,\u001b[0m\u001b[0;34m\u001b[0m\u001b[0;34m\u001b[0m\u001b[0m\n",
            "\u001b[0;32m/usr/local/lib/python3.10/dist-packages/pandas/io/excel/_base.py\u001b[0m in \u001b[0;36m__init__\u001b[0;34m(self, path_or_buffer, engine, storage_options, engine_kwargs)\u001b[0m\n\u001b[1;32m   1561\u001b[0m                 \u001b[0mext\u001b[0m \u001b[0;34m=\u001b[0m \u001b[0;34m\"xls\"\u001b[0m\u001b[0;34m\u001b[0m\u001b[0;34m\u001b[0m\u001b[0m\n\u001b[1;32m   1562\u001b[0m             \u001b[0;32melse\u001b[0m\u001b[0;34m:\u001b[0m\u001b[0;34m\u001b[0m\u001b[0;34m\u001b[0m\u001b[0m\n\u001b[0;32m-> 1563\u001b[0;31m                 ext = inspect_excel_format(\n\u001b[0m\u001b[1;32m   1564\u001b[0m                     \u001b[0mcontent_or_path\u001b[0m\u001b[0;34m=\u001b[0m\u001b[0mpath_or_buffer\u001b[0m\u001b[0;34m,\u001b[0m \u001b[0mstorage_options\u001b[0m\u001b[0;34m=\u001b[0m\u001b[0mstorage_options\u001b[0m\u001b[0;34m\u001b[0m\u001b[0;34m\u001b[0m\u001b[0m\n\u001b[1;32m   1565\u001b[0m                 )\n",
            "\u001b[0;32m/usr/local/lib/python3.10/dist-packages/pandas/io/excel/_base.py\u001b[0m in \u001b[0;36minspect_excel_format\u001b[0;34m(content_or_path, storage_options)\u001b[0m\n\u001b[1;32m   1417\u001b[0m         \u001b[0mcontent_or_path\u001b[0m \u001b[0;34m=\u001b[0m \u001b[0mBytesIO\u001b[0m\u001b[0;34m(\u001b[0m\u001b[0mcontent_or_path\u001b[0m\u001b[0;34m)\u001b[0m\u001b[0;34m\u001b[0m\u001b[0;34m\u001b[0m\u001b[0m\n\u001b[1;32m   1418\u001b[0m \u001b[0;34m\u001b[0m\u001b[0m\n\u001b[0;32m-> 1419\u001b[0;31m     with get_handle(\n\u001b[0m\u001b[1;32m   1420\u001b[0m         \u001b[0mcontent_or_path\u001b[0m\u001b[0;34m,\u001b[0m \u001b[0;34m\"rb\"\u001b[0m\u001b[0;34m,\u001b[0m \u001b[0mstorage_options\u001b[0m\u001b[0;34m=\u001b[0m\u001b[0mstorage_options\u001b[0m\u001b[0;34m,\u001b[0m \u001b[0mis_text\u001b[0m\u001b[0;34m=\u001b[0m\u001b[0;32mFalse\u001b[0m\u001b[0;34m\u001b[0m\u001b[0;34m\u001b[0m\u001b[0m\n\u001b[1;32m   1421\u001b[0m     ) as handle:\n",
            "\u001b[0;32m/usr/local/lib/python3.10/dist-packages/pandas/io/common.py\u001b[0m in \u001b[0;36mget_handle\u001b[0;34m(path_or_buf, mode, encoding, compression, memory_map, is_text, errors, storage_options)\u001b[0m\n\u001b[1;32m    870\u001b[0m         \u001b[0;32melse\u001b[0m\u001b[0;34m:\u001b[0m\u001b[0;34m\u001b[0m\u001b[0;34m\u001b[0m\u001b[0m\n\u001b[1;32m    871\u001b[0m             \u001b[0;31m# Binary mode\u001b[0m\u001b[0;34m\u001b[0m\u001b[0;34m\u001b[0m\u001b[0m\n\u001b[0;32m--> 872\u001b[0;31m             \u001b[0mhandle\u001b[0m \u001b[0;34m=\u001b[0m \u001b[0mopen\u001b[0m\u001b[0;34m(\u001b[0m\u001b[0mhandle\u001b[0m\u001b[0;34m,\u001b[0m \u001b[0mioargs\u001b[0m\u001b[0;34m.\u001b[0m\u001b[0mmode\u001b[0m\u001b[0;34m)\u001b[0m\u001b[0;34m\u001b[0m\u001b[0;34m\u001b[0m\u001b[0m\n\u001b[0m\u001b[1;32m    873\u001b[0m         \u001b[0mhandles\u001b[0m\u001b[0;34m.\u001b[0m\u001b[0mappend\u001b[0m\u001b[0;34m(\u001b[0m\u001b[0mhandle\u001b[0m\u001b[0;34m)\u001b[0m\u001b[0;34m\u001b[0m\u001b[0;34m\u001b[0m\u001b[0m\n\u001b[1;32m    874\u001b[0m \u001b[0;34m\u001b[0m\u001b[0m\n",
            "\u001b[0;31mFileNotFoundError\u001b[0m: [Errno 2] No such file or directory: 'code.xlsx'"
          ]
        }
      ]
    },
    {
      "cell_type": "code",
      "source": [
        "df = pd.read_excel(\"code.xlsx\", index_col='cd', usecols=[1, 2, 3])"
      ],
      "metadata": {
        "colab": {
          "base_uri": "https://localhost:8080/",
          "height": 304
        },
        "id": "L9XUfbep9tqt",
        "outputId": "dd7fe1ea-bf71-4851-8ad9-0d9a17865eeb"
      },
      "execution_count": null,
      "outputs": [
        {
          "output_type": "error",
          "ename": "FileNotFoundError",
          "evalue": "[Errno 2] No such file or directory: 'code.xlsx'",
          "traceback": [
            "\u001b[0;31m---------------------------------------------------------------------------\u001b[0m",
            "\u001b[0;31mFileNotFoundError\u001b[0m                         Traceback (most recent call last)",
            "\u001b[0;32m<ipython-input-288-489d65475e55>\u001b[0m in \u001b[0;36m<cell line: 1>\u001b[0;34m()\u001b[0m\n\u001b[0;32m----> 1\u001b[0;31m \u001b[0mdf\u001b[0m \u001b[0;34m=\u001b[0m \u001b[0mpd\u001b[0m\u001b[0;34m.\u001b[0m\u001b[0mread_excel\u001b[0m\u001b[0;34m(\u001b[0m\u001b[0;34m\"code.xlsx\"\u001b[0m\u001b[0;34m,\u001b[0m \u001b[0mindex_col\u001b[0m\u001b[0;34m=\u001b[0m\u001b[0;34m'cd'\u001b[0m\u001b[0;34m,\u001b[0m \u001b[0musecols\u001b[0m\u001b[0;34m=\u001b[0m\u001b[0;34m[\u001b[0m\u001b[0;36m1\u001b[0m\u001b[0;34m,\u001b[0m \u001b[0;36m2\u001b[0m\u001b[0;34m,\u001b[0m \u001b[0;36m3\u001b[0m\u001b[0;34m]\u001b[0m\u001b[0;34m)\u001b[0m\u001b[0;34m\u001b[0m\u001b[0;34m\u001b[0m\u001b[0m\n\u001b[0m",
            "\u001b[0;32m/usr/local/lib/python3.10/dist-packages/pandas/io/excel/_base.py\u001b[0m in \u001b[0;36mread_excel\u001b[0;34m(io, sheet_name, header, names, index_col, usecols, dtype, engine, converters, true_values, false_values, skiprows, nrows, na_values, keep_default_na, na_filter, verbose, parse_dates, date_parser, date_format, thousands, decimal, comment, skipfooter, storage_options, dtype_backend, engine_kwargs)\u001b[0m\n\u001b[1;32m    502\u001b[0m     \u001b[0;32mif\u001b[0m \u001b[0;32mnot\u001b[0m \u001b[0misinstance\u001b[0m\u001b[0;34m(\u001b[0m\u001b[0mio\u001b[0m\u001b[0;34m,\u001b[0m \u001b[0mExcelFile\u001b[0m\u001b[0;34m)\u001b[0m\u001b[0;34m:\u001b[0m\u001b[0;34m\u001b[0m\u001b[0;34m\u001b[0m\u001b[0m\n\u001b[1;32m    503\u001b[0m         \u001b[0mshould_close\u001b[0m \u001b[0;34m=\u001b[0m \u001b[0;32mTrue\u001b[0m\u001b[0;34m\u001b[0m\u001b[0;34m\u001b[0m\u001b[0m\n\u001b[0;32m--> 504\u001b[0;31m         io = ExcelFile(\n\u001b[0m\u001b[1;32m    505\u001b[0m             \u001b[0mio\u001b[0m\u001b[0;34m,\u001b[0m\u001b[0;34m\u001b[0m\u001b[0;34m\u001b[0m\u001b[0m\n\u001b[1;32m    506\u001b[0m             \u001b[0mstorage_options\u001b[0m\u001b[0;34m=\u001b[0m\u001b[0mstorage_options\u001b[0m\u001b[0;34m,\u001b[0m\u001b[0;34m\u001b[0m\u001b[0;34m\u001b[0m\u001b[0m\n",
            "\u001b[0;32m/usr/local/lib/python3.10/dist-packages/pandas/io/excel/_base.py\u001b[0m in \u001b[0;36m__init__\u001b[0;34m(self, path_or_buffer, engine, storage_options, engine_kwargs)\u001b[0m\n\u001b[1;32m   1561\u001b[0m                 \u001b[0mext\u001b[0m \u001b[0;34m=\u001b[0m \u001b[0;34m\"xls\"\u001b[0m\u001b[0;34m\u001b[0m\u001b[0;34m\u001b[0m\u001b[0m\n\u001b[1;32m   1562\u001b[0m             \u001b[0;32melse\u001b[0m\u001b[0;34m:\u001b[0m\u001b[0;34m\u001b[0m\u001b[0;34m\u001b[0m\u001b[0m\n\u001b[0;32m-> 1563\u001b[0;31m                 ext = inspect_excel_format(\n\u001b[0m\u001b[1;32m   1564\u001b[0m                     \u001b[0mcontent_or_path\u001b[0m\u001b[0;34m=\u001b[0m\u001b[0mpath_or_buffer\u001b[0m\u001b[0;34m,\u001b[0m \u001b[0mstorage_options\u001b[0m\u001b[0;34m=\u001b[0m\u001b[0mstorage_options\u001b[0m\u001b[0;34m\u001b[0m\u001b[0;34m\u001b[0m\u001b[0m\n\u001b[1;32m   1565\u001b[0m                 )\n",
            "\u001b[0;32m/usr/local/lib/python3.10/dist-packages/pandas/io/excel/_base.py\u001b[0m in \u001b[0;36minspect_excel_format\u001b[0;34m(content_or_path, storage_options)\u001b[0m\n\u001b[1;32m   1417\u001b[0m         \u001b[0mcontent_or_path\u001b[0m \u001b[0;34m=\u001b[0m \u001b[0mBytesIO\u001b[0m\u001b[0;34m(\u001b[0m\u001b[0mcontent_or_path\u001b[0m\u001b[0;34m)\u001b[0m\u001b[0;34m\u001b[0m\u001b[0;34m\u001b[0m\u001b[0m\n\u001b[1;32m   1418\u001b[0m \u001b[0;34m\u001b[0m\u001b[0m\n\u001b[0;32m-> 1419\u001b[0;31m     with get_handle(\n\u001b[0m\u001b[1;32m   1420\u001b[0m         \u001b[0mcontent_or_path\u001b[0m\u001b[0;34m,\u001b[0m \u001b[0;34m\"rb\"\u001b[0m\u001b[0;34m,\u001b[0m \u001b[0mstorage_options\u001b[0m\u001b[0;34m=\u001b[0m\u001b[0mstorage_options\u001b[0m\u001b[0;34m,\u001b[0m \u001b[0mis_text\u001b[0m\u001b[0;34m=\u001b[0m\u001b[0;32mFalse\u001b[0m\u001b[0;34m\u001b[0m\u001b[0;34m\u001b[0m\u001b[0m\n\u001b[1;32m   1421\u001b[0m     ) as handle:\n",
            "\u001b[0;32m/usr/local/lib/python3.10/dist-packages/pandas/io/common.py\u001b[0m in \u001b[0;36mget_handle\u001b[0;34m(path_or_buf, mode, encoding, compression, memory_map, is_text, errors, storage_options)\u001b[0m\n\u001b[1;32m    870\u001b[0m         \u001b[0;32melse\u001b[0m\u001b[0;34m:\u001b[0m\u001b[0;34m\u001b[0m\u001b[0;34m\u001b[0m\u001b[0m\n\u001b[1;32m    871\u001b[0m             \u001b[0;31m# Binary mode\u001b[0m\u001b[0;34m\u001b[0m\u001b[0;34m\u001b[0m\u001b[0m\n\u001b[0;32m--> 872\u001b[0;31m             \u001b[0mhandle\u001b[0m \u001b[0;34m=\u001b[0m \u001b[0mopen\u001b[0m\u001b[0;34m(\u001b[0m\u001b[0mhandle\u001b[0m\u001b[0;34m,\u001b[0m \u001b[0mioargs\u001b[0m\u001b[0;34m.\u001b[0m\u001b[0mmode\u001b[0m\u001b[0;34m)\u001b[0m\u001b[0;34m\u001b[0m\u001b[0;34m\u001b[0m\u001b[0m\n\u001b[0m\u001b[1;32m    873\u001b[0m         \u001b[0mhandles\u001b[0m\u001b[0;34m.\u001b[0m\u001b[0mappend\u001b[0m\u001b[0;34m(\u001b[0m\u001b[0mhandle\u001b[0m\u001b[0;34m)\u001b[0m\u001b[0;34m\u001b[0m\u001b[0;34m\u001b[0m\u001b[0m\n\u001b[1;32m    874\u001b[0m \u001b[0;34m\u001b[0m\u001b[0m\n",
            "\u001b[0;31mFileNotFoundError\u001b[0m: [Errno 2] No such file or directory: 'code.xlsx'"
          ]
        }
      ]
    },
    {
      "cell_type": "code",
      "source": [
        "df = pd.read_excel(\"code.xlsx\", header=2. index_col='cd', usecols=[1.2.3])"
      ],
      "metadata": {
        "colab": {
          "base_uri": "https://localhost:8080/",
          "height": 112
        },
        "id": "J1Ngy9yc94he",
        "outputId": "f8de925f-b8cf-4897-c7b6-5894a3afda91"
      },
      "execution_count": null,
      "outputs": [
        {
          "output_type": "error",
          "ename": "SyntaxError",
          "evalue": "invalid syntax. Perhaps you forgot a comma? (<ipython-input-289-f2e35e416a7d>, line 1)",
          "traceback": [
            "\u001b[0;36m  File \u001b[0;32m\"<ipython-input-289-f2e35e416a7d>\"\u001b[0;36m, line \u001b[0;32m1\u001b[0m\n\u001b[0;31m    df = pd.read_excel(\"code.xlsx\", header=2. index_col='cd', usecols=[1.2.3])\u001b[0m\n\u001b[0m                                           ^\u001b[0m\n\u001b[0;31mSyntaxError\u001b[0m\u001b[0;31m:\u001b[0m invalid syntax. Perhaps you forgot a comma?\n"
          ]
        }
      ]
    },
    {
      "cell_type": "code",
      "source": [
        "df = pd.read_csv(\"magic.csv\")"
      ],
      "metadata": {
        "colab": {
          "base_uri": "https://localhost:8080/",
          "height": 304
        },
        "id": "nz4PLTeZ-DX6",
        "outputId": "4395bed5-817c-4a4a-e03e-cdda7246da5d"
      },
      "execution_count": null,
      "outputs": [
        {
          "output_type": "error",
          "ename": "FileNotFoundError",
          "evalue": "[Errno 2] No such file or directory: 'magic.csv'",
          "traceback": [
            "\u001b[0;31m---------------------------------------------------------------------------\u001b[0m",
            "\u001b[0;31mFileNotFoundError\u001b[0m                         Traceback (most recent call last)",
            "\u001b[0;32m<ipython-input-290-1c9cc594ed22>\u001b[0m in \u001b[0;36m<cell line: 1>\u001b[0;34m()\u001b[0m\n\u001b[0;32m----> 1\u001b[0;31m \u001b[0mdf\u001b[0m \u001b[0;34m=\u001b[0m \u001b[0mpd\u001b[0m\u001b[0;34m.\u001b[0m\u001b[0mread_csv\u001b[0m\u001b[0;34m(\u001b[0m\u001b[0;34m\"magic.csv\"\u001b[0m\u001b[0;34m)\u001b[0m\u001b[0;34m\u001b[0m\u001b[0;34m\u001b[0m\u001b[0m\n\u001b[0m",
            "\u001b[0;32m/usr/local/lib/python3.10/dist-packages/pandas/io/parsers/readers.py\u001b[0m in \u001b[0;36mread_csv\u001b[0;34m(filepath_or_buffer, sep, delimiter, header, names, index_col, usecols, dtype, engine, converters, true_values, false_values, skipinitialspace, skiprows, skipfooter, nrows, na_values, keep_default_na, na_filter, verbose, skip_blank_lines, parse_dates, infer_datetime_format, keep_date_col, date_parser, date_format, dayfirst, cache_dates, iterator, chunksize, compression, thousands, decimal, lineterminator, quotechar, quoting, doublequote, escapechar, comment, encoding, encoding_errors, dialect, on_bad_lines, delim_whitespace, low_memory, memory_map, float_precision, storage_options, dtype_backend)\u001b[0m\n\u001b[1;32m    946\u001b[0m     \u001b[0mkwds\u001b[0m\u001b[0;34m.\u001b[0m\u001b[0mupdate\u001b[0m\u001b[0;34m(\u001b[0m\u001b[0mkwds_defaults\u001b[0m\u001b[0;34m)\u001b[0m\u001b[0;34m\u001b[0m\u001b[0;34m\u001b[0m\u001b[0m\n\u001b[1;32m    947\u001b[0m \u001b[0;34m\u001b[0m\u001b[0m\n\u001b[0;32m--> 948\u001b[0;31m     \u001b[0;32mreturn\u001b[0m \u001b[0m_read\u001b[0m\u001b[0;34m(\u001b[0m\u001b[0mfilepath_or_buffer\u001b[0m\u001b[0;34m,\u001b[0m \u001b[0mkwds\u001b[0m\u001b[0;34m)\u001b[0m\u001b[0;34m\u001b[0m\u001b[0;34m\u001b[0m\u001b[0m\n\u001b[0m\u001b[1;32m    949\u001b[0m \u001b[0;34m\u001b[0m\u001b[0m\n\u001b[1;32m    950\u001b[0m \u001b[0;34m\u001b[0m\u001b[0m\n",
            "\u001b[0;32m/usr/local/lib/python3.10/dist-packages/pandas/io/parsers/readers.py\u001b[0m in \u001b[0;36m_read\u001b[0;34m(filepath_or_buffer, kwds)\u001b[0m\n\u001b[1;32m    609\u001b[0m \u001b[0;34m\u001b[0m\u001b[0m\n\u001b[1;32m    610\u001b[0m     \u001b[0;31m# Create the parser.\u001b[0m\u001b[0;34m\u001b[0m\u001b[0;34m\u001b[0m\u001b[0m\n\u001b[0;32m--> 611\u001b[0;31m     \u001b[0mparser\u001b[0m \u001b[0;34m=\u001b[0m \u001b[0mTextFileReader\u001b[0m\u001b[0;34m(\u001b[0m\u001b[0mfilepath_or_buffer\u001b[0m\u001b[0;34m,\u001b[0m \u001b[0;34m**\u001b[0m\u001b[0mkwds\u001b[0m\u001b[0;34m)\u001b[0m\u001b[0;34m\u001b[0m\u001b[0;34m\u001b[0m\u001b[0m\n\u001b[0m\u001b[1;32m    612\u001b[0m \u001b[0;34m\u001b[0m\u001b[0m\n\u001b[1;32m    613\u001b[0m     \u001b[0;32mif\u001b[0m \u001b[0mchunksize\u001b[0m \u001b[0;32mor\u001b[0m \u001b[0miterator\u001b[0m\u001b[0;34m:\u001b[0m\u001b[0;34m\u001b[0m\u001b[0;34m\u001b[0m\u001b[0m\n",
            "\u001b[0;32m/usr/local/lib/python3.10/dist-packages/pandas/io/parsers/readers.py\u001b[0m in \u001b[0;36m__init__\u001b[0;34m(self, f, engine, **kwds)\u001b[0m\n\u001b[1;32m   1446\u001b[0m \u001b[0;34m\u001b[0m\u001b[0m\n\u001b[1;32m   1447\u001b[0m         \u001b[0mself\u001b[0m\u001b[0;34m.\u001b[0m\u001b[0mhandles\u001b[0m\u001b[0;34m:\u001b[0m \u001b[0mIOHandles\u001b[0m \u001b[0;34m|\u001b[0m \u001b[0;32mNone\u001b[0m \u001b[0;34m=\u001b[0m \u001b[0;32mNone\u001b[0m\u001b[0;34m\u001b[0m\u001b[0;34m\u001b[0m\u001b[0m\n\u001b[0;32m-> 1448\u001b[0;31m         \u001b[0mself\u001b[0m\u001b[0;34m.\u001b[0m\u001b[0m_engine\u001b[0m \u001b[0;34m=\u001b[0m \u001b[0mself\u001b[0m\u001b[0;34m.\u001b[0m\u001b[0m_make_engine\u001b[0m\u001b[0;34m(\u001b[0m\u001b[0mf\u001b[0m\u001b[0;34m,\u001b[0m \u001b[0mself\u001b[0m\u001b[0;34m.\u001b[0m\u001b[0mengine\u001b[0m\u001b[0;34m)\u001b[0m\u001b[0;34m\u001b[0m\u001b[0;34m\u001b[0m\u001b[0m\n\u001b[0m\u001b[1;32m   1449\u001b[0m \u001b[0;34m\u001b[0m\u001b[0m\n\u001b[1;32m   1450\u001b[0m     \u001b[0;32mdef\u001b[0m \u001b[0mclose\u001b[0m\u001b[0;34m(\u001b[0m\u001b[0mself\u001b[0m\u001b[0;34m)\u001b[0m \u001b[0;34m->\u001b[0m \u001b[0;32mNone\u001b[0m\u001b[0;34m:\u001b[0m\u001b[0;34m\u001b[0m\u001b[0;34m\u001b[0m\u001b[0m\n",
            "\u001b[0;32m/usr/local/lib/python3.10/dist-packages/pandas/io/parsers/readers.py\u001b[0m in \u001b[0;36m_make_engine\u001b[0;34m(self, f, engine)\u001b[0m\n\u001b[1;32m   1703\u001b[0m                 \u001b[0;32mif\u001b[0m \u001b[0;34m\"b\"\u001b[0m \u001b[0;32mnot\u001b[0m \u001b[0;32min\u001b[0m \u001b[0mmode\u001b[0m\u001b[0;34m:\u001b[0m\u001b[0;34m\u001b[0m\u001b[0;34m\u001b[0m\u001b[0m\n\u001b[1;32m   1704\u001b[0m                     \u001b[0mmode\u001b[0m \u001b[0;34m+=\u001b[0m \u001b[0;34m\"b\"\u001b[0m\u001b[0;34m\u001b[0m\u001b[0;34m\u001b[0m\u001b[0m\n\u001b[0;32m-> 1705\u001b[0;31m             self.handles = get_handle(\n\u001b[0m\u001b[1;32m   1706\u001b[0m                 \u001b[0mf\u001b[0m\u001b[0;34m,\u001b[0m\u001b[0;34m\u001b[0m\u001b[0;34m\u001b[0m\u001b[0m\n\u001b[1;32m   1707\u001b[0m                 \u001b[0mmode\u001b[0m\u001b[0;34m,\u001b[0m\u001b[0;34m\u001b[0m\u001b[0;34m\u001b[0m\u001b[0m\n",
            "\u001b[0;32m/usr/local/lib/python3.10/dist-packages/pandas/io/common.py\u001b[0m in \u001b[0;36mget_handle\u001b[0;34m(path_or_buf, mode, encoding, compression, memory_map, is_text, errors, storage_options)\u001b[0m\n\u001b[1;32m    861\u001b[0m         \u001b[0;32mif\u001b[0m \u001b[0mioargs\u001b[0m\u001b[0;34m.\u001b[0m\u001b[0mencoding\u001b[0m \u001b[0;32mand\u001b[0m \u001b[0;34m\"b\"\u001b[0m \u001b[0;32mnot\u001b[0m \u001b[0;32min\u001b[0m \u001b[0mioargs\u001b[0m\u001b[0;34m.\u001b[0m\u001b[0mmode\u001b[0m\u001b[0;34m:\u001b[0m\u001b[0;34m\u001b[0m\u001b[0;34m\u001b[0m\u001b[0m\n\u001b[1;32m    862\u001b[0m             \u001b[0;31m# Encoding\u001b[0m\u001b[0;34m\u001b[0m\u001b[0;34m\u001b[0m\u001b[0m\n\u001b[0;32m--> 863\u001b[0;31m             handle = open(\n\u001b[0m\u001b[1;32m    864\u001b[0m                 \u001b[0mhandle\u001b[0m\u001b[0;34m,\u001b[0m\u001b[0;34m\u001b[0m\u001b[0;34m\u001b[0m\u001b[0m\n\u001b[1;32m    865\u001b[0m                 \u001b[0mioargs\u001b[0m\u001b[0;34m.\u001b[0m\u001b[0mmode\u001b[0m\u001b[0;34m,\u001b[0m\u001b[0;34m\u001b[0m\u001b[0;34m\u001b[0m\u001b[0m\n",
            "\u001b[0;31mFileNotFoundError\u001b[0m: [Errno 2] No such file or directory: 'magic.csv'"
          ]
        }
      ]
    },
    {
      "cell_type": "code",
      "source": [
        "df = pd.read_csv(\"magic.csv\", dtype = {'code' : str})"
      ],
      "metadata": {
        "colab": {
          "base_uri": "https://localhost:8080/",
          "height": 304
        },
        "id": "al_AIHz--F_2",
        "outputId": "25cd75e1-6e72-4c1e-ec46-f6c8326ad3bc"
      },
      "execution_count": null,
      "outputs": [
        {
          "output_type": "error",
          "ename": "FileNotFoundError",
          "evalue": "[Errno 2] No such file or directory: 'magic.csv'",
          "traceback": [
            "\u001b[0;31m---------------------------------------------------------------------------\u001b[0m",
            "\u001b[0;31mFileNotFoundError\u001b[0m                         Traceback (most recent call last)",
            "\u001b[0;32m<ipython-input-292-064a50136834>\u001b[0m in \u001b[0;36m<cell line: 1>\u001b[0;34m()\u001b[0m\n\u001b[0;32m----> 1\u001b[0;31m \u001b[0mdf\u001b[0m \u001b[0;34m=\u001b[0m \u001b[0mpd\u001b[0m\u001b[0;34m.\u001b[0m\u001b[0mread_csv\u001b[0m\u001b[0;34m(\u001b[0m\u001b[0;34m\"magic.csv\"\u001b[0m\u001b[0;34m,\u001b[0m \u001b[0mdtype\u001b[0m \u001b[0;34m=\u001b[0m \u001b[0;34m{\u001b[0m\u001b[0;34m'code'\u001b[0m \u001b[0;34m:\u001b[0m \u001b[0mstr\u001b[0m\u001b[0;34m}\u001b[0m\u001b[0;34m)\u001b[0m\u001b[0;34m\u001b[0m\u001b[0;34m\u001b[0m\u001b[0m\n\u001b[0m",
            "\u001b[0;32m/usr/local/lib/python3.10/dist-packages/pandas/io/parsers/readers.py\u001b[0m in \u001b[0;36mread_csv\u001b[0;34m(filepath_or_buffer, sep, delimiter, header, names, index_col, usecols, dtype, engine, converters, true_values, false_values, skipinitialspace, skiprows, skipfooter, nrows, na_values, keep_default_na, na_filter, verbose, skip_blank_lines, parse_dates, infer_datetime_format, keep_date_col, date_parser, date_format, dayfirst, cache_dates, iterator, chunksize, compression, thousands, decimal, lineterminator, quotechar, quoting, doublequote, escapechar, comment, encoding, encoding_errors, dialect, on_bad_lines, delim_whitespace, low_memory, memory_map, float_precision, storage_options, dtype_backend)\u001b[0m\n\u001b[1;32m    946\u001b[0m     \u001b[0mkwds\u001b[0m\u001b[0;34m.\u001b[0m\u001b[0mupdate\u001b[0m\u001b[0;34m(\u001b[0m\u001b[0mkwds_defaults\u001b[0m\u001b[0;34m)\u001b[0m\u001b[0;34m\u001b[0m\u001b[0;34m\u001b[0m\u001b[0m\n\u001b[1;32m    947\u001b[0m \u001b[0;34m\u001b[0m\u001b[0m\n\u001b[0;32m--> 948\u001b[0;31m     \u001b[0;32mreturn\u001b[0m \u001b[0m_read\u001b[0m\u001b[0;34m(\u001b[0m\u001b[0mfilepath_or_buffer\u001b[0m\u001b[0;34m,\u001b[0m \u001b[0mkwds\u001b[0m\u001b[0;34m)\u001b[0m\u001b[0;34m\u001b[0m\u001b[0;34m\u001b[0m\u001b[0m\n\u001b[0m\u001b[1;32m    949\u001b[0m \u001b[0;34m\u001b[0m\u001b[0m\n\u001b[1;32m    950\u001b[0m \u001b[0;34m\u001b[0m\u001b[0m\n",
            "\u001b[0;32m/usr/local/lib/python3.10/dist-packages/pandas/io/parsers/readers.py\u001b[0m in \u001b[0;36m_read\u001b[0;34m(filepath_or_buffer, kwds)\u001b[0m\n\u001b[1;32m    609\u001b[0m \u001b[0;34m\u001b[0m\u001b[0m\n\u001b[1;32m    610\u001b[0m     \u001b[0;31m# Create the parser.\u001b[0m\u001b[0;34m\u001b[0m\u001b[0;34m\u001b[0m\u001b[0m\n\u001b[0;32m--> 611\u001b[0;31m     \u001b[0mparser\u001b[0m \u001b[0;34m=\u001b[0m \u001b[0mTextFileReader\u001b[0m\u001b[0;34m(\u001b[0m\u001b[0mfilepath_or_buffer\u001b[0m\u001b[0;34m,\u001b[0m \u001b[0;34m**\u001b[0m\u001b[0mkwds\u001b[0m\u001b[0;34m)\u001b[0m\u001b[0;34m\u001b[0m\u001b[0;34m\u001b[0m\u001b[0m\n\u001b[0m\u001b[1;32m    612\u001b[0m \u001b[0;34m\u001b[0m\u001b[0m\n\u001b[1;32m    613\u001b[0m     \u001b[0;32mif\u001b[0m \u001b[0mchunksize\u001b[0m \u001b[0;32mor\u001b[0m \u001b[0miterator\u001b[0m\u001b[0;34m:\u001b[0m\u001b[0;34m\u001b[0m\u001b[0;34m\u001b[0m\u001b[0m\n",
            "\u001b[0;32m/usr/local/lib/python3.10/dist-packages/pandas/io/parsers/readers.py\u001b[0m in \u001b[0;36m__init__\u001b[0;34m(self, f, engine, **kwds)\u001b[0m\n\u001b[1;32m   1446\u001b[0m \u001b[0;34m\u001b[0m\u001b[0m\n\u001b[1;32m   1447\u001b[0m         \u001b[0mself\u001b[0m\u001b[0;34m.\u001b[0m\u001b[0mhandles\u001b[0m\u001b[0;34m:\u001b[0m \u001b[0mIOHandles\u001b[0m \u001b[0;34m|\u001b[0m \u001b[0;32mNone\u001b[0m \u001b[0;34m=\u001b[0m \u001b[0;32mNone\u001b[0m\u001b[0;34m\u001b[0m\u001b[0;34m\u001b[0m\u001b[0m\n\u001b[0;32m-> 1448\u001b[0;31m         \u001b[0mself\u001b[0m\u001b[0;34m.\u001b[0m\u001b[0m_engine\u001b[0m \u001b[0;34m=\u001b[0m \u001b[0mself\u001b[0m\u001b[0;34m.\u001b[0m\u001b[0m_make_engine\u001b[0m\u001b[0;34m(\u001b[0m\u001b[0mf\u001b[0m\u001b[0;34m,\u001b[0m \u001b[0mself\u001b[0m\u001b[0;34m.\u001b[0m\u001b[0mengine\u001b[0m\u001b[0;34m)\u001b[0m\u001b[0;34m\u001b[0m\u001b[0;34m\u001b[0m\u001b[0m\n\u001b[0m\u001b[1;32m   1449\u001b[0m \u001b[0;34m\u001b[0m\u001b[0m\n\u001b[1;32m   1450\u001b[0m     \u001b[0;32mdef\u001b[0m \u001b[0mclose\u001b[0m\u001b[0;34m(\u001b[0m\u001b[0mself\u001b[0m\u001b[0;34m)\u001b[0m \u001b[0;34m->\u001b[0m \u001b[0;32mNone\u001b[0m\u001b[0;34m:\u001b[0m\u001b[0;34m\u001b[0m\u001b[0;34m\u001b[0m\u001b[0m\n",
            "\u001b[0;32m/usr/local/lib/python3.10/dist-packages/pandas/io/parsers/readers.py\u001b[0m in \u001b[0;36m_make_engine\u001b[0;34m(self, f, engine)\u001b[0m\n\u001b[1;32m   1703\u001b[0m                 \u001b[0;32mif\u001b[0m \u001b[0;34m\"b\"\u001b[0m \u001b[0;32mnot\u001b[0m \u001b[0;32min\u001b[0m \u001b[0mmode\u001b[0m\u001b[0;34m:\u001b[0m\u001b[0;34m\u001b[0m\u001b[0;34m\u001b[0m\u001b[0m\n\u001b[1;32m   1704\u001b[0m                     \u001b[0mmode\u001b[0m \u001b[0;34m+=\u001b[0m \u001b[0;34m\"b\"\u001b[0m\u001b[0;34m\u001b[0m\u001b[0;34m\u001b[0m\u001b[0m\n\u001b[0;32m-> 1705\u001b[0;31m             self.handles = get_handle(\n\u001b[0m\u001b[1;32m   1706\u001b[0m                 \u001b[0mf\u001b[0m\u001b[0;34m,\u001b[0m\u001b[0;34m\u001b[0m\u001b[0;34m\u001b[0m\u001b[0m\n\u001b[1;32m   1707\u001b[0m                 \u001b[0mmode\u001b[0m\u001b[0;34m,\u001b[0m\u001b[0;34m\u001b[0m\u001b[0;34m\u001b[0m\u001b[0m\n",
            "\u001b[0;32m/usr/local/lib/python3.10/dist-packages/pandas/io/common.py\u001b[0m in \u001b[0;36mget_handle\u001b[0;34m(path_or_buf, mode, encoding, compression, memory_map, is_text, errors, storage_options)\u001b[0m\n\u001b[1;32m    861\u001b[0m         \u001b[0;32mif\u001b[0m \u001b[0mioargs\u001b[0m\u001b[0;34m.\u001b[0m\u001b[0mencoding\u001b[0m \u001b[0;32mand\u001b[0m \u001b[0;34m\"b\"\u001b[0m \u001b[0;32mnot\u001b[0m \u001b[0;32min\u001b[0m \u001b[0mioargs\u001b[0m\u001b[0;34m.\u001b[0m\u001b[0mmode\u001b[0m\u001b[0;34m:\u001b[0m\u001b[0;34m\u001b[0m\u001b[0;34m\u001b[0m\u001b[0m\n\u001b[1;32m    862\u001b[0m             \u001b[0;31m# Encoding\u001b[0m\u001b[0;34m\u001b[0m\u001b[0;34m\u001b[0m\u001b[0m\n\u001b[0;32m--> 863\u001b[0;31m             handle = open(\n\u001b[0m\u001b[1;32m    864\u001b[0m                 \u001b[0mhandle\u001b[0m\u001b[0;34m,\u001b[0m\u001b[0;34m\u001b[0m\u001b[0;34m\u001b[0m\u001b[0m\n\u001b[1;32m    865\u001b[0m                 \u001b[0mioargs\u001b[0m\u001b[0;34m.\u001b[0m\u001b[0mmode\u001b[0m\u001b[0;34m,\u001b[0m\u001b[0;34m\u001b[0m\u001b[0;34m\u001b[0m\u001b[0m\n",
            "\u001b[0;31mFileNotFoundError\u001b[0m: [Errno 2] No such file or directory: 'magic.csv'"
          ]
        }
      ]
    },
    {
      "cell_type": "code",
      "source": [],
      "metadata": {
        "id": "posTo4hf-PYg"
      },
      "execution_count": null,
      "outputs": []
    }
  ]
}